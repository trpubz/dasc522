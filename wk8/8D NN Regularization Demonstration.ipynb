{
 "nbformat": 4,
 "nbformat_minor": 0,
 "metadata": {
  "accelerator": "GPU",
  "colab": {
   "name": "8D NN Regularization Demonstration.ipynb",
   "provenance": [
    {
     "file_id": "https://github.com/tensorflow/docs/blob/master/site/en/tutorials/keras/overfit_and_underfit.ipynb",
     "timestamp": 1605286091022
    }
   ],
   "collapsed_sections": []
  },
  "kernelspec": {
   "display_name": "Python 3",
   "name": "python3"
  }
 },
 "cells": [
  {
   "cell_type": "markdown",
   "metadata": {
    "id": "WxggXf0NjjYj",
    "pycharm": {
     "name": "#%% md\n"
    }
   },
   "source": [
    "Demonstration modified from https://colab.research.google.com/github/tensorflow/docs/blob/master/site/en/tutorials/keras/overfit_and_underfit.ipynb"
   ]
  },
  {
   "cell_type": "markdown",
   "metadata": {
    "id": "fTFj8ft5dlbS",
    "pycharm": {
     "name": "#%% md\n"
    }
   },
   "source": [
    "##### Copyright 2018 The TensorFlow Authors."
   ]
  },
  {
   "cell_type": "code",
   "metadata": {
    "cellView": "form",
    "id": "lzyBOpYMdp3F",
    "executionInfo": {
     "status": "ok",
     "timestamp": 1605286855433,
     "user_tz": 600,
     "elapsed": 702,
     "user": {
      "displayName": "Torrey Wagner",
      "photoUrl": "",
      "userId": "18235062716651285949"
     }
    },
    "pycharm": {
     "name": "#%%\n"
    }
   },
   "source": [
    "#@title Licensed under the Apache License, Version 2.0 (the \"License\");\n",
    "# you may not use this file except in compliance with the License.\n",
    "# You may obtain a copy of the License at\n",
    "#\n",
    "# https://www.apache.org/licenses/LICENSE-2.0\n",
    "#\n",
    "# Unless required by applicable law or agreed to in writing, software\n",
    "# distributed under the License is distributed on an \"AS IS\" BASIS,\n",
    "# WITHOUT WARRANTIES OR CONDITIONS OF ANY KIND, either express or implied.\n",
    "# See the License for the specific language governing permissions and\n",
    "# limitations under the License."
   ],
   "execution_count": 1,
   "outputs": []
  },
  {
   "cell_type": "code",
   "metadata": {
    "cellView": "form",
    "id": "m_x4KfSJ7Vt7",
    "executionInfo": {
     "status": "ok",
     "timestamp": 1605286855703,
     "user_tz": 600,
     "elapsed": 969,
     "user": {
      "displayName": "Torrey Wagner",
      "photoUrl": "",
      "userId": "18235062716651285949"
     }
    },
    "pycharm": {
     "name": "#%%\n"
    }
   },
   "source": [
    "#@title MIT License\n",
    "#\n",
    "# Copyright (c) 2017 François Chollet\n",
    "#\n",
    "# Permission is hereby granted, free of charge, to any person obtaining a\n",
    "# copy of this software and associated documentation files (the \"Software\"),\n",
    "# to deal in the Software without restriction, including without limitation\n",
    "# the rights to use, copy, modify, merge, publish, distribute, sublicense,\n",
    "# and/or sell copies of the Software, and to permit persons to whom the\n",
    "# Software is furnished to do so, subject to the following conditions:\n",
    "#\n",
    "# The above copyright notice and this permission notice shall be included in\n",
    "# all copies or substantial portions of the Software.\n",
    "#\n",
    "# THE SOFTWARE IS PROVIDED \"AS IS\", WITHOUT WARRANTY OF ANY KIND, EXPRESS OR\n",
    "# IMPLIED, INCLUDING BUT NOT LIMITED TO THE WARRANTIES OF MERCHANTABILITY,\n",
    "# FITNESS FOR A PARTICULAR PURPOSE AND NONINFRINGEMENT. IN NO EVENT SHALL\n",
    "# THE AUTHORS OR COPYRIGHT HOLDERS BE LIABLE FOR ANY CLAIM, DAMAGES OR OTHER\n",
    "# LIABILITY, WHETHER IN AN ACTION OF CONTRACT, TORT OR OTHERWISE, ARISING\n",
    "# FROM, OUT OF OR IN CONNECTION WITH THE SOFTWARE OR THE USE OR OTHER\n",
    "# DEALINGS IN THE SOFTWARE."
   ],
   "execution_count": 2,
   "outputs": []
  },
  {
   "cell_type": "markdown",
   "metadata": {
    "id": "C9HmC2T4ld5B",
    "pycharm": {
     "name": "#%% md\n"
    }
   },
   "source": [
    "# Overfit and underfit"
   ]
  },
  {
   "cell_type": "markdown",
   "metadata": {
    "id": "WL8UoOTmGGsL",
    "pycharm": {
     "name": "#%% md\n"
    }
   },
   "source": [
    "## Setup"
   ]
  },
  {
   "cell_type": "markdown",
   "metadata": {
    "id": "9FklhSI0Gg9R",
    "pycharm": {
     "name": "#%% md\n"
    }
   },
   "source": [
    "Before getting started, import the necessary packages:"
   ]
  },
  {
   "cell_type": "code",
   "metadata": {
    "id": "5pZ8A2liqvgk",
    "executionInfo": {
     "status": "ok",
     "timestamp": 1605286857150,
     "user_tz": 600,
     "elapsed": 2408,
     "user": {
      "displayName": "Torrey Wagner",
      "photoUrl": "",
      "userId": "18235062716651285949"
     }
    },
    "outputId": "3299ba80-8eba-4494-b75e-a3e1566ab3af",
    "colab": {
     "base_uri": "https://localhost:8080/"
    },
    "pycharm": {
     "name": "#%%\n"
    }
   },
   "source": [
    "import tensorflow as tf\n",
    "\n",
    "from tensorflow.keras import layers\n",
    "from tensorflow.keras import regularizers\n",
    "\n",
    "print(tf.__version__)"
   ],
   "execution_count": 3,
   "outputs": [
    {
     "name": "stderr",
     "output_type": "stream",
     "text": [
      "2022-11-23 22:24:15.113791: I tensorflow/core/platform/cpu_feature_guard.cc:193] This TensorFlow binary is optimized with oneAPI Deep Neural Network Library (oneDNN) to use the following CPU instructions in performance-critical operations:  AVX2 FMA\n",
      "To enable them in other operations, rebuild TensorFlow with the appropriate compiler flags.\n"
     ]
    },
    {
     "name": "stdout",
     "output_type": "stream",
     "text": [
      "2.10.0\n"
     ]
    }
   ]
  },
  {
   "cell_type": "code",
   "metadata": {
    "id": "QnAtAjqRYVXe",
    "executionInfo": {
     "status": "ok",
     "timestamp": 1605286869115,
     "user_tz": 600,
     "elapsed": 14368,
     "user": {
      "displayName": "Torrey Wagner",
      "photoUrl": "",
      "userId": "18235062716651285949"
     }
    },
    "outputId": "b68c20d4-241c-42f4-b9c1-d9f4928bc169",
    "colab": {
     "base_uri": "https://localhost:8080/"
    },
    "pycharm": {
     "name": "#%%\n"
    }
   },
   "source": [
    "!pip install git+https://github.com/tensorflow/docs\n",
    "\n",
    "import tensorflow_docs as tfdocs\n",
    "import tensorflow_docs.modeling\n",
    "import tensorflow_docs.plots"
   ],
   "execution_count": 4,
   "outputs": [
    {
     "name": "stdout",
     "output_type": "stream",
     "text": [
      "Collecting git+https://github.com/tensorflow/docs\r\n",
      "  Cloning https://github.com/tensorflow/docs to /private/var/folders/nz/57m0v30s0kqdtdm5876x20qw0000gn/T/pip-req-build-7_ptap87\r\n",
      "  Running command git clone --filter=blob:none --quiet https://github.com/tensorflow/docs /private/var/folders/nz/57m0v30s0kqdtdm5876x20qw0000gn/T/pip-req-build-7_ptap87\r\n",
      "  Resolved https://github.com/tensorflow/docs to commit 1f6f8e930b85f21270b647a78864b87a3dbfd6c1\r\n",
      "  Preparing metadata (setup.py) ... \u001B[?25ldone\r\n",
      "\u001B[?25hCollecting astor\r\n",
      "  Downloading astor-0.8.1-py2.py3-none-any.whl (27 kB)\r\n",
      "Requirement already satisfied: absl-py in /usr/local/lib/python3.10/site-packages (from tensorflow-docs==0.0.0.dev0) (1.3.0)\r\n",
      "Requirement already satisfied: jinja2 in /usr/local/lib/python3.10/site-packages (from tensorflow-docs==0.0.0.dev0) (3.1.2)\r\n",
      "Requirement already satisfied: nbformat in /usr/local/lib/python3.10/site-packages (from tensorflow-docs==0.0.0.dev0) (5.4.0)\r\n",
      "Requirement already satisfied: protobuf<3.20,>=3.12.0 in /usr/local/lib/python3.10/site-packages (from tensorflow-docs==0.0.0.dev0) (3.19.6)\r\n",
      "Collecting pyyaml\r\n",
      "  Downloading PyYAML-6.0-cp310-cp310-macosx_10_9_x86_64.whl (197 kB)\r\n",
      "\u001B[2K     \u001B[90m━━━━━━━━━━━━━━━━━━━━━━━━━━━━━━━━━━━━━━━\u001B[0m \u001B[32m197.6/197.6 kB\u001B[0m \u001B[31m8.4 MB/s\u001B[0m eta \u001B[36m0:00:00\u001B[0m\r\n",
      "\u001B[?25hRequirement already satisfied: MarkupSafe>=2.0 in /usr/local/lib/python3.10/site-packages (from jinja2->tensorflow-docs==0.0.0.dev0) (2.1.1)\r\n",
      "Requirement already satisfied: jsonschema>=2.6 in /usr/local/lib/python3.10/site-packages (from nbformat->tensorflow-docs==0.0.0.dev0) (4.7.2)\r\n",
      "Requirement already satisfied: traitlets>=5.1 in /usr/local/lib/python3.10/site-packages (from nbformat->tensorflow-docs==0.0.0.dev0) (5.3.0)\r\n",
      "Requirement already satisfied: jupyter-core in /usr/local/lib/python3.10/site-packages (from nbformat->tensorflow-docs==0.0.0.dev0) (4.11.1)\r\n",
      "Requirement already satisfied: fastjsonschema in /usr/local/lib/python3.10/site-packages (from nbformat->tensorflow-docs==0.0.0.dev0) (2.15.3)\r\n",
      "Requirement already satisfied: attrs>=17.4.0 in /usr/local/lib/python3.10/site-packages (from jsonschema>=2.6->nbformat->tensorflow-docs==0.0.0.dev0) (21.4.0)\r\n",
      "Requirement already satisfied: pyrsistent!=0.17.0,!=0.17.1,!=0.17.2,>=0.14.0 in /usr/local/lib/python3.10/site-packages (from jsonschema>=2.6->nbformat->tensorflow-docs==0.0.0.dev0) (0.18.1)\r\n",
      "Building wheels for collected packages: tensorflow-docs\r\n",
      "  Building wheel for tensorflow-docs (setup.py) ... \u001B[?25ldone\r\n",
      "\u001B[?25h  Created wheel for tensorflow-docs: filename=tensorflow_docs-0.0.0.dev0-py3-none-any.whl size=180361 sha256=54f1acc428cf4f7cbb8b975f7e9aad5a333e8a7daeeebcf08d0891bf0be88e6b\r\n",
      "  Stored in directory: /private/var/folders/nz/57m0v30s0kqdtdm5876x20qw0000gn/T/pip-ephem-wheel-cache-bo0x7eq3/wheels/86/0f/1e/3b62293c8ffd0fd5a49508e6871cdb7554abe9c62afd35ec53\r\n",
      "Successfully built tensorflow-docs\r\n",
      "Installing collected packages: pyyaml, astor, tensorflow-docs\r\n",
      "Successfully installed astor-0.8.1 pyyaml-6.0 tensorflow-docs-0.0.0.dev0\r\n"
     ]
    }
   ]
  },
  {
   "cell_type": "code",
   "metadata": {
    "id": "-pnOU-ctX27Q",
    "executionInfo": {
     "status": "ok",
     "timestamp": 1605286869116,
     "user_tz": 600,
     "elapsed": 14367,
     "user": {
      "displayName": "Torrey Wagner",
      "photoUrl": "",
      "userId": "18235062716651285949"
     }
    },
    "pycharm": {
     "name": "#%%\n"
    }
   },
   "source": [
    "from  IPython import display\n",
    "from matplotlib import pyplot as plt\n",
    "\n",
    "import numpy as np\n",
    "\n",
    "import pathlib\n",
    "import shutil\n",
    "import tempfile\n"
   ],
   "execution_count": 5,
   "outputs": []
  },
  {
   "cell_type": "code",
   "metadata": {
    "id": "jj6I4dvTtbUe",
    "executionInfo": {
     "status": "ok",
     "timestamp": 1605286869117,
     "user_tz": 600,
     "elapsed": 14367,
     "user": {
      "displayName": "Torrey Wagner",
      "photoUrl": "",
      "userId": "18235062716651285949"
     }
    },
    "pycharm": {
     "name": "#%%\n"
    }
   },
   "source": [
    "logdir = pathlib.Path(tempfile.mkdtemp())/\"tensorboard_logs\"\n",
    "shutil.rmtree(logdir, ignore_errors=True)"
   ],
   "execution_count": 6,
   "outputs": []
  },
  {
   "cell_type": "markdown",
   "metadata": {
    "id": "1cweoTiruj8O",
    "pycharm": {
     "name": "#%% md\n"
    }
   },
   "source": [
    "## The Higgs Dataset\n",
    "\n",
    "The goal of this tutorial is not to do particle physics, so don't dwell on the details of the dataset. It contains 11&#x202F;000&#x202F;000 examples, each with 28 features, and a binary class label."
   ]
  },
  {
   "cell_type": "code",
   "metadata": {
    "id": "YPjAvwb-6dFd",
    "executionInfo": {
     "status": "ok",
     "timestamp": 1605286935572,
     "user_tz": 600,
     "elapsed": 80821,
     "user": {
      "displayName": "Torrey Wagner",
      "photoUrl": "",
      "userId": "18235062716651285949"
     }
    },
    "outputId": "b77f0259-f354-459a-fba0-67de71e2baf4",
    "colab": {
     "base_uri": "https://localhost:8080/"
    },
    "pycharm": {
     "name": "#%%\n"
    }
   },
   "source": [
    "gz = tf.keras.utils.get_file('HIGGS.csv.gz', 'http://mlphysics.ics.uci.edu/data/higgs/HIGGS.csv.gz')"
   ],
   "execution_count": 7,
   "outputs": [
    {
     "name": "stdout",
     "output_type": "stream",
     "text": [
      "Downloading data from http://mlphysics.ics.uci.edu/data/higgs/HIGGS.csv.gz\n",
      "2816407858/2816407858 [==============================] - 49s 0us/step\n"
     ]
    }
   ]
  },
  {
   "cell_type": "code",
   "metadata": {
    "id": "AkiyUdaWIrww",
    "executionInfo": {
     "status": "ok",
     "timestamp": 1605286935573,
     "user_tz": 600,
     "elapsed": 80820,
     "user": {
      "displayName": "Torrey Wagner",
      "photoUrl": "",
      "userId": "18235062716651285949"
     }
    },
    "pycharm": {
     "name": "#%%\n"
    }
   },
   "source": [
    "FEATURES = 28"
   ],
   "execution_count": 8,
   "outputs": []
  },
  {
   "cell_type": "markdown",
   "metadata": {
    "id": "SFggl9gYKKRJ",
    "pycharm": {
     "name": "#%% md\n"
    }
   },
   "source": [
    "The `tf.data.experimental.CsvDataset` class can be used to read csv records directly from a gzip file with no intermediate decompression step."
   ]
  },
  {
   "cell_type": "code",
   "metadata": {
    "id": "QHz4sLVQEVIU",
    "executionInfo": {
     "status": "ok",
     "timestamp": 1605286940915,
     "user_tz": 600,
     "elapsed": 86160,
     "user": {
      "displayName": "Torrey Wagner",
      "photoUrl": "",
      "userId": "18235062716651285949"
     }
    },
    "pycharm": {
     "name": "#%%\n"
    }
   },
   "source": [
    "ds = tf.data.experimental.CsvDataset(gz,[float(),]*(FEATURES+1), compression_type=\"GZIP\")"
   ],
   "execution_count": 9,
   "outputs": [
    {
     "name": "stderr",
     "output_type": "stream",
     "text": [
      "2022-11-23 22:25:17.349889: I tensorflow/core/platform/cpu_feature_guard.cc:193] This TensorFlow binary is optimized with oneAPI Deep Neural Network Library (oneDNN) to use the following CPU instructions in performance-critical operations:  AVX2 FMA\n",
      "To enable them in other operations, rebuild TensorFlow with the appropriate compiler flags.\n"
     ]
    }
   ]
  },
  {
   "cell_type": "markdown",
   "metadata": {
    "id": "HzahEELTKlSV",
    "pycharm": {
     "name": "#%% md\n"
    }
   },
   "source": [
    "That csv reader class returns a list of scalars for each record. The following function repacks that list of scalars into a (feature_vector, label) pair."
   ]
  },
  {
   "cell_type": "code",
   "metadata": {
    "id": "zPD6ICDlF6Wf",
    "executionInfo": {
     "status": "ok",
     "timestamp": 1605286940917,
     "user_tz": 600,
     "elapsed": 86161,
     "user": {
      "displayName": "Torrey Wagner",
      "photoUrl": "",
      "userId": "18235062716651285949"
     }
    },
    "pycharm": {
     "name": "#%%\n"
    }
   },
   "source": [
    "def pack_row(*row):\n",
    "  label = row[0]\n",
    "  features = tf.stack(row[1:],1)\n",
    "  return features, label"
   ],
   "execution_count": 10,
   "outputs": []
  },
  {
   "cell_type": "markdown",
   "metadata": {
    "id": "4oa8tLuwLsbO",
    "pycharm": {
     "name": "#%% md\n"
    }
   },
   "source": [
    "TensorFlow is most efficient when operating on large batches of data.\n",
    "\n",
    "So instead of repacking each row individually make a new `Dataset` that takes batches of 10000-examples, applies the `pack_row` function to each batch, and then splits the batches back up into individual records:"
   ]
  },
  {
   "cell_type": "code",
   "metadata": {
    "id": "-w-VHTwwGVoZ",
    "executionInfo": {
     "status": "ok",
     "timestamp": 1605286940918,
     "user_tz": 600,
     "elapsed": 86160,
     "user": {
      "displayName": "Torrey Wagner",
      "photoUrl": "",
      "userId": "18235062716651285949"
     }
    },
    "pycharm": {
     "name": "#%%\n"
    }
   },
   "source": [
    "packed_ds = ds.batch(10000).map(pack_row).unbatch()"
   ],
   "execution_count": 11,
   "outputs": []
  },
  {
   "cell_type": "markdown",
   "metadata": {
    "id": "lUbxc5bxNSXV",
    "pycharm": {
     "name": "#%% md\n"
    }
   },
   "source": [
    "Have a look at some of the records from this new `packed_ds`.\n",
    "\n",
    "The features are not perfectly normalized, but this is sufficient for this tutorial."
   ]
  },
  {
   "cell_type": "code",
   "metadata": {
    "id": "TfcXuv33Fvka",
    "executionInfo": {
     "status": "ok",
     "timestamp": 1605286941628,
     "user_tz": 600,
     "elapsed": 86865,
     "user": {
      "displayName": "Torrey Wagner",
      "photoUrl": "",
      "userId": "18235062716651285949"
     }
    },
    "outputId": "e238b01c-bd14-4e21-e804-a8c1ea8ac6d4",
    "colab": {
     "base_uri": "https://localhost:8080/",
     "height": 367
    },
    "pycharm": {
     "name": "#%%\n"
    }
   },
   "source": [
    "for features,label in packed_ds.batch(1000).take(1):\n",
    "  print(features[0])\n",
    "  plt.hist(features.numpy().flatten(), bins = 101)"
   ],
   "execution_count": 12,
   "outputs": [
    {
     "name": "stdout",
     "output_type": "stream",
     "text": [
      "tf.Tensor(\n",
      "[ 0.8692932  -0.6350818   0.22569026  0.32747006 -0.6899932   0.75420225\n",
      " -0.24857314 -1.0920639   0.          1.3749921  -0.6536742   0.9303491\n",
      "  1.1074361   1.1389043  -1.5781983  -1.0469854   0.          0.65792954\n",
      " -0.01045457 -0.04576717  3.1019614   1.35376     0.9795631   0.97807616\n",
      "  0.92000484  0.72165745  0.98875093  0.87667835], shape=(28,), dtype=float32)\n"
     ]
    },
    {
     "data": {
      "text/plain": "<Figure size 432x288 with 1 Axes>",
      "image/png": "[encoded data removed]"
     },
     "metadata": {
      "needs_background": "light"
     },
     "output_type": "display_data"
    }
   ]
  },
  {
   "cell_type": "markdown",
   "metadata": {
    "id": "ICKZRY7gN-QM",
    "pycharm": {
     "name": "#%% md\n"
    }
   },
   "source": [
    "To keep this tutorial relatively short use just the first 1000 samples for validation, and the next 10 000 for training:"
   ]
  },
  {
   "cell_type": "code",
   "metadata": {
    "id": "hmk49OqZIFZP",
    "executionInfo": {
     "status": "ok",
     "timestamp": 1605286941800,
     "user_tz": 600,
     "elapsed": 87035,
     "user": {
      "displayName": "Torrey Wagner",
      "photoUrl": "",
      "userId": "18235062716651285949"
     }
    },
    "pycharm": {
     "name": "#%%\n"
    }
   },
   "source": [
    "N_VALIDATION = int(1e3)\n",
    "N_TRAIN = int(1e4)\n",
    "BUFFER_SIZE = int(1e4)\n",
    "BATCH_SIZE = 500\n",
    "STEPS_PER_EPOCH = N_TRAIN//BATCH_SIZE"
   ],
   "execution_count": 13,
   "outputs": []
  },
  {
   "cell_type": "markdown",
   "metadata": {
    "id": "FP3M9DmvON32",
    "pycharm": {
     "name": "#%% md\n"
    }
   },
   "source": [
    "The `Dataset.skip` and `Dataset.take` methods make this easy.\n",
    "\n",
    "At the same time, use the `Dataset.cache` method to ensure that the loader doesn't need to re-read the data from the file on each epoch:"
   ]
  },
  {
   "cell_type": "code",
   "metadata": {
    "id": "H8H_ZzpBOOk-",
    "executionInfo": {
     "status": "ok",
     "timestamp": 1605286941800,
     "user_tz": 600,
     "elapsed": 87034,
     "user": {
      "displayName": "Torrey Wagner",
      "photoUrl": "",
      "userId": "18235062716651285949"
     }
    },
    "pycharm": {
     "name": "#%%\n"
    }
   },
   "source": [
    "validate_ds = packed_ds.take(N_VALIDATION).cache()\n",
    "train_ds = packed_ds.skip(N_VALIDATION).take(N_TRAIN).cache()"
   ],
   "execution_count": 14,
   "outputs": []
  },
  {
   "cell_type": "code",
   "metadata": {
    "id": "9zAOqk2_Px7K",
    "executionInfo": {
     "status": "ok",
     "timestamp": 1605286941800,
     "user_tz": 600,
     "elapsed": 87029,
     "user": {
      "displayName": "Torrey Wagner",
      "photoUrl": "",
      "userId": "18235062716651285949"
     }
    },
    "outputId": "b03cb15e-4953-417f-e357-33c016d8aa4c",
    "colab": {
     "base_uri": "https://localhost:8080/"
    },
    "pycharm": {
     "name": "#%%\n"
    }
   },
   "source": [
    "train_ds"
   ],
   "execution_count": 15,
   "outputs": [
    {
     "data": {
      "text/plain": "<CacheDataset element_spec=(TensorSpec(shape=(28,), dtype=tf.float32, name=None), TensorSpec(shape=(), dtype=tf.float32, name=None))>"
     },
     "execution_count": 15,
     "metadata": {},
     "output_type": "execute_result"
    }
   ]
  },
  {
   "cell_type": "markdown",
   "metadata": {
    "id": "6PMliHoVO3OL",
    "pycharm": {
     "name": "#%% md\n"
    }
   },
   "source": [
    "These datasets return individual examples. Use the `.batch` method to create batches of an appropriate size for training. Before batching also remember to `.shuffle` and `.repeat` the training set."
   ]
  },
  {
   "cell_type": "code",
   "metadata": {
    "id": "Y7I4J355O223",
    "executionInfo": {
     "status": "ok",
     "timestamp": 1605286941801,
     "user_tz": 600,
     "elapsed": 87028,
     "user": {
      "displayName": "Torrey Wagner",
      "photoUrl": "",
      "userId": "18235062716651285949"
     }
    },
    "pycharm": {
     "name": "#%%\n"
    }
   },
   "source": [
    "validate_ds = validate_ds.batch(BATCH_SIZE)\n",
    "train_ds = train_ds.shuffle(BUFFER_SIZE).repeat().batch(BATCH_SIZE)"
   ],
   "execution_count": 16,
   "outputs": []
  },
  {
   "cell_type": "markdown",
   "metadata": {
    "id": "lglk41MwvU5o",
    "pycharm": {
     "name": "#%% md\n"
    }
   },
   "source": [
    "## Demonstrate overfitting\n",
    "\n",
    "The simplest way to prevent overfitting is to start with a small model: A model with a small number of learnable parameters (which is determined by the number of layers and the number of units per layer). In deep learning, the number of learnable parameters in a model is often referred to as the model's \"capacity\".\n",
    "\n",
    "Intuitively, a model with more parameters will have more \"memorization capacity\" and therefore will be able to easily learn a perfect dictionary-like mapping between training samples and their targets, a mapping without any generalization power, but this would be useless when making predictions on previously unseen data.\n",
    "\n",
    "Always keep this in mind: deep learning models tend to be good at fitting to the training data, but the real challenge is generalization, not fitting.\n",
    "\n",
    "On the other hand, if the network has limited memorization resources, it will not be able to learn the mapping as easily. To minimize its loss, it will have to learn compressed representations that have more predictive power. At the same time, if you make your model too small, it will have difficulty fitting to the training data. There is a balance between \"too much capacity\" and \"not enough capacity\".\n",
    "\n",
    "Unfortunately, there is no magical formula to determine the right size or architecture of your model (in terms of the number of layers, or the right size for each layer). You will have to experiment using a series of different architectures.\n",
    "\n",
    "To find an appropriate model size, it's best to start with relatively few layers and parameters, then begin increasing the size of the layers or adding new layers until you see diminishing returns on the validation loss.\n",
    "\n",
    "Start with a simple model using only `layers.Dense` as a baseline, then create larger versions, and compare them."
   ]
  },
  {
   "cell_type": "markdown",
   "metadata": {
    "id": "_ReKHdC2EgVu",
    "pycharm": {
     "name": "#%% md\n"
    }
   },
   "source": [
    "### Training procedure"
   ]
  },
  {
   "cell_type": "markdown",
   "metadata": {
    "id": "pNzkSkkXSP5l",
    "pycharm": {
     "name": "#%% md\n"
    }
   },
   "source": [
    "Many models train better if you gradually reduce the learning rate during training. Use `optimizers.schedules` to reduce the learning rate over time:"
   ]
  },
  {
   "cell_type": "code",
   "metadata": {
    "id": "LwQp-ERhAD6F",
    "executionInfo": {
     "status": "ok",
     "timestamp": 1605286941801,
     "user_tz": 600,
     "elapsed": 87027,
     "user": {
      "displayName": "Torrey Wagner",
      "photoUrl": "",
      "userId": "18235062716651285949"
     }
    },
    "pycharm": {
     "name": "#%%\n"
    }
   },
   "source": [
    "lr_schedule = tf.keras.optimizers.schedules.InverseTimeDecay(\n",
    "  0.001,\n",
    "  decay_steps=STEPS_PER_EPOCH*1000,\n",
    "  decay_rate=1,\n",
    "  staircase=False)\n",
    "\n",
    "def get_optimizer():\n",
    "  return tf.keras.optimizers.Adam(lr_schedule)"
   ],
   "execution_count": 17,
   "outputs": []
  },
  {
   "cell_type": "markdown",
   "metadata": {
    "id": "kANLx6OYTQ8B",
    "pycharm": {
     "name": "#%% md\n"
    }
   },
   "source": [
    "The code above sets a `schedules.InverseTimeDecay` to hyperbolically decrease the learning rate to 1/2 of the base rate at 1000 epochs, 1/3 at 2000 epochs and so on."
   ]
  },
  {
   "cell_type": "code",
   "metadata": {
    "id": "HIo_yPjEAFgn",
    "executionInfo": {
     "status": "ok",
     "timestamp": 1605286942033,
     "user_tz": 600,
     "elapsed": 87254,
     "user": {
      "displayName": "Torrey Wagner",
      "photoUrl": "",
      "userId": "18235062716651285949"
     }
    },
    "outputId": "abb13e8d-935c-4930-bbc2-155a78ca100a",
    "colab": {
     "base_uri": "https://localhost:8080/",
     "height": 388
    },
    "pycharm": {
     "name": "#%%\n"
    }
   },
   "source": [
    "step = np.linspace(0,100000)\n",
    "lr = lr_schedule(step)\n",
    "plt.figure(figsize = (8,6))\n",
    "plt.plot(step/STEPS_PER_EPOCH, lr)\n",
    "plt.ylim([0,max(plt.ylim())])\n",
    "plt.xlabel('Epoch')\n",
    "_ = plt.ylabel('Learning Rate')\n"
   ],
   "execution_count": 18,
   "outputs": [
    {
     "data": {
      "text/plain": "<Figure size 576x432 with 1 Axes>",
      "image/png": "[encoded data removed]"
     },
     "metadata": {
      "needs_background": "light"
     },
     "output_type": "display_data"
    }
   ]
  },
  {
   "cell_type": "markdown",
   "metadata": {
    "id": "ya7x7gr9UjU0",
    "pycharm": {
     "name": "#%% md\n"
    }
   },
   "source": [
    "Each model in this tutorial will use the same training configuration. So set these up in a reusable way, starting with the list of callbacks.\n",
    "\n",
    "The training for this tutorial runs for many short epochs. To reduce the logging noise use the `tfdocs.EpochDots` which simply prints a `.` for each epoch, and a full set of metrics every 100 epochs.\n",
    "\n",
    "Next include `callbacks.EarlyStopping` to avoid long and unnecessary training times. Note that this callback is set to monitor the `val_binary_crossentropy`, not the `val_loss`. This difference will be important later.\n",
    "\n",
    "Use `callbacks.TensorBoard` to generate TensorBoard logs for the training.\n"
   ]
  },
  {
   "cell_type": "code",
   "metadata": {
    "id": "vSv8rfw_T85n",
    "executionInfo": {
     "status": "ok",
     "timestamp": 1605286942034,
     "user_tz": 600,
     "elapsed": 87253,
     "user": {
      "displayName": "Torrey Wagner",
      "photoUrl": "",
      "userId": "18235062716651285949"
     }
    },
    "pycharm": {
     "name": "#%%\n"
    }
   },
   "source": [
    "def get_callbacks(name):\n",
    "  return [\n",
    "    tfdocs.modeling.EpochDots(),\n",
    "    tf.keras.callbacks.EarlyStopping(monitor='val_binary_crossentropy', patience=200),\n",
    "    tf.keras.callbacks.TensorBoard(logdir/name),\n",
    "  ]"
   ],
   "execution_count": 19,
   "outputs": []
  },
  {
   "cell_type": "markdown",
   "metadata": {
    "id": "VhctzKhBWVDD",
    "pycharm": {
     "name": "#%% md\n"
    }
   },
   "source": [
    "Similarly each model will use the same `Model.compile` and `Model.fit` settings:"
   ]
  },
  {
   "cell_type": "code",
   "metadata": {
    "id": "xRCGwU3YH5sT",
    "executionInfo": {
     "status": "ok",
     "timestamp": 1605286942035,
     "user_tz": 600,
     "elapsed": 87253,
     "user": {
      "displayName": "Torrey Wagner",
      "photoUrl": "",
      "userId": "18235062716651285949"
     }
    },
    "pycharm": {
     "name": "#%%\n"
    }
   },
   "source": [
    "def compile_and_fit(model, name, optimizer=None, max_epochs=5000):\n",
    "  if optimizer is None:\n",
    "    optimizer = get_optimizer()\n",
    "  model.compile(optimizer=optimizer,\n",
    "                loss=tf.keras.losses.BinaryCrossentropy(from_logits=True),\n",
    "                metrics=[\n",
    "                  tf.keras.losses.BinaryCrossentropy(\n",
    "                      from_logits=True, name='binary_crossentropy'),\n",
    "                  'accuracy'])\n",
    "\n",
    "  model.summary()\n",
    "\n",
    "  history = model.fit(\n",
    "    train_ds,\n",
    "    steps_per_epoch = STEPS_PER_EPOCH,\n",
    "    epochs=max_epochs,\n",
    "    validation_data=validate_ds,\n",
    "    callbacks=get_callbacks(name),\n",
    "    verbose=0)\n",
    "  return history"
   ],
   "execution_count": 20,
   "outputs": []
  },
  {
   "cell_type": "markdown",
   "metadata": {
    "id": "mxBeiLUiWHJV",
    "pycharm": {
     "name": "#%% md\n"
    }
   },
   "source": [
    "### Tiny model"
   ]
  },
  {
   "cell_type": "markdown",
   "metadata": {
    "id": "a6JDv12scLTI",
    "pycharm": {
     "name": "#%% md\n"
    }
   },
   "source": [
    "Start by training a model:"
   ]
  },
  {
   "cell_type": "code",
   "metadata": {
    "id": "EZh-QFjKHb70",
    "executionInfo": {
     "status": "ok",
     "timestamp": 1605286942036,
     "user_tz": 600,
     "elapsed": 87252,
     "user": {
      "displayName": "Torrey Wagner",
      "photoUrl": "",
      "userId": "18235062716651285949"
     }
    },
    "pycharm": {
     "name": "#%%\n"
    }
   },
   "source": [
    "tiny_model = tf.keras.Sequential([\n",
    "    layers.Dense(16, activation='elu', input_shape=(FEATURES,)),\n",
    "    layers.Dense(1)\n",
    "])"
   ],
   "execution_count": 21,
   "outputs": []
  },
  {
   "cell_type": "code",
   "metadata": {
    "id": "X72IUdWYipIS",
    "executionInfo": {
     "status": "ok",
     "timestamp": 1605286942036,
     "user_tz": 600,
     "elapsed": 87251,
     "user": {
      "displayName": "Torrey Wagner",
      "photoUrl": "",
      "userId": "18235062716651285949"
     }
    },
    "pycharm": {
     "name": "#%%\n"
    }
   },
   "source": [
    "size_histories = {}"
   ],
   "execution_count": 22,
   "outputs": []
  },
  {
   "cell_type": "code",
   "metadata": {
    "id": "bdOcJtPGHhJ5",
    "executionInfo": {
     "status": "ok",
     "timestamp": 1605287367210,
     "user_tz": 600,
     "elapsed": 512420,
     "user": {
      "displayName": "Torrey Wagner",
      "photoUrl": "",
      "userId": "18235062716651285949"
     }
    },
    "outputId": "aa6c8d2e-71d1-4244-a779-6ac832797aa6",
    "colab": {
     "base_uri": "https://localhost:8080/"
    },
    "pycharm": {
     "name": "#%%\n"
    }
   },
   "source": [
    "size_histories['Tiny'] = compile_and_fit(tiny_model, 'sizes/Tiny')"
   ],
   "execution_count": 23,
   "outputs": [
    {
     "name": "stdout",
     "output_type": "stream",
     "text": [
      "Model: \"sequential\"\n",
      "_________________________________________________________________\n",
      " Layer (type)                Output Shape              Param #   \n",
      "=================================================================\n",
      " dense (Dense)               (None, 16)                464       \n",
      "                                                                 \n",
      " dense_1 (Dense)             (None, 1)                 17        \n",
      "                                                                 \n",
      "=================================================================\n",
      "Total params: 481\n",
      "Trainable params: 481\n",
      "Non-trainable params: 0\n",
      "_________________________________________________________________\n"
     ]
    },
    {
     "name": "stderr",
     "output_type": "stream",
     "text": [
      "2022-11-23 22:29:24.127872: I tensorflow/core/kernels/data/shuffle_dataset_op.cc:390] Filling up shuffle buffer (this may take a while): 1 of 10000\n",
      "2022-11-23 22:29:24.127890: I tensorflow/core/kernels/data/shuffle_dataset_op.cc:390] Filling up shuffle buffer (this may take a while): 2 of 10000\n",
      "2022-11-23 22:29:53.124981: I tensorflow/core/kernels/data/shuffle_dataset_op.cc:390] Filling up shuffle buffer (this may take a while): 9001 of 10000\n",
      "2022-11-23 22:29:53.125002: I tensorflow/core/kernels/data/shuffle_dataset_op.cc:390] Filling up shuffle buffer (this may take a while): 9002 of 10000\n",
      "2022-11-23 22:29:53.125011: I tensorflow/core/kernels/data/shuffle_dataset_op.cc:390] Filling up shuffle buffer (this may take a while): 9003 of 10000\n",
      "2022-11-23 22:29:53.127102: I tensorflow/core/kernels/data/shuffle_dataset_op.cc:415] Shuffle buffer filled.\n",
      "2022-11-23 22:33:04.575165: I tensorflow/core/kernels/data/shuffle_dataset_op.cc:390] Filling up shuffle buffer (this may take a while): 9999 of 10000\n",
      "2022-11-23 22:33:04.575839: I tensorflow/core/kernels/data/shuffle_dataset_op.cc:415] Shuffle buffer filled.\n"
     ]
    },
    {
     "name": "stdout",
     "output_type": "stream",
     "text": [
      "\n",
      "Epoch: 0, accuracy:0.5228,  binary_crossentropy:0.8116,  loss:0.8116,  val_accuracy:0.4950,  val_binary_crossentropy:0.7395,  val_loss:0.7395,  \n",
      "....................................................................................................\n",
      "Epoch: 100, accuracy:0.5902,  binary_crossentropy:0.6325,  loss:0.6325,  val_accuracy:0.5640,  val_binary_crossentropy:0.6374,  val_loss:0.6374,  \n",
      "....................................................................................................\n",
      "Epoch: 200, accuracy:0.6008,  binary_crossentropy:0.6246,  loss:0.6246,  val_accuracy:0.5950,  val_binary_crossentropy:0.6286,  val_loss:0.6286,  \n",
      "....................................................................................................\n",
      "Epoch: 300, accuracy:0.6122,  binary_crossentropy:0.6198,  loss:0.6198,  val_accuracy:0.6030,  val_binary_crossentropy:0.6240,  val_loss:0.6240,  \n",
      "....................................................................................................\n",
      "Epoch: 400, accuracy:0.6224,  binary_crossentropy:0.6148,  loss:0.6148,  val_accuracy:0.5970,  val_binary_crossentropy:0.6209,  val_loss:0.6209,  \n",
      "....................................................................................................\n",
      "Epoch: 500, accuracy:0.6339,  binary_crossentropy:0.6098,  loss:0.6098,  val_accuracy:0.6040,  val_binary_crossentropy:0.6135,  val_loss:0.6135,  \n",
      "....................................................................................................\n",
      "Epoch: 600, accuracy:0.6381,  binary_crossentropy:0.6049,  loss:0.6049,  val_accuracy:0.6020,  val_binary_crossentropy:0.6078,  val_loss:0.6078,  \n",
      "....................................................................................................\n",
      "Epoch: 700, accuracy:0.6445,  binary_crossentropy:0.5999,  loss:0.5999,  val_accuracy:0.6270,  val_binary_crossentropy:0.5969,  val_loss:0.5969,  \n",
      "....................................................................................................\n",
      "Epoch: 800, accuracy:0.6546,  binary_crossentropy:0.5949,  loss:0.5949,  val_accuracy:0.6400,  val_binary_crossentropy:0.5909,  val_loss:0.5909,  \n",
      "....................................................................................................\n",
      "Epoch: 900, accuracy:0.6600,  binary_crossentropy:0.5906,  loss:0.5906,  val_accuracy:0.6510,  val_binary_crossentropy:0.5883,  val_loss:0.5883,  \n",
      "....................................................................................................\n",
      "Epoch: 1000, accuracy:0.6572,  binary_crossentropy:0.5886,  loss:0.5886,  val_accuracy:0.6510,  val_binary_crossentropy:0.5871,  val_loss:0.5871,  \n",
      "....................................................................................................\n",
      "Epoch: 1100, accuracy:0.6637,  binary_crossentropy:0.5852,  loss:0.5852,  val_accuracy:0.6610,  val_binary_crossentropy:0.5861,  val_loss:0.5861,  \n",
      "....................................................................................................\n",
      "Epoch: 1200, accuracy:0.6657,  binary_crossentropy:0.5832,  loss:0.5832,  val_accuracy:0.6470,  val_binary_crossentropy:0.5878,  val_loss:0.5878,  \n",
      "....................................................................................................\n",
      "Epoch: 1300, accuracy:0.6641,  binary_crossentropy:0.5824,  loss:0.5824,  val_accuracy:0.6520,  val_binary_crossentropy:0.5873,  val_loss:0.5873,  \n",
      "...."
     ]
    }
   ]
  },
  {
   "cell_type": "markdown",
   "metadata": {
    "id": "rS_QGT6icwdI",
    "pycharm": {
     "name": "#%% md\n"
    }
   },
   "source": [
    "Now check how the model did:"
   ]
  },
  {
   "cell_type": "code",
   "metadata": {
    "id": "dkEvb2x5XsjE",
    "executionInfo": {
     "status": "ok",
     "timestamp": 1605287367632,
     "user_tz": 600,
     "elapsed": 512838,
     "user": {
      "displayName": "Torrey Wagner",
      "photoUrl": "",
      "userId": "18235062716651285949"
     }
    },
    "outputId": "381984b5-fac0-480c-e70b-6d0dedf810d2",
    "colab": {
     "base_uri": "https://localhost:8080/",
     "height": 300
    },
    "pycharm": {
     "name": "#%%\n"
    }
   },
   "source": [
    "plotter = tfdocs.plots.HistoryPlotter(metric = 'binary_crossentropy', smoothing_std=10)\n",
    "plotter.plot(size_histories)\n",
    "plt.ylim([0.5, 0.7])"
   ],
   "execution_count": 24,
   "outputs": [
    {
     "data": {
      "text/plain": "(0.5, 0.7)"
     },
     "execution_count": 24,
     "metadata": {},
     "output_type": "execute_result"
    },
    {
     "data": {
      "text/plain": "<Figure size 432x288 with 1 Axes>",
      "image/png": "[encoded data removed]"
     },
     "metadata": {
      "needs_background": "light"
     },
     "output_type": "display_data"
    }
   ]
  },
  {
   "cell_type": "markdown",
   "metadata": {
    "id": "LGxGzh_FWOJ8",
    "pycharm": {
     "name": "#%% md\n"
    }
   },
   "source": [
    "### Small model"
   ]
  },
  {
   "cell_type": "markdown",
   "metadata": {
    "id": "YjMb6E72f2pN",
    "pycharm": {
     "name": "#%% md\n"
    }
   },
   "source": [
    "To see if you can beat the performance of the small model, progressively train some larger models.\n",
    "\n",
    "Try two hidden layers with 16 units each:"
   ]
  },
  {
   "cell_type": "code",
   "metadata": {
    "id": "QKgdXPx9usBa",
    "executionInfo": {
     "status": "ok",
     "timestamp": 1605287367632,
     "user_tz": 600,
     "elapsed": 512836,
     "user": {
      "displayName": "Torrey Wagner",
      "photoUrl": "",
      "userId": "18235062716651285949"
     }
    },
    "pycharm": {
     "name": "#%%\n"
    }
   },
   "source": [
    "small_model = tf.keras.Sequential([\n",
    "    # `input_shape` is only required here so that `.summary` works.\n",
    "    layers.Dense(16, activation='elu', input_shape=(FEATURES,)),\n",
    "    layers.Dense(16, activation='elu'),\n",
    "    layers.Dense(1)\n",
    "])"
   ],
   "execution_count": 25,
   "outputs": []
  },
  {
   "cell_type": "code",
   "metadata": {
    "id": "LqG3MXF5xSjR",
    "executionInfo": {
     "status": "ok",
     "timestamp": 1605287422463,
     "user_tz": 600,
     "elapsed": 567663,
     "user": {
      "displayName": "Torrey Wagner",
      "photoUrl": "",
      "userId": "18235062716651285949"
     }
    },
    "outputId": "98bc2624-7ac6-4e33-df52-23877b12b11d",
    "colab": {
     "base_uri": "https://localhost:8080/"
    },
    "pycharm": {
     "name": "#%%\n"
    }
   },
   "source": [
    "size_histories['Small'] = compile_and_fit(small_model, 'sizes/Small')"
   ],
   "execution_count": 26,
   "outputs": [
    {
     "name": "stdout",
     "output_type": "stream",
     "text": [
      "Model: \"sequential_1\"\n",
      "_________________________________________________________________\n",
      " Layer (type)                Output Shape              Param #   \n",
      "=================================================================\n",
      " dense_2 (Dense)             (None, 16)                464       \n",
      "                                                                 \n",
      " dense_3 (Dense)             (None, 16)                272       \n",
      "                                                                 \n",
      " dense_4 (Dense)             (None, 1)                 17        \n",
      "                                                                 \n",
      "=================================================================\n",
      "Total params: 753\n",
      "Trainable params: 753\n",
      "Non-trainable params: 0\n",
      "_________________________________________________________________\n",
      "\n",
      "Epoch: 0, accuracy:0.5060,  binary_crossentropy:0.7295,  loss:0.7295,  val_accuracy:0.4800,  val_binary_crossentropy:0.7058,  val_loss:0.7058,  \n",
      "....................................................................................................\n",
      "Epoch: 100, accuracy:0.6123,  binary_crossentropy:0.6147,  loss:0.6147,  val_accuracy:0.5870,  val_binary_crossentropy:0.6154,  val_loss:0.6154,  \n",
      "....................................................................................................\n",
      "Epoch: 200, accuracy:0.6535,  binary_crossentropy:0.5892,  loss:0.5892,  val_accuracy:0.6530,  val_binary_crossentropy:0.5977,  val_loss:0.5977,  \n",
      "....................................................................................................\n",
      "Epoch: 300, accuracy:0.6755,  binary_crossentropy:0.5755,  loss:0.5755,  val_accuracy:0.6800,  val_binary_crossentropy:0.5899,  val_loss:0.5899,  \n",
      "....................................................................................................\n",
      "Epoch: 400, accuracy:0.6910,  binary_crossentropy:0.5696,  loss:0.5696,  val_accuracy:0.6530,  val_binary_crossentropy:0.5977,  val_loss:0.5977,  \n",
      "....................................................................................................\n",
      "Epoch: 500, accuracy:0.6886,  binary_crossentropy:0.5652,  loss:0.5652,  val_accuracy:0.6800,  val_binary_crossentropy:0.5906,  val_loss:0.5906,  \n",
      "........................................................................................"
     ]
    }
   ]
  },
  {
   "cell_type": "markdown",
   "metadata": {
    "id": "L-DGRBbGxI6G",
    "pycharm": {
     "name": "#%% md\n"
    }
   },
   "source": [
    "### Medium model"
   ]
  },
  {
   "cell_type": "markdown",
   "metadata": {
    "id": "SrfoVQheYSO5",
    "pycharm": {
     "name": "#%% md\n"
    }
   },
   "source": [
    "Now try 3 hidden layers with 64 units each:"
   ]
  },
  {
   "cell_type": "code",
   "metadata": {
    "id": "jksi-XtaxDAh",
    "executionInfo": {
     "status": "ok",
     "timestamp": 1605287422464,
     "user_tz": 600,
     "elapsed": 567663,
     "user": {
      "displayName": "Torrey Wagner",
      "photoUrl": "",
      "userId": "18235062716651285949"
     }
    },
    "pycharm": {
     "name": "#%%\n"
    }
   },
   "source": [
    "medium_model = tf.keras.Sequential([\n",
    "    layers.Dense(64, activation='elu', input_shape=(FEATURES,)),\n",
    "    layers.Dense(64, activation='elu'),\n",
    "    layers.Dense(64, activation='elu'),\n",
    "    layers.Dense(1)\n",
    "])"
   ],
   "execution_count": 27,
   "outputs": []
  },
  {
   "cell_type": "markdown",
   "metadata": {
    "id": "jbngCZliYdma",
    "pycharm": {
     "name": "#%% md\n"
    }
   },
   "source": [
    "And train the model using the same data:"
   ]
  },
  {
   "cell_type": "code",
   "metadata": {
    "id": "Ofn1AwDhx-Fe",
    "executionInfo": {
     "status": "ok",
     "timestamp": 1605287447999,
     "user_tz": 600,
     "elapsed": 593195,
     "user": {
      "displayName": "Torrey Wagner",
      "photoUrl": "",
      "userId": "18235062716651285949"
     }
    },
    "outputId": "0ddb6fdc-0b11-4bf8-9d26-f18b7988c70f",
    "colab": {
     "base_uri": "https://localhost:8080/"
    },
    "pycharm": {
     "name": "#%%\n"
    }
   },
   "source": [
    "size_histories['Medium']  = compile_and_fit(medium_model, \"sizes/Medium\")"
   ],
   "execution_count": 28,
   "outputs": [
    {
     "name": "stdout",
     "output_type": "stream",
     "text": [
      "Model: \"sequential_2\"\n",
      "_________________________________________________________________\n",
      " Layer (type)                Output Shape              Param #   \n",
      "=================================================================\n",
      " dense_5 (Dense)             (None, 64)                1856      \n",
      "                                                                 \n",
      " dense_6 (Dense)             (None, 64)                4160      \n",
      "                                                                 \n",
      " dense_7 (Dense)             (None, 64)                4160      \n",
      "                                                                 \n",
      " dense_8 (Dense)             (None, 1)                 65        \n",
      "                                                                 \n",
      "=================================================================\n",
      "Total params: 10,241\n",
      "Trainable params: 10,241\n",
      "Non-trainable params: 0\n",
      "_________________________________________________________________\n",
      "\n",
      "Epoch: 0, accuracy:0.4764,  binary_crossentropy:0.7019,  loss:0.7019,  val_accuracy:0.4640,  val_binary_crossentropy:0.6808,  val_loss:0.6808,  \n",
      "....................................................................................................\n",
      "Epoch: 100, accuracy:0.7093,  binary_crossentropy:0.5350,  loss:0.5350,  val_accuracy:0.6590,  val_binary_crossentropy:0.6096,  val_loss:0.6096,  \n",
      "....................................................................................................\n",
      "Epoch: 200, accuracy:0.7706,  binary_crossentropy:0.4453,  loss:0.4453,  val_accuracy:0.6650,  val_binary_crossentropy:0.6800,  val_loss:0.6800,  \n",
      "......................................................."
     ]
    }
   ]
  },
  {
   "cell_type": "markdown",
   "metadata": {
    "id": "vIPuf23FFaVn",
    "pycharm": {
     "name": "#%% md\n"
    }
   },
   "source": [
    "### Large model\n",
    "\n",
    "As an exercise, you can create an even larger model, and see how quickly it begins overfitting.  Next, let's add to this benchmark a network that has much more capacity, far more than the problem would warrant:"
   ]
  },
  {
   "cell_type": "code",
   "metadata": {
    "id": "ghQwwqwqvQM9",
    "executionInfo": {
     "status": "ok",
     "timestamp": 1605287448000,
     "user_tz": 600,
     "elapsed": 593194,
     "user": {
      "displayName": "Torrey Wagner",
      "photoUrl": "",
      "userId": "18235062716651285949"
     }
    },
    "pycharm": {
     "name": "#%%\n"
    }
   },
   "source": [
    "large_model = tf.keras.Sequential([\n",
    "    layers.Dense(512, activation='elu', input_shape=(FEATURES,)),\n",
    "    layers.Dense(512, activation='elu'),\n",
    "    layers.Dense(512, activation='elu'),\n",
    "    layers.Dense(512, activation='elu'),\n",
    "    layers.Dense(1)\n",
    "])"
   ],
   "execution_count": 29,
   "outputs": []
  },
  {
   "cell_type": "markdown",
   "metadata": {
    "id": "D-d-i5DaYmr7",
    "pycharm": {
     "name": "#%% md\n"
    }
   },
   "source": [
    "And, again, train the model using the same data:"
   ]
  },
  {
   "cell_type": "code",
   "metadata": {
    "id": "U1A99dhqvepf",
    "executionInfo": {
     "status": "ok",
     "timestamp": 1605287472558,
     "user_tz": 600,
     "elapsed": 617749,
     "user": {
      "displayName": "Torrey Wagner",
      "photoUrl": "",
      "userId": "18235062716651285949"
     }
    },
    "outputId": "77d201c6-e643-41a8-9d0b-18e794bde42b",
    "colab": {
     "base_uri": "https://localhost:8080/"
    },
    "pycharm": {
     "name": "#%%\n"
    }
   },
   "source": [
    "size_histories['large'] = compile_and_fit(large_model, \"sizes/large\")"
   ],
   "execution_count": 30,
   "outputs": [
    {
     "name": "stdout",
     "output_type": "stream",
     "text": [
      "Model: \"sequential_3\"\n",
      "_________________________________________________________________\n",
      " Layer (type)                Output Shape              Param #   \n",
      "=================================================================\n",
      " dense_9 (Dense)             (None, 512)               14848     \n",
      "                                                                 \n",
      " dense_10 (Dense)            (None, 512)               262656    \n",
      "                                                                 \n",
      " dense_11 (Dense)            (None, 512)               262656    \n",
      "                                                                 \n",
      " dense_12 (Dense)            (None, 512)               262656    \n",
      "                                                                 \n",
      " dense_13 (Dense)            (None, 1)                 513       \n",
      "                                                                 \n",
      "=================================================================\n",
      "Total params: 803,329\n",
      "Trainable params: 803,329\n",
      "Non-trainable params: 0\n",
      "_________________________________________________________________\n",
      "\n",
      "Epoch: 0, accuracy:0.5042,  binary_crossentropy:0.7562,  loss:0.7562,  val_accuracy:0.5650,  val_binary_crossentropy:0.6732,  val_loss:0.6732,  \n",
      "....................................................................................................\n",
      "Epoch: 100, accuracy:1.0000,  binary_crossentropy:0.0022,  loss:0.0022,  val_accuracy:0.6650,  val_binary_crossentropy:1.7642,  val_loss:1.7642,  \n",
      "....................................................................................................\n",
      "Epoch: 200, accuracy:1.0000,  binary_crossentropy:0.0001,  loss:0.0001,  val_accuracy:0.6600,  val_binary_crossentropy:2.4115,  val_loss:2.4115,  \n",
      ".................."
     ]
    }
   ]
  },
  {
   "cell_type": "markdown",
   "metadata": {
    "id": "Fy3CMUZpzH3d",
    "pycharm": {
     "name": "#%% md\n"
    }
   },
   "source": [
    "### Plot the training and validation losses"
   ]
  },
  {
   "cell_type": "markdown",
   "metadata": {
    "id": "HSlo1F4xHuuM",
    "pycharm": {
     "name": "#%% md\n"
    }
   },
   "source": [
    "The solid lines show the training loss, and the dashed lines show the validation loss (remember: a lower validation loss indicates a better model)."
   ]
  },
  {
   "cell_type": "markdown",
   "metadata": {
    "id": "OLhL1AszdLfM",
    "pycharm": {
     "name": "#%% md\n"
    }
   },
   "source": [
    "While building a larger model gives it more power, if this power is not constrained somehow it can easily overfit to the training set.\n",
    "\n",
    "In this example, typically, only the `\"Tiny\"` model manages to avoid overfitting altogether, and each of the larger models overfit the data more quickly. This becomes so severe for the `\"large\"` model that you need to switch the plot to a log-scale to really see what's happening.\n",
    "\n",
    "This is apparent if you plot and compare the validation metrics to the training metrics.\n",
    "\n",
    "* It's normal for there to be a small difference.\n",
    "* If both metrics are moving in the same direction, everything is fine.\n",
    "* If the validation metric begins to stagnate while the training metric continues to improve, you are probably close to overfitting.\n",
    "* If the validation metric is going in the wrong direction, the model is clearly overfitting."
   ]
  },
  {
   "cell_type": "code",
   "metadata": {
    "id": "0XmKDtOWzOpk",
    "executionInfo": {
     "status": "ok",
     "timestamp": 1605288938160,
     "user_tz": 600,
     "elapsed": 1487,
     "user": {
      "displayName": "Torrey Wagner",
      "photoUrl": "",
      "userId": "18235062716651285949"
     }
    },
    "outputId": "b1118f3f-069d-4ab7-b298-27de18ab56b7",
    "colab": {
     "base_uri": "https://localhost:8080/",
     "height": 885
    },
    "pycharm": {
     "name": "#%%\n"
    }
   },
   "source": [
    "plt.figure(figsize=(10,10))  # have to set fig_size before plotting\n",
    "\n",
    "plotter.plot(size_histories)\n",
    "a = plt.xscale('log')\n",
    "plt.xlim([5, max(plt.xlim())])\n",
    "plt.ylim([0.5, 0.7])\n",
    "plt.xlabel(\"Epochs [Log Scale]\")\n",
    "\n",
    "\n",
    "plt.show()"
   ],
   "execution_count": 31,
   "outputs": [
    {
     "data": {
      "text/plain": "<Figure size 720x720 with 1 Axes>",
      "image/png": "[encoded data removed]"
     },
     "metadata": {
      "needs_background": "light"
     },
     "output_type": "display_data"
    }
   ]
  },
  {
   "cell_type": "markdown",
   "metadata": {
    "id": "UekcaQdmZxnW",
    "pycharm": {
     "name": "#%% md\n"
    }
   },
   "source": [
    "Note: All the above training runs used the `callbacks.EarlyStopping` to end the training once it was clear the model was not making progress."
   ]
  },
  {
   "cell_type": "markdown",
   "metadata": {
    "id": "ASdv7nsgEFhx",
    "pycharm": {
     "name": "#%% md\n"
    }
   },
   "source": [
    "## Strategies to prevent overfitting"
   ]
  },
  {
   "cell_type": "markdown",
   "metadata": {
    "id": "YN512ksslaxJ",
    "pycharm": {
     "name": "#%% md\n"
    }
   },
   "source": [
    "Before getting into the content of this section copy the training logs from the `\"Tiny\"` model above, to use as a baseline for comparison."
   ]
  },
  {
   "cell_type": "code",
   "metadata": {
    "id": "40k1eBtnQzNo",
    "executionInfo": {
     "status": "ok",
     "timestamp": 1605287473323,
     "user_tz": 600,
     "elapsed": 618506,
     "user": {
      "displayName": "Torrey Wagner",
      "photoUrl": "",
      "userId": "18235062716651285949"
     }
    },
    "outputId": "7ad8eeb2-0d07-42c4-b78f-4312e4b58398",
    "colab": {
     "base_uri": "https://localhost:8080/"
    },
    "pycharm": {
     "name": "#%%\n"
    }
   },
   "source": [
    "shutil.rmtree(logdir/'regularizers/Tiny', ignore_errors=True)\n",
    "shutil.copytree(logdir/'sizes/Tiny', logdir/'regularizers/Tiny')"
   ],
   "execution_count": 32,
   "outputs": [
    {
     "data": {
      "text/plain": "PosixPath('/var/folders/nz/57m0v30s0kqdtdm5876x20qw0000gn/T/tmpuzy6hg2x/tensorboard_logs/regularizers/Tiny')"
     },
     "execution_count": 32,
     "metadata": {},
     "output_type": "execute_result"
    }
   ]
  },
  {
   "cell_type": "code",
   "metadata": {
    "id": "vFWMeFo7jLpN",
    "executionInfo": {
     "status": "ok",
     "timestamp": 1605287473323,
     "user_tz": 600,
     "elapsed": 618504,
     "user": {
      "displayName": "Torrey Wagner",
      "photoUrl": "",
      "userId": "18235062716651285949"
     }
    },
    "pycharm": {
     "name": "#%%\n"
    }
   },
   "source": [
    "regularizer_histories = {}\n",
    "regularizer_histories['Tiny'] = size_histories['Tiny']"
   ],
   "execution_count": 33,
   "outputs": []
  },
  {
   "cell_type": "markdown",
   "metadata": {
    "id": "4rHoVWcswFLa",
    "pycharm": {
     "name": "#%% md\n"
    }
   },
   "source": [
    "### Add weight regularization\n"
   ]
  },
  {
   "cell_type": "markdown",
   "metadata": {
    "id": "kRxWepNawbBK",
    "pycharm": {
     "name": "#%% md\n"
    }
   },
   "source": [
    "You may be familiar with Occam's Razor principle: given two explanations for something, the explanation most likely to be correct is the \"simplest\" one, the one that makes the least amount of assumptions. This also applies to the models learned by neural networks: given some training data and a network architecture, there are multiple sets of weights values (multiple models) that could explain the data, and simpler models are less likely to overfit than complex ones.\n",
    "\n",
    "A \"simple model\" in this context is a model where the distribution of parameter values has less entropy (or a model with fewer parameters altogether, as we saw in the section above). Thus a common way to mitigate overfitting is to put constraints on the complexity of a network by forcing its weights only to take small values, which makes the distribution of weight values more \"regular\". This is called \"weight regularization\", and it is done by adding to the loss function of the network a cost associated with having large weights. This cost comes in two flavors:\n",
    "\n",
    "* [L1 regularization](https://developers.google.com/machine-learning/glossary/#L1_regularization), where the cost added is proportional to the absolute value of the weights coefficients (i.e. to what is called the \"L1 norm\" of the weights).\n",
    "\n",
    "* [L2 regularization](https://developers.google.com/machine-learning/glossary/#L2_regularization), where the cost added is proportional to the square of the value of the weights coefficients (i.e. to what is called the squared \"L2 norm\" of the weights). L2 regularization is also called weight decay in the context of neural networks. Don't let the different name confuse you: weight decay is mathematically the exact same as L2 regularization.\n",
    "\n",
    "L1 regularization pushes weights towards exactly zero encouraging a sparse model. L2 regularization will penalize the weights parameters without making them sparse since the penalty goes to zero for small weights. one reason why L2 is more common.\n",
    "\n",
    "In `tf.keras`, weight regularization is added by passing weight regularizer instances to layers as keyword arguments. Let's add L2 weight regularization now."
   ]
  },
  {
   "cell_type": "code",
   "metadata": {
    "id": "HFGmcwduwVyQ",
    "executionInfo": {
     "status": "ok",
     "timestamp": 1605287527685,
     "user_tz": 600,
     "elapsed": 672861,
     "user": {
      "displayName": "Torrey Wagner",
      "photoUrl": "",
      "userId": "18235062716651285949"
     }
    },
    "outputId": "dba84483-1bb1-4822-decc-b3dcb40dc614",
    "colab": {
     "base_uri": "https://localhost:8080/"
    },
    "pycharm": {
     "name": "#%%\n"
    }
   },
   "source": [
    "l2_model = tf.keras.Sequential([\n",
    "    layers.Dense(512, activation='elu',\n",
    "                 kernel_regularizer=regularizers.l2(0.001),\n",
    "                 input_shape=(FEATURES,)),\n",
    "    layers.Dense(512, activation='elu',\n",
    "                 kernel_regularizer=regularizers.l2(0.001)),\n",
    "    layers.Dense(512, activation='elu',\n",
    "                 kernel_regularizer=regularizers.l2(0.001)),\n",
    "    layers.Dense(512, activation='elu',\n",
    "                 kernel_regularizer=regularizers.l2(0.001)),\n",
    "    layers.Dense(1)\n",
    "])\n",
    "\n",
    "regularizer_histories['l2'] = compile_and_fit(l2_model, \"regularizers/l2\")"
   ],
   "execution_count": 34,
   "outputs": [
    {
     "name": "stdout",
     "output_type": "stream",
     "text": [
      "Model: \"sequential_4\"\n",
      "_________________________________________________________________\n",
      " Layer (type)                Output Shape              Param #   \n",
      "=================================================================\n",
      " dense_14 (Dense)            (None, 512)               14848     \n",
      "                                                                 \n",
      " dense_15 (Dense)            (None, 512)               262656    \n",
      "                                                                 \n",
      " dense_16 (Dense)            (None, 512)               262656    \n",
      "                                                                 \n",
      " dense_17 (Dense)            (None, 512)               262656    \n",
      "                                                                 \n",
      " dense_18 (Dense)            (None, 1)                 513       \n",
      "                                                                 \n",
      "=================================================================\n",
      "Total params: 803,329\n",
      "Trainable params: 803,329\n",
      "Non-trainable params: 0\n",
      "_________________________________________________________________\n",
      "\n",
      "Epoch: 0, accuracy:0.5098,  binary_crossentropy:0.7479,  loss:2.2406,  val_accuracy:0.4930,  val_binary_crossentropy:0.6824,  val_loss:2.0733,  \n",
      "....................................................................................................\n",
      "Epoch: 100, accuracy:0.6579,  binary_crossentropy:0.5937,  loss:0.6168,  val_accuracy:0.6640,  val_binary_crossentropy:0.5781,  val_loss:0.6014,  \n",
      "....................................................................................................\n",
      "Epoch: 200, accuracy:0.6678,  binary_crossentropy:0.5883,  loss:0.6113,  val_accuracy:0.6920,  val_binary_crossentropy:0.5757,  val_loss:0.5988,  \n",
      "....................................................................................................\n",
      "Epoch: 300, accuracy:0.6845,  binary_crossentropy:0.5698,  loss:0.5954,  val_accuracy:0.6760,  val_binary_crossentropy:0.5704,  val_loss:0.5958,  \n",
      "....................................................................................................\n",
      "Epoch: 400, accuracy:0.6838,  binary_crossentropy:0.5671,  loss:0.5932,  val_accuracy:0.6780,  val_binary_crossentropy:0.5708,  val_loss:0.5969,  \n",
      "....................................................................................................\n",
      "Epoch: 500, accuracy:0.7000,  binary_crossentropy:0.5555,  loss:0.5837,  val_accuracy:0.6650,  val_binary_crossentropy:0.5825,  val_loss:0.6106,  \n",
      "............."
     ]
    }
   ]
  },
  {
   "cell_type": "markdown",
   "metadata": {
    "id": "bUUHoXb7w-_C",
    "pycharm": {
     "name": "#%% md\n"
    }
   },
   "source": [
    "`l2(0.001)` means that every coefficient in the weight matrix of the layer will add `0.001 * weight_coefficient_value**2` to the total **loss** of the network.\n",
    "\n",
    "That is why we're monitoring the `binary_crossentropy` directly. Because it doesn't have this regularization component mixed in.\n",
    "\n",
    "So, that same `\"Large\"` model with an `L2` regularization penalty performs much better:\n"
   ]
  },
  {
   "cell_type": "code",
   "metadata": {
    "id": "7wkfLyxBZdh_",
    "executionInfo": {
     "status": "ok",
     "timestamp": 1605287527927,
     "user_tz": 600,
     "elapsed": 673099,
     "user": {
      "displayName": "Torrey Wagner",
      "photoUrl": "",
      "userId": "18235062716651285949"
     }
    },
    "outputId": "d3571691-7056-4e4f-bfb7-de4c2b0646e5",
    "colab": {
     "base_uri": "https://localhost:8080/",
     "height": 300
    },
    "pycharm": {
     "name": "#%%\n"
    }
   },
   "source": [
    "plotter.plot(regularizer_histories)\n",
    "plt.ylim([0.5, 0.7])"
   ],
   "execution_count": 35,
   "outputs": [
    {
     "data": {
      "text/plain": "(0.5, 0.7)"
     },
     "execution_count": 35,
     "metadata": {},
     "output_type": "execute_result"
    },
    {
     "data": {
      "text/plain": "<Figure size 432x288 with 1 Axes>",
      "image/png": "[encoded data removed]"
     },
     "metadata": {
      "needs_background": "light"
     },
     "output_type": "display_data"
    }
   ]
  },
  {
   "cell_type": "markdown",
   "metadata": {
    "id": "Kx1YHMsVxWjP",
    "pycharm": {
     "name": "#%% md\n"
    }
   },
   "source": [
    "As you can see, the `\"L2\"` regularized model is now much more competitive with the the `\"Tiny\"` model. This `\"L2\"` model is also much more resistant to overfitting than the `\"Large\"` model it was based on despite having the same number of parameters."
   ]
  },
  {
   "cell_type": "markdown",
   "metadata": {
    "id": "JheBk6f8jMQ7",
    "pycharm": {
     "name": "#%% md\n"
    }
   },
   "source": [
    "#### More info\n",
    "\n",
    "There are two important things to note about this sort of regularization.\n",
    "\n",
    "**First:** if you are writing your own training loop, then you need to be sure to ask the model for its regularization losses."
   ]
  },
  {
   "cell_type": "code",
   "metadata": {
    "id": "apDHQNybjaML",
    "executionInfo": {
     "status": "ok",
     "timestamp": 1605287527927,
     "user_tz": 600,
     "elapsed": 673097,
     "user": {
      "displayName": "Torrey Wagner",
      "photoUrl": "",
      "userId": "18235062716651285949"
     }
    },
    "pycharm": {
     "name": "#%%\n"
    }
   },
   "source": [
    "result = l2_model(features)\n",
    "regularization_loss=tf.add_n(l2_model.losses)"
   ],
   "execution_count": 36,
   "outputs": []
  },
  {
   "cell_type": "markdown",
   "metadata": {
    "id": "MLhG6fMSjE-J",
    "pycharm": {
     "name": "#%% md\n"
    }
   },
   "source": [
    "**Second:** This implementation works by adding the weight penalties to the model's loss, and then applying a standard optimization procedure after that.\n",
    "\n",
    "There is a second approach that instead only runs the optimizer on the raw loss, and then while applying the calculated step the optimizer also applies some weight decay. This \"Decoupled Weight Decay\" is seen in optimizers like `optimizers.FTRL` and `optimizers.AdamW`."
   ]
  },
  {
   "cell_type": "markdown",
   "metadata": {
    "id": "HmnBNOOVxiG8",
    "pycharm": {
     "name": "#%% md\n"
    }
   },
   "source": [
    "### Add dropout\n",
    "\n",
    "Dropout is one of the most effective and most commonly used regularization techniques for neural networks, developed by Hinton and his students at the University of Toronto.\n",
    "\n",
    "The intuitive explanation for dropout is that because individual nodes in the network cannot rely on the output of the others, each node must output features that are useful on their own.\n",
    "\n",
    "Dropout, applied to a layer, consists of randomly \"dropping out\" (i.e. set to zero) a number of output features of the layer during training. Let's say a given layer would normally have returned a vector [0.2, 0.5, 1.3, 0.8, 1.1] for a given input sample during training; after applying dropout, this vector will have a few zero entries distributed at random, e.g. [0, 0.5,\n",
    "1.3, 0, 1.1].\n",
    "\n",
    "The \"dropout rate\" is the fraction of the features that are being zeroed-out; it is usually set between 0.2 and 0.5. At test time, no units are dropped out, and instead the layer's output values are scaled down by a factor equal to the dropout rate, so as to balance for the fact that more units are active than at training time.\n",
    "\n",
    "In `tf.keras` you can introduce dropout in a network via the Dropout layer, which gets applied to the output of layer right before.\n",
    "\n",
    "Let's add two Dropout layers in our network to see how well they do at reducing overfitting:"
   ]
  },
  {
   "cell_type": "code",
   "metadata": {
    "id": "OFEYvtrHxSWS",
    "executionInfo": {
     "status": "ok",
     "timestamp": 1605287565026,
     "user_tz": 600,
     "elapsed": 710191,
     "user": {
      "displayName": "Torrey Wagner",
      "photoUrl": "",
      "userId": "18235062716651285949"
     }
    },
    "outputId": "cb908361-2c83-45e4-f243-20e8539f8085",
    "colab": {
     "base_uri": "https://localhost:8080/"
    },
    "pycharm": {
     "name": "#%%\n"
    }
   },
   "source": [
    "dropout_model = tf.keras.Sequential([\n",
    "    layers.Dense(512, activation='elu', input_shape=(FEATURES,)),\n",
    "    layers.Dropout(0.5),\n",
    "    layers.Dense(512, activation='elu'),\n",
    "    layers.Dropout(0.5),\n",
    "    layers.Dense(512, activation='elu'),\n",
    "    layers.Dropout(0.5),\n",
    "    layers.Dense(512, activation='elu'),\n",
    "    layers.Dropout(0.5),\n",
    "    layers.Dense(1)\n",
    "])\n",
    "\n",
    "regularizer_histories['dropout'] = compile_and_fit(dropout_model, \"regularizers/dropout\")"
   ],
   "execution_count": 37,
   "outputs": [
    {
     "name": "stdout",
     "output_type": "stream",
     "text": [
      "Model: \"sequential_5\"\n",
      "_________________________________________________________________\n",
      " Layer (type)                Output Shape              Param #   \n",
      "=================================================================\n",
      " dense_19 (Dense)            (None, 512)               14848     \n",
      "                                                                 \n",
      " dropout (Dropout)           (None, 512)               0         \n",
      "                                                                 \n",
      " dense_20 (Dense)            (None, 512)               262656    \n",
      "                                                                 \n",
      " dropout_1 (Dropout)         (None, 512)               0         \n",
      "                                                                 \n",
      " dense_21 (Dense)            (None, 512)               262656    \n",
      "                                                                 \n",
      " dropout_2 (Dropout)         (None, 512)               0         \n",
      "                                                                 \n",
      " dense_22 (Dense)            (None, 512)               262656    \n",
      "                                                                 \n",
      " dropout_3 (Dropout)         (None, 512)               0         \n",
      "                                                                 \n",
      " dense_23 (Dense)            (None, 1)                 513       \n",
      "                                                                 \n",
      "=================================================================\n",
      "Total params: 803,329\n",
      "Trainable params: 803,329\n",
      "Non-trainable params: 0\n",
      "_________________________________________________________________\n",
      "\n",
      "Epoch: 0, accuracy:0.5026,  binary_crossentropy:0.8181,  loss:0.8181,  val_accuracy:0.4810,  val_binary_crossentropy:0.6785,  val_loss:0.6785,  \n",
      "....................................................................................................\n",
      "Epoch: 100, accuracy:0.6548,  binary_crossentropy:0.5944,  loss:0.5944,  val_accuracy:0.6840,  val_binary_crossentropy:0.5827,  val_loss:0.5827,  \n",
      "....................................................................................................\n",
      "Epoch: 200, accuracy:0.6896,  binary_crossentropy:0.5570,  loss:0.5570,  val_accuracy:0.6670,  val_binary_crossentropy:0.5844,  val_loss:0.5844,  \n",
      "....................................................................................................\n",
      "Epoch: 300, accuracy:0.7185,  binary_crossentropy:0.5133,  loss:0.5133,  val_accuracy:0.6890,  val_binary_crossentropy:0.6001,  val_loss:0.6001,  \n",
      "............................."
     ]
    }
   ]
  },
  {
   "cell_type": "code",
   "metadata": {
    "id": "SPZqwVchx5xp",
    "executionInfo": {
     "status": "ok",
     "timestamp": 1605287565429,
     "user_tz": 600,
     "elapsed": 710590,
     "user": {
      "displayName": "Torrey Wagner",
      "photoUrl": "",
      "userId": "18235062716651285949"
     }
    },
    "outputId": "9dc3f3a2-9bb3-45b4-a3b4-d3db0fd95c2d",
    "colab": {
     "base_uri": "https://localhost:8080/",
     "height": 300
    },
    "pycharm": {
     "name": "#%%\n"
    }
   },
   "source": [
    "plotter.plot(regularizer_histories)\n",
    "plt.ylim([0.5, 0.7])"
   ],
   "execution_count": 38,
   "outputs": [
    {
     "data": {
      "text/plain": "(0.5, 0.7)"
     },
     "execution_count": 38,
     "metadata": {},
     "output_type": "execute_result"
    },
    {
     "data": {
      "text/plain": "<Figure size 432x288 with 1 Axes>",
      "image/png": "[encoded data removed]"
     },
     "metadata": {
      "needs_background": "light"
     },
     "output_type": "display_data"
    }
   ]
  },
  {
   "cell_type": "markdown",
   "metadata": {
    "id": "4zlHr4iaI1U6",
    "pycharm": {
     "name": "#%% md\n"
    }
   },
   "source": [
    "It's clear from this plot that both of these regularization approaches improve the behavior of the `\"Large\"` model. But this still doesn't beat even the `\"Tiny\"` baseline.\n",
    "\n",
    "Next try them both, together, and see if that does better."
   ]
  },
  {
   "cell_type": "markdown",
   "metadata": {
    "id": "u7qMg_7Nwy5t",
    "pycharm": {
     "name": "#%% md\n"
    }
   },
   "source": [
    "### Combined L2 + dropout"
   ]
  },
  {
   "cell_type": "code",
   "metadata": {
    "id": "7zfs_qQIw1cz",
    "executionInfo": {
     "status": "ok",
     "timestamp": 1605287669627,
     "user_tz": 600,
     "elapsed": 814783,
     "user": {
      "displayName": "Torrey Wagner",
      "photoUrl": "",
      "userId": "18235062716651285949"
     }
    },
    "outputId": "f6a4dc1d-aae5-41e9-b1c9-88d9ed66470e",
    "colab": {
     "base_uri": "https://localhost:8080/"
    },
    "pycharm": {
     "name": "#%%\n"
    }
   },
   "source": [
    "combined_model = tf.keras.Sequential([\n",
    "    layers.Dense(512, kernel_regularizer=regularizers.l2(0.0001),\n",
    "                 activation='elu', input_shape=(FEATURES,)),\n",
    "    layers.Dropout(0.5),\n",
    "    layers.Dense(512, kernel_regularizer=regularizers.l2(0.0001),\n",
    "                 activation='elu'),\n",
    "    layers.Dropout(0.5),\n",
    "    layers.Dense(512, kernel_regularizer=regularizers.l2(0.0001),\n",
    "                 activation='elu'),\n",
    "    layers.Dropout(0.5),\n",
    "    layers.Dense(512, kernel_regularizer=regularizers.l2(0.0001),\n",
    "                 activation='elu'),\n",
    "    layers.Dropout(0.5),\n",
    "    layers.Dense(1)\n",
    "])\n",
    "\n",
    "regularizer_histories['combined'] = compile_and_fit(combined_model, \"regularizers/combined\")"
   ],
   "execution_count": 39,
   "outputs": [
    {
     "name": "stdout",
     "output_type": "stream",
     "text": [
      "Model: \"sequential_6\"\n",
      "_________________________________________________________________\n",
      " Layer (type)                Output Shape              Param #   \n",
      "=================================================================\n",
      " dense_24 (Dense)            (None, 512)               14848     \n",
      "                                                                 \n",
      " dropout_4 (Dropout)         (None, 512)               0         \n",
      "                                                                 \n",
      " dense_25 (Dense)            (None, 512)               262656    \n",
      "                                                                 \n",
      " dropout_5 (Dropout)         (None, 512)               0         \n",
      "                                                                 \n",
      " dense_26 (Dense)            (None, 512)               262656    \n",
      "                                                                 \n",
      " dropout_6 (Dropout)         (None, 512)               0         \n",
      "                                                                 \n",
      " dense_27 (Dense)            (None, 512)               262656    \n",
      "                                                                 \n",
      " dropout_7 (Dropout)         (None, 512)               0         \n",
      "                                                                 \n",
      " dense_28 (Dense)            (None, 1)                 513       \n",
      "                                                                 \n",
      "=================================================================\n",
      "Total params: 803,329\n",
      "Trainable params: 803,329\n",
      "Non-trainable params: 0\n",
      "_________________________________________________________________\n",
      "\n",
      "Epoch: 0, accuracy:0.5060,  binary_crossentropy:0.7887,  loss:0.9470,  val_accuracy:0.5440,  val_binary_crossentropy:0.6735,  val_loss:0.8311,  \n",
      "....................................................................................................\n",
      "Epoch: 100, accuracy:0.6443,  binary_crossentropy:0.6062,  loss:0.6348,  val_accuracy:0.6660,  val_binary_crossentropy:0.5795,  val_loss:0.6079,  \n",
      "....................................................................................................\n",
      "Epoch: 200, accuracy:0.6579,  binary_crossentropy:0.5887,  loss:0.6152,  val_accuracy:0.6690,  val_binary_crossentropy:0.5755,  val_loss:0.6020,  \n",
      "....................................................................................................\n",
      "Epoch: 300, accuracy:0.6753,  binary_crossentropy:0.5851,  loss:0.6133,  val_accuracy:0.6640,  val_binary_crossentropy:0.5681,  val_loss:0.5963,  \n",
      "....................................................................................................\n",
      "Epoch: 400, accuracy:0.6752,  binary_crossentropy:0.5757,  loss:0.6057,  val_accuracy:0.6570,  val_binary_crossentropy:0.5663,  val_loss:0.5963,  \n",
      "....................................................................................................\n",
      "Epoch: 500, accuracy:0.6813,  binary_crossentropy:0.5689,  loss:0.6007,  val_accuracy:0.6740,  val_binary_crossentropy:0.5505,  val_loss:0.5824,  \n",
      "....................................................................................................\n",
      "Epoch: 600, accuracy:0.6877,  binary_crossentropy:0.5657,  loss:0.5991,  val_accuracy:0.7040,  val_binary_crossentropy:0.5446,  val_loss:0.5778,  \n",
      "....................................................................................................\n",
      "Epoch: 700, accuracy:0.6841,  binary_crossentropy:0.5662,  loss:0.6008,  val_accuracy:0.6970,  val_binary_crossentropy:0.5496,  val_loss:0.5842,  \n",
      "....................................................................................................\n",
      "Epoch: 800, accuracy:0.6927,  binary_crossentropy:0.5601,  loss:0.5961,  val_accuracy:0.6990,  val_binary_crossentropy:0.5479,  val_loss:0.5839,  \n",
      "....................................................................................................\n",
      "Epoch: 900, accuracy:0.6906,  binary_crossentropy:0.5556,  loss:0.5930,  val_accuracy:0.6990,  val_binary_crossentropy:0.5474,  val_loss:0.5848,  \n",
      "....................................................................................................\n",
      "Epoch: 1000, accuracy:0.6944,  binary_crossentropy:0.5517,  loss:0.5903,  val_accuracy:0.7020,  val_binary_crossentropy:0.5377,  val_loss:0.5763,  \n",
      "....................................................................................................\n",
      "Epoch: 1100, accuracy:0.6979,  binary_crossentropy:0.5530,  loss:0.5928,  val_accuracy:0.6980,  val_binary_crossentropy:0.5494,  val_loss:0.5891,  \n",
      "....................................................................................................\n",
      "Epoch: 1200, accuracy:0.7013,  binary_crossentropy:0.5458,  loss:0.5867,  val_accuracy:0.6940,  val_binary_crossentropy:0.5443,  val_loss:0.5851,  \n",
      ".................."
     ]
    }
   ]
  },
  {
   "cell_type": "code",
   "metadata": {
    "id": "qDqBBxfI0Yd8",
    "executionInfo": {
     "status": "ok",
     "timestamp": 1605289229968,
     "user_tz": 600,
     "elapsed": 950,
     "user": {
      "displayName": "Torrey Wagner",
      "photoUrl": "",
      "userId": "18235062716651285949"
     }
    },
    "outputId": "23c227b9-8d81-4151-90a0-632558e310b7",
    "colab": {
     "base_uri": "https://localhost:8080/",
     "height": 627
    },
    "pycharm": {
     "name": "#%%\n"
    }
   },
   "source": [
    "plt.figure(figsize=(10,10))  # have to set fig_size before plotting\n",
    "\n",
    "plotter.plot(regularizer_histories)\n",
    "plt.ylim([0.5, 0.7])"
   ],
   "execution_count": 40,
   "outputs": [
    {
     "data": {
      "text/plain": "(0.5, 0.7)"
     },
     "execution_count": 40,
     "metadata": {},
     "output_type": "execute_result"
    },
    {
     "data": {
      "text/plain": "<Figure size 720x720 with 1 Axes>",
      "image/png": "[encoded data removed]"
     },
     "metadata": {
      "needs_background": "light"
     },
     "output_type": "display_data"
    }
   ]
  },
  {
   "cell_type": "markdown",
   "metadata": {
    "id": "tE0OoNCQNTJv",
    "pycharm": {
     "name": "#%% md\n"
    }
   },
   "source": [
    "This model with the `\"Combined\"` regularization is obviously the best one so far."
   ]
  },
  {
   "cell_type": "markdown",
   "metadata": {
    "id": "mds5RXGjIcSu",
    "pycharm": {
     "name": "#%% md\n"
    }
   },
   "source": [
    "This was uploaded with:\n",
    "\n",
    "```\n",
    "!tensorboard dev upload --logdir  {logdir}/regularizers\n",
    "```"
   ]
  },
  {
   "cell_type": "markdown",
   "metadata": {
    "id": "uXJxtwBWIhjG",
    "pycharm": {
     "name": "#%% md\n"
    }
   },
   "source": [
    "## Conclusions"
   ]
  },
  {
   "cell_type": "markdown",
   "metadata": {
    "id": "gjfnkEeQyAFG",
    "pycharm": {
     "name": "#%% md\n"
    }
   },
   "source": [
    "To recap: here are the most common ways to prevent overfitting in neural networks:\n",
    "\n",
    "* Get more training data.\n",
    "* Reduce the capacity of the network.\n",
    "* Add weight regularization.\n",
    "* Add dropout.\n",
    "\n",
    "Two important approaches not covered in this guide are:\n",
    "\n",
    "* data-augmentation\n",
    "* batch normalization\n",
    "\n",
    "Remember that each method can help on its own, but often combining them can be even more effective."
   ]
  }
 ]
}