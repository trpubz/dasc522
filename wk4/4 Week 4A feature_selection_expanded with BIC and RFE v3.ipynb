{
 "nbformat": 4,
 "nbformat_minor": 0,
 "metadata": {
  "colab": {
   "name": "Week 4A feature_selection_expanded with BIC and RFE v3.ipynb",
   "provenance": []
  },
  "kernelspec": {
   "name": "python3",
   "display_name": "Python 3"
  }
 },
 "cells": [
  {
   "cell_type": "markdown",
   "metadata": {
    "id": "azJHXB9Om9nc",
    "pycharm": {
     "name": "#%% md\n"
    }
   },
   "source": [
    "Preamble"
   ]
  },
  {
   "cell_type": "code",
   "metadata": {
    "id": "vKXIh-f7m98h",
    "colab": {
     "base_uri": "https://localhost:8080/"
    },
    "executionInfo": {
     "status": "ok",
     "timestamp": 1637261959580,
     "user_tz": 600,
     "elapsed": 1556,
     "user": {
      "displayName": "Torrey Wagner",
      "photoUrl": "https://lh3.googleusercontent.com/a/default-user=s64",
      "userId": "18235062716651285949"
     }
    },
    "outputId": "be0f6123-49d4-4cf5-84f8-171bca3fcd08",
    "pycharm": {
     "name": "#%%\n"
    }
   },
   "source": [
    "# -*- coding: utf-8 -*-\n",
    "\n",
    "\n",
    "import numpy as np\n",
    "import matplotlib.pyplot as plt\n",
    "import pandas as pd\n",
    "pd.set_option('display.max_rows', 500)\n",
    "pd.set_option('display.max_columns', 500)\n",
    "pd.set_option('display.width', 1000)\n",
    "import scipy.stats as stats\n",
    "import seaborn as sns\n",
    "\n",
    "import statsmodels.api as sm\n",
    "\n",
    "\n",
    "\n",
    "# for regression\n",
    "import statsmodels.formula.api as smf\n",
    "from sklearn import datasets\n",
    "from statistics import mean\n",
    "\n"
   ],
   "execution_count": 1,
   "outputs": []
  },
  {
   "cell_type": "markdown",
   "metadata": {
    "id": "OYQ3EGUam-O5",
    "pycharm": {
     "name": "#%% md\n"
    }
   },
   "source": [
    "Read Data, DU"
   ]
  },
  {
   "cell_type": "code",
   "metadata": {
    "id": "B_au4KAHm-mg",
    "colab": {
     "base_uri": "https://localhost:8080/",
     "height": 1000
    },
    "executionInfo": {
     "status": "ok",
     "timestamp": 1637261959583,
     "user_tz": 600,
     "elapsed": 10,
     "user": {
      "displayName": "Torrey Wagner",
      "photoUrl": "https://lh3.googleusercontent.com/a/default-user=s64",
      "userId": "18235062716651285949"
     }
    },
    "outputId": "6a942353-8cde-4abd-841d-a002b165ff9f",
    "pycharm": {
     "name": "#%%\n"
    }
   },
   "source": [
    "#Read the data, modified USCrime data\n",
    "\n",
    "data=pd.read_csv('UScrime 2.csv')\n",
    "\n",
    "print(data.shape)\n",
    "print(list(data.columns))\n",
    "\n",
    "X = data.loc[:, data.columns != 'Crime']\n",
    "y = data.loc[:, data.columns == 'Crime']\n",
    "X = sm.add_constant(X)\n",
    "\n",
    "y"
   ],
   "execution_count": 2,
   "outputs": [
    {
     "name": "stdout",
     "output_type": "stream",
     "text": [
      "(47, 14)\n",
      "['M', 'So', 'Ed', 'Po1', 'LF', 'MF', 'Pop', 'NW', 'U1', 'Wealth', 'Ineq', 'Prob', 'Time', 'Crime']\n"
     ]
    },
    {
     "data": {
      "text/plain": "    Crime\n0     791\n1    1635\n2     578\n3    1969\n4    1234\n5     682\n6     963\n7    1555\n8     856\n9     705\n10   1674\n11    849\n12    511\n13    664\n14    798\n15    946\n16    539\n17    929\n18    750\n19   1225\n20    742\n21    439\n22   1216\n23    968\n24    523\n25   1993\n26    342\n27   1216\n28   1043\n29    696\n30    373\n31    754\n32   1072\n33    923\n34    653\n35   1272\n36    831\n37    566\n38    826\n39   1151\n40    880\n41    542\n42    823\n43   1030\n44    455\n45    508\n46    849",
      "text/html": "<div>\n<style scoped>\n    .dataframe tbody tr th:only-of-type {\n        vertical-align: middle;\n    }\n\n    .dataframe tbody tr th {\n        vertical-align: top;\n    }\n\n    .dataframe thead th {\n        text-align: right;\n    }\n</style>\n<table border=\"1\" class=\"dataframe\">\n  <thead>\n    <tr style=\"text-align: right;\">\n      <th></th>\n      <th>Crime</th>\n    </tr>\n  </thead>\n  <tbody>\n    <tr>\n      <th>0</th>\n      <td>791</td>\n    </tr>\n    <tr>\n      <th>1</th>\n      <td>1635</td>\n    </tr>\n    <tr>\n      <th>2</th>\n      <td>578</td>\n    </tr>\n    <tr>\n      <th>3</th>\n      <td>1969</td>\n    </tr>\n    <tr>\n      <th>4</th>\n      <td>1234</td>\n    </tr>\n    <tr>\n      <th>5</th>\n      <td>682</td>\n    </tr>\n    <tr>\n      <th>6</th>\n      <td>963</td>\n    </tr>\n    <tr>\n      <th>7</th>\n      <td>1555</td>\n    </tr>\n    <tr>\n      <th>8</th>\n      <td>856</td>\n    </tr>\n    <tr>\n      <th>9</th>\n      <td>705</td>\n    </tr>\n    <tr>\n      <th>10</th>\n      <td>1674</td>\n    </tr>\n    <tr>\n      <th>11</th>\n      <td>849</td>\n    </tr>\n    <tr>\n      <th>12</th>\n      <td>511</td>\n    </tr>\n    <tr>\n      <th>13</th>\n      <td>664</td>\n    </tr>\n    <tr>\n      <th>14</th>\n      <td>798</td>\n    </tr>\n    <tr>\n      <th>15</th>\n      <td>946</td>\n    </tr>\n    <tr>\n      <th>16</th>\n      <td>539</td>\n    </tr>\n    <tr>\n      <th>17</th>\n      <td>929</td>\n    </tr>\n    <tr>\n      <th>18</th>\n      <td>750</td>\n    </tr>\n    <tr>\n      <th>19</th>\n      <td>1225</td>\n    </tr>\n    <tr>\n      <th>20</th>\n      <td>742</td>\n    </tr>\n    <tr>\n      <th>21</th>\n      <td>439</td>\n    </tr>\n    <tr>\n      <th>22</th>\n      <td>1216</td>\n    </tr>\n    <tr>\n      <th>23</th>\n      <td>968</td>\n    </tr>\n    <tr>\n      <th>24</th>\n      <td>523</td>\n    </tr>\n    <tr>\n      <th>25</th>\n      <td>1993</td>\n    </tr>\n    <tr>\n      <th>26</th>\n      <td>342</td>\n    </tr>\n    <tr>\n      <th>27</th>\n      <td>1216</td>\n    </tr>\n    <tr>\n      <th>28</th>\n      <td>1043</td>\n    </tr>\n    <tr>\n      <th>29</th>\n      <td>696</td>\n    </tr>\n    <tr>\n      <th>30</th>\n      <td>373</td>\n    </tr>\n    <tr>\n      <th>31</th>\n      <td>754</td>\n    </tr>\n    <tr>\n      <th>32</th>\n      <td>1072</td>\n    </tr>\n    <tr>\n      <th>33</th>\n      <td>923</td>\n    </tr>\n    <tr>\n      <th>34</th>\n      <td>653</td>\n    </tr>\n    <tr>\n      <th>35</th>\n      <td>1272</td>\n    </tr>\n    <tr>\n      <th>36</th>\n      <td>831</td>\n    </tr>\n    <tr>\n      <th>37</th>\n      <td>566</td>\n    </tr>\n    <tr>\n      <th>38</th>\n      <td>826</td>\n    </tr>\n    <tr>\n      <th>39</th>\n      <td>1151</td>\n    </tr>\n    <tr>\n      <th>40</th>\n      <td>880</td>\n    </tr>\n    <tr>\n      <th>41</th>\n      <td>542</td>\n    </tr>\n    <tr>\n      <th>42</th>\n      <td>823</td>\n    </tr>\n    <tr>\n      <th>43</th>\n      <td>1030</td>\n    </tr>\n    <tr>\n      <th>44</th>\n      <td>455</td>\n    </tr>\n    <tr>\n      <th>45</th>\n      <td>508</td>\n    </tr>\n    <tr>\n      <th>46</th>\n      <td>849</td>\n    </tr>\n  </tbody>\n</table>\n</div>"
     },
     "execution_count": 2,
     "metadata": {},
     "output_type": "execute_result"
    }
   ]
  },
  {
   "cell_type": "markdown",
   "metadata": {
    "id": "RLzKPDBYdF_S",
    "pycharm": {
     "name": "#%% md\n"
    }
   },
   "source": [
    "DU2"
   ]
  },
  {
   "cell_type": "code",
   "metadata": {
    "id": "MVG6fuOYdGVo",
    "colab": {
     "base_uri": "https://localhost:8080/",
     "height": 1000
    },
    "executionInfo": {
     "status": "ok",
     "timestamp": 1637261959584,
     "user_tz": 600,
     "elapsed": 7,
     "user": {
      "displayName": "Torrey Wagner",
      "photoUrl": "https://lh3.googleusercontent.com/a/default-user=s64",
      "userId": "18235062716651285949"
     }
    },
    "outputId": "774b4cfe-9c19-439f-cfd5-6919a4d529f7",
    "pycharm": {
     "name": "#%%\n"
    }
   },
   "source": [
    "X"
   ],
   "execution_count": 3,
   "outputs": [
    {
     "data": {
      "text/plain": "    const     M  So    Ed   Po1     LF     MF  Pop    NW     U1  Wealth  Ineq      Prob     Time\n0     1.0  15.1   1   9.1   5.8  0.510   95.0   33  30.1  0.108    3940  26.1  0.084602  26.2011\n1     1.0  14.3   0  11.3  10.3  0.583  101.2   13  10.2  0.096    5570  19.4  0.029599  25.2999\n2     1.0  14.2   1   8.9   4.5  0.533   96.9   18  21.9  0.094    3180  25.0  0.083401  24.3006\n3     1.0  13.6   0  12.1  14.9  0.577   99.4  157   8.0  0.102    6730  16.7  0.015801  29.9012\n4     1.0  14.1   0  12.1  10.9  0.591   98.5   18   3.0  0.091    5780  17.4  0.041399  21.2998\n5     1.0  12.1   0  11.0  11.8  0.547   96.4   25   4.4  0.084    6890  12.6  0.034201  20.9995\n6     1.0  12.7   1  11.1   8.2  0.519   98.2    4  13.9  0.097    6200  16.8  0.042100  20.6993\n7     1.0  13.1   1  10.9  11.5  0.542   96.9   50  17.9  0.079    4720  20.6  0.040099  24.5988\n8     1.0  15.7   1   9.0   6.5  0.553   95.5   39  28.6  0.081    4210  23.9  0.071697  29.4001\n9     1.0  14.0   0  11.8   7.1  0.632  102.9    7   1.5  0.100    5260  17.4  0.044498  19.5994\n10    1.0  12.4   0  10.5  12.1  0.580   96.6  101  10.6  0.077    6570  17.0  0.016201  41.6000\n11    1.0  13.4   0  10.8   7.5  0.595   97.2   47   5.9  0.083    5800  17.2  0.031201  34.2984\n12    1.0  12.8   0  11.3   6.7  0.624   97.2   28   1.0  0.077    5070  20.6  0.045302  36.2993\n13    1.0  13.5   0  11.7   6.2  0.595   98.6   22   4.6  0.077    5290  19.0  0.053200  21.5010\n14    1.0  15.2   1   8.7   5.7  0.530   98.6   30   7.2  0.092    4050  26.4  0.069100  22.7008\n15    1.0  14.2   1   8.8   8.1  0.497   95.6   33  32.1  0.116    4270  24.7  0.052099  26.0991\n16    1.0  14.3   0  11.0   6.6  0.537   97.7   10   0.6  0.114    4870  16.6  0.076299  19.1002\n17    1.0  13.5   1  10.4  12.3  0.537   97.8   31  17.0  0.089    6310  16.5  0.119804  18.1996\n18    1.0  13.0   0  11.6  12.8  0.536   93.4   51   2.4  0.078    6270  13.5  0.019099  24.9008\n19    1.0  12.5   0  10.8  11.3  0.567   98.5   78   9.4  0.130    6260  16.6  0.034801  26.4010\n20    1.0  12.6   0  10.8   7.4  0.602   98.4   34   1.2  0.102    5570  19.5  0.022800  37.5998\n21    1.0  15.7   1   8.9   4.7  0.512   96.2   22  42.3  0.097    2880  27.6  0.089502  37.0994\n22    1.0  13.2   0   9.6   8.7  0.564   95.3   43   9.2  0.083    5130  22.7  0.030700  25.1989\n23    1.0  13.1   0  11.6   7.8  0.574  103.8    7   3.6  0.142    5400  17.6  0.041598  17.6000\n24    1.0  13.0   0  11.6   6.3  0.641   98.4   14   2.6  0.070    4860  19.6  0.069197  21.9003\n25    1.0  13.1   0  12.1  16.0  0.631  107.1    3   7.7  0.102    6740  15.2  0.041698  22.1005\n26    1.0  13.5   0  10.9   6.9  0.540   96.5    6   0.4  0.080    5640  13.9  0.036099  28.4999\n27    1.0  15.2   0  11.2   8.2  0.571  101.8   10   7.9  0.103    5370  21.5  0.038201  25.8006\n28    1.0  11.9   0  10.7  16.6  0.521   93.8  168   8.9  0.092    6370  15.4  0.023400  36.7009\n29    1.0  16.6   1   8.9   5.8  0.521   97.3   46  25.4  0.072    3960  23.7  0.075298  28.3011\n30    1.0  14.0   0   9.3   5.5  0.535  104.5    6   2.0  0.135    4530  20.0  0.041999  21.7998\n31    1.0  12.5   0  10.9   9.0  0.586   96.4   97   8.2  0.105    6170  16.3  0.042698  30.9014\n32    1.0  14.7   1  10.4   6.3  0.560   97.2   23   9.5  0.076    4620  23.3  0.049499  25.5005\n33    1.0  12.6   0  11.8   9.7  0.542   99.0   18   2.1  0.102    5890  16.6  0.040799  21.6997\n34    1.0  12.3   0  10.2   9.7  0.526   94.8  113   7.6  0.124    5720  15.8  0.020700  37.4011\n35    1.0  15.0   0  10.0  10.9  0.531   96.4    9   2.4  0.087    5590  15.3  0.006900  44.0004\n36    1.0  17.7   1   8.7   5.8  0.638   97.4   24  34.9  0.076    3820  25.4  0.045198  31.6995\n37    1.0  13.3   0  10.4   5.1  0.599  102.4    7   4.0  0.099    4250  22.5  0.053998  16.6999\n38    1.0  14.9   1   8.8   6.1  0.515   95.3   36  16.5  0.086    3950  25.1  0.047099  27.3004\n39    1.0  14.5   1  10.4   8.2  0.560   98.1   96  12.6  0.088    4880  22.8  0.038801  29.3004\n40    1.0  14.8   0  12.2   7.2  0.601   99.8    9   1.9  0.084    5900  14.4  0.025100  30.0001\n41    1.0  14.1   0  10.9   5.6  0.523   96.8    4   0.2  0.107    4890  17.0  0.088904  12.1996\n42    1.0  16.2   1   9.9   7.5  0.522   99.6   40  20.8  0.073    4960  22.4  0.054902  31.9989\n43    1.0  13.6   0  12.1   9.5  0.574  101.2   29   3.6  0.111    6220  16.2  0.028100  30.0001\n44    1.0  13.9   1   8.8   4.6  0.480   96.8   19   4.9  0.135    4570  24.9  0.056202  32.5996\n45    1.0  12.6   0  10.4  10.6  0.599   98.9   40   2.4  0.078    5930  17.1  0.046598  16.6999\n46    1.0  13.0   0  12.1   9.0  0.623  104.9    3   2.2  0.113    5880  16.0  0.052802  16.0997",
      "text/html": "<div>\n<style scoped>\n    .dataframe tbody tr th:only-of-type {\n        vertical-align: middle;\n    }\n\n    .dataframe tbody tr th {\n        vertical-align: top;\n    }\n\n    .dataframe thead th {\n        text-align: right;\n    }\n</style>\n<table border=\"1\" class=\"dataframe\">\n  <thead>\n    <tr style=\"text-align: right;\">\n      <th></th>\n      <th>const</th>\n      <th>M</th>\n      <th>So</th>\n      <th>Ed</th>\n      <th>Po1</th>\n      <th>LF</th>\n      <th>MF</th>\n      <th>Pop</th>\n      <th>NW</th>\n      <th>U1</th>\n      <th>Wealth</th>\n      <th>Ineq</th>\n      <th>Prob</th>\n      <th>Time</th>\n    </tr>\n  </thead>\n  <tbody>\n    <tr>\n      <th>0</th>\n      <td>1.0</td>\n      <td>15.1</td>\n      <td>1</td>\n      <td>9.1</td>\n      <td>5.8</td>\n      <td>0.510</td>\n      <td>95.0</td>\n      <td>33</td>\n      <td>30.1</td>\n      <td>0.108</td>\n      <td>3940</td>\n      <td>26.1</td>\n      <td>0.084602</td>\n      <td>26.2011</td>\n    </tr>\n    <tr>\n      <th>1</th>\n      <td>1.0</td>\n      <td>14.3</td>\n      <td>0</td>\n      <td>11.3</td>\n      <td>10.3</td>\n      <td>0.583</td>\n      <td>101.2</td>\n      <td>13</td>\n      <td>10.2</td>\n      <td>0.096</td>\n      <td>5570</td>\n      <td>19.4</td>\n      <td>0.029599</td>\n      <td>25.2999</td>\n    </tr>\n    <tr>\n      <th>2</th>\n      <td>1.0</td>\n      <td>14.2</td>\n      <td>1</td>\n      <td>8.9</td>\n      <td>4.5</td>\n      <td>0.533</td>\n      <td>96.9</td>\n      <td>18</td>\n      <td>21.9</td>\n      <td>0.094</td>\n      <td>3180</td>\n      <td>25.0</td>\n      <td>0.083401</td>\n      <td>24.3006</td>\n    </tr>\n    <tr>\n      <th>3</th>\n      <td>1.0</td>\n      <td>13.6</td>\n      <td>0</td>\n      <td>12.1</td>\n      <td>14.9</td>\n      <td>0.577</td>\n      <td>99.4</td>\n      <td>157</td>\n      <td>8.0</td>\n      <td>0.102</td>\n      <td>6730</td>\n      <td>16.7</td>\n      <td>0.015801</td>\n      <td>29.9012</td>\n    </tr>\n    <tr>\n      <th>4</th>\n      <td>1.0</td>\n      <td>14.1</td>\n      <td>0</td>\n      <td>12.1</td>\n      <td>10.9</td>\n      <td>0.591</td>\n      <td>98.5</td>\n      <td>18</td>\n      <td>3.0</td>\n      <td>0.091</td>\n      <td>5780</td>\n      <td>17.4</td>\n      <td>0.041399</td>\n      <td>21.2998</td>\n    </tr>\n    <tr>\n      <th>5</th>\n      <td>1.0</td>\n      <td>12.1</td>\n      <td>0</td>\n      <td>11.0</td>\n      <td>11.8</td>\n      <td>0.547</td>\n      <td>96.4</td>\n      <td>25</td>\n      <td>4.4</td>\n      <td>0.084</td>\n      <td>6890</td>\n      <td>12.6</td>\n      <td>0.034201</td>\n      <td>20.9995</td>\n    </tr>\n    <tr>\n      <th>6</th>\n      <td>1.0</td>\n      <td>12.7</td>\n      <td>1</td>\n      <td>11.1</td>\n      <td>8.2</td>\n      <td>0.519</td>\n      <td>98.2</td>\n      <td>4</td>\n      <td>13.9</td>\n      <td>0.097</td>\n      <td>6200</td>\n      <td>16.8</td>\n      <td>0.042100</td>\n      <td>20.6993</td>\n    </tr>\n    <tr>\n      <th>7</th>\n      <td>1.0</td>\n      <td>13.1</td>\n      <td>1</td>\n      <td>10.9</td>\n      <td>11.5</td>\n      <td>0.542</td>\n      <td>96.9</td>\n      <td>50</td>\n      <td>17.9</td>\n      <td>0.079</td>\n      <td>4720</td>\n      <td>20.6</td>\n      <td>0.040099</td>\n      <td>24.5988</td>\n    </tr>\n    <tr>\n      <th>8</th>\n      <td>1.0</td>\n      <td>15.7</td>\n      <td>1</td>\n      <td>9.0</td>\n      <td>6.5</td>\n      <td>0.553</td>\n      <td>95.5</td>\n      <td>39</td>\n      <td>28.6</td>\n      <td>0.081</td>\n      <td>4210</td>\n      <td>23.9</td>\n      <td>0.071697</td>\n      <td>29.4001</td>\n    </tr>\n    <tr>\n      <th>9</th>\n      <td>1.0</td>\n      <td>14.0</td>\n      <td>0</td>\n      <td>11.8</td>\n      <td>7.1</td>\n      <td>0.632</td>\n      <td>102.9</td>\n      <td>7</td>\n      <td>1.5</td>\n      <td>0.100</td>\n      <td>5260</td>\n      <td>17.4</td>\n      <td>0.044498</td>\n      <td>19.5994</td>\n    </tr>\n    <tr>\n      <th>10</th>\n      <td>1.0</td>\n      <td>12.4</td>\n      <td>0</td>\n      <td>10.5</td>\n      <td>12.1</td>\n      <td>0.580</td>\n      <td>96.6</td>\n      <td>101</td>\n      <td>10.6</td>\n      <td>0.077</td>\n      <td>6570</td>\n      <td>17.0</td>\n      <td>0.016201</td>\n      <td>41.6000</td>\n    </tr>\n    <tr>\n      <th>11</th>\n      <td>1.0</td>\n      <td>13.4</td>\n      <td>0</td>\n      <td>10.8</td>\n      <td>7.5</td>\n      <td>0.595</td>\n      <td>97.2</td>\n      <td>47</td>\n      <td>5.9</td>\n      <td>0.083</td>\n      <td>5800</td>\n      <td>17.2</td>\n      <td>0.031201</td>\n      <td>34.2984</td>\n    </tr>\n    <tr>\n      <th>12</th>\n      <td>1.0</td>\n      <td>12.8</td>\n      <td>0</td>\n      <td>11.3</td>\n      <td>6.7</td>\n      <td>0.624</td>\n      <td>97.2</td>\n      <td>28</td>\n      <td>1.0</td>\n      <td>0.077</td>\n      <td>5070</td>\n      <td>20.6</td>\n      <td>0.045302</td>\n      <td>36.2993</td>\n    </tr>\n    <tr>\n      <th>13</th>\n      <td>1.0</td>\n      <td>13.5</td>\n      <td>0</td>\n      <td>11.7</td>\n      <td>6.2</td>\n      <td>0.595</td>\n      <td>98.6</td>\n      <td>22</td>\n      <td>4.6</td>\n      <td>0.077</td>\n      <td>5290</td>\n      <td>19.0</td>\n      <td>0.053200</td>\n      <td>21.5010</td>\n    </tr>\n    <tr>\n      <th>14</th>\n      <td>1.0</td>\n      <td>15.2</td>\n      <td>1</td>\n      <td>8.7</td>\n      <td>5.7</td>\n      <td>0.530</td>\n      <td>98.6</td>\n      <td>30</td>\n      <td>7.2</td>\n      <td>0.092</td>\n      <td>4050</td>\n      <td>26.4</td>\n      <td>0.069100</td>\n      <td>22.7008</td>\n    </tr>\n    <tr>\n      <th>15</th>\n      <td>1.0</td>\n      <td>14.2</td>\n      <td>1</td>\n      <td>8.8</td>\n      <td>8.1</td>\n      <td>0.497</td>\n      <td>95.6</td>\n      <td>33</td>\n      <td>32.1</td>\n      <td>0.116</td>\n      <td>4270</td>\n      <td>24.7</td>\n      <td>0.052099</td>\n      <td>26.0991</td>\n    </tr>\n    <tr>\n      <th>16</th>\n      <td>1.0</td>\n      <td>14.3</td>\n      <td>0</td>\n      <td>11.0</td>\n      <td>6.6</td>\n      <td>0.537</td>\n      <td>97.7</td>\n      <td>10</td>\n      <td>0.6</td>\n      <td>0.114</td>\n      <td>4870</td>\n      <td>16.6</td>\n      <td>0.076299</td>\n      <td>19.1002</td>\n    </tr>\n    <tr>\n      <th>17</th>\n      <td>1.0</td>\n      <td>13.5</td>\n      <td>1</td>\n      <td>10.4</td>\n      <td>12.3</td>\n      <td>0.537</td>\n      <td>97.8</td>\n      <td>31</td>\n      <td>17.0</td>\n      <td>0.089</td>\n      <td>6310</td>\n      <td>16.5</td>\n      <td>0.119804</td>\n      <td>18.1996</td>\n    </tr>\n    <tr>\n      <th>18</th>\n      <td>1.0</td>\n      <td>13.0</td>\n      <td>0</td>\n      <td>11.6</td>\n      <td>12.8</td>\n      <td>0.536</td>\n      <td>93.4</td>\n      <td>51</td>\n      <td>2.4</td>\n      <td>0.078</td>\n      <td>6270</td>\n      <td>13.5</td>\n      <td>0.019099</td>\n      <td>24.9008</td>\n    </tr>\n    <tr>\n      <th>19</th>\n      <td>1.0</td>\n      <td>12.5</td>\n      <td>0</td>\n      <td>10.8</td>\n      <td>11.3</td>\n      <td>0.567</td>\n      <td>98.5</td>\n      <td>78</td>\n      <td>9.4</td>\n      <td>0.130</td>\n      <td>6260</td>\n      <td>16.6</td>\n      <td>0.034801</td>\n      <td>26.4010</td>\n    </tr>\n    <tr>\n      <th>20</th>\n      <td>1.0</td>\n      <td>12.6</td>\n      <td>0</td>\n      <td>10.8</td>\n      <td>7.4</td>\n      <td>0.602</td>\n      <td>98.4</td>\n      <td>34</td>\n      <td>1.2</td>\n      <td>0.102</td>\n      <td>5570</td>\n      <td>19.5</td>\n      <td>0.022800</td>\n      <td>37.5998</td>\n    </tr>\n    <tr>\n      <th>21</th>\n      <td>1.0</td>\n      <td>15.7</td>\n      <td>1</td>\n      <td>8.9</td>\n      <td>4.7</td>\n      <td>0.512</td>\n      <td>96.2</td>\n      <td>22</td>\n      <td>42.3</td>\n      <td>0.097</td>\n      <td>2880</td>\n      <td>27.6</td>\n      <td>0.089502</td>\n      <td>37.0994</td>\n    </tr>\n    <tr>\n      <th>22</th>\n      <td>1.0</td>\n      <td>13.2</td>\n      <td>0</td>\n      <td>9.6</td>\n      <td>8.7</td>\n      <td>0.564</td>\n      <td>95.3</td>\n      <td>43</td>\n      <td>9.2</td>\n      <td>0.083</td>\n      <td>5130</td>\n      <td>22.7</td>\n      <td>0.030700</td>\n      <td>25.1989</td>\n    </tr>\n    <tr>\n      <th>23</th>\n      <td>1.0</td>\n      <td>13.1</td>\n      <td>0</td>\n      <td>11.6</td>\n      <td>7.8</td>\n      <td>0.574</td>\n      <td>103.8</td>\n      <td>7</td>\n      <td>3.6</td>\n      <td>0.142</td>\n      <td>5400</td>\n      <td>17.6</td>\n      <td>0.041598</td>\n      <td>17.6000</td>\n    </tr>\n    <tr>\n      <th>24</th>\n      <td>1.0</td>\n      <td>13.0</td>\n      <td>0</td>\n      <td>11.6</td>\n      <td>6.3</td>\n      <td>0.641</td>\n      <td>98.4</td>\n      <td>14</td>\n      <td>2.6</td>\n      <td>0.070</td>\n      <td>4860</td>\n      <td>19.6</td>\n      <td>0.069197</td>\n      <td>21.9003</td>\n    </tr>\n    <tr>\n      <th>25</th>\n      <td>1.0</td>\n      <td>13.1</td>\n      <td>0</td>\n      <td>12.1</td>\n      <td>16.0</td>\n      <td>0.631</td>\n      <td>107.1</td>\n      <td>3</td>\n      <td>7.7</td>\n      <td>0.102</td>\n      <td>6740</td>\n      <td>15.2</td>\n      <td>0.041698</td>\n      <td>22.1005</td>\n    </tr>\n    <tr>\n      <th>26</th>\n      <td>1.0</td>\n      <td>13.5</td>\n      <td>0</td>\n      <td>10.9</td>\n      <td>6.9</td>\n      <td>0.540</td>\n      <td>96.5</td>\n      <td>6</td>\n      <td>0.4</td>\n      <td>0.080</td>\n      <td>5640</td>\n      <td>13.9</td>\n      <td>0.036099</td>\n      <td>28.4999</td>\n    </tr>\n    <tr>\n      <th>27</th>\n      <td>1.0</td>\n      <td>15.2</td>\n      <td>0</td>\n      <td>11.2</td>\n      <td>8.2</td>\n      <td>0.571</td>\n      <td>101.8</td>\n      <td>10</td>\n      <td>7.9</td>\n      <td>0.103</td>\n      <td>5370</td>\n      <td>21.5</td>\n      <td>0.038201</td>\n      <td>25.8006</td>\n    </tr>\n    <tr>\n      <th>28</th>\n      <td>1.0</td>\n      <td>11.9</td>\n      <td>0</td>\n      <td>10.7</td>\n      <td>16.6</td>\n      <td>0.521</td>\n      <td>93.8</td>\n      <td>168</td>\n      <td>8.9</td>\n      <td>0.092</td>\n      <td>6370</td>\n      <td>15.4</td>\n      <td>0.023400</td>\n      <td>36.7009</td>\n    </tr>\n    <tr>\n      <th>29</th>\n      <td>1.0</td>\n      <td>16.6</td>\n      <td>1</td>\n      <td>8.9</td>\n      <td>5.8</td>\n      <td>0.521</td>\n      <td>97.3</td>\n      <td>46</td>\n      <td>25.4</td>\n      <td>0.072</td>\n      <td>3960</td>\n      <td>23.7</td>\n      <td>0.075298</td>\n      <td>28.3011</td>\n    </tr>\n    <tr>\n      <th>30</th>\n      <td>1.0</td>\n      <td>14.0</td>\n      <td>0</td>\n      <td>9.3</td>\n      <td>5.5</td>\n      <td>0.535</td>\n      <td>104.5</td>\n      <td>6</td>\n      <td>2.0</td>\n      <td>0.135</td>\n      <td>4530</td>\n      <td>20.0</td>\n      <td>0.041999</td>\n      <td>21.7998</td>\n    </tr>\n    <tr>\n      <th>31</th>\n      <td>1.0</td>\n      <td>12.5</td>\n      <td>0</td>\n      <td>10.9</td>\n      <td>9.0</td>\n      <td>0.586</td>\n      <td>96.4</td>\n      <td>97</td>\n      <td>8.2</td>\n      <td>0.105</td>\n      <td>6170</td>\n      <td>16.3</td>\n      <td>0.042698</td>\n      <td>30.9014</td>\n    </tr>\n    <tr>\n      <th>32</th>\n      <td>1.0</td>\n      <td>14.7</td>\n      <td>1</td>\n      <td>10.4</td>\n      <td>6.3</td>\n      <td>0.560</td>\n      <td>97.2</td>\n      <td>23</td>\n      <td>9.5</td>\n      <td>0.076</td>\n      <td>4620</td>\n      <td>23.3</td>\n      <td>0.049499</td>\n      <td>25.5005</td>\n    </tr>\n    <tr>\n      <th>33</th>\n      <td>1.0</td>\n      <td>12.6</td>\n      <td>0</td>\n      <td>11.8</td>\n      <td>9.7</td>\n      <td>0.542</td>\n      <td>99.0</td>\n      <td>18</td>\n      <td>2.1</td>\n      <td>0.102</td>\n      <td>5890</td>\n      <td>16.6</td>\n      <td>0.040799</td>\n      <td>21.6997</td>\n    </tr>\n    <tr>\n      <th>34</th>\n      <td>1.0</td>\n      <td>12.3</td>\n      <td>0</td>\n      <td>10.2</td>\n      <td>9.7</td>\n      <td>0.526</td>\n      <td>94.8</td>\n      <td>113</td>\n      <td>7.6</td>\n      <td>0.124</td>\n      <td>5720</td>\n      <td>15.8</td>\n      <td>0.020700</td>\n      <td>37.4011</td>\n    </tr>\n    <tr>\n      <th>35</th>\n      <td>1.0</td>\n      <td>15.0</td>\n      <td>0</td>\n      <td>10.0</td>\n      <td>10.9</td>\n      <td>0.531</td>\n      <td>96.4</td>\n      <td>9</td>\n      <td>2.4</td>\n      <td>0.087</td>\n      <td>5590</td>\n      <td>15.3</td>\n      <td>0.006900</td>\n      <td>44.0004</td>\n    </tr>\n    <tr>\n      <th>36</th>\n      <td>1.0</td>\n      <td>17.7</td>\n      <td>1</td>\n      <td>8.7</td>\n      <td>5.8</td>\n      <td>0.638</td>\n      <td>97.4</td>\n      <td>24</td>\n      <td>34.9</td>\n      <td>0.076</td>\n      <td>3820</td>\n      <td>25.4</td>\n      <td>0.045198</td>\n      <td>31.6995</td>\n    </tr>\n    <tr>\n      <th>37</th>\n      <td>1.0</td>\n      <td>13.3</td>\n      <td>0</td>\n      <td>10.4</td>\n      <td>5.1</td>\n      <td>0.599</td>\n      <td>102.4</td>\n      <td>7</td>\n      <td>4.0</td>\n      <td>0.099</td>\n      <td>4250</td>\n      <td>22.5</td>\n      <td>0.053998</td>\n      <td>16.6999</td>\n    </tr>\n    <tr>\n      <th>38</th>\n      <td>1.0</td>\n      <td>14.9</td>\n      <td>1</td>\n      <td>8.8</td>\n      <td>6.1</td>\n      <td>0.515</td>\n      <td>95.3</td>\n      <td>36</td>\n      <td>16.5</td>\n      <td>0.086</td>\n      <td>3950</td>\n      <td>25.1</td>\n      <td>0.047099</td>\n      <td>27.3004</td>\n    </tr>\n    <tr>\n      <th>39</th>\n      <td>1.0</td>\n      <td>14.5</td>\n      <td>1</td>\n      <td>10.4</td>\n      <td>8.2</td>\n      <td>0.560</td>\n      <td>98.1</td>\n      <td>96</td>\n      <td>12.6</td>\n      <td>0.088</td>\n      <td>4880</td>\n      <td>22.8</td>\n      <td>0.038801</td>\n      <td>29.3004</td>\n    </tr>\n    <tr>\n      <th>40</th>\n      <td>1.0</td>\n      <td>14.8</td>\n      <td>0</td>\n      <td>12.2</td>\n      <td>7.2</td>\n      <td>0.601</td>\n      <td>99.8</td>\n      <td>9</td>\n      <td>1.9</td>\n      <td>0.084</td>\n      <td>5900</td>\n      <td>14.4</td>\n      <td>0.025100</td>\n      <td>30.0001</td>\n    </tr>\n    <tr>\n      <th>41</th>\n      <td>1.0</td>\n      <td>14.1</td>\n      <td>0</td>\n      <td>10.9</td>\n      <td>5.6</td>\n      <td>0.523</td>\n      <td>96.8</td>\n      <td>4</td>\n      <td>0.2</td>\n      <td>0.107</td>\n      <td>4890</td>\n      <td>17.0</td>\n      <td>0.088904</td>\n      <td>12.1996</td>\n    </tr>\n    <tr>\n      <th>42</th>\n      <td>1.0</td>\n      <td>16.2</td>\n      <td>1</td>\n      <td>9.9</td>\n      <td>7.5</td>\n      <td>0.522</td>\n      <td>99.6</td>\n      <td>40</td>\n      <td>20.8</td>\n      <td>0.073</td>\n      <td>4960</td>\n      <td>22.4</td>\n      <td>0.054902</td>\n      <td>31.9989</td>\n    </tr>\n    <tr>\n      <th>43</th>\n      <td>1.0</td>\n      <td>13.6</td>\n      <td>0</td>\n      <td>12.1</td>\n      <td>9.5</td>\n      <td>0.574</td>\n      <td>101.2</td>\n      <td>29</td>\n      <td>3.6</td>\n      <td>0.111</td>\n      <td>6220</td>\n      <td>16.2</td>\n      <td>0.028100</td>\n      <td>30.0001</td>\n    </tr>\n    <tr>\n      <th>44</th>\n      <td>1.0</td>\n      <td>13.9</td>\n      <td>1</td>\n      <td>8.8</td>\n      <td>4.6</td>\n      <td>0.480</td>\n      <td>96.8</td>\n      <td>19</td>\n      <td>4.9</td>\n      <td>0.135</td>\n      <td>4570</td>\n      <td>24.9</td>\n      <td>0.056202</td>\n      <td>32.5996</td>\n    </tr>\n    <tr>\n      <th>45</th>\n      <td>1.0</td>\n      <td>12.6</td>\n      <td>0</td>\n      <td>10.4</td>\n      <td>10.6</td>\n      <td>0.599</td>\n      <td>98.9</td>\n      <td>40</td>\n      <td>2.4</td>\n      <td>0.078</td>\n      <td>5930</td>\n      <td>17.1</td>\n      <td>0.046598</td>\n      <td>16.6999</td>\n    </tr>\n    <tr>\n      <th>46</th>\n      <td>1.0</td>\n      <td>13.0</td>\n      <td>0</td>\n      <td>12.1</td>\n      <td>9.0</td>\n      <td>0.623</td>\n      <td>104.9</td>\n      <td>3</td>\n      <td>2.2</td>\n      <td>0.113</td>\n      <td>5880</td>\n      <td>16.0</td>\n      <td>0.052802</td>\n      <td>16.0997</td>\n    </tr>\n  </tbody>\n</table>\n</div>"
     },
     "execution_count": 3,
     "metadata": {},
     "output_type": "execute_result"
    }
   ]
  },
  {
   "cell_type": "markdown",
   "metadata": {
    "id": "UfzLqsjueDFf",
    "pycharm": {
     "name": "#%% md\n"
    }
   },
   "source": [
    "Create LR model"
   ]
  },
  {
   "cell_type": "code",
   "metadata": {
    "id": "ru2CNr2FeDmd",
    "colab": {
     "base_uri": "https://localhost:8080/"
    },
    "executionInfo": {
     "status": "ok",
     "timestamp": 1637261959795,
     "user_tz": 600,
     "elapsed": 217,
     "user": {
      "displayName": "Torrey Wagner",
      "photoUrl": "https://lh3.googleusercontent.com/a/default-user=s64",
      "userId": "18235062716651285949"
     }
    },
    "outputId": "a65b59f3-1c3d-4210-ffc5-f873c31c4786",
    "pycharm": {
     "name": "#%%\n"
    }
   },
   "source": [
    "model = smf.ols('y ~ M + So + Ed + Po1 + LF + MF + Pop + NW + U1 + Wealth + Ineq + Prob + Time', data=data).fit()\n",
    "\n",
    "# model = smf.ols('y ~ M + Ed + Po1 + Wealth + Ineq + Prob ', data=data).fit()\n",
    "\n",
    "predictions = model.predict(X) \n",
    "\n",
    "print_model = model.summary()\n",
    "print(print_model)\n"
   ],
   "execution_count": 4,
   "outputs": [
    {
     "name": "stdout",
     "output_type": "stream",
     "text": [
      "                            OLS Regression Results                            \n",
      "==============================================================================\n",
      "Dep. Variable:                      y   R-squared:                       0.771\n",
      "Model:                            OLS   Adj. R-squared:                  0.680\n",
      "Method:                 Least Squares   F-statistic:                     8.531\n",
      "Date:                Tue, 25 Oct 2022   Prob (F-statistic):           3.35e-07\n",
      "Time:                        09:29:24   Log-Likelihood:                -311.59\n",
      "No. Observations:                  47   AIC:                             651.2\n",
      "Df Residuals:                      33   BIC:                             677.1\n",
      "Df Model:                          13                                         \n",
      "Covariance Type:            nonrobust                                         \n",
      "==============================================================================\n",
      "                 coef    std err          t      P>|t|      [0.025      0.975]\n",
      "------------------------------------------------------------------------------\n",
      "Intercept  -5627.8024   1599.428     -3.519      0.001   -8881.863   -2373.742\n",
      "M             74.9407     42.904      1.747      0.090     -12.349     162.231\n",
      "So            73.9595    151.290      0.489      0.628    -233.842     381.761\n",
      "Ed           137.7124     60.489      2.277      0.029      14.647     260.778\n",
      "Po1          110.4275     24.055      4.591      0.000      61.488     159.367\n",
      "LF          -111.4634   1473.114     -0.076      0.940   -3108.537    2885.610\n",
      "MF            10.8372     20.935      0.518      0.608     -31.756      53.431\n",
      "Pop           -0.8847      1.347     -0.657      0.516      -3.624       1.855\n",
      "NW             2.0489      6.481      0.316      0.754     -11.137      15.235\n",
      "U1          1286.1019   2751.251      0.467      0.643   -4311.361    6883.565\n",
      "Wealth         0.1243      0.107      1.163      0.253      -0.093       0.342\n",
      "Ineq          77.2199     23.538      3.281      0.002      29.331     125.108\n",
      "Prob       -4307.8857   2288.867     -1.882      0.069   -8964.620     348.848\n",
      "Time           0.5168      6.964      0.074      0.941     -13.651      14.685\n",
      "==============================================================================\n",
      "Omnibus:                        0.359   Durbin-Watson:                   1.877\n",
      "Prob(Omnibus):                  0.836   Jarque-Bera (JB):                0.085\n",
      "Skew:                           0.102   Prob(JB):                        0.958\n",
      "Kurtosis:                       3.048   Cond. No.                     4.93e+05\n",
      "==============================================================================\n",
      "\n",
      "Notes:\n",
      "[1] Standard Errors assume that the covariance matrix of the errors is correctly specified.\n",
      "[2] The condition number is large, 4.93e+05. This might indicate that there are\n",
      "strong multicollinearity or other numerical problems.\n"
     ]
    }
   ]
  },
  {
   "cell_type": "markdown",
   "metadata": {
    "id": "qH2Yym7lm-1I",
    "pycharm": {
     "name": "#%% md\n"
    }
   },
   "source": [
    "Model 1"
   ]
  },
  {
   "cell_type": "code",
   "metadata": {
    "id": "HM6q8BRPm_Ex",
    "colab": {
     "base_uri": "https://localhost:8080/"
    },
    "executionInfo": {
     "status": "ok",
     "timestamp": 1637261960209,
     "user_tz": 600,
     "elapsed": 416,
     "user": {
      "displayName": "Torrey Wagner",
      "photoUrl": "https://lh3.googleusercontent.com/a/default-user=s64",
      "userId": "18235062716651285949"
     }
    },
    "outputId": "a489e3ec-65bf-4c24-acc9-2be70b30ed98",
    "pycharm": {
     "name": "#%%\n"
    }
   },
   "source": [
    "###  Build Every Possible Model\n",
    "from itertools import chain, combinations\n",
    "\n",
    "def powerset(iterable):\n",
    "    s = list(iterable)\n",
    "    return chain.from_iterable(combinations(s, r) for r in range(1, len(s)+1))\n",
    "    \n",
    "mylist = list(powerset(list(X.columns)))\n",
    "mylist = [list(row) for row in mylist]\n",
    "\n",
    "# print(mylist)"
   ],
   "execution_count": 5,
   "outputs": []
  },
  {
   "cell_type": "markdown",
   "metadata": {
    "id": "6Z8qLUxim_Sw",
    "pycharm": {
     "name": "#%% md\n"
    }
   },
   "source": [
    "Analysis - AIC & BIC"
   ]
  },
  {
   "cell_type": "code",
   "metadata": {
    "id": "NVVNNakBm_hA",
    "colab": {
     "base_uri": "https://localhost:8080/"
    },
    "executionInfo": {
     "status": "ok",
     "timestamp": 1637262006520,
     "user_tz": 600,
     "elapsed": 46313,
     "user": {
      "displayName": "Torrey Wagner",
      "photoUrl": "https://lh3.googleusercontent.com/a/default-user=s64",
      "userId": "18235062716651285949"
     }
    },
    "outputId": "5890dac1-3396-49a2-8e5e-1bf95ce66c26",
    "pycharm": {
     "name": "#%%\n"
    }
   },
   "source": [
    "##Target is AIC\n",
    "AIC_scores = pd.DataFrame(columns=[\"AIC\"])\n",
    "for i in range(len(mylist)):\n",
    "    AIC_scores.loc[i,'AIC'] = sm.OLS(y, X[mylist[i]]).fit().aic\n",
    "    \n",
    "print(AIC_scores.sort_values(by='AIC').head(50))\n",
    "\n",
    "\n",
    "\n",
    "#             AIC\n",
    "# 6885   641.154\n",
    "# 6851   641.208\n",
    "# 10456  641.235\n",
    "# 3670   641.464\n",
    "# 10476  641.626\n",
    "\n",
    "mylist[6885]\n",
    "\n",
    "\n",
    "# Out[6]: ['const', 'M', 'Ed', 'Po1', 'Wealth', 'Ineq', 'Prob']\n",
    "# mylist[6851]\n",
    "# Out[7]: ['const', 'M', 'Ed', 'Po1', 'M.F', 'Ineq', 'Prob']\n",
    "# mylist[10456]\n",
    "# Out[8]: ['const', 'M', 'Ed', 'Po1', 'M.F', 'Wealth', 'Ineq', 'Prob']\n",
    "# mylist[3670]\n",
    "# Out[9]: ['const', 'M', 'Ed', 'Po1', 'Ineq', 'Prob']\n",
    "# mylist[10476]\n",
    "# Out[10]: ['const', 'M', 'Ed', 'Po1', 'Pop', 'Wealth', 'Ineq', 'Prob']"
   ],
   "execution_count": 6,
   "outputs": [
    {
     "name": "stdout",
     "output_type": "stream",
     "text": [
      "              AIC\n",
      "6885   641.154019\n",
      "6851   641.208208\n",
      "10456  641.234922\n",
      "3670   641.464089\n",
      "10476  641.625969\n",
      "10490  641.747416\n",
      "9953   641.901572\n",
      "6882   642.080454\n",
      "6866   642.203606\n",
      "13487   642.33324\n",
      "12997  642.392071\n",
      "13403  642.709831\n",
      "13458   642.71347\n",
      "10494  642.762143\n",
      "10387  642.790646\n",
      "13468  642.802548\n",
      "9987   642.859279\n",
      "13472  642.872565\n",
      "6508   642.887943\n",
      "10437  642.900955\n",
      "10447  642.924106\n",
      "10473  642.924342\n",
      "10453  642.926521\n",
      "10486  643.062153\n",
      "10421  643.077095\n",
      "9984   643.144028\n",
      "13031  643.182549\n",
      "6888   643.197646\n",
      "10459  643.202476\n",
      "13476  643.228289\n",
      "13017  643.307414\n",
      "13483  643.378767\n",
      "6830   643.438288\n",
      "6876   643.443306\n",
      "13423   643.48619\n",
      "12994  643.534199\n",
      "13497  643.563481\n",
      "9968   643.579194\n",
      "13491  643.598637\n",
      "13492  643.606223\n",
      "12978  643.683443\n",
      "13437   643.74283\n",
      "15027  643.748692\n",
      "12928  643.810233\n",
      "12988  643.859224\n",
      "3667   643.869284\n",
      "13000  643.884315\n",
      "7313   643.915414\n",
      "13014  643.942974\n",
      "15012  643.962165\n"
     ]
    },
    {
     "data": {
      "text/plain": "['const', 'M', 'Ed', 'Po1', 'Wealth', 'Ineq', 'Prob']"
     },
     "execution_count": 6,
     "metadata": {},
     "output_type": "execute_result"
    }
   ]
  },
  {
   "cell_type": "markdown",
   "metadata": {
    "id": "a7UA9XnNFH9t",
    "pycharm": {
     "name": "#%% md\n"
    }
   },
   "source": [
    "BIC analysis"
   ]
  },
  {
   "cell_type": "code",
   "metadata": {
    "id": "SMd-CZqBFJUU",
    "colab": {
     "base_uri": "https://localhost:8080/"
    },
    "executionInfo": {
     "status": "ok",
     "timestamp": 1637262053627,
     "user_tz": 600,
     "elapsed": 47117,
     "user": {
      "displayName": "Torrey Wagner",
      "photoUrl": "https://lh3.googleusercontent.com/a/default-user=s64",
      "userId": "18235062716651285949"
     }
    },
    "outputId": "057acb54-4264-40bc-b764-703b509ed435",
    "pycharm": {
     "name": "#%%\n"
    }
   },
   "source": [
    "##Target is BIC\n",
    "BIC_scores = pd.DataFrame(columns=[\"BIC\"])\n",
    "for i in range(len(mylist)):\n",
    "    BIC_scores.loc[i,'BIC']=sm.OLS(y,X[mylist[i]]).fit().bic\n",
    "    \n",
    "print(BIC_scores.sort_values(by='BIC').head(50))\n",
    "\n",
    "mylist[3670]\n",
    "#            BIC\n",
    "# 3670   652.565\n",
    "# 6885   654.105\n",
    "# 6851   654.159\n",
    "# 3667    654.97\n",
    "# 1531   655.001\n",
    "# 6882   655.031\n",
    "# 1888   655.102"
   ],
   "execution_count": 7,
   "outputs": [
    {
     "name": "stdout",
     "output_type": "stream",
     "text": [
      "              BIC\n",
      "3670   652.564975\n",
      "6885   654.105052\n",
      "6851   654.159242\n",
      "3667    654.97017\n",
      "1531   655.001055\n",
      "6882   655.031488\n",
      "1888   655.101803\n",
      "6866   655.154639\n",
      "6508   655.838977\n",
      "4343   655.863344\n",
      "10456  656.036103\n",
      "6888   656.148679\n",
      "596    656.315076\n",
      "6830   656.389322\n",
      "6876   656.394339\n",
      "10476  656.427149\n",
      "4358   656.460394\n",
      "10490  656.548597\n",
      "9953   656.702753\n",
      "7313   656.866448\n",
      "2021    656.93272\n",
      "3649   657.123511\n",
      "3803    657.23914\n",
      "4000   657.277194\n",
      "6848   657.408707\n",
      "10494  657.563324\n",
      "10387  657.591827\n",
      "6879   657.594302\n",
      "9987    657.66046\n",
      "3664   657.677603\n",
      "7807   657.697269\n",
      "10437  657.702136\n",
      "1867   657.711666\n",
      "10447  657.725286\n",
      "10473  657.725523\n",
      "10453  657.727701\n",
      "4368   657.830389\n",
      "10486  657.863334\n",
      "3671   657.866332\n",
      "10421  657.878276\n",
      "9984   657.945208\n",
      "10459  658.003656\n",
      "7102   658.250627\n",
      "4377   658.273079\n",
      "4344    658.34211\n",
      "6886   658.364068\n",
      "6863   658.376542\n",
      "9968   658.380375\n",
      "3660   658.473752\n",
      "6852   658.493749\n"
     ]
    },
    {
     "data": {
      "text/plain": "['const', 'M', 'Ed', 'Po1', 'Ineq', 'Prob']"
     },
     "execution_count": 7,
     "metadata": {},
     "output_type": "execute_result"
    }
   ]
  },
  {
   "cell_type": "code",
   "metadata": {
    "id": "tJwQdtx5saui",
    "colab": {
     "base_uri": "https://localhost:8080/"
    },
    "executionInfo": {
     "status": "ok",
     "timestamp": 1637262053628,
     "user_tz": 600,
     "elapsed": 14,
     "user": {
      "displayName": "Torrey Wagner",
      "photoUrl": "https://lh3.googleusercontent.com/a/default-user=s64",
      "userId": "18235062716651285949"
     }
    },
    "outputId": "4981f1b3-fc81-48b5-9469-9f07ae5438fa",
    "pycharm": {
     "name": "#%%\n"
    }
   },
   "source": [
    "print(len(mylist))\n",
    "mylist[3670]"
   ],
   "execution_count": 8,
   "outputs": [
    {
     "name": "stdout",
     "output_type": "stream",
     "text": [
      "16383\n"
     ]
    },
    {
     "data": {
      "text/plain": "['const', 'M', 'Ed', 'Po1', 'Ineq', 'Prob']"
     },
     "execution_count": 8,
     "metadata": {},
     "output_type": "execute_result"
    }
   ]
  },
  {
   "cell_type": "markdown",
   "metadata": {
    "id": "QNKwvaMiKAtA",
    "pycharm": {
     "name": "#%% md\n"
    }
   },
   "source": [
    "Stepwise Selection - Select K-best - **only for classification tasks**"
   ]
  },
  {
   "cell_type": "code",
   "metadata": {
    "id": "nedN-wxSKE3A",
    "colab": {
     "base_uri": "https://localhost:8080/"
    },
    "executionInfo": {
     "status": "ok",
     "timestamp": 1637262053941,
     "user_tz": 600,
     "elapsed": 324,
     "user": {
      "displayName": "Torrey Wagner",
      "photoUrl": "https://lh3.googleusercontent.com/a/default-user=s64",
      "userId": "18235062716651285949"
     }
    },
    "outputId": "4c3919f4-9ec2-4a40-9dd1-b78d390d820c",
    "pycharm": {
     "name": "#%%\n"
    }
   },
   "source": [
    "#### Select K Best\n",
    "from sklearn.feature_selection import SelectKBest\n",
    "from sklearn.feature_selection import f_regression\n",
    "\n",
    "# feature extraction\n",
    "test = SelectKBest(score_func=f_regression, k=7)\n",
    "fit = test.fit(X, y)\n",
    "\n",
    "# summarize scores\n",
    "np.set_printoptions(precision=3)\n",
    "print(fit.scores_)\n",
    "features = fit.transform(X)\n",
    "\n",
    "\n",
    "# summarize selected features\n",
    "print(features[0:5,:])\n",
    "\n",
    "#Selected Ed, Po1, LF, MF, NW, Wealth, prob\n",
    "\n"
   ],
   "execution_count": 9,
   "outputs": [
    {
     "name": "stdout",
     "output_type": "stream",
     "text": [
      "[ 0.     0.363  0.373  5.236 40.357  1.665  2.158  5.784  0.048  0.115\n",
      " 10.884  1.49  10.059  1.034]\n",
      "[[9.100e+00 5.800e+00 5.100e-01 9.500e+01 3.300e+01 3.940e+03 8.460e-02]\n",
      " [1.130e+01 1.030e+01 5.830e-01 1.012e+02 1.300e+01 5.570e+03 2.960e-02]\n",
      " [8.900e+00 4.500e+00 5.330e-01 9.690e+01 1.800e+01 3.180e+03 8.340e-02]\n",
      " [1.210e+01 1.490e+01 5.770e-01 9.940e+01 1.570e+02 6.730e+03 1.580e-02]\n",
      " [1.210e+01 1.090e+01 5.910e-01 9.850e+01 1.800e+01 5.780e+03 4.140e-02]]\n"
     ]
    },
    {
     "name": "stderr",
     "output_type": "stream",
     "text": [
      "/usr/local/lib/python3.10/site-packages/sklearn/utils/validation.py:1111: DataConversionWarning: A column-vector y was passed when a 1d array was expected. Please change the shape of y to (n_samples, ), for example using ravel().\n",
      "  y = column_or_1d(y, warn=True)\n"
     ]
    }
   ]
  },
  {
   "cell_type": "markdown",
   "metadata": {
    "id": "IDUmC4YOKR3i",
    "pycharm": {
     "name": "#%% md\n"
    }
   },
   "source": [
    "Recursive Feature Elimination"
   ]
  },
  {
   "cell_type": "code",
   "metadata": {
    "id": "uXw6cZVXKUVE",
    "colab": {
     "base_uri": "https://localhost:8080/"
    },
    "executionInfo": {
     "status": "ok",
     "timestamp": 1637262508568,
     "user_tz": 600,
     "elapsed": 318,
     "user": {
      "displayName": "Torrey Wagner",
      "photoUrl": "https://lh3.googleusercontent.com/a/default-user=s64",
      "userId": "18235062716651285949"
     }
    },
    "outputId": "4d049f89-4bb5-447e-8ceb-fbfa970baad0",
    "pycharm": {
     "name": "#%%\n"
    }
   },
   "source": [
    "###  Recursive Feature Elimination\n",
    "\n",
    "from sklearn.feature_selection import RFE\n",
    "from sklearn import linear_model\n",
    "\n",
    "model = linear_model.LinearRegression()\n",
    "numberOfFeaturesToSelect = 5\n",
    "\n",
    "# rfe = RFE(model, numberOfFeaturesToSelect)\n",
    "rfe = RFE(estimator=model, n_features_to_select=numberOfFeaturesToSelect)\n",
    "fit = rfe.fit(X, y)\n",
    "\n",
    "f = fit.get_support(1) #the most important features\n",
    "# final_features = data[data.columns[f]] # final features: this gives wrong results\n",
    "final_features = X[X.columns[f]] # final features\n",
    "\n",
    "print(\"Num Features: %d\" % fit.n_features_)\n",
    "print(\"Selected Features: %s\" % final_features.columns)\n",
    "print(\"Score: %2.3f\" % fit.score(X,y))\n",
    "\n",
    "print(\"----------\")\n",
    "\n",
    "#Selected 'Ed', 'LF', 'MF', 'Wealth', 'Time'\n",
    "\n",
    "# summarize all features\n",
    "for i in range(X.shape[1]):\n",
    "\tprint('Column: %d, %s, Selected %s, Rank: %.3f' % (i, X.columns.values[i],rfe.support_[i], rfe.ranking_[i]))\n",
    " "
   ],
   "execution_count": 10,
   "outputs": [
    {
     "name": "stdout",
     "output_type": "stream",
     "text": [
      "Num Features: 5\n",
      "Selected Features: Index(['So', 'Po1', 'LF', 'U1', 'Prob'], dtype='object')\n",
      "Score: 0.617\n",
      "----------\n",
      "Column: 0, const, Selected False, Rank: 10.000\n",
      "Column: 1, M, Selected False, Rank: 2.000\n",
      "Column: 2, So, Selected True, Rank: 1.000\n",
      "Column: 3, Ed, Selected False, Rank: 3.000\n",
      "Column: 4, Po1, Selected True, Rank: 1.000\n",
      "Column: 5, LF, Selected True, Rank: 1.000\n",
      "Column: 6, MF, Selected False, Rank: 5.000\n",
      "Column: 7, Pop, Selected False, Rank: 7.000\n",
      "Column: 8, NW, Selected False, Rank: 8.000\n",
      "Column: 9, U1, Selected True, Rank: 1.000\n",
      "Column: 10, Wealth, Selected False, Rank: 9.000\n",
      "Column: 11, Ineq, Selected False, Rank: 4.000\n",
      "Column: 12, Prob, Selected True, Rank: 1.000\n",
      "Column: 13, Time, Selected False, Rank: 6.000\n"
     ]
    }
   ]
  },
  {
   "cell_type": "markdown",
   "metadata": {
    "id": "39GtGn2RSWwA",
    "pycharm": {
     "name": "#%% md\n"
    }
   },
   "source": [
    "Model the result"
   ]
  },
  {
   "cell_type": "code",
   "metadata": {
    "id": "UVAVdTIqSYs3",
    "colab": {
     "base_uri": "https://localhost:8080/"
    },
    "executionInfo": {
     "status": "ok",
     "timestamp": 1637262534494,
     "user_tz": 600,
     "elapsed": 231,
     "user": {
      "displayName": "Torrey Wagner",
      "photoUrl": "https://lh3.googleusercontent.com/a/default-user=s64",
      "userId": "18235062716651285949"
     }
    },
    "outputId": "e6d62740-7259-43a1-89a8-87fc8ec2c5b3",
    "pycharm": {
     "name": "#%%\n"
    }
   },
   "source": [
    "# model = smf.ols('y ~ Prob', data=data).fit()  # best 1\n",
    "# model = smf.ols('y ~ Prob + U1', data=data).fit()   # best 2\n",
    "model = smf.ols('y ~ So + Po1 + LF + U1 + Prob', data=data).fit()   # best 5\n",
    "\n",
    "predictions = model.predict(X) \n",
    "\n",
    "print_model = model.summary()\n",
    "print(print_model)"
   ],
   "execution_count": 11,
   "outputs": [
    {
     "name": "stdout",
     "output_type": "stream",
     "text": [
      "                            OLS Regression Results                            \n",
      "==============================================================================\n",
      "Dep. Variable:                      y   R-squared:                       0.617\n",
      "Model:                            OLS   Adj. R-squared:                  0.570\n",
      "Method:                 Least Squares   F-statistic:                     13.21\n",
      "Date:                Tue, 25 Oct 2022   Prob (F-statistic):           1.10e-07\n",
      "Time:                        09:30:01   Log-Likelihood:                -323.65\n",
      "No. Observations:                  47   AIC:                             659.3\n",
      "Df Residuals:                      41   BIC:                             670.4\n",
      "Df Model:                           5                                         \n",
      "Covariance Type:            nonrobust                                         \n",
      "==============================================================================\n",
      "                 coef    std err          t      P>|t|      [0.025      0.975]\n",
      "------------------------------------------------------------------------------\n",
      "Intercept  -1821.4528    823.695     -2.211      0.033   -3484.939    -157.967\n",
      "So           412.3869    113.208      3.643      0.001     183.758     641.016\n",
      "Po1           92.7308     14.639      6.334      0.000      63.166     122.295\n",
      "LF          3089.4166   1166.624      2.648      0.011     733.372    5445.462\n",
      "U1          3017.8994   2303.403      1.310      0.197   -1633.918    7669.717\n",
      "Prob       -4755.1898   2075.866     -2.291      0.027   -8947.487    -562.893\n",
      "==============================================================================\n",
      "Omnibus:                        0.025   Durbin-Watson:                   2.169\n",
      "Prob(Omnibus):                  0.988   Jarque-Bera (JB):                0.136\n",
      "Skew:                           0.050   Prob(JB):                        0.934\n",
      "Kurtosis:                       2.757   Cond. No.                         598.\n",
      "==============================================================================\n",
      "\n",
      "Notes:\n",
      "[1] Standard Errors assume that the covariance matrix of the errors is correctly specified.\n"
     ]
    }
   ]
  },
  {
   "cell_type": "markdown",
   "metadata": {
    "id": "aK8rouYPMTCA",
    "pycharm": {
     "name": "#%% md\n"
    }
   },
   "source": [
    "RFE iteration"
   ]
  },
  {
   "cell_type": "code",
   "execution_count": 12,
   "outputs": [
    {
     "name": "stdout",
     "output_type": "stream",
     "text": [
      "\n",
      "Search the best k features for k = 1 to 12\n",
      "\n",
      "Num Features: 1\n",
      "Selected Features: Index(['Prob'], dtype='object')\n",
      "Score: 0.18\n",
      "----------\n",
      "Num Features: 2\n",
      "Selected Features: Index(['U1', 'Prob'], dtype='object')\n",
      "Score: 0.19\n",
      "----------\n",
      "Num Features: 3\n",
      "Selected Features: Index(['LF', 'U1', 'Prob'], dtype='object')\n",
      "Score: 0.19\n",
      "----------\n",
      "Num Features: 4\n",
      "Selected Features: Index(['So', 'LF', 'U1', 'Prob'], dtype='object')\n",
      "Score: 0.24\n",
      "----------\n",
      "Num Features: 5\n",
      "Selected Features: Index(['So', 'Po1', 'LF', 'U1', 'Prob'], dtype='object')\n",
      "Score: 0.62\n",
      "----------\n",
      "Num Features: 6\n",
      "Selected Features: Index(['M', 'So', 'Po1', 'LF', 'U1', 'Prob'], dtype='object')\n",
      "Score: 0.66\n",
      "----------\n",
      "Num Features: 7\n",
      "Selected Features: Index(['M', 'So', 'Ed', 'Po1', 'LF', 'U1', 'Prob'], dtype='object')\n",
      "Score: 0.68\n",
      "----------\n",
      "Num Features: 8\n",
      "Selected Features: Index(['M', 'So', 'Ed', 'Po1', 'LF', 'U1', 'Ineq', 'Prob'], dtype='object')\n",
      "Score: 0.75\n",
      "----------\n",
      "Num Features: 9\n",
      "Selected Features: Index(['M', 'So', 'Ed', 'Po1', 'LF', 'MF', 'U1', 'Ineq', 'Prob'], dtype='object')\n",
      "Score: 0.76\n",
      "----------\n",
      "Num Features: 10\n",
      "Selected Features: Index(['M', 'So', 'Ed', 'Po1', 'LF', 'MF', 'U1', 'Ineq', 'Prob', 'Time'], dtype='object')\n",
      "Score: 0.76\n",
      "----------\n",
      "Num Features: 11\n",
      "Selected Features: Index(['M', 'So', 'Ed', 'Po1', 'LF', 'MF', 'Pop', 'U1', 'Ineq', 'Prob', 'Time'], dtype='object')\n",
      "Score: 0.76\n",
      "----------\n"
     ]
    }
   ],
   "source": [
    "model = linear_model.LinearRegression()\n",
    "\n",
    "print(\"\\nSearch the best k features for k = 1 to 12\\n\")\n",
    "\n",
    "for k in range(1, 12):\n",
    "  # rfe = RFE(model, k)\n",
    "  rfe = RFE(estimator=model, n_features_to_select=k)\n",
    "\n",
    "  fit = rfe.fit(X, y) \n",
    "\n",
    "  f = fit.get_support(1) #the most important features\n",
    "\n",
    "  # final_features = data[data.columns[f]] # final features: this gives wrong results\n",
    "  final_features = X[X.columns[f]] # final features\n",
    "\n",
    "  print(\"Num Features: %d\" % fit.n_features_)\n",
    "  print(\"Selected Features: %s\" % final_features.columns)\n",
    "  print(\"Score: %2.2f\" % fit.score(X, y))\n",
    "  print(\"----------\")"
   ],
   "metadata": {
    "collapsed": false,
    "pycharm": {
     "name": "#%%\n"
    }
   }
  },
  {
   "cell_type": "code",
   "execution_count": 12,
   "outputs": [],
   "source": [],
   "metadata": {
    "collapsed": false,
    "pycharm": {
     "name": "#%%\n"
    }
   }
  }
 ]
}
