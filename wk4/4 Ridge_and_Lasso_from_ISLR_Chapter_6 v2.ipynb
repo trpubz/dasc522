{
 "nbformat": 4,
 "nbformat_minor": 0,
 "metadata": {
  "kernelspec": {
   "display_name": "Python 3",
   "language": "python",
   "name": "python3"
  },
  "language_info": {
   "codemirror_mode": {
    "name": "ipython",
    "version": 3
   },
   "file_extension": ".py",
   "mimetype": "text/x-python",
   "name": "python",
   "nbconvert_exporter": "python",
   "pygments_lexer": "ipython3",
   "version": "3.6.5"
  },
  "colab": {
   "name": "Ridge_and_Lasso_from_ISLR_Chapter_6 v2.ipynb",
   "provenance": [],
   "collapsed_sections": [
    "vJcUqk1IoiKJ",
    "cOWBjIGuoiKL"
   ]
  }
 },
 "cells": [
  {
   "cell_type": "markdown",
   "metadata": {
    "id": "VinZLFVaoiIb",
    "pycharm": {
     "name": "#%% md\n"
    }
   },
   "source": [
    "# ISR Chapter 6 - Linear Model Selection and Regularization  \n",
    "from syllabus reference"
   ]
  },
  {
   "cell_type": "markdown",
   "metadata": {
    "id": "eTANpxJFoiIb",
    "pycharm": {
     "name": "#%% md\n"
    }
   },
   "source": [
    "- [Lab 2: Ridge Regression](#6.6.1-Ridge-Regression)\n",
    "- [Lab 2: The Lasso](#6.6.2-The-Lasso)\n",
    "- [Lab 3: Principal Components Regression](#6.7.1-Principal-Components-Regression)\n",
    "- [Lab 3: Partial Least Squares](#6.7.2-Partial-Least-Squares)"
   ]
  },
  {
   "cell_type": "code",
   "metadata": {
    "id": "jJSh5QpPoiIc",
    "executionInfo": {
     "status": "ok",
     "timestamp": 1637262641085,
     "user_tz": 600,
     "elapsed": 1,
     "user": {
      "displayName": "Torrey Wagner",
      "photoUrl": "https://lh3.googleusercontent.com/a/default-user=s64",
      "userId": "18235062716651285949"
     }
    },
    "pycharm": {
     "name": "#%%\n"
    }
   },
   "source": [
    "# %load ../standard_import.txt\n",
    "import pandas as pd\n",
    "import numpy as np\n",
    "import matplotlib.pyplot as plt\n",
    "import seaborn as sns\n",
    "\n",
    "# import glmnet as gln\n",
    "\n",
    "from sklearn.preprocessing import scale \n",
    "from sklearn import model_selection\n",
    "from sklearn.linear_model import LinearRegression, Ridge, RidgeCV, Lasso, LassoCV\n",
    "from sklearn.decomposition import PCA\n",
    "from sklearn.cross_decomposition import PLSRegression\n",
    "from sklearn.model_selection import KFold, cross_val_score\n",
    "from sklearn.metrics import mean_squared_error\n",
    "\n",
    "%matplotlib inline\n",
    "plt.style.use('seaborn-white')"
   ],
   "execution_count": 1,
   "outputs": []
  },
  {
   "cell_type": "markdown",
   "metadata": {
    "id": "ucViMWiMoiIf",
    "pycharm": {
     "name": "#%% md\n"
    }
   },
   "source": [
    "# Ridge regression"
   ]
  },
  {
   "cell_type": "markdown",
   "metadata": {
    "id": "WVtEEAc2Hub2",
    "pycharm": {
     "name": "#%% md\n"
    }
   },
   "source": [
    "DU"
   ]
  },
  {
   "cell_type": "code",
   "metadata": {
    "id": "iD9_2l0PoiIf",
    "colab": {
     "base_uri": "https://localhost:8080/"
    },
    "executionInfo": {
     "status": "ok",
     "timestamp": 1637262641745,
     "user_tz": 600,
     "elapsed": 253,
     "user": {
      "displayName": "Torrey Wagner",
      "photoUrl": "https://lh3.googleusercontent.com/a/default-user=s64",
      "userId": "18235062716651285949"
     }
    },
    "outputId": "e3f08aa5-eb77-4b9d-9606-b4fa00b99e12",
    "pycharm": {
     "name": "#%%\n"
    }
   },
   "source": [
    "# In R, I exported the dataset from package 'ISLR' to a csv file.\n",
    "df = pd.read_csv('Hitters datasets/Hitters.csv', index_col=0).dropna()\n",
    "df.index.name = 'Player'\n",
    "\n",
    "df.info()\n",
    "print('\\n----------\\n')\n",
    "df.shape\n",
    "\n"
   ],
   "execution_count": 2,
   "outputs": [
    {
     "name": "stdout",
     "output_type": "stream",
     "text": [
      "<class 'pandas.core.frame.DataFrame'>\n",
      "Index: 263 entries, -Alan Ashby to -Willie Wilson\n",
      "Data columns (total 20 columns):\n",
      " #   Column     Non-Null Count  Dtype  \n",
      "---  ------     --------------  -----  \n",
      " 0   AtBat      263 non-null    int64  \n",
      " 1   Hits       263 non-null    int64  \n",
      " 2   HmRun      263 non-null    int64  \n",
      " 3   Runs       263 non-null    int64  \n",
      " 4   RBI        263 non-null    int64  \n",
      " 5   Walks      263 non-null    int64  \n",
      " 6   Years      263 non-null    int64  \n",
      " 7   CAtBat     263 non-null    int64  \n",
      " 8   CHits      263 non-null    int64  \n",
      " 9   CHmRun     263 non-null    int64  \n",
      " 10  CRuns      263 non-null    int64  \n",
      " 11  CRBI       263 non-null    int64  \n",
      " 12  CWalks     263 non-null    int64  \n",
      " 13  League     263 non-null    object \n",
      " 14  Division   263 non-null    object \n",
      " 15  PutOuts    263 non-null    int64  \n",
      " 16  Assists    263 non-null    int64  \n",
      " 17  Errors     263 non-null    int64  \n",
      " 18  Salary     263 non-null    float64\n",
      " 19  NewLeague  263 non-null    object \n",
      "dtypes: float64(1), int64(16), object(3)\n",
      "memory usage: 43.1+ KB\n",
      "\n",
      "----------\n",
      "\n"
     ]
    },
    {
     "data": {
      "text/plain": "(263, 20)"
     },
     "execution_count": 2,
     "metadata": {},
     "output_type": "execute_result"
    }
   ]
  },
  {
   "cell_type": "markdown",
   "metadata": {
    "id": "KLxMIvW5Ia6x",
    "pycharm": {
     "name": "#%% md\n"
    }
   },
   "source": [
    "DU2"
   ]
  },
  {
   "cell_type": "code",
   "metadata": {
    "id": "K6BrfoYYoiIi",
    "colab": {
     "base_uri": "https://localhost:8080/",
     "height": 340
    },
    "executionInfo": {
     "status": "ok",
     "timestamp": 1637262641746,
     "user_tz": 600,
     "elapsed": 10,
     "user": {
      "displayName": "Torrey Wagner",
      "photoUrl": "https://lh3.googleusercontent.com/a/default-user=s64",
      "userId": "18235062716651285949"
     }
    },
    "outputId": "49ebd389-7fab-4e77-c438-6c8a7fdacd05",
    "pycharm": {
     "name": "#%%\n"
    }
   },
   "source": [
    "df.head()"
   ],
   "execution_count": 3,
   "outputs": [
    {
     "data": {
      "text/plain": "                   AtBat  Hits  HmRun  Runs  RBI  Walks  Years  CAtBat  CHits  \\\nPlayer                                                                          \n-Alan Ashby          315    81      7    24   38     39     14    3449    835   \n-Alvin Davis         479   130     18    66   72     76      3    1624    457   \n-Andre Dawson        496   141     20    65   78     37     11    5628   1575   \n-Andres Galarraga    321    87     10    39   42     30      2     396    101   \n-Alfredo Griffin     594   169      4    74   51     35     11    4408   1133   \n\n                   CHmRun  CRuns  CRBI  CWalks League Division  PutOuts  \\\nPlayer                                                                    \n-Alan Ashby            69    321   414     375      N        W      632   \n-Alvin Davis           63    224   266     263      A        W      880   \n-Andre Dawson         225    828   838     354      N        E      200   \n-Andres Galarraga      12     48    46      33      N        E      805   \n-Alfredo Griffin       19    501   336     194      A        W      282   \n\n                   Assists  Errors  Salary NewLeague  \nPlayer                                                \n-Alan Ashby             43      10   475.0         N  \n-Alvin Davis            82      14   480.0         A  \n-Andre Dawson           11       3   500.0         N  \n-Andres Galarraga       40       4    91.5         N  \n-Alfredo Griffin       421      25   750.0         A  ",
      "text/html": "<div>\n<style scoped>\n    .dataframe tbody tr th:only-of-type {\n        vertical-align: middle;\n    }\n\n    .dataframe tbody tr th {\n        vertical-align: top;\n    }\n\n    .dataframe thead th {\n        text-align: right;\n    }\n</style>\n<table border=\"1\" class=\"dataframe\">\n  <thead>\n    <tr style=\"text-align: right;\">\n      <th></th>\n      <th>AtBat</th>\n      <th>Hits</th>\n      <th>HmRun</th>\n      <th>Runs</th>\n      <th>RBI</th>\n      <th>Walks</th>\n      <th>Years</th>\n      <th>CAtBat</th>\n      <th>CHits</th>\n      <th>CHmRun</th>\n      <th>CRuns</th>\n      <th>CRBI</th>\n      <th>CWalks</th>\n      <th>League</th>\n      <th>Division</th>\n      <th>PutOuts</th>\n      <th>Assists</th>\n      <th>Errors</th>\n      <th>Salary</th>\n      <th>NewLeague</th>\n    </tr>\n    <tr>\n      <th>Player</th>\n      <th></th>\n      <th></th>\n      <th></th>\n      <th></th>\n      <th></th>\n      <th></th>\n      <th></th>\n      <th></th>\n      <th></th>\n      <th></th>\n      <th></th>\n      <th></th>\n      <th></th>\n      <th></th>\n      <th></th>\n      <th></th>\n      <th></th>\n      <th></th>\n      <th></th>\n      <th></th>\n    </tr>\n  </thead>\n  <tbody>\n    <tr>\n      <th>-Alan Ashby</th>\n      <td>315</td>\n      <td>81</td>\n      <td>7</td>\n      <td>24</td>\n      <td>38</td>\n      <td>39</td>\n      <td>14</td>\n      <td>3449</td>\n      <td>835</td>\n      <td>69</td>\n      <td>321</td>\n      <td>414</td>\n      <td>375</td>\n      <td>N</td>\n      <td>W</td>\n      <td>632</td>\n      <td>43</td>\n      <td>10</td>\n      <td>475.0</td>\n      <td>N</td>\n    </tr>\n    <tr>\n      <th>-Alvin Davis</th>\n      <td>479</td>\n      <td>130</td>\n      <td>18</td>\n      <td>66</td>\n      <td>72</td>\n      <td>76</td>\n      <td>3</td>\n      <td>1624</td>\n      <td>457</td>\n      <td>63</td>\n      <td>224</td>\n      <td>266</td>\n      <td>263</td>\n      <td>A</td>\n      <td>W</td>\n      <td>880</td>\n      <td>82</td>\n      <td>14</td>\n      <td>480.0</td>\n      <td>A</td>\n    </tr>\n    <tr>\n      <th>-Andre Dawson</th>\n      <td>496</td>\n      <td>141</td>\n      <td>20</td>\n      <td>65</td>\n      <td>78</td>\n      <td>37</td>\n      <td>11</td>\n      <td>5628</td>\n      <td>1575</td>\n      <td>225</td>\n      <td>828</td>\n      <td>838</td>\n      <td>354</td>\n      <td>N</td>\n      <td>E</td>\n      <td>200</td>\n      <td>11</td>\n      <td>3</td>\n      <td>500.0</td>\n      <td>N</td>\n    </tr>\n    <tr>\n      <th>-Andres Galarraga</th>\n      <td>321</td>\n      <td>87</td>\n      <td>10</td>\n      <td>39</td>\n      <td>42</td>\n      <td>30</td>\n      <td>2</td>\n      <td>396</td>\n      <td>101</td>\n      <td>12</td>\n      <td>48</td>\n      <td>46</td>\n      <td>33</td>\n      <td>N</td>\n      <td>E</td>\n      <td>805</td>\n      <td>40</td>\n      <td>4</td>\n      <td>91.5</td>\n      <td>N</td>\n    </tr>\n    <tr>\n      <th>-Alfredo Griffin</th>\n      <td>594</td>\n      <td>169</td>\n      <td>4</td>\n      <td>74</td>\n      <td>51</td>\n      <td>35</td>\n      <td>11</td>\n      <td>4408</td>\n      <td>1133</td>\n      <td>19</td>\n      <td>501</td>\n      <td>336</td>\n      <td>194</td>\n      <td>A</td>\n      <td>W</td>\n      <td>282</td>\n      <td>421</td>\n      <td>25</td>\n      <td>750.0</td>\n      <td>A</td>\n    </tr>\n  </tbody>\n</table>\n</div>"
     },
     "execution_count": 3,
     "metadata": {},
     "output_type": "execute_result"
    }
   ]
  },
  {
   "cell_type": "markdown",
   "metadata": {
    "id": "GbeldS8hI4Jh",
    "pycharm": {
     "name": "#%% md\n"
    }
   },
   "source": [
    "\"getdummies\" exploration"
   ]
  },
  {
   "cell_type": "code",
   "metadata": {
    "id": "aePZqDaAI6ZO",
    "colab": {
     "base_uri": "https://localhost:8080/"
    },
    "executionInfo": {
     "status": "ok",
     "timestamp": 1637262641746,
     "user_tz": 600,
     "elapsed": 9,
     "user": {
      "displayName": "Torrey Wagner",
      "photoUrl": "https://lh3.googleusercontent.com/a/default-user=s64",
      "userId": "18235062716651285949"
     }
    },
    "outputId": "d8bb6bce-7efe-4592-e552-6fc9190f86d4",
    "pycharm": {
     "name": "#%%\n"
    }
   },
   "source": [
    "con = pd.Series(list('abchjrba'))\n",
    "print(con)\n",
    "print('\\n----------\\n')\n",
    "print(pd.get_dummies(con))"
   ],
   "execution_count": 4,
   "outputs": [
    {
     "name": "stdout",
     "output_type": "stream",
     "text": [
      "0    a\n",
      "1    b\n",
      "2    c\n",
      "3    h\n",
      "4    j\n",
      "5    r\n",
      "6    b\n",
      "7    a\n",
      "dtype: object\n",
      "\n",
      "----------\n",
      "\n",
      "   a  b  c  h  j  r\n",
      "0  1  0  0  0  0  0\n",
      "1  0  1  0  0  0  0\n",
      "2  0  0  1  0  0  0\n",
      "3  0  0  0  1  0  0\n",
      "4  0  0  0  0  1  0\n",
      "5  0  0  0  0  0  1\n",
      "6  0  1  0  0  0  0\n",
      "7  1  0  0  0  0  0\n"
     ]
    }
   ]
  },
  {
   "cell_type": "markdown",
   "metadata": {
    "id": "ie6VFqtofbqc",
    "pycharm": {
     "name": "#%% md\n"
    }
   },
   "source": [
    "DP1"
   ]
  },
  {
   "cell_type": "code",
   "metadata": {
    "id": "ce2P47_KoiIk",
    "colab": {
     "base_uri": "https://localhost:8080/"
    },
    "executionInfo": {
     "status": "ok",
     "timestamp": 1637262641746,
     "user_tz": 600,
     "elapsed": 7,
     "user": {
      "displayName": "Torrey Wagner",
      "photoUrl": "https://lh3.googleusercontent.com/a/default-user=s64",
      "userId": "18235062716651285949"
     }
    },
    "outputId": "e4e53973-138c-499d-9871-6dfd5a8d0430",
    "pycharm": {
     "name": "#%%\n"
    }
   },
   "source": [
    "dummies = pd.get_dummies(df[['League', 'Division', 'NewLeague']])\n",
    "dummies.info()\n",
    "\n",
    "print('\\n----------\\n')\n",
    "\n",
    "print(dummies.head())\n",
    "\n",
    "print('\\n----------\\n')\n",
    "\n",
    "print(dummies)"
   ],
   "execution_count": 5,
   "outputs": [
    {
     "name": "stdout",
     "output_type": "stream",
     "text": [
      "<class 'pandas.core.frame.DataFrame'>\n",
      "Index: 263 entries, -Alan Ashby to -Willie Wilson\n",
      "Data columns (total 6 columns):\n",
      " #   Column       Non-Null Count  Dtype\n",
      "---  ------       --------------  -----\n",
      " 0   League_A     263 non-null    uint8\n",
      " 1   League_N     263 non-null    uint8\n",
      " 2   Division_E   263 non-null    uint8\n",
      " 3   Division_W   263 non-null    uint8\n",
      " 4   NewLeague_A  263 non-null    uint8\n",
      " 5   NewLeague_N  263 non-null    uint8\n",
      "dtypes: uint8(6)\n",
      "memory usage: 3.6+ KB\n",
      "\n",
      "----------\n",
      "\n",
      "                   League_A  League_N  Division_E  Division_W  NewLeague_A  \\\n",
      "Player                                                                       \n",
      "-Alan Ashby               0         1           0           1            0   \n",
      "-Alvin Davis              1         0           0           1            1   \n",
      "-Andre Dawson             0         1           1           0            0   \n",
      "-Andres Galarraga         0         1           1           0            0   \n",
      "-Alfredo Griffin          1         0           0           1            1   \n",
      "\n",
      "                   NewLeague_N  \n",
      "Player                          \n",
      "-Alan Ashby                  1  \n",
      "-Alvin Davis                 0  \n",
      "-Andre Dawson                1  \n",
      "-Andres Galarraga            1  \n",
      "-Alfredo Griffin             0  \n",
      "\n",
      "----------\n",
      "\n",
      "                   League_A  League_N  Division_E  Division_W  NewLeague_A  \\\n",
      "Player                                                                       \n",
      "-Alan Ashby               0         1           0           1            0   \n",
      "-Alvin Davis              1         0           0           1            1   \n",
      "-Andre Dawson             0         1           1           0            0   \n",
      "-Andres Galarraga         0         1           1           0            0   \n",
      "-Alfredo Griffin          1         0           0           1            1   \n",
      "...                     ...       ...         ...         ...          ...   \n",
      "-Willie McGee             0         1           1           0            0   \n",
      "-Willie Randolph          1         0           1           0            1   \n",
      "-Wayne Tolleson           1         0           0           1            1   \n",
      "-Willie Upshaw            1         0           1           0            1   \n",
      "-Willie Wilson            1         0           0           1            1   \n",
      "\n",
      "                   NewLeague_N  \n",
      "Player                          \n",
      "-Alan Ashby                  1  \n",
      "-Alvin Davis                 0  \n",
      "-Andre Dawson                1  \n",
      "-Andres Galarraga            1  \n",
      "-Alfredo Griffin             0  \n",
      "...                        ...  \n",
      "-Willie McGee                1  \n",
      "-Willie Randolph             0  \n",
      "-Wayne Tolleson              0  \n",
      "-Willie Upshaw               0  \n",
      "-Willie Wilson               0  \n",
      "\n",
      "[263 rows x 6 columns]\n"
     ]
    }
   ]
  },
  {
   "cell_type": "markdown",
   "metadata": {
    "id": "vlkIhw1hJndM",
    "pycharm": {
     "name": "#%% md\n"
    }
   },
   "source": [
    "DP2"
   ]
  },
  {
   "cell_type": "code",
   "metadata": {
    "id": "L-YRBG7moiIm",
    "colab": {
     "base_uri": "https://localhost:8080/"
    },
    "executionInfo": {
     "status": "ok",
     "timestamp": 1637262641747,
     "user_tz": 600,
     "elapsed": 7,
     "user": {
      "displayName": "Torrey Wagner",
      "photoUrl": "https://lh3.googleusercontent.com/a/default-user=s64",
      "userId": "18235062716651285949"
     }
    },
    "outputId": "bfd14571-5ac7-466b-ec55-d60aa0a53024",
    "pycharm": {
     "name": "#%%\n"
    }
   },
   "source": [
    "y = df.Salary\n",
    "print(y)\n",
    "\n",
    "print('\\n----------\\n')\n",
    "\n",
    "# Drop the column with the independent variable (Salary), and columns for which we created dummy variables\n",
    "X_ = df.drop(['Salary', 'League', 'Division', 'NewLeague'], axis=1).astype('float64')\n",
    "# Define the feature set X.\n",
    "X = pd.concat([X_, dummies[['League_N', 'Division_W', 'NewLeague_N']]], axis=1)\n",
    "X.info()"
   ],
   "execution_count": 6,
   "outputs": [
    {
     "name": "stdout",
     "output_type": "stream",
     "text": [
      "Player\n",
      "-Alan Ashby           475.0\n",
      "-Alvin Davis          480.0\n",
      "-Andre Dawson         500.0\n",
      "-Andres Galarraga      91.5\n",
      "-Alfredo Griffin      750.0\n",
      "                      ...  \n",
      "-Willie McGee         700.0\n",
      "-Willie Randolph      875.0\n",
      "-Wayne Tolleson       385.0\n",
      "-Willie Upshaw        960.0\n",
      "-Willie Wilson       1000.0\n",
      "Name: Salary, Length: 263, dtype: float64\n",
      "\n",
      "----------\n",
      "\n",
      "<class 'pandas.core.frame.DataFrame'>\n",
      "Index: 263 entries, -Alan Ashby to -Willie Wilson\n",
      "Data columns (total 19 columns):\n",
      " #   Column       Non-Null Count  Dtype  \n",
      "---  ------       --------------  -----  \n",
      " 0   AtBat        263 non-null    float64\n",
      " 1   Hits         263 non-null    float64\n",
      " 2   HmRun        263 non-null    float64\n",
      " 3   Runs         263 non-null    float64\n",
      " 4   RBI          263 non-null    float64\n",
      " 5   Walks        263 non-null    float64\n",
      " 6   Years        263 non-null    float64\n",
      " 7   CAtBat       263 non-null    float64\n",
      " 8   CHits        263 non-null    float64\n",
      " 9   CHmRun       263 non-null    float64\n",
      " 10  CRuns        263 non-null    float64\n",
      " 11  CRBI         263 non-null    float64\n",
      " 12  CWalks       263 non-null    float64\n",
      " 13  PutOuts      263 non-null    float64\n",
      " 14  Assists      263 non-null    float64\n",
      " 15  Errors       263 non-null    float64\n",
      " 16  League_N     263 non-null    uint8  \n",
      " 17  Division_W   263 non-null    uint8  \n",
      " 18  NewLeague_N  263 non-null    uint8  \n",
      "dtypes: float64(16), uint8(3)\n",
      "memory usage: 35.7+ KB\n"
     ]
    }
   ]
  },
  {
   "cell_type": "markdown",
   "metadata": {
    "id": "T-HkLMkPfg9i",
    "pycharm": {
     "name": "#%% md\n"
    }
   },
   "source": [
    "DU3"
   ]
  },
  {
   "cell_type": "code",
   "metadata": {
    "id": "ftLyBN08oiIo",
    "colab": {
     "base_uri": "https://localhost:8080/",
     "height": 340
    },
    "executionInfo": {
     "status": "ok",
     "timestamp": 1637262642072,
     "user_tz": 600,
     "elapsed": 330,
     "user": {
      "displayName": "Torrey Wagner",
      "photoUrl": "https://lh3.googleusercontent.com/a/default-user=s64",
      "userId": "18235062716651285949"
     }
    },
    "outputId": "9528eb8b-0c38-47fd-a1d9-ecaec2ccf0f1",
    "pycharm": {
     "name": "#%%\n"
    }
   },
   "source": [
    "X.head(5)"
   ],
   "execution_count": 7,
   "outputs": [
    {
     "data": {
      "text/plain": "                   AtBat   Hits  HmRun  Runs   RBI  Walks  Years  CAtBat  \\\nPlayer                                                                     \n-Alan Ashby        315.0   81.0    7.0  24.0  38.0   39.0   14.0  3449.0   \n-Alvin Davis       479.0  130.0   18.0  66.0  72.0   76.0    3.0  1624.0   \n-Andre Dawson      496.0  141.0   20.0  65.0  78.0   37.0   11.0  5628.0   \n-Andres Galarraga  321.0   87.0   10.0  39.0  42.0   30.0    2.0   396.0   \n-Alfredo Griffin   594.0  169.0    4.0  74.0  51.0   35.0   11.0  4408.0   \n\n                    CHits  CHmRun  CRuns   CRBI  CWalks  PutOuts  Assists  \\\nPlayer                                                                      \n-Alan Ashby         835.0    69.0  321.0  414.0   375.0    632.0     43.0   \n-Alvin Davis        457.0    63.0  224.0  266.0   263.0    880.0     82.0   \n-Andre Dawson      1575.0   225.0  828.0  838.0   354.0    200.0     11.0   \n-Andres Galarraga   101.0    12.0   48.0   46.0    33.0    805.0     40.0   \n-Alfredo Griffin   1133.0    19.0  501.0  336.0   194.0    282.0    421.0   \n\n                   Errors  League_N  Division_W  NewLeague_N  \nPlayer                                                        \n-Alan Ashby          10.0         1           1            1  \n-Alvin Davis         14.0         0           1            0  \n-Andre Dawson         3.0         1           0            1  \n-Andres Galarraga     4.0         1           0            1  \n-Alfredo Griffin     25.0         0           1            0  ",
      "text/html": "<div>\n<style scoped>\n    .dataframe tbody tr th:only-of-type {\n        vertical-align: middle;\n    }\n\n    .dataframe tbody tr th {\n        vertical-align: top;\n    }\n\n    .dataframe thead th {\n        text-align: right;\n    }\n</style>\n<table border=\"1\" class=\"dataframe\">\n  <thead>\n    <tr style=\"text-align: right;\">\n      <th></th>\n      <th>AtBat</th>\n      <th>Hits</th>\n      <th>HmRun</th>\n      <th>Runs</th>\n      <th>RBI</th>\n      <th>Walks</th>\n      <th>Years</th>\n      <th>CAtBat</th>\n      <th>CHits</th>\n      <th>CHmRun</th>\n      <th>CRuns</th>\n      <th>CRBI</th>\n      <th>CWalks</th>\n      <th>PutOuts</th>\n      <th>Assists</th>\n      <th>Errors</th>\n      <th>League_N</th>\n      <th>Division_W</th>\n      <th>NewLeague_N</th>\n    </tr>\n    <tr>\n      <th>Player</th>\n      <th></th>\n      <th></th>\n      <th></th>\n      <th></th>\n      <th></th>\n      <th></th>\n      <th></th>\n      <th></th>\n      <th></th>\n      <th></th>\n      <th></th>\n      <th></th>\n      <th></th>\n      <th></th>\n      <th></th>\n      <th></th>\n      <th></th>\n      <th></th>\n      <th></th>\n    </tr>\n  </thead>\n  <tbody>\n    <tr>\n      <th>-Alan Ashby</th>\n      <td>315.0</td>\n      <td>81.0</td>\n      <td>7.0</td>\n      <td>24.0</td>\n      <td>38.0</td>\n      <td>39.0</td>\n      <td>14.0</td>\n      <td>3449.0</td>\n      <td>835.0</td>\n      <td>69.0</td>\n      <td>321.0</td>\n      <td>414.0</td>\n      <td>375.0</td>\n      <td>632.0</td>\n      <td>43.0</td>\n      <td>10.0</td>\n      <td>1</td>\n      <td>1</td>\n      <td>1</td>\n    </tr>\n    <tr>\n      <th>-Alvin Davis</th>\n      <td>479.0</td>\n      <td>130.0</td>\n      <td>18.0</td>\n      <td>66.0</td>\n      <td>72.0</td>\n      <td>76.0</td>\n      <td>3.0</td>\n      <td>1624.0</td>\n      <td>457.0</td>\n      <td>63.0</td>\n      <td>224.0</td>\n      <td>266.0</td>\n      <td>263.0</td>\n      <td>880.0</td>\n      <td>82.0</td>\n      <td>14.0</td>\n      <td>0</td>\n      <td>1</td>\n      <td>0</td>\n    </tr>\n    <tr>\n      <th>-Andre Dawson</th>\n      <td>496.0</td>\n      <td>141.0</td>\n      <td>20.0</td>\n      <td>65.0</td>\n      <td>78.0</td>\n      <td>37.0</td>\n      <td>11.0</td>\n      <td>5628.0</td>\n      <td>1575.0</td>\n      <td>225.0</td>\n      <td>828.0</td>\n      <td>838.0</td>\n      <td>354.0</td>\n      <td>200.0</td>\n      <td>11.0</td>\n      <td>3.0</td>\n      <td>1</td>\n      <td>0</td>\n      <td>1</td>\n    </tr>\n    <tr>\n      <th>-Andres Galarraga</th>\n      <td>321.0</td>\n      <td>87.0</td>\n      <td>10.0</td>\n      <td>39.0</td>\n      <td>42.0</td>\n      <td>30.0</td>\n      <td>2.0</td>\n      <td>396.0</td>\n      <td>101.0</td>\n      <td>12.0</td>\n      <td>48.0</td>\n      <td>46.0</td>\n      <td>33.0</td>\n      <td>805.0</td>\n      <td>40.0</td>\n      <td>4.0</td>\n      <td>1</td>\n      <td>0</td>\n      <td>1</td>\n    </tr>\n    <tr>\n      <th>-Alfredo Griffin</th>\n      <td>594.0</td>\n      <td>169.0</td>\n      <td>4.0</td>\n      <td>74.0</td>\n      <td>51.0</td>\n      <td>35.0</td>\n      <td>11.0</td>\n      <td>4408.0</td>\n      <td>1133.0</td>\n      <td>19.0</td>\n      <td>501.0</td>\n      <td>336.0</td>\n      <td>194.0</td>\n      <td>282.0</td>\n      <td>421.0</td>\n      <td>25.0</td>\n      <td>0</td>\n      <td>1</td>\n      <td>0</td>\n    </tr>\n  </tbody>\n</table>\n</div>"
     },
     "execution_count": 7,
     "metadata": {},
     "output_type": "execute_result"
    }
   ]
  },
  {
   "cell_type": "markdown",
   "metadata": {
    "id": "cGo6GxJVb3-y",
    "pycharm": {
     "name": "#%% md\n"
    }
   },
   "source": [
    "DP3"
   ]
  },
  {
   "cell_type": "code",
   "metadata": {
    "id": "s-M9IvkOb5JZ",
    "executionInfo": {
     "status": "ok",
     "timestamp": 1637262642072,
     "user_tz": 600,
     "elapsed": 7,
     "user": {
      "displayName": "Torrey Wagner",
      "photoUrl": "https://lh3.googleusercontent.com/a/default-user=s64",
      "userId": "18235062716651285949"
     }
    },
    "pycharm": {
     "name": "#%%\n"
    }
   },
   "source": [
    "from sklearn.preprocessing import StandardScaler\n",
    "scale = StandardScaler()\n",
    "\n",
    "scaledX = scale.fit_transform(X) \n",
    "\n"
   ],
   "execution_count": 8,
   "outputs": []
  },
  {
   "cell_type": "markdown",
   "metadata": {
    "id": "r5ZSZIQooiIu",
    "pycharm": {
     "name": "#%% md\n"
    }
   },
   "source": [
    "### Scikit-learn"
   ]
  },
  {
   "cell_type": "markdown",
   "metadata": {
    "id": "ZtMYo4-4oiIu",
    "pycharm": {
     "name": "#%% md\n"
    }
   },
   "source": [
    "\n",
    "The __sklearn Ridge()__ function optimizes:\n",
    "### $$ ||X\\beta - y||^2_2 + \\alpha ||\\beta||^2_2 $$\n",
    "which is equivalent to optimizing\n",
    "### $$ \\frac{1}{N}||X\\beta - y||^2_2 + \\frac{\\alpha}{N} ||\\beta||^2_2 $$"
   ]
  },
  {
   "cell_type": "code",
   "metadata": {
    "id": "tZDz9FKjoiIu",
    "colab": {
     "base_uri": "https://localhost:8080/",
     "height": 773
    },
    "executionInfo": {
     "status": "ok",
     "timestamp": 1637262642592,
     "user_tz": 600,
     "elapsed": 526,
     "user": {
      "displayName": "Torrey Wagner",
      "photoUrl": "https://lh3.googleusercontent.com/a/default-user=s64",
      "userId": "18235062716651285949"
     }
    },
    "outputId": "55c7e5a2-f487-431d-a8a4-fa62fe884ea7",
    "pycharm": {
     "name": "#%%\n"
    }
   },
   "source": [
    "lambda_params = 10**np.linspace(5,-4,100)*0.5  # can't use lambda\n",
    "\n",
    "print(lambda_params)\n",
    "print('\\n----------\\n')\n",
    "\n",
    "# ridge = Ridge()\n",
    "coefs = []\n",
    "errors_test = []\n",
    "\n",
    "\n",
    "\n",
    "for a in lambda_params:\n",
    "    ridge = Ridge(alpha=a)\n",
    "    ridge.fit(scaledX, y)\n",
    "    coefs.append(ridge.coef_)\n",
    "\n",
    "    # collect error for each lambda - test data\n",
    "    pred = ridge.predict(scaledX)\n",
    "    temp_error = mean_squared_error(y, pred)\n",
    "    errors_test.append(temp_error)\n",
    "\n",
    "\n",
    "# coeffs plot\n",
    "ax = plt.gca()\n",
    "ax.plot(lambda_params, coefs)\n",
    "ax.set_xscale('log')\n",
    "# ax.set_xlim(ax.get_xlim()[::-1])  # reverse axis\n",
    "plt.axis('tight')\n",
    "plt.xlabel('$\\lambda$')\n",
    "plt.ylabel('weights')\n",
    "plt.title('Ridge coefficients as a function of the regularization');\n"
   ],
   "execution_count": 9,
   "outputs": [
    {
     "name": "stdout",
     "output_type": "stream",
     "text": [
      "[5.00000000e+04 4.05565415e+04 3.28966612e+04 2.66834962e+04\n",
      " 2.16438064e+04 1.75559587e+04 1.42401793e+04 1.15506485e+04\n",
      " 9.36908711e+03 7.59955541e+03 6.16423370e+03 5.00000000e+03\n",
      " 4.05565415e+03 3.28966612e+03 2.66834962e+03 2.16438064e+03\n",
      " 1.75559587e+03 1.42401793e+03 1.15506485e+03 9.36908711e+02\n",
      " 7.59955541e+02 6.16423370e+02 5.00000000e+02 4.05565415e+02\n",
      " 3.28966612e+02 2.66834962e+02 2.16438064e+02 1.75559587e+02\n",
      " 1.42401793e+02 1.15506485e+02 9.36908711e+01 7.59955541e+01\n",
      " 6.16423370e+01 5.00000000e+01 4.05565415e+01 3.28966612e+01\n",
      " 2.66834962e+01 2.16438064e+01 1.75559587e+01 1.42401793e+01\n",
      " 1.15506485e+01 9.36908711e+00 7.59955541e+00 6.16423370e+00\n",
      " 5.00000000e+00 4.05565415e+00 3.28966612e+00 2.66834962e+00\n",
      " 2.16438064e+00 1.75559587e+00 1.42401793e+00 1.15506485e+00\n",
      " 9.36908711e-01 7.59955541e-01 6.16423370e-01 5.00000000e-01\n",
      " 4.05565415e-01 3.28966612e-01 2.66834962e-01 2.16438064e-01\n",
      " 1.75559587e-01 1.42401793e-01 1.15506485e-01 9.36908711e-02\n",
      " 7.59955541e-02 6.16423370e-02 5.00000000e-02 4.05565415e-02\n",
      " 3.28966612e-02 2.66834962e-02 2.16438064e-02 1.75559587e-02\n",
      " 1.42401793e-02 1.15506485e-02 9.36908711e-03 7.59955541e-03\n",
      " 6.16423370e-03 5.00000000e-03 4.05565415e-03 3.28966612e-03\n",
      " 2.66834962e-03 2.16438064e-03 1.75559587e-03 1.42401793e-03\n",
      " 1.15506485e-03 9.36908711e-04 7.59955541e-04 6.16423370e-04\n",
      " 5.00000000e-04 4.05565415e-04 3.28966612e-04 2.66834962e-04\n",
      " 2.16438064e-04 1.75559587e-04 1.42401793e-04 1.15506485e-04\n",
      " 9.36908711e-05 7.59955541e-05 6.16423370e-05 5.00000000e-05]\n",
      "\n",
      "----------\n",
      "\n"
     ]
    },
    {
     "data": {
      "text/plain": "<Figure size 432x288 with 1 Axes>",
      "image/png": "[encoded data removed]"
     },
     "metadata": {},
     "output_type": "display_data"
    }
   ]
  },
  {
   "cell_type": "markdown",
   "metadata": {
    "id": "g8almIIuMtPE",
    "pycharm": {
     "name": "#%% md\n"
    }
   },
   "source": [
    "Error plot"
   ]
  },
  {
   "cell_type": "code",
   "metadata": {
    "id": "wOdFsoQnMuW8",
    "colab": {
     "base_uri": "https://localhost:8080/",
     "height": 297
    },
    "executionInfo": {
     "status": "ok",
     "timestamp": 1637262642912,
     "user_tz": 600,
     "elapsed": 323,
     "user": {
      "displayName": "Torrey Wagner",
      "photoUrl": "https://lh3.googleusercontent.com/a/default-user=s64",
      "userId": "18235062716651285949"
     }
    },
    "outputId": "e8fad287-e2a4-4d52-b13e-cf408ff1176e",
    "pycharm": {
     "name": "#%%\n"
    }
   },
   "source": [
    "\n",
    "# error plot\n",
    "ax2 = plt.gca()\n",
    "ax2.plot(lambda_params, errors_test, label='test')\n",
    "ax2.set_xscale('log')\n",
    "# ax2.set_xlim(ax2.get_xlim()[::-1])  # reverse axis\n",
    "plt.axis('tight')\n",
    "plt.xlabel('$\\lambda$')\n",
    "plt.ylabel('MSE')\n",
    "plt.title('Error as a function of the regularization');\n",
    "\n"
   ],
   "execution_count": 10,
   "outputs": [
    {
     "data": {
      "text/plain": "<Figure size 432x288 with 1 Axes>",
      "image/png": "[encoded data removed]"
     },
     "metadata": {},
     "output_type": "display_data"
    }
   ]
  },
  {
   "cell_type": "markdown",
   "metadata": {
    "id": "_SH70LWWNPZA",
    "pycharm": {
     "name": "#%% md\n"
    }
   },
   "source": [
    "find minimum point"
   ]
  },
  {
   "cell_type": "code",
   "metadata": {
    "id": "Fq_8jlmnNUJF",
    "colab": {
     "base_uri": "https://localhost:8080/"
    },
    "executionInfo": {
     "status": "ok",
     "timestamp": 1637262642912,
     "user_tz": 600,
     "elapsed": 8,
     "user": {
      "displayName": "Torrey Wagner",
      "photoUrl": "https://lh3.googleusercontent.com/a/default-user=s64",
      "userId": "18235062716651285949"
     }
    },
    "outputId": "b06975f7-a1c7-4323-b012-2bae56ef6d9d",
    "pycharm": {
     "name": "#%%\n"
    }
   },
   "source": [
    "# error plot\n",
    "ax2 = plt.gca()\n",
    "ax2.plot(lambda_params, errors_test, label='test')\n",
    "ax2.set_xscale('log')\n",
    "ax2.set_xlim(0.001,30)\n",
    "\n",
    "ax2.set_ylim(90000,93000)\n",
    "\n",
    "plt.xlabel('$\\lambda$')\n",
    "plt.ylabel('MSE')\n",
    "plt.title('Error as a function of the regularization');\n",
    "\n",
    "\n",
    "# find best lambda\n",
    "\n",
    "best_val, idx = min((val, idx) for (idx, val) in enumerate(errors_test))\n",
    "\n",
    "print(f\"Minimum error is {best_val} for lambda={lambda_params[idx]}\" )\n",
    "\n",
    "print('\\n----------\\n')\n"
   ],
   "execution_count": 11,
   "outputs": [
    {
     "name": "stdout",
     "output_type": "stream",
     "text": [
      "Minimum error is 92017.86902087786 for lambda=5e-05\n",
      "\n",
      "----------\n",
      "\n"
     ]
    },
    {
     "data": {
      "text/plain": "<Figure size 432x288 with 1 Axes>",
      "image/png": "[encoded data removed]"
     },
     "metadata": {},
     "output_type": "display_data"
    }
   ]
  },
  {
   "cell_type": "markdown",
   "metadata": {
    "id": "T0IU5iDboiIx",
    "pycharm": {
     "name": "#%% md\n"
    }
   },
   "source": [
    "#### Evaluate with $\\lambda$ = 5 e-05"
   ]
  },
  {
   "cell_type": "code",
   "metadata": {
    "id": "c2PbUS4WoiIz",
    "colab": {
     "base_uri": "https://localhost:8080/"
    },
    "executionInfo": {
     "status": "ok",
     "timestamp": 1637262642913,
     "user_tz": 600,
     "elapsed": 6,
     "user": {
      "displayName": "Torrey Wagner",
      "photoUrl": "https://lh3.googleusercontent.com/a/default-user=s64",
      "userId": "18235062716651285949"
     }
    },
    "outputId": "00a143fb-0b17-4629-f431-e18e78b12795",
    "pycharm": {
     "name": "#%%\n"
    }
   },
   "source": [
    "ridge2 = Ridge(alpha=5*10**-5)\n",
    "ridge2.fit(scaledX, y)\n",
    "pred = ridge2.predict(scaledX)  \n",
    "mean_squared_error(y, pred)"
   ],
   "execution_count": 12,
   "outputs": [
    {
     "data": {
      "text/plain": "92017.86902087786"
     },
     "execution_count": 12,
     "metadata": {},
     "output_type": "execute_result"
    }
   ]
  },
  {
   "cell_type": "code",
   "metadata": {
    "id": "Oz3n7rJBoiI1",
    "colab": {
     "base_uri": "https://localhost:8080/"
    },
    "executionInfo": {
     "status": "ok",
     "timestamp": 1637262643201,
     "user_tz": 600,
     "elapsed": 292,
     "user": {
      "displayName": "Torrey Wagner",
      "photoUrl": "https://lh3.googleusercontent.com/a/default-user=s64",
      "userId": "18235062716651285949"
     }
    },
    "outputId": "e581b74e-def6-4efc-9988-e3dc65083d3f",
    "pycharm": {
     "name": "#%%\n"
    }
   },
   "source": [
    "pd.Series(ridge2.coef_.flatten(), index=X.columns)"
   ],
   "execution_count": 13,
   "outputs": [
    {
     "data": {
      "text/plain": "AtBat         -291.093669\nHits           337.827439\nHmRun           37.852024\nRuns           -60.569670\nRBI            -26.993317\nWalks          135.073160\nYears          -16.695158\nCAtBat        -391.027395\nCHits           86.697398\nCHmRun         -14.175202\nCRuns          480.731188\nCRBI           260.678194\nCWalks        -213.889653\nPutOuts         78.761297\nAssists         53.732112\nErrors         -22.161024\nLeague_N        31.248794\nDivision_W     -58.414214\nNewLeague_N    -12.348996\ndtype: float64"
     },
     "execution_count": 13,
     "metadata": {},
     "output_type": "execute_result"
    }
   ]
  },
  {
   "cell_type": "markdown",
   "metadata": {
    "id": "JPM0tsF8oiI3",
    "pycharm": {
     "name": "#%% md\n"
    }
   },
   "source": [
    "#### Evaluate with $\\lambda$ = $10^{10}$ \n",
    "This big penalty shrinks the coefficients to a very large degree and makes the model more biased, resulting in a higher MSE."
   ]
  },
  {
   "cell_type": "code",
   "metadata": {
    "id": "Ud4bepVnoiI3",
    "colab": {
     "base_uri": "https://localhost:8080/"
    },
    "executionInfo": {
     "status": "ok",
     "timestamp": 1637262643201,
     "user_tz": 600,
     "elapsed": 5,
     "user": {
      "displayName": "Torrey Wagner",
      "photoUrl": "https://lh3.googleusercontent.com/a/default-user=s64",
      "userId": "18235062716651285949"
     }
    },
    "outputId": "4a0bd4ab-d520-49e1-afed-42c10e9a7803",
    "pycharm": {
     "name": "#%%\n"
    }
   },
   "source": [
    "ridge2 = Ridge(alpha=10**10)\n",
    "ridge2.fit(scaledX, y)\n",
    "pred = ridge2.predict(scaledX)  # was X_test\n",
    "mean_squared_error(y, pred)"
   ],
   "execution_count": 14,
   "outputs": [
    {
     "data": {
      "text/plain": "202734.2365091716"
     },
     "execution_count": 14,
     "metadata": {},
     "output_type": "execute_result"
    }
   ]
  },
  {
   "cell_type": "code",
   "metadata": {
    "id": "oXaQ3OGFeaX_",
    "colab": {
     "base_uri": "https://localhost:8080/"
    },
    "executionInfo": {
     "status": "ok",
     "timestamp": 1637262643202,
     "user_tz": 600,
     "elapsed": 4,
     "user": {
      "displayName": "Torrey Wagner",
      "photoUrl": "https://lh3.googleusercontent.com/a/default-user=s64",
      "userId": "18235062716651285949"
     }
    },
    "outputId": "fe6e7600-c679-4d89-f328-59c9344bbb71",
    "pycharm": {
     "name": "#%%\n"
    }
   },
   "source": [
    "pd.Series(ridge2.coef_.flatten(), index=X.columns)"
   ],
   "execution_count": 15,
   "outputs": [
    {
     "data": {
      "text/plain": "AtBat          4.674815e-06\nHits           5.194717e-06\nHmRun          4.062084e-06\nRuns           4.971899e-06\nRBI            5.322400e-06\nWalks          5.256206e-06\nYears          4.744517e-06\nCAtBat         6.230411e-06\nCHits          6.500100e-06\nCHmRun         6.216145e-06\nCRuns          6.663140e-06\nCRBI           6.713918e-06\nCWalks         5.800395e-06\nPutOuts        3.558241e-06\nAssists        3.012107e-07\nErrors        -6.395428e-08\nLeague_N      -1.691230e-07\nDivision_W    -2.279725e-06\nNewLeague_N   -3.356510e-08\ndtype: float64"
     },
     "execution_count": 15,
     "metadata": {},
     "output_type": "execute_result"
    }
   ]
  },
  {
   "cell_type": "markdown",
   "metadata": {
    "id": "O_mvXLEqoiJl",
    "pycharm": {
     "name": "#%% md\n"
    }
   },
   "source": [
    "### 6.6.2 The Lasso"
   ]
  },
  {
   "cell_type": "markdown",
   "metadata": {
    "id": "ktDvpA16oiJl",
    "pycharm": {
     "name": "#%% md\n"
    }
   },
   "source": [
    "### Scikit-learn"
   ]
  },
  {
   "cell_type": "markdown",
   "metadata": {
    "id": "CLH63EP-oiJl",
    "pycharm": {
     "name": "#%% md\n"
    }
   },
   "source": [
    "\n",
    "\n",
    "For both __glmnet__ in R and sklearn __Lasso()__ function the standard L1 penalty is:\n",
    "### $$ \\lambda |\\beta|_1 $$"
   ]
  },
  {
   "cell_type": "code",
   "metadata": {
    "id": "clvvmvKVoiJm",
    "colab": {
     "base_uri": "https://localhost:8080/",
     "height": 295
    },
    "executionInfo": {
     "status": "ok",
     "timestamp": 1637262644248,
     "user_tz": 600,
     "elapsed": 1049,
     "user": {
      "displayName": "Torrey Wagner",
      "photoUrl": "https://lh3.googleusercontent.com/a/default-user=s64",
      "userId": "18235062716651285949"
     }
    },
    "outputId": "a7cf9e0d-43a0-4f88-d7ab-70e2076cb70c",
    "pycharm": {
     "name": "#%%\n"
    }
   },
   "source": [
    "lasso = Lasso(max_iter=10000)\n",
    "coefs = []\n",
    "\n",
    "for a in lambda_params:\n",
    "    lasso.set_params(alpha=a)\n",
    "    lasso.fit(scaledX, y)\n",
    "    coefs.append(lasso.coef_)\n",
    "\n",
    "ax = plt.gca()\n",
    "ax.plot(lambda_params, coefs)\n",
    "ax.set_xscale('log')\n",
    "\n",
    "plt.axis('tight')\n",
    "plt.xlabel('alpha')\n",
    "plt.ylabel('weights')\n",
    "plt.title('Lasso coefficients as a function of the regularization');"
   ],
   "execution_count": 16,
   "outputs": [
    {
     "data": {
      "text/plain": "<Figure size 432x288 with 1 Axes>",
      "image/png": "[encoded data removed]"
     },
     "metadata": {},
     "output_type": "display_data"
    }
   ]
  },
  {
   "cell_type": "markdown",
   "metadata": {
    "id": "nez3sUad0tMK",
    "pycharm": {
     "name": "#%% md\n"
    }
   },
   "source": [
    "Repeat with auto-find (& cross-validation)"
   ]
  },
  {
   "cell_type": "code",
   "metadata": {
    "id": "vBltWRRQoiJo",
    "colab": {
     "base_uri": "https://localhost:8080/"
    },
    "executionInfo": {
     "status": "ok",
     "timestamp": 1637262644560,
     "user_tz": 600,
     "elapsed": 315,
     "user": {
      "displayName": "Torrey Wagner",
      "photoUrl": "https://lh3.googleusercontent.com/a/default-user=s64",
      "userId": "18235062716651285949"
     }
    },
    "outputId": "01758eb7-39f8-42b5-a4f5-aef0bfc3e273",
    "pycharm": {
     "name": "#%%\n"
    }
   },
   "source": [
    "lassocv = LassoCV(alphas=None, cv=10, max_iter=10000) # lambda set automatically\n",
    "lassocv.fit(scaledX, y.values.ravel())"
   ],
   "execution_count": 17,
   "outputs": [
    {
     "data": {
      "text/plain": "LassoCV(cv=10, max_iter=10000)",
      "text/html": "<style>#sk-container-id-1 {color: black;background-color: white;}#sk-container-id-1 pre{padding: 0;}#sk-container-id-1 div.sk-toggleable {background-color: white;}#sk-container-id-1 label.sk-toggleable__label {cursor: pointer;display: block;width: 100%;margin-bottom: 0;padding: 0.3em;box-sizing: border-box;text-align: center;}#sk-container-id-1 label.sk-toggleable__label-arrow:before {content: \"▸\";float: left;margin-right: 0.25em;color: #696969;}#sk-container-id-1 label.sk-toggleable__label-arrow:hover:before {color: black;}#sk-container-id-1 div.sk-estimator:hover label.sk-toggleable__label-arrow:before {color: black;}#sk-container-id-1 div.sk-toggleable__content {max-height: 0;max-width: 0;overflow: hidden;text-align: left;background-color: #f0f8ff;}#sk-container-id-1 div.sk-toggleable__content pre {margin: 0.2em;color: black;border-radius: 0.25em;background-color: #f0f8ff;}#sk-container-id-1 input.sk-toggleable__control:checked~div.sk-toggleable__content {max-height: 200px;max-width: 100%;overflow: auto;}#sk-container-id-1 input.sk-toggleable__control:checked~label.sk-toggleable__label-arrow:before {content: \"▾\";}#sk-container-id-1 div.sk-estimator input.sk-toggleable__control:checked~label.sk-toggleable__label {background-color: #d4ebff;}#sk-container-id-1 div.sk-label input.sk-toggleable__control:checked~label.sk-toggleable__label {background-color: #d4ebff;}#sk-container-id-1 input.sk-hidden--visually {border: 0;clip: rect(1px 1px 1px 1px);clip: rect(1px, 1px, 1px, 1px);height: 1px;margin: -1px;overflow: hidden;padding: 0;position: absolute;width: 1px;}#sk-container-id-1 div.sk-estimator {font-family: monospace;background-color: #f0f8ff;border: 1px dotted black;border-radius: 0.25em;box-sizing: border-box;margin-bottom: 0.5em;}#sk-container-id-1 div.sk-estimator:hover {background-color: #d4ebff;}#sk-container-id-1 div.sk-parallel-item::after {content: \"\";width: 100%;border-bottom: 1px solid gray;flex-grow: 1;}#sk-container-id-1 div.sk-label:hover label.sk-toggleable__label {background-color: #d4ebff;}#sk-container-id-1 div.sk-serial::before {content: \"\";position: absolute;border-left: 1px solid gray;box-sizing: border-box;top: 0;bottom: 0;left: 50%;z-index: 0;}#sk-container-id-1 div.sk-serial {display: flex;flex-direction: column;align-items: center;background-color: white;padding-right: 0.2em;padding-left: 0.2em;position: relative;}#sk-container-id-1 div.sk-item {position: relative;z-index: 1;}#sk-container-id-1 div.sk-parallel {display: flex;align-items: stretch;justify-content: center;background-color: white;position: relative;}#sk-container-id-1 div.sk-item::before, #sk-container-id-1 div.sk-parallel-item::before {content: \"\";position: absolute;border-left: 1px solid gray;box-sizing: border-box;top: 0;bottom: 0;left: 50%;z-index: -1;}#sk-container-id-1 div.sk-parallel-item {display: flex;flex-direction: column;z-index: 1;position: relative;background-color: white;}#sk-container-id-1 div.sk-parallel-item:first-child::after {align-self: flex-end;width: 50%;}#sk-container-id-1 div.sk-parallel-item:last-child::after {align-self: flex-start;width: 50%;}#sk-container-id-1 div.sk-parallel-item:only-child::after {width: 0;}#sk-container-id-1 div.sk-dashed-wrapped {border: 1px dashed gray;margin: 0 0.4em 0.5em 0.4em;box-sizing: border-box;padding-bottom: 0.4em;background-color: white;}#sk-container-id-1 div.sk-label label {font-family: monospace;font-weight: bold;display: inline-block;line-height: 1.2em;}#sk-container-id-1 div.sk-label-container {text-align: center;}#sk-container-id-1 div.sk-container {/* jupyter's `normalize.less` sets `[hidden] { display: none; }` but bootstrap.min.css set `[hidden] { display: none !important; }` so we also need the `!important` here to be able to override the default hidden behavior on the sphinx rendered scikit-learn.org. See: https://github.com/scikit-learn/scikit-learn/issues/21755 */display: inline-block !important;position: relative;}#sk-container-id-1 div.sk-text-repr-fallback {display: none;}</style><div id=\"sk-container-id-1\" class=\"sk-top-container\"><div class=\"sk-text-repr-fallback\"><pre>LassoCV(cv=10, max_iter=10000)</pre><b>In a Jupyter environment, please rerun this cell to show the HTML representation or trust the notebook. <br />On GitHub, the HTML representation is unable to render, please try loading this page with nbviewer.org.</b></div><div class=\"sk-container\" hidden><div class=\"sk-item\"><div class=\"sk-estimator sk-toggleable\"><input class=\"sk-toggleable__control sk-hidden--visually\" id=\"sk-estimator-id-1\" type=\"checkbox\" checked><label for=\"sk-estimator-id-1\" class=\"sk-toggleable__label sk-toggleable__label-arrow\">LassoCV</label><div class=\"sk-toggleable__content\"><pre>LassoCV(cv=10, max_iter=10000)</pre></div></div></div></div></div>"
     },
     "execution_count": 17,
     "metadata": {},
     "output_type": "execute_result"
    }
   ]
  },
  {
   "cell_type": "markdown",
   "metadata": {
    "id": "Pv5zUeKrg1J7",
    "pycharm": {
     "name": "#%% md\n"
    }
   },
   "source": [
    "Alpha_ is the amount of penalization chosen by cross validation (lambda)"
   ]
  },
  {
   "cell_type": "code",
   "metadata": {
    "id": "Y7y55j-NoiJp",
    "colab": {
     "base_uri": "https://localhost:8080/"
    },
    "executionInfo": {
     "status": "ok",
     "timestamp": 1637262644561,
     "user_tz": 600,
     "elapsed": 13,
     "user": {
      "displayName": "Torrey Wagner",
      "photoUrl": "https://lh3.googleusercontent.com/a/default-user=s64",
      "userId": "18235062716651285949"
     }
    },
    "outputId": "96914ee8-d208-42f0-9223-908bf2e6b81f",
    "pycharm": {
     "name": "#%%\n"
    }
   },
   "source": [
    "lassocv.alpha_"
   ],
   "execution_count": 18,
   "outputs": [
    {
     "data": {
      "text/plain": "2.552820965069261"
     },
     "execution_count": 18,
     "metadata": {},
     "output_type": "execute_result"
    }
   ]
  },
  {
   "cell_type": "markdown",
   "metadata": {
    "id": "4IwONNakg-a6",
    "pycharm": {
     "name": "#%% md\n"
    }
   },
   "source": [
    "Lasso didn't do quite as well"
   ]
  },
  {
   "cell_type": "code",
   "metadata": {
    "id": "eraE5JXNoiJr",
    "colab": {
     "base_uri": "https://localhost:8080/"
    },
    "executionInfo": {
     "status": "ok",
     "timestamp": 1637262644561,
     "user_tz": 600,
     "elapsed": 11,
     "user": {
      "displayName": "Torrey Wagner",
      "photoUrl": "https://lh3.googleusercontent.com/a/default-user=s64",
      "userId": "18235062716651285949"
     }
    },
    "outputId": "a95e8cb9-9d95-4901-814a-cb51bf44d5b4",
    "pycharm": {
     "name": "#%%\n"
    }
   },
   "source": [
    "lasso.set_params(alpha=lassocv.alpha_)\n",
    "lasso.fit(scaledX, y)\n",
    "mean_squared_error(y, lasso.predict(scaledX))"
   ],
   "execution_count": 19,
   "outputs": [
    {
     "data": {
      "text/plain": "94422.46437064184"
     },
     "execution_count": 19,
     "metadata": {},
     "output_type": "execute_result"
    }
   ]
  },
  {
   "cell_type": "code",
   "metadata": {
    "id": "XmX8tv5YoiJt",
    "colab": {
     "base_uri": "https://localhost:8080/"
    },
    "executionInfo": {
     "status": "ok",
     "timestamp": 1637262644562,
     "user_tz": 600,
     "elapsed": 11,
     "user": {
      "displayName": "Torrey Wagner",
      "photoUrl": "https://lh3.googleusercontent.com/a/default-user=s64",
      "userId": "18235062716651285949"
     }
    },
    "outputId": "0fe196bd-66e0-4005-e735-2b6936d73dad",
    "pycharm": {
     "name": "#%%\n"
    }
   },
   "source": [
    "# Some of the coefficients are now reduced to exactly zero.\n",
    "pd.Series(lasso.coef_, index=X.columns)"
   ],
   "execution_count": 20,
   "outputs": [
    {
     "data": {
      "text/plain": "AtBat         -234.400383\nHits           259.945928\nHmRun            0.000000\nRuns            -0.000000\nRBI              0.000000\nWalks          104.147836\nYears          -45.975128\nCAtBat          -0.000000\nCHits            0.000000\nCHmRun          45.048644\nCRuns          223.554574\nCRBI           122.906312\nCWalks        -144.160342\nPutOuts         76.490015\nAssists         26.147094\nErrors         -13.796164\nLeague_N        16.193484\nDivision_W     -59.564772\nNewLeague_N     -0.000000\ndtype: float64"
     },
     "execution_count": 20,
     "metadata": {},
     "output_type": "execute_result"
    }
   ]
  },
  {
   "cell_type": "markdown",
   "metadata": {
    "id": "NOOn_U8toiJ-",
    "pycharm": {
     "name": "#%% md\n"
    }
   },
   "source": [
    "# Lab 3"
   ]
  },
  {
   "cell_type": "markdown",
   "metadata": {
    "id": "yCqNlWdVoiJ-",
    "pycharm": {
     "name": "#%% md\n"
    }
   },
   "source": [
    "### 6.7.1 Principal Components Regression"
   ]
  },
  {
   "cell_type": "markdown",
   "metadata": {
    "id": "OxpFCuAzoiJ-",
    "pycharm": {
     "name": "#%% md\n"
    }
   },
   "source": [
    "Scikit-klearn does not have an implementation of PCA and regression combined like the 'pls' package in R.\n",
    "https://cran.r-project.org/web/packages/pls/vignettes/pls-manual.pdf\n",
    "\n",
    "Transform data and perform PCA"
   ]
  },
  {
   "cell_type": "code",
   "metadata": {
    "id": "S9gDMLMooiJ_",
    "colab": {
     "base_uri": "https://localhost:8080/",
     "height": 238
    },
    "executionInfo": {
     "status": "ok",
     "timestamp": 1637262644562,
     "user_tz": 600,
     "elapsed": 10,
     "user": {
      "displayName": "Torrey Wagner",
      "photoUrl": "https://lh3.googleusercontent.com/a/default-user=s64",
      "userId": "18235062716651285949"
     }
    },
    "outputId": "81ff0b0a-357d-41e4-9fa9-4329373676bf",
    "pycharm": {
     "name": "#%%\n"
    }
   },
   "source": [
    "from sklearn.preprocessing import StandardScaler\n",
    "print(scaledX.shape)\n",
    "\n",
    "\n",
    "pca = PCA()\n",
    "X_reduced = pca.fit_transform(scaledX)\n",
    "\n",
    "print(pca.components_.shape)\n",
    "pd.DataFrame(pca.components_.T).loc[:4,:5]"
   ],
   "execution_count": 21,
   "outputs": [
    {
     "name": "stdout",
     "output_type": "stream",
     "text": [
      "(263, 19)\n",
      "(19, 19)\n"
     ]
    },
    {
     "data": {
      "text/plain": "          0         1         2         3         4         5\n0  0.198290 -0.383784  0.088626  0.031967  0.028117 -0.070646\n1  0.195861 -0.377271  0.074032  0.017982 -0.004652 -0.082240\n2  0.204369 -0.237136 -0.216186 -0.235831  0.077660 -0.149646\n3  0.198337 -0.377721 -0.017166 -0.049942 -0.038536 -0.136660\n4  0.235174 -0.314531 -0.073085 -0.138985  0.024299 -0.111675",
      "text/html": "<div>\n<style scoped>\n    .dataframe tbody tr th:only-of-type {\n        vertical-align: middle;\n    }\n\n    .dataframe tbody tr th {\n        vertical-align: top;\n    }\n\n    .dataframe thead th {\n        text-align: right;\n    }\n</style>\n<table border=\"1\" class=\"dataframe\">\n  <thead>\n    <tr style=\"text-align: right;\">\n      <th></th>\n      <th>0</th>\n      <th>1</th>\n      <th>2</th>\n      <th>3</th>\n      <th>4</th>\n      <th>5</th>\n    </tr>\n  </thead>\n  <tbody>\n    <tr>\n      <th>0</th>\n      <td>0.198290</td>\n      <td>-0.383784</td>\n      <td>0.088626</td>\n      <td>0.031967</td>\n      <td>0.028117</td>\n      <td>-0.070646</td>\n    </tr>\n    <tr>\n      <th>1</th>\n      <td>0.195861</td>\n      <td>-0.377271</td>\n      <td>0.074032</td>\n      <td>0.017982</td>\n      <td>-0.004652</td>\n      <td>-0.082240</td>\n    </tr>\n    <tr>\n      <th>2</th>\n      <td>0.204369</td>\n      <td>-0.237136</td>\n      <td>-0.216186</td>\n      <td>-0.235831</td>\n      <td>0.077660</td>\n      <td>-0.149646</td>\n    </tr>\n    <tr>\n      <th>3</th>\n      <td>0.198337</td>\n      <td>-0.377721</td>\n      <td>-0.017166</td>\n      <td>-0.049942</td>\n      <td>-0.038536</td>\n      <td>-0.136660</td>\n    </tr>\n    <tr>\n      <th>4</th>\n      <td>0.235174</td>\n      <td>-0.314531</td>\n      <td>-0.073085</td>\n      <td>-0.138985</td>\n      <td>0.024299</td>\n      <td>-0.111675</td>\n    </tr>\n  </tbody>\n</table>\n</div>"
     },
     "execution_count": 21,
     "metadata": {},
     "output_type": "execute_result"
    }
   ]
  },
  {
   "cell_type": "markdown",
   "metadata": {
    "id": "hgwkv2GZoiKA",
    "pycharm": {
     "name": "#%% md\n"
    }
   },
   "source": [
    "DU1 View transformed dataset"
   ]
  },
  {
   "cell_type": "code",
   "metadata": {
    "id": "-phFx8NOoiKB",
    "colab": {
     "base_uri": "https://localhost:8080/",
     "height": 221
    },
    "executionInfo": {
     "status": "ok",
     "timestamp": 1637262644562,
     "user_tz": 600,
     "elapsed": 8,
     "user": {
      "displayName": "Torrey Wagner",
      "photoUrl": "https://lh3.googleusercontent.com/a/default-user=s64",
      "userId": "18235062716651285949"
     }
    },
    "outputId": "82a35674-7390-49a0-dd9a-89fd2f20dbfb",
    "pycharm": {
     "name": "#%%\n"
    }
   },
   "source": [
    "print(X_reduced.shape)\n",
    "pd.DataFrame(X_reduced).loc[:4,:5]"
   ],
   "execution_count": 22,
   "outputs": [
    {
     "name": "stdout",
     "output_type": "stream",
     "text": [
      "(263, 19)\n"
     ]
    },
    {
     "data": {
      "text/plain": "          0         1         2         3         4         5\n0 -0.009649  1.870522  1.265145 -0.935481  1.109636  1.211972\n1  0.411434 -2.429422 -0.909193 -0.264212  1.232031  1.826617\n2  3.466822  0.825947  0.555469 -1.616726 -0.857488 -1.028712\n3 -2.558317 -0.230984  0.519642 -2.176251 -0.820301  1.491696\n4  1.027702 -1.573537  1.331382  3.494004  0.983427  0.513675",
      "text/html": "<div>\n<style scoped>\n    .dataframe tbody tr th:only-of-type {\n        vertical-align: middle;\n    }\n\n    .dataframe tbody tr th {\n        vertical-align: top;\n    }\n\n    .dataframe thead th {\n        text-align: right;\n    }\n</style>\n<table border=\"1\" class=\"dataframe\">\n  <thead>\n    <tr style=\"text-align: right;\">\n      <th></th>\n      <th>0</th>\n      <th>1</th>\n      <th>2</th>\n      <th>3</th>\n      <th>4</th>\n      <th>5</th>\n    </tr>\n  </thead>\n  <tbody>\n    <tr>\n      <th>0</th>\n      <td>-0.009649</td>\n      <td>1.870522</td>\n      <td>1.265145</td>\n      <td>-0.935481</td>\n      <td>1.109636</td>\n      <td>1.211972</td>\n    </tr>\n    <tr>\n      <th>1</th>\n      <td>0.411434</td>\n      <td>-2.429422</td>\n      <td>-0.909193</td>\n      <td>-0.264212</td>\n      <td>1.232031</td>\n      <td>1.826617</td>\n    </tr>\n    <tr>\n      <th>2</th>\n      <td>3.466822</td>\n      <td>0.825947</td>\n      <td>0.555469</td>\n      <td>-1.616726</td>\n      <td>-0.857488</td>\n      <td>-1.028712</td>\n    </tr>\n    <tr>\n      <th>3</th>\n      <td>-2.558317</td>\n      <td>-0.230984</td>\n      <td>0.519642</td>\n      <td>-2.176251</td>\n      <td>-0.820301</td>\n      <td>1.491696</td>\n    </tr>\n    <tr>\n      <th>4</th>\n      <td>1.027702</td>\n      <td>-1.573537</td>\n      <td>1.331382</td>\n      <td>3.494004</td>\n      <td>0.983427</td>\n      <td>0.513675</td>\n    </tr>\n  </tbody>\n</table>\n</div>"
     },
     "execution_count": 22,
     "metadata": {},
     "output_type": "execute_result"
    }
   ]
  },
  {
   "cell_type": "markdown",
   "metadata": {
    "id": "PfxHmY9PoiKD",
    "pycharm": {
     "name": "#%% md\n"
    }
   },
   "source": [
    "Evaluation of PCA"
   ]
  },
  {
   "cell_type": "code",
   "metadata": {
    "id": "PWZYEfMFoiKE",
    "colab": {
     "base_uri": "https://localhost:8080/",
     "height": 276
    },
    "executionInfo": {
     "status": "ok",
     "timestamp": 1637262645140,
     "user_tz": 600,
     "elapsed": 584,
     "user": {
      "displayName": "Torrey Wagner",
      "photoUrl": "https://lh3.googleusercontent.com/a/default-user=s64",
      "userId": "18235062716651285949"
     }
    },
    "outputId": "dd3b892a-4314-456b-c22b-13949fbe5389",
    "pycharm": {
     "name": "#%%\n"
    }
   },
   "source": [
    "# Variance explained by the principal components\n",
    "var_expl = np.cumsum(np.round(pca.explained_variance_ratio_, decimals=4)*100)\n",
    "\n",
    "  \n",
    "plt.plot(var_expl, '-v')\n",
    "plt.xlabel('Principal component')\n",
    "plt.ylabel('Variance explained')\n",
    "\n",
    "plt.xticks(range(1,19))\n",
    "plt.grid(color='k', linestyle='-', linewidth=1)"
   ],
   "execution_count": 23,
   "outputs": [
    {
     "data": {
      "text/plain": "<Figure size 432x288 with 1 Axes>",
      "image/png": "[encoded data removed]"
     },
     "metadata": {},
     "output_type": "display_data"
    }
   ]
  },
  {
   "cell_type": "markdown",
   "metadata": {
    "id": "QwL0maQsSIJP",
    "pycharm": {
     "name": "#%% md\n"
    }
   },
   "source": [
    "Perform PCR"
   ]
  },
  {
   "cell_type": "code",
   "metadata": {
    "id": "oGI7kWlWoiKF",
    "colab": {
     "base_uri": "https://localhost:8080/",
     "height": 308
    },
    "executionInfo": {
     "status": "ok",
     "timestamp": 1637262645402,
     "user_tz": 600,
     "elapsed": 264,
     "user": {
      "displayName": "Torrey Wagner",
      "photoUrl": "https://lh3.googleusercontent.com/a/default-user=s64",
      "userId": "18235062716651285949"
     }
    },
    "outputId": "dd3ac665-dbac-4763-af41-3abf47e01ce6",
    "pycharm": {
     "name": "#%%\n"
    }
   },
   "source": [
    "# 10-fold CV, with shuffle\n",
    "n = len(X_reduced)\n",
    "print(f\"There are {n} datapoints\")\n",
    "\n",
    "kf_10 = KFold(n_splits=10, shuffle=True, random_state=1)\n",
    "\n",
    "regr = LinearRegression()\n",
    "mse = []\n",
    "\n",
    "# Calculate MSE with only the intercept (no principal components in regression)\n",
    "score = -1*cross_val_score(regr, np.ones((n,1)), y.ravel(), cv=kf_10, scoring='neg_mean_squared_error').mean()    \n",
    "# mse.append(score)\n",
    "\n",
    "# Calculate MSE using CV for the 19 principle components, adding one component at the time.\n",
    "for i in np.arange(1, 20):\n",
    "    score = -1*cross_val_score(regr, X_reduced[:,:i], y.ravel(), cv=kf_10, scoring='neg_mean_squared_error').mean()\n",
    "    mse.append(score)\n",
    "    \n",
    "plt.plot(mse, '-v')\n",
    "plt.xlabel('Number of principal components in regression')\n",
    "plt.ylabel('MSE')\n",
    "plt.title('Salary')\n",
    "plt.xlim(xmin=-1);"
   ],
   "execution_count": 28,
   "outputs": [
    {
     "name": "stdout",
     "output_type": "stream",
     "text": [
      "There are 263 datapoints\n"
     ]
    },
    {
     "data": {
      "text/plain": "<Figure size 432x288 with 1 Axes>",
      "image/png": "[encoded data removed]"
     },
     "metadata": {},
     "output_type": "display_data"
    }
   ]
  },
  {
   "cell_type": "markdown",
   "metadata": {
    "id": "1NOgGjC-oiKG",
    "pycharm": {
     "name": "#%% md\n"
    }
   },
   "source": [
    "The above plot indicates that the lowest training MSE is reached when doing regression on 17 components."
   ]
  },
  {
   "cell_type": "code",
   "metadata": {
    "id": "zjSXCAiloiKH",
    "colab": {
     "base_uri": "https://localhost:8080/"
    },
    "executionInfo": {
     "status": "ok",
     "timestamp": 1637262645402,
     "user_tz": 600,
     "elapsed": 5,
     "user": {
      "displayName": "Torrey Wagner",
      "photoUrl": "https://lh3.googleusercontent.com/a/default-user=s64",
      "userId": "18235062716651285949"
     }
    },
    "outputId": "81dd8a0d-c35a-42a7-da4d-e707e96156b5",
    "pycharm": {
     "name": "#%%\n"
    }
   },
   "source": [
    "regr_test = LinearRegression()\n",
    "regr_test.fit(X_reduced, y)\n",
    "regr_test.coef_"
   ],
   "execution_count": 25,
   "outputs": [
    {
     "data": {
      "text/plain": "array([ 106.36859204,  -21.60350456,   24.2942534 ,  -36.9858579 ,\n        -58.41402748,   62.20632652,   24.63862038,   15.82817701,\n         29.57680773,   99.64801199,  -30.11209105,   20.99269291,\n         72.40210574, -276.68551696,  -74.17098665,  422.72580227,\n       -347.05662353, -561.59691587,  -83.25441536])"
     },
     "execution_count": 25,
     "metadata": {},
     "output_type": "execute_result"
    }
   ]
  },
  {
   "cell_type": "markdown",
   "metadata": {
    "id": "vJcUqk1IoiKJ",
    "pycharm": {
     "name": "#%% md\n"
    }
   },
   "source": [
    "#### Fitting PCA with training data"
   ]
  },
  {
   "cell_type": "code",
   "metadata": {
    "id": "87-Fzc95oiKJ",
    "colab": {
     "base_uri": "https://localhost:8080/",
     "height": 291
    },
    "executionInfo": {
     "status": "ok",
     "timestamp": 1637262667358,
     "user_tz": 600,
     "elapsed": 1676,
     "user": {
      "displayName": "Torrey Wagner",
      "photoUrl": "https://lh3.googleusercontent.com/a/default-user=s64",
      "userId": "18235062716651285949"
     }
    },
    "outputId": "1c0dd1f5-5c1f-45ee-ab94-537b336b1cda",
    "pycharm": {
     "name": "#%%\n"
    }
   },
   "source": [
    "# load reduced datasets\n",
    "X_train = pd.read_csv('Hitters datasets/Hitters_X_train.csv', index_col=0)\n",
    "y_train = pd.read_csv('Hitters datasets/Hitters_y_train.csv', index_col=0)\n",
    "X_test = pd.read_csv('Hitters datasets/Hitters_X_test.csv', index_col=0)\n",
    "y_test = pd.read_csv('Hitters datasets/Hitters_y_test.csv', index_col=0)\n",
    "\n",
    "pca2 = PCA()\n",
    "X_reduced_train = pca2.fit_transform(X_train)\n",
    "n = len(X_reduced_train)\n",
    "\n",
    "# 10-fold CV, with shuffle\n",
    "kf_10 = KFold(n_splits=10, shuffle=True, random_state=1)\n",
    "\n",
    "mse = []\n",
    "\n",
    "# Calculate MSE with only the intercept (no principal components in regression)\n",
    "score = -1*cross_val_score(regr, np.ones((n,1)), y_train, cv=kf_10, scoring='neg_mean_squared_error').mean()    \n",
    "# mse.append(score)\n",
    "\n",
    "# Calculate MSE using CV for the 19 principle components, adding one component at the time.\n",
    "for i in np.arange(1, 20):\n",
    "    score = -1*cross_val_score(regr, X_reduced_train[:,:i], y_train, cv=kf_10, scoring='neg_mean_squared_error').mean()\n",
    "    mse.append(score)\n",
    "\n",
    "plt.plot(np.array(mse), '-v')\n",
    "plt.xlabel('Number of principal components in regression')\n",
    "plt.ylabel('MSE')\n",
    "plt.title('Salary')\n",
    "plt.xlim(xmin=-1);"
   ],
   "execution_count": 29,
   "outputs": [
    {
     "data": {
      "text/plain": "<Figure size 432x288 with 1 Axes>",
      "image/png": "[encoded data removed]"
     },
     "metadata": {},
     "output_type": "display_data"
    }
   ]
  },
  {
   "cell_type": "markdown",
   "metadata": {
    "id": "36_6wrneoiKL",
    "pycharm": {
     "name": "#%% md\n"
    }
   },
   "source": [
    "The above plot indicates that the lowest training MSE is reached when doing regression on 4 components."
   ]
  },
  {
   "cell_type": "markdown",
   "metadata": {
    "id": "cOWBjIGuoiKL",
    "pycharm": {
     "name": "#%% md\n"
    }
   },
   "source": [
    "#### Transform test data with PCA loadings and fit regression on varied principal components"
   ]
  },
  {
   "cell_type": "code",
   "metadata": {
    "id": "TZKeqKsaoiKL",
    "colab": {
     "base_uri": "https://localhost:8080/"
    },
    "executionInfo": {
     "status": "ok",
     "timestamp": 1637262673162,
     "user_tz": 600,
     "elapsed": 236,
     "user": {
      "displayName": "Torrey Wagner",
      "photoUrl": "https://lh3.googleusercontent.com/a/default-user=s64",
      "userId": "18235062716651285949"
     }
    },
    "outputId": "539a2cf4-5968-49a9-95f3-aacce0053e23",
    "pycharm": {
     "name": "#%%\n"
    }
   },
   "source": [
    "n_comp = 12\n",
    "X_reduced_test = pca2.transform(X_test)[:,:n_comp]\n",
    "\n",
    "# Train regression model on training data \n",
    "regr = LinearRegression()\n",
    "regr.fit(X_reduced_train[:,:n_comp], y_train)\n",
    "\n",
    "# Prediction with test data\n",
    "pred = regr.predict(X_reduced_test)\n",
    "mean_squared_error(y_test, pred)"
   ],
   "execution_count": 32,
   "outputs": [
    {
     "data": {
      "text/plain": "119732.7615183234"
     },
     "execution_count": 32,
     "metadata": {},
     "output_type": "execute_result"
    }
   ]
  },
  {
   "cell_type": "markdown",
   "metadata": {
    "id": "SUFPmkowoiKN",
    "pycharm": {
     "name": "#%% md\n"
    }
   },
   "source": [
    "### 6.7.2 Partial Least Squares"
   ]
  },
  {
   "cell_type": "markdown",
   "metadata": {
    "id": "aFde9pB1oiKN",
    "pycharm": {
     "name": "#%% md\n"
    }
   },
   "source": [
    "  \n",
    "See documentation:\n",
    "http://scikit-learn.org/dev/modules/generated/sklearn.cross_decomposition.PLSRegression.html#sklearn.cross_decomposition.PLSRegression"
   ]
  },
  {
   "cell_type": "markdown",
   "metadata": {
    "id": "2fK4jsJefJuK",
    "pycharm": {
     "name": "#%% md\n"
    }
   },
   "source": [
    "Perform a sweep of PLS and plot results"
   ]
  },
  {
   "cell_type": "code",
   "metadata": {
    "id": "VBc7Bq_MoiKN",
    "colab": {
     "base_uri": "https://localhost:8080/",
     "height": 291
    },
    "executionInfo": {
     "status": "ok",
     "timestamp": 1637262800506,
     "user_tz": 600,
     "elapsed": 2601,
     "user": {
      "displayName": "Torrey Wagner",
      "photoUrl": "https://lh3.googleusercontent.com/a/default-user=s64",
      "userId": "18235062716651285949"
     }
    },
    "outputId": "a68f2e72-7361-4c54-85d1-c47d0c950f9d",
    "pycharm": {
     "name": "#%%\n"
    }
   },
   "source": [
    "n = len(X_train)\n",
    "\n",
    "# 10-fold CV, with shuffle\n",
    "kf_10 = KFold(n_splits=10,  shuffle=True, random_state=1)\n",
    "\n",
    "mse_on_train_CV = []\n",
    "mse_on_test_good = []\n",
    "mse_on_test_bad = []\n",
    "\n",
    "for i in np.arange(1, 20):\n",
    "    # instantiate models\n",
    "    pls = PLSRegression(n_components=i)\n",
    "    pls2 = PLSRegression(n_components=i)\n",
    "    pls3 = PLSRegression(n_components=i)\n",
    "\n",
    "    # use training set to train and calculate error, using cross-validation approach\n",
    "    score_train_CV = cross_val_score(pls, X_train, y_train, cv=kf_10, scoring='neg_mean_squared_error').mean()\n",
    "    mse_on_train_CV.append(-score_train_CV)\n",
    "\n",
    "    # train on training set, calc error on test set (no CV) - correct approach 2 of 2\n",
    "    pls2.fit(X_train, y_train)\n",
    "    mse_on_test_good.append(mean_squared_error(y_test, pls2.predict(X_test)) )\n",
    "\n",
    "    # train on training set, calc error on train set (no CV) - bad approach\n",
    "    pls3.fit(X_train, y_train)\n",
    "    mse_on_test_bad.append(mean_squared_error(y_train, pls3.predict(X_train)) )\n",
    "\n",
    "\n",
    "    # use test set to train and calculate error, using cross-validation approach - correct approach 1 of 2\n",
    "    # score_test_CV = cross_val_score(pls, X_test, y_test, cv=kf_10, scoring='neg_mean_squared_error').mean()\n",
    "    # mse_on_train.append(-score_test_CV)\n",
    "\n",
    "    # train on test set, calc error on test set\n",
    "    # pls2.fit(X_test, y_test)\n",
    "    # mse_on_test.append(mean_squared_error(y_test, pls2.predict(X_test)) )\n",
    "\n",
    "\n",
    "plt.plot(np.arange(1, 20), np.array(mse_on_train_CV), '-v', label='error on train set (CV)')\n",
    "plt.plot(np.arange(1, 20), np.array(mse_on_test_good), '-v', label='error (no CV) - good')\n",
    "plt.plot(np.arange(1, 20), np.array(mse_on_test_bad), '-v', label='error (no CV) - bad')\n",
    "\n",
    "# annotate plot\n",
    "plt.xlabel('Number of principal components in regression')\n",
    "plt.ylabel('MSE')\n",
    "plt.title('Salary')\n",
    "plt.legend()\n",
    "\n",
    "#format plot\n",
    "plt.xlim(xmin=-1);\n",
    "plt.xticks(range(1,20))\n",
    "plt.grid(color='k', linestyle='-', linewidth=1)\n",
    "\n",
    "# change plot size\n",
    "import matplotlib.pyplot as pltlib\n",
    "pltlib.rcParams[\"figure.figsize\"] = (10,8)\n",
    "pltlib.rcParams['figure.dpi'] = 100\n",
    "\n",
    "# access PLS attribute\n",
    "# print(pls2.coef_)\n"
   ],
   "execution_count": 33,
   "outputs": [
    {
     "data": {
      "text/plain": "<Figure size 432x288 with 1 Axes>",
      "image/png": "[encoded data removed]"
     },
     "metadata": {},
     "output_type": "display_data"
    }
   ]
  },
  {
   "cell_type": "markdown",
   "metadata": {
    "id": "X59Q7LiLfWb3",
    "pycharm": {
     "name": "#%% md\n"
    }
   },
   "source": [
    "Compare training & test sets using CV"
   ]
  },
  {
   "cell_type": "code",
   "metadata": {
    "id": "sEDt1s5bfZaF",
    "colab": {
     "base_uri": "https://localhost:8080/",
     "height": 699
    },
    "executionInfo": {
     "status": "ok",
     "timestamp": 1637262832013,
     "user_tz": 600,
     "elapsed": 4466,
     "user": {
      "displayName": "Torrey Wagner",
      "photoUrl": "https://lh3.googleusercontent.com/a/default-user=s64",
      "userId": "18235062716651285949"
     }
    },
    "outputId": "371c9a52-96a4-4df1-e639-04ea6535e645",
    "pycharm": {
     "name": "#%%\n"
    }
   },
   "source": [
    "n = len(X_train)\n",
    "\n",
    "# 10-fold CV, with shuffle\n",
    "kf_10 = KFold(n_splits=10, shuffle=True, random_state=1)\n",
    "\n",
    "mse_on_train_CV = []\n",
    "mse_on_test_CV = []\n",
    "\n",
    "for i in np.arange(1, 20):\n",
    "    # instantiate model\n",
    "    pls = PLSRegression(n_components=i)\n",
    "\n",
    "    # use training set to train and calculate error, using cross-validation approach\n",
    "    score_train_CV = cross_val_score(pls, X_train, y_train, cv=kf_10, scoring='neg_mean_squared_error').mean()\n",
    "    mse_on_train_CV.append(-score_train_CV)\n",
    "\n",
    "    # use training set to train and calculate error, using cross-validation approach\n",
    "    score_test_CV = cross_val_score(pls, X_test, y_test, cv=kf_10, scoring='neg_mean_squared_error').mean()\n",
    "    mse_on_test_CV.append(-score_test_CV)\n",
    "\n",
    "plt.plot(np.arange(1, 20), np.array(mse_on_train_CV), '-v', label='error on train set (CV)')\n",
    "plt.plot(np.arange(1, 20), np.array(mse_on_test_CV), '-v', label='error on test set (CV)')\n",
    "\n",
    "plt.xlabel('Number of principal components in regression')\n",
    "plt.ylabel('MSE')\n",
    "plt.title('Salary')\n",
    "plt.xlim(xmin=-1);\n",
    "plt.legend()\n",
    "\n",
    "plt.xticks(range(1,20))\n",
    "plt.grid(color='k', linestyle='-', linewidth=1)"
   ],
   "execution_count": 34,
   "outputs": [
    {
     "data": {
      "text/plain": "<Figure size 1000x800 with 1 Axes>",
      "image/png": "[encoded data removed]"
     },
     "metadata": {},
     "output_type": "display_data"
    }
   ]
  },
  {
   "cell_type": "code",
   "execution_count": 35,
   "outputs": [
    {
     "data": {
      "text/plain": "101417.46102410386"
     },
     "execution_count": 35,
     "metadata": {},
     "output_type": "execute_result"
    }
   ],
   "source": [
    "pls = PLSRegression(n_components=2)\n",
    "pls.fit(X_train, y_train)\n",
    "\n",
    "mean_squared_error(y_test, pls.predict(X_test))"
   ],
   "metadata": {
    "collapsed": false,
    "pycharm": {
     "name": "#%%\n"
    }
   }
  },
  {
   "cell_type": "code",
   "execution_count": null,
   "outputs": [],
   "source": [],
   "metadata": {
    "collapsed": false,
    "pycharm": {
     "name": "#%%\n"
    }
   }
  }
 ]
}