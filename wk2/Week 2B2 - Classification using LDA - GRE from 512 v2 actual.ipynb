{
 "nbformat": 4,
 "nbformat_minor": 0,
 "metadata": {
  "colab": {
   "name": "Week 2B2 - Classification using LDA - GRE from 512 v2 actual.ipynb",
   "provenance": [],
   "authorship_tag": "ABX9TyN8YOF1RnyVhs9UoytS3hem"
  },
  "kernelspec": {
   "name": "python3",
   "display_name": "Python 3"
  }
 },
 "cells": [
  {
   "cell_type": "markdown",
   "metadata": {
    "id": "QyGEvqcz8O3p",
    "pycharm": {
     "name": "#%% md\n"
    }
   },
   "source": [
    "Preamble\n"
   ]
  },
  {
   "cell_type": "code",
   "metadata": {
    "id": "13cPrKZN8ReS",
    "colab": {
     "base_uri": "https://localhost:8080/"
    },
    "executionInfo": {
     "status": "ok",
     "timestamp": 1625885248069,
     "user_tz": 600,
     "elapsed": 1100,
     "user": {
      "displayName": "Torrey Wagner",
      "photoUrl": "",
      "userId": "18235062716651285949"
     }
    },
    "outputId": "fb315539-b1ef-47bb-a933-f2bbb6c14476",
    "pycharm": {
     "name": "#%%\n"
    }
   },
   "source": [
    "# -*- coding: utf-8 -*-\n",
    "\n",
    "\n",
    "import numpy as np\n",
    "import matplotlib.pyplot as plt\n",
    "import pandas as pd\n",
    "\n",
    "pd.set_option('display.max_rows', 40)\n",
    "pd.set_option('display.max_columns', 500)\n",
    "pd.set_option('display.width', 1000)\n",
    "\n",
    "import scipy.stats as stats\n",
    "import seaborn as sns\n",
    "import statsmodels.api as sm\n",
    "import statsmodels.formula.api as smf\n",
    "\n",
    "from sklearn.model_selection import train_test_split\n",
    "\n",
    "\n",
    "print(\"\\n---Libraries loaded\")\n"
   ],
   "execution_count": 1,
   "outputs": [
    {
     "name": "stdout",
     "output_type": "stream",
     "text": [
      "\n",
      "---Libraries loaded\n"
     ]
    }
   ]
  },
  {
   "cell_type": "markdown",
   "metadata": {
    "id": "j8xzQQa58Xmg",
    "pycharm": {
     "name": "#%% md\n"
    }
   },
   "source": [
    "Data preparation"
   ]
  },
  {
   "cell_type": "code",
   "metadata": {
    "id": "uNmHYJpo8ZLn",
    "colab": {
     "base_uri": "https://localhost:8080/",
     "height": 1000
    },
    "executionInfo": {
     "status": "ok",
     "timestamp": 1625885248910,
     "user_tz": 600,
     "elapsed": 842,
     "user": {
      "displayName": "Torrey Wagner",
      "photoUrl": "",
      "userId": "18235062716651285949"
     }
    },
    "outputId": "1dc6ea62-97a4-422e-aae5-023b4c774876",
    "pycharm": {
     "name": "#%%\n"
    }
   },
   "source": [
    "df = pd.read_csv('GRE.csv')\n",
    "\n",
    "# the line below was moved from later in the script after the lecture was recorded. \n",
    "# The columns need to be renamed after splitting\n",
    "df.columns = ['admit','gre', 'gpa', 'rank_in_class']\n",
    "\n",
    "\n",
    "#Split into Train/Test Data\n",
    "X = df.loc[:, df.columns != 'admit']\n",
    "y = df.loc[:, df.columns == 'admit']\n",
    "X_train, X_test, y_train, y_test = train_test_split(X, y, test_size=0.3, random_state=0)\n",
    " \n",
    "\n",
    "df.gre.hist()\n",
    "plt.title('Histogram of GRE')\n",
    "plt.xlabel('GRE')\n",
    "plt.ylabel('Frequency')\n",
    "plt.show()\n",
    "\n",
    "df.gpa.hist()\n",
    "plt.title('Histogram of GPA')\n",
    "plt.xlabel('GPA')\n",
    "plt.ylabel('Frequency')\n",
    "plt.show()\n",
    "\n",
    "# df.rank.hist()\n",
    "# plt.title('Histogram of Rank')\n",
    "# plt.xlabel('Rank')\n",
    "# plt.ylabel('Frequency')\n",
    "# plt.show()\n",
    "\n",
    "\n",
    "\n",
    "df.rank_in_class.hist()\n",
    "plt.title('Histogram of Rank')\n",
    "plt.xlabel('Rank')\n",
    "plt.ylabel('Frequency')\n",
    "plt.show()\n",
    "\n",
    "df\n",
    "\n"
   ],
   "execution_count": 2,
   "outputs": [
    {
     "data": {
      "text/plain": "<Figure size 432x288 with 1 Axes>",
      "image/png": "[encoded data removed]"
     },
     "metadata": {
      "needs_background": "light"
     },
     "output_type": "display_data"
    },
    {
     "data": {
      "text/plain": "<Figure size 432x288 with 1 Axes>",
      "image/png": "[encoded data removed]"
     },
     "metadata": {
      "needs_background": "light"
     },
     "output_type": "display_data"
    },
    {
     "data": {
      "text/plain": "<Figure size 432x288 with 1 Axes>",
      "image/png": "[encoded data removed]"
     },
     "metadata": {
      "needs_background": "light"
     },
     "output_type": "display_data"
    },
    {
     "data": {
      "text/plain": "     admit  gre   gpa  rank_in_class\n0        0  380  3.61              3\n1        1  660  3.67              3\n2        1  800  4.00              1\n3        1  640  3.19              4\n4        0  520  2.93              4\n..     ...  ...   ...            ...\n395      0  620  4.00              2\n396      0  560  3.04              3\n397      0  460  2.63              2\n398      0  700  3.65              2\n399      0  600  3.89              3\n\n[400 rows x 4 columns]",
      "text/html": "<div>\n<style scoped>\n    .dataframe tbody tr th:only-of-type {\n        vertical-align: middle;\n    }\n\n    .dataframe tbody tr th {\n        vertical-align: top;\n    }\n\n    .dataframe thead th {\n        text-align: right;\n    }\n</style>\n<table border=\"1\" class=\"dataframe\">\n  <thead>\n    <tr style=\"text-align: right;\">\n      <th></th>\n      <th>admit</th>\n      <th>gre</th>\n      <th>gpa</th>\n      <th>rank_in_class</th>\n    </tr>\n  </thead>\n  <tbody>\n    <tr>\n      <th>0</th>\n      <td>0</td>\n      <td>380</td>\n      <td>3.61</td>\n      <td>3</td>\n    </tr>\n    <tr>\n      <th>1</th>\n      <td>1</td>\n      <td>660</td>\n      <td>3.67</td>\n      <td>3</td>\n    </tr>\n    <tr>\n      <th>2</th>\n      <td>1</td>\n      <td>800</td>\n      <td>4.00</td>\n      <td>1</td>\n    </tr>\n    <tr>\n      <th>3</th>\n      <td>1</td>\n      <td>640</td>\n      <td>3.19</td>\n      <td>4</td>\n    </tr>\n    <tr>\n      <th>4</th>\n      <td>0</td>\n      <td>520</td>\n      <td>2.93</td>\n      <td>4</td>\n    </tr>\n    <tr>\n      <th>...</th>\n      <td>...</td>\n      <td>...</td>\n      <td>...</td>\n      <td>...</td>\n    </tr>\n    <tr>\n      <th>395</th>\n      <td>0</td>\n      <td>620</td>\n      <td>4.00</td>\n      <td>2</td>\n    </tr>\n    <tr>\n      <th>396</th>\n      <td>0</td>\n      <td>560</td>\n      <td>3.04</td>\n      <td>3</td>\n    </tr>\n    <tr>\n      <th>397</th>\n      <td>0</td>\n      <td>460</td>\n      <td>2.63</td>\n      <td>2</td>\n    </tr>\n    <tr>\n      <th>398</th>\n      <td>0</td>\n      <td>700</td>\n      <td>3.65</td>\n      <td>2</td>\n    </tr>\n    <tr>\n      <th>399</th>\n      <td>0</td>\n      <td>600</td>\n      <td>3.89</td>\n      <td>3</td>\n    </tr>\n  </tbody>\n</table>\n<p>400 rows × 4 columns</p>\n</div>"
     },
     "execution_count": 2,
     "metadata": {},
     "output_type": "execute_result"
    }
   ]
  },
  {
   "cell_type": "markdown",
   "metadata": {
    "id": "2ikCJ70R8M-n",
    "pycharm": {
     "name": "#%% md\n"
    }
   },
   "source": [
    "Create model with statsmodels Logit"
   ]
  },
  {
   "cell_type": "code",
   "metadata": {
    "id": "XIq_YGcF8anY",
    "colab": {
     "base_uri": "https://localhost:8080/"
    },
    "executionInfo": {
     "status": "ok",
     "timestamp": 1625885248910,
     "user_tz": 600,
     "elapsed": 6,
     "user": {
      "displayName": "Torrey Wagner",
      "photoUrl": "",
      "userId": "18235062716651285949"
     }
    },
    "outputId": "91a63430-57e1-4829-e06f-2dfb1f8014ea",
    "pycharm": {
     "name": "#%%\n"
    }
   },
   "source": [
    "model = sm.Logit(y_train,X_train).fit()\n",
    "print(model.summary())\n",
    "\n"
   ],
   "execution_count": 3,
   "outputs": [
    {
     "name": "stdout",
     "output_type": "stream",
     "text": [
      "Optimization terminated successfully.\n",
      "         Current function value: 0.580482\n",
      "         Iterations 5\n",
      "                           Logit Regression Results                           \n",
      "==============================================================================\n",
      "Dep. Variable:                  admit   No. Observations:                  280\n",
      "Model:                          Logit   Df Residuals:                      277\n",
      "Method:                           MLE   Df Model:                            2\n",
      "Date:                Thu, 20 Oct 2022   Pseudo R-squ.:                 0.07159\n",
      "Time:                        19:03:04   Log-Likelihood:                -162.53\n",
      "converged:                       True   LL-Null:                       -175.07\n",
      "Covariance Type:            nonrobust   LLR p-value:                 3.604e-06\n",
      "=================================================================================\n",
      "                    coef    std err          z      P>|z|      [0.025      0.975]\n",
      "---------------------------------------------------------------------------------\n",
      "gre               0.0006      0.001      0.493      0.622      -0.002       0.003\n",
      "gpa               0.1921      0.235      0.816      0.414      -0.269       0.653\n",
      "rank_in_class    -0.7446      0.150     -4.979      0.000      -1.038      -0.452\n",
      "=================================================================================\n"
     ]
    }
   ]
  },
  {
   "cell_type": "markdown",
   "metadata": {
    "id": "-JhSfMpf8lAX",
    "pycharm": {
     "name": "#%% md\n"
    }
   },
   "source": [
    "Odds ratio"
   ]
  },
  {
   "cell_type": "code",
   "metadata": {
    "id": "5MwubJrJ82x5",
    "colab": {
     "base_uri": "https://localhost:8080/"
    },
    "executionInfo": {
     "status": "ok",
     "timestamp": 1625885248911,
     "user_tz": 600,
     "elapsed": 6,
     "user": {
      "displayName": "Torrey Wagner",
      "photoUrl": "",
      "userId": "18235062716651285949"
     }
    },
    "outputId": "29bdc68b-f969-4353-ca04-7650b7a38484",
    "pycharm": {
     "name": "#%%\n"
    }
   },
   "source": [
    "model_odds = pd.DataFrame(np.exp(model.params), columns= ['OR'])\n",
    "model_odds['z-value']= model.pvalues\n",
    "model_odds[['2.5%', '97.5%']] = np.exp(model.conf_int())\n",
    "print(model_odds)"
   ],
   "execution_count": 4,
   "outputs": [
    {
     "name": "stdout",
     "output_type": "stream",
     "text": [
      "                     OR       z-value      2.5%     97.5%\n",
      "gre            1.000603  6.218499e-01  0.998208  1.003004\n",
      "gpa            1.211776  4.144643e-01  0.763948  1.922123\n",
      "rank_in_class  0.474925  6.380070e-07  0.354273  0.636666\n"
     ]
    }
   ]
  },
  {
   "cell_type": "markdown",
   "metadata": {
    "id": "HoHyYhJG8oVd",
    "pycharm": {
     "name": "#%% md\n"
    }
   },
   "source": [
    "Evaluation & Plot residuals"
   ]
  },
  {
   "cell_type": "code",
   "metadata": {
    "id": "AcCrzp0b8488",
    "colab": {
     "base_uri": "https://localhost:8080/",
     "height": 657
    },
    "executionInfo": {
     "status": "ok",
     "timestamp": 1625885249992,
     "user_tz": 600,
     "elapsed": 1085,
     "user": {
      "displayName": "Torrey Wagner",
      "photoUrl": "",
      "userId": "18235062716651285949"
     }
    },
    "outputId": "fb71a780-5ff2-46cc-dbfa-4a18b5d14ab9",
    "pycharm": {
     "name": "#%%\n"
    }
   },
   "source": [
    "#Confusion Matrix\n",
    "print(\"\\n---Confusion Matrix\")\n",
    "from sklearn.metrics import confusion_matrix\n",
    "\n",
    "y_pred = model.predict(X_test) > 0.5  # this line is updated from the recording\n",
    "\n",
    "confusion_matrix_my = confusion_matrix(y_test, y_pred)\n",
    "print(confusion_matrix_my)\n",
    "\n",
    "## Plotting multiple plots same figure\n",
    "fig, (axL, axR) = plt.subplots(1,2, figsize=(25, 8))\n",
    "plt.suptitle(\"Logistic Regression Residual Plots\")\n",
    "\n",
    "# Deviance Residuals\n",
    "sns.regplot(model.fittedvalues, model.resid_dev, ax= axL,\n",
    "            color=\"black\", scatter_kws={\"s\": 5},\n",
    "            line_kws={\"color\":\"b\", \"alpha\":1, \"lw\":2}, lowess=True)\n",
    "axL.set_title(\"Deviance Residuals against Fitted Values\")\n",
    "axL.set_xlabel(\"Linear Predictor Values\")\n",
    "axL.set_ylabel(\"Deviance Residuals\")\n",
    "\n",
    "# Studentized Pearson Residuals\n",
    "sns.regplot(model.fittedvalues, model.resid_pearson, ax= axR,\n",
    "            color=\"black\", scatter_kws={\"s\": 5},\n",
    "            line_kws={\"color\":\"g\", \"alpha\":1, \"lw\":2}, lowess=True)\n",
    "axR.set_title(\"Studentized Pearson Residuals against Fitted Values\")\n",
    "axR.set_xlabel(\"Linear Predictor Values\")\n",
    "axR.set_ylabel(\"Studentized Pearson Residuals\")\n",
    "\n",
    "# save figure (for homework), or screen capture\n",
    "plt.savefig('resid.png', transparent=True)\n",
    "\n"
   ],
   "execution_count": 5,
   "outputs": [
    {
     "name": "stdout",
     "output_type": "stream",
     "text": [
      "\n",
      "---Confusion Matrix\n",
      "[[73  9]\n",
      " [29  9]]\n"
     ]
    },
    {
     "name": "stderr",
     "output_type": "stream",
     "text": [
      "/usr/local/lib/python3.10/site-packages/seaborn/_decorators.py:36: FutureWarning: Pass the following variables as keyword args: x, y. From version 0.12, the only valid positional argument will be `data`, and passing other arguments without an explicit keyword will result in an error or misinterpretation.\n",
      "  warnings.warn(\n"
     ]
    },
    {
     "data": {
      "text/plain": "<Figure size 1800x576 with 2 Axes>",
      "image/png": "[encoded data removed]"
     },
     "metadata": {
      "needs_background": "light"
     },
     "output_type": "display_data"
    }
   ]
  },
  {
   "cell_type": "markdown",
   "metadata": {
    "id": "0JbsyLIE8qe8",
    "pycharm": {
     "name": "#%% md\n"
    }
   },
   "source": [
    "Create model with skLearn Logistic Regression fn"
   ]
  },
  {
   "cell_type": "code",
   "metadata": {
    "id": "6jNiAHaRBj5k",
    "colab": {
     "base_uri": "https://localhost:8080/"
    },
    "executionInfo": {
     "status": "ok",
     "timestamp": 1625885249992,
     "user_tz": 600,
     "elapsed": 5,
     "user": {
      "displayName": "Torrey Wagner",
      "photoUrl": "",
      "userId": "18235062716651285949"
     }
    },
    "outputId": "103b651a-106d-4f20-e309-5eec1fd37a3d",
    "pycharm": {
     "name": "#%%\n"
    }
   },
   "source": [
    "\n",
    "from sklearn import preprocessing\n",
    "from sklearn.linear_model import LogisticRegression\n",
    "from sklearn.model_selection import train_test_split\n",
    "from sklearn import metrics\n",
    "from sklearn.metrics import confusion_matrix\n",
    "from sklearn.metrics import classification_report\n",
    "from sklearn.metrics import roc_auc_score\n",
    "from sklearn.metrics import roc_curve\n",
    "\n",
    "#Fit the Model with Sklearn\n",
    "logreg = LogisticRegression(fit_intercept = True)    # default intercept = true\n",
    "#logreg = LogisticRegression(fit_intercept = False)    \n",
    "\n",
    "logreg.fit(X_train, y_train.values.ravel())\n",
    "y_pred = logreg.predict(X_test)\n",
    "\n",
    "print(\"Modeling complete\")"
   ],
   "execution_count": 6,
   "outputs": [
    {
     "name": "stdout",
     "output_type": "stream",
     "text": [
      "Modeling complete\n"
     ]
    }
   ]
  },
  {
   "cell_type": "markdown",
   "metadata": {
    "id": "J2wCj79hBgsn",
    "pycharm": {
     "name": "#%% md\n"
    }
   },
   "source": [
    "Model evaluation"
   ]
  },
  {
   "cell_type": "code",
   "metadata": {
    "id": "FHTFrrAz8Fno",
    "colab": {
     "base_uri": "https://localhost:8080/"
    },
    "executionInfo": {
     "status": "ok",
     "timestamp": 1625885249992,
     "user_tz": 600,
     "elapsed": 4,
     "user": {
      "displayName": "Torrey Wagner",
      "photoUrl": "",
      "userId": "18235062716651285949"
     }
    },
    "outputId": "d6a0d1cd-01e2-4119-d30f-fd64094657d9",
    "pycharm": {
     "name": "#%%\n"
    }
   },
   "source": [
    "#Print Test Set Accuracy\n",
    "print(\"\\n---Test Set Accuracy\")\n",
    "print(logreg.score(X_test, y_test))\n",
    "\n",
    "#Confusion Matrix\n",
    "print(\"\\n---Confusion Matrix\")\n",
    "from sklearn.metrics import confusion_matrix\n",
    "confusion_matrix = confusion_matrix(y_test, y_pred)\n",
    "print(confusion_matrix)\n",
    "\n",
    "#Classification Report\n",
    "print(\"\\n---Classification Report\")\n",
    "from sklearn.metrics import classification_report\n",
    "print(classification_report(y_test, y_pred))\n",
    "\n",
    "#An attempt at a regression model summary\n",
    "print(\"\\n---An attempt at a regression model summary\")\n",
    "\n",
    "import sklearn.metrics as metrics\n",
    "def regression_results(y_true, y_pred):\n",
    "\n",
    "    # Regression metrics\n",
    "    explained_variance=metrics.explained_variance_score(y_true, y_pred)\n",
    "    mean_absolute_error=metrics.mean_absolute_error(y_true, y_pred) \n",
    "    mse=metrics.mean_squared_error(y_true, y_pred) \n",
    "    mean_squared_log_error=metrics.mean_squared_log_error(y_true, y_pred)\n",
    "    median_absolute_error=metrics.median_absolute_error(y_true, y_pred)\n",
    "    r2=metrics.r2_score(y_true, y_pred)\n",
    "\n",
    "    print('explained_variance: ', round(explained_variance,4))    \n",
    "    print('mean_squared_log_error: ', round(mean_squared_log_error,4))\n",
    "    print('r2: ', round(r2,4))\n",
    "    print('MAE: ', round(mean_absolute_error,4))\n",
    "    print('MSE: ', round(mse,4))\n",
    "    print('RMSE: ', round(np.sqrt(mse),4))\n",
    "\n",
    "      \n",
    "regression_results(y_test, y_pred)"
   ],
   "execution_count": 7,
   "outputs": [
    {
     "name": "stdout",
     "output_type": "stream",
     "text": [
      "\n",
      "---Test Set Accuracy\n",
      "0.7166666666666667\n",
      "\n",
      "---Confusion Matrix\n",
      "[[78  4]\n",
      " [30  8]]\n",
      "\n",
      "---Classification Report\n",
      "              precision    recall  f1-score   support\n",
      "\n",
      "           0       0.72      0.95      0.82        82\n",
      "           1       0.67      0.21      0.32        38\n",
      "\n",
      "    accuracy                           0.72       120\n",
      "   macro avg       0.69      0.58      0.57       120\n",
      "weighted avg       0.70      0.72      0.66       120\n",
      "\n",
      "\n",
      "---An attempt at a regression model summary\n",
      "explained_variance:  -0.0924\n",
      "mean_squared_log_error:  0.1361\n",
      "r2:  -0.3094\n",
      "MAE:  0.2833\n",
      "MSE:  0.2833\n",
      "RMSE:  0.5323\n"
     ]
    }
   ]
  },
  {
   "cell_type": "markdown",
   "metadata": {
    "id": "37zx_5FpBmuT",
    "pycharm": {
     "name": "#%% md\n"
    }
   },
   "source": [
    "ROC"
   ]
  },
  {
   "cell_type": "code",
   "metadata": {
    "id": "1OKvtPGgBnkT",
    "colab": {
     "base_uri": "https://localhost:8080/",
     "height": 295
    },
    "executionInfo": {
     "status": "ok",
     "timestamp": 1625885250243,
     "user_tz": 600,
     "elapsed": 253,
     "user": {
      "displayName": "Torrey Wagner",
      "photoUrl": "",
      "userId": "18235062716651285949"
     }
    },
    "outputId": "08664600-e0c6-4645-8a38-de5149e85676",
    "pycharm": {
     "name": "#%%\n"
    }
   },
   "source": [
    "#Make the Roc Curve\n",
    "from sklearn.metrics import roc_auc_score\n",
    "from sklearn.metrics import roc_curve\n",
    "\n",
    "logit_roc_auc = roc_auc_score(y_test, logreg.predict(X_test))\n",
    "fpr, tpr, thresholds = roc_curve(y_test, logreg.predict_proba(X_test)[:,1])\n",
    "\n",
    "plt.figure()\n",
    "plt.plot(fpr, tpr, label='Logistic Regression (area = %0.2f)' % logit_roc_auc)\n",
    "plt.plot([0, 1], [0, 1],'r--')\n",
    "plt.xlim([0.0, 1.0])\n",
    "plt.ylim([0.0, 1.05])\n",
    "plt.xlabel('False Positive Rate')\n",
    "plt.ylabel('True Positive Rate')\n",
    "plt.title('Receiver operating characteristic')\n",
    "plt.legend(loc=\"lower right\")\n",
    "plt.savefig('Log_ROC', transparent=True)\n",
    "plt.show()\n",
    "\n"
   ],
   "execution_count": 8,
   "outputs": [
    {
     "data": {
      "text/plain": "<Figure size 432x288 with 1 Axes>",
      "image/png": "[encoded data removed]"
     },
     "metadata": {
      "needs_background": "light"
     },
     "output_type": "display_data"
    }
   ]
  }
 ]
}