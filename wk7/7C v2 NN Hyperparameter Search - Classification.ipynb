{
 "nbformat": 4,
 "nbformat_minor": 0,
 "metadata": {
  "colab": {
   "name": "7C v2 NN Hyperparameter Search - Classification.ipynb",
   "provenance": [],
   "authorship_tag": "ABX9TyOnZNE43JGZJqn+Kee3mRvK"
  },
  "kernelspec": {
   "name": "python3",
   "display_name": "Python 3"
  }
 },
 "cells": [
  {
   "cell_type": "markdown",
   "metadata": {
    "id": "FHktI9XBKjzb",
    "pycharm": {
     "name": "#%% md\n"
    }
   },
   "source": [
    "This demo is modified from https://machinelearningmastery.com/grid-search-hyperparameters-deep-learning-models-python-keras/"
   ]
  },
  {
   "cell_type": "markdown",
   "metadata": {
    "id": "j_pfyMzFIMEf",
    "pycharm": {
     "name": "#%% md\n"
    }
   },
   "source": [
    "Preamble"
   ]
  },
  {
   "cell_type": "code",
   "metadata": {
    "id": "_PYjCg_DIMpe",
    "executionInfo": {
     "status": "ok",
     "timestamp": 1604774842618,
     "user_tz": 600,
     "elapsed": 2864,
     "user": {
      "displayName": "Torrey Wagner",
      "photoUrl": "",
      "userId": "18235062716651285949"
     }
    },
    "pycharm": {
     "name": "#%%\n"
    }
   },
   "source": [
    "# Use scikit-learn to grid search the batch size and epochs\n",
    "import numpy\n",
    "from sklearn.model_selection import GridSearchCV\n",
    "from keras.models import Sequential\n",
    "from keras.layers import Dense\n",
    "from keras.wrappers.scikit_learn import KerasClassifier"
   ],
   "execution_count": 1,
   "outputs": [
    {
     "name": "stderr",
     "output_type": "stream",
     "text": [
      "2022-11-23 21:30:25.194058: I tensorflow/core/platform/cpu_feature_guard.cc:193] This TensorFlow binary is optimized with oneAPI Deep Neural Network Library (oneDNN) to use the following CPU instructions in performance-critical operations:  AVX2 FMA\n",
      "To enable them in other operations, rebuild TensorFlow with the appropriate compiler flags.\n"
     ]
    }
   ]
  },
  {
   "cell_type": "markdown",
   "metadata": {
    "id": "UvremP7fIP_Q",
    "pycharm": {
     "name": "#%% md\n"
    }
   },
   "source": [
    "DU & DP"
   ]
  },
  {
   "cell_type": "code",
   "metadata": {
    "id": "5bBdH3daIZWy",
    "executionInfo": {
     "status": "ok",
     "timestamp": 1604775009445,
     "user_tz": 600,
     "elapsed": 696,
     "user": {
      "displayName": "Torrey Wagner",
      "photoUrl": "",
      "userId": "18235062716651285949"
     }
    },
    "outputId": "d27c62ed-dc31-459c-c400-2cb79a367e02",
    "colab": {
     "base_uri": "https://localhost:8080/"
    },
    "pycharm": {
     "name": "#%%\n"
    }
   },
   "source": [
    "# load dataset\n",
    "dataset = numpy.loadtxt(\"5A pima-indians-diabetes.data.csv\", delimiter=\",\")\n",
    "\n",
    "# split into input (X) and output (Y) variables\n",
    "X = dataset[:,0:8]\n",
    "y = dataset[:,8]\n",
    "\n",
    "print(X)\n"
   ],
   "execution_count": 2,
   "outputs": [
    {
     "name": "stdout",
     "output_type": "stream",
     "text": [
      "[[  6.    148.     72.    ...  33.6     0.627  50.   ]\n",
      " [  1.     85.     66.    ...  26.6     0.351  31.   ]\n",
      " [  8.    183.     64.    ...  23.3     0.672  32.   ]\n",
      " ...\n",
      " [  5.    121.     72.    ...  26.2     0.245  30.   ]\n",
      " [  1.    126.     60.    ...  30.1     0.349  47.   ]\n",
      " [  1.     93.     70.    ...  30.4     0.315  23.   ]]\n"
     ]
    }
   ]
  },
  {
   "cell_type": "markdown",
   "metadata": {
    "id": "Yp7XEYiDIRkF",
    "pycharm": {
     "name": "#%% md\n"
    }
   },
   "source": [
    "Define grid functions for KerasClassifier"
   ]
  },
  {
   "cell_type": "code",
   "metadata": {
    "id": "ajqtBV5eDbPu",
    "executionInfo": {
     "status": "ok",
     "timestamp": 1604775012571,
     "user_tz": 600,
     "elapsed": 482,
     "user": {
      "displayName": "Torrey Wagner",
      "photoUrl": "",
      "userId": "18235062716651285949"
     }
    },
    "pycharm": {
     "name": "#%%\n"
    }
   },
   "source": [
    "def create_and_compile_model():\n",
    "\t# create model\n",
    "\tmodel = Sequential()\n",
    "\tmodel.add(Dense(12, input_dim=8, activation='relu'))\n",
    "\tmodel.add(Dense(1, activation='sigmoid'))\n",
    " \n",
    "\t# Compile model\n",
    "\tmodel.compile(loss='binary_crossentropy', optimizer='adam', metrics=['accuracy'])\n",
    "\treturn model\n"
   ],
   "execution_count": 3,
   "outputs": []
  },
  {
   "cell_type": "markdown",
   "metadata": {
    "id": "vQCTOhjwImkB",
    "pycharm": {
     "name": "#%% md\n"
    }
   },
   "source": [
    "Create model"
   ]
  },
  {
   "cell_type": "code",
   "metadata": {
    "id": "s8xhU0LWIoDK",
    "executionInfo": {
     "status": "ok",
     "timestamp": 1604776738695,
     "user_tz": 600,
     "elapsed": 67342,
     "user": {
      "displayName": "Torrey Wagner",
      "photoUrl": "",
      "userId": "18235062716651285949"
     }
    },
    "pycharm": {
     "name": "#%%\n"
    }
   },
   "source": [
    "# create model\n",
    "model = KerasClassifier(build_fn=create_and_compile_model, verbose=0)\n",
    "\n",
    "# define the grid search parameters\n",
    "batch_size = [10, 20, 40, 60, 80, 100]\n",
    "epochs = [10, 50, 100]\n",
    "\n",
    "param_grid = dict(batch_size=batch_size, epochs=epochs)\n",
    "\n",
    "grid = GridSearchCV(estimator=model, param_grid=param_grid, scoring=\"accuracy\", n_jobs=-1, cv=3)\n",
    "\n",
    "grid_result = grid.fit(X, y)\n"
   ],
   "execution_count": 4,
   "outputs": [
    {
     "name": "stderr",
     "output_type": "stream",
     "text": [
      "/var/folders/nz/57m0v30s0kqdtdm5876x20qw0000gn/T/ipykernel_71324/2636096236.py:2: DeprecationWarning: KerasClassifier is deprecated, use Sci-Keras (https://github.com/adriangb/scikeras) instead. See https://www.adriangb.com/scikeras/stable/migration.html for help migrating.\n",
      "  model = KerasClassifier(build_fn=create_and_compile_model, verbose=0)\n",
      "2022-11-23 21:30:30.797152: I tensorflow/core/platform/cpu_feature_guard.cc:193] This TensorFlow binary is optimized with oneAPI Deep Neural Network Library (oneDNN) to use the following CPU instructions in performance-critical operations:  AVX2 FMA\n",
      "To enable them in other operations, rebuild TensorFlow with the appropriate compiler flags.\n",
      "2022-11-23 21:30:30.798725: I tensorflow/core/platform/cpu_feature_guard.cc:193] This TensorFlow binary is optimized with oneAPI Deep Neural Network Library (oneDNN) to use the following CPU instructions in performance-critical operations:  AVX2 FMA\n",
      "To enable them in other operations, rebuild TensorFlow with the appropriate compiler flags.\n",
      "2022-11-23 21:30:30.799985: I tensorflow/core/platform/cpu_feature_guard.cc:193] This TensorFlow binary is optimized with oneAPI Deep Neural Network Library (oneDNN) to use the following CPU instructions in performance-critical operations:  AVX2 FMA\n",
      "To enable them in other operations, rebuild TensorFlow with the appropriate compiler flags.\n",
      "2022-11-23 21:30:30.818175: I tensorflow/core/platform/cpu_feature_guard.cc:193] This TensorFlow binary is optimized with oneAPI Deep Neural Network Library (oneDNN) to use the following CPU instructions in performance-critical operations:  AVX2 FMA\n",
      "To enable them in other operations, rebuild TensorFlow with the appropriate compiler flags.\n",
      "2022-11-23 21:30:30.823519: I tensorflow/core/platform/cpu_feature_guard.cc:193] This TensorFlow binary is optimized with oneAPI Deep Neural Network Library (oneDNN) to use the following CPU instructions in performance-critical operations:  AVX2 FMA\n",
      "To enable them in other operations, rebuild TensorFlow with the appropriate compiler flags.\n",
      "2022-11-23 21:30:30.861085: I tensorflow/core/platform/cpu_feature_guard.cc:193] This TensorFlow binary is optimized with oneAPI Deep Neural Network Library (oneDNN) to use the following CPU instructions in performance-critical operations:  AVX2 FMA\n",
      "To enable them in other operations, rebuild TensorFlow with the appropriate compiler flags.\n",
      "2022-11-23 21:30:30.871955: I tensorflow/core/platform/cpu_feature_guard.cc:193] This TensorFlow binary is optimized with oneAPI Deep Neural Network Library (oneDNN) to use the following CPU instructions in performance-critical operations:  AVX2 FMA\n",
      "To enable them in other operations, rebuild TensorFlow with the appropriate compiler flags.\n",
      "2022-11-23 21:30:30.899204: I tensorflow/core/platform/cpu_feature_guard.cc:193] This TensorFlow binary is optimized with oneAPI Deep Neural Network Library (oneDNN) to use the following CPU instructions in performance-critical operations:  AVX2 FMA\n",
      "To enable them in other operations, rebuild TensorFlow with the appropriate compiler flags.\n",
      "2022-11-23 21:30:37.724687: I tensorflow/core/platform/cpu_feature_guard.cc:193] This TensorFlow binary is optimized with oneAPI Deep Neural Network Library (oneDNN) to use the following CPU instructions in performance-critical operations:  AVX2 FMA\n",
      "To enable them in other operations, rebuild TensorFlow with the appropriate compiler flags.\n",
      "2022-11-23 21:30:37.724696: I tensorflow/core/platform/cpu_feature_guard.cc:193] This TensorFlow binary is optimized with oneAPI Deep Neural Network Library (oneDNN) to use the following CPU instructions in performance-critical operations:  AVX2 FMA\n",
      "To enable them in other operations, rebuild TensorFlow with the appropriate compiler flags.\n",
      "2022-11-23 21:30:37.724696: I tensorflow/core/platform/cpu_feature_guard.cc:193] This TensorFlow binary is optimized with oneAPI Deep Neural Network Library (oneDNN) to use the following CPU instructions in performance-critical operations:  AVX2 FMA\n",
      "To enable them in other operations, rebuild TensorFlow with the appropriate compiler flags.\n",
      "2022-11-23 21:30:37.728641: I tensorflow/core/platform/cpu_feature_guard.cc:193] This TensorFlow binary is optimized with oneAPI Deep Neural Network Library (oneDNN) to use the following CPU instructions in performance-critical operations:  AVX2 FMA\n",
      "To enable them in other operations, rebuild TensorFlow with the appropriate compiler flags.\n",
      "2022-11-23 21:30:37.731728: I tensorflow/core/platform/cpu_feature_guard.cc:193] This TensorFlow binary is optimized with oneAPI Deep Neural Network Library (oneDNN) to use the following CPU instructions in performance-critical operations:  AVX2 FMA\n",
      "To enable them in other operations, rebuild TensorFlow with the appropriate compiler flags.\n",
      "2022-11-23 21:30:37.732297: I tensorflow/core/platform/cpu_feature_guard.cc:193] This TensorFlow binary is optimized with oneAPI Deep Neural Network Library (oneDNN) to use the following CPU instructions in performance-critical operations:  AVX2 FMA\n",
      "To enable them in other operations, rebuild TensorFlow with the appropriate compiler flags.\n",
      "2022-11-23 21:30:37.750913: I tensorflow/core/platform/cpu_feature_guard.cc:193] This TensorFlow binary is optimized with oneAPI Deep Neural Network Library (oneDNN) to use the following CPU instructions in performance-critical operations:  AVX2 FMA\n",
      "To enable them in other operations, rebuild TensorFlow with the appropriate compiler flags.\n",
      "2022-11-23 21:30:37.761513: I tensorflow/core/platform/cpu_feature_guard.cc:193] This TensorFlow binary is optimized with oneAPI Deep Neural Network Library (oneDNN) to use the following CPU instructions in performance-critical operations:  AVX2 FMA\n",
      "To enable them in other operations, rebuild TensorFlow with the appropriate compiler flags.\n"
     ]
    },
    {
     "name": "stdout",
     "output_type": "stream",
     "text": [
      "8/8 [==============================] - 0s 2ms/step\n",
      "8/8 [==============================] - 0s 2ms/step\n",
      "8/8 [==============================] - 0s 2ms/step\n",
      "8/8 [==============================] - 0s 2ms/step\n",
      "8/8 [==============================] - 0s 2ms/step\n",
      "8/8 [==============================] - 0s 1ms/step\n",
      "8/8 [==============================] - 0s 1ms/step\n",
      "8/8 [==============================] - 0s 1ms/step\n",
      "8/8 [==============================] - 0s 1ms/step\n",
      "8/8 [==============================] - 0s 1ms/step\n",
      "8/8 [==============================] - 0s 2ms/step\n",
      "8/8 [==============================] - 0s 3ms/step\n",
      "8/8 [==============================] - 0s 1ms/step\n",
      "8/8 [==============================] - 0s 1ms/step\n",
      "8/8 [==============================] - 0s 1ms/step\n",
      "8/8 [==============================] - 0s 2ms/step\n",
      "8/8 [==============================] - 0s 2ms/step\n",
      "8/8 [==============================] - 0s 2ms/step\n",
      "8/8 [==============================] - 0s 1ms/step\n",
      "8/8 [==============================] - 0s 1ms/step\n",
      "8/8 [==============================] - 0s 1ms/step\n",
      "8/8 [==============================] - 0s 1ms/step\n",
      "8/8 [==============================] - 0s 2ms/step\n",
      "8/8 [==============================] - 0s 1ms/step\n",
      "8/8 [==============================] - 0s 1ms/step\n",
      "8/8 [==============================] - 0s 1ms/step\n",
      "8/8 [==============================] - 0s 1ms/step\n",
      "8/8 [==============================] - 0s 1ms/step\n",
      "8/8 [==============================] - 0s 1ms/step\n",
      "8/8 [==============================] - 0s 2ms/step\n",
      "8/8 [==============================] - 0s 3ms/step\n",
      "8/8 [==============================] - 0s 1ms/step\n",
      "8/8 [==============================] - 0s 1ms/step\n",
      "8/8 [==============================] - 0s 1ms/step\n",
      "8/8 [==============================] - 0s 1ms/step\n",
      "8/8 [==============================] - 0s 2ms/step\n",
      "8/8 [==============================] - 0s 1ms/step\n",
      "8/8 [==============================] - 0s 1ms/step\n",
      "8/8 [==============================] - 0s 1ms/step\n",
      "8/8 [==============================] - 0s 1ms/step\n",
      "8/8 [==============================] - 0s 1ms/step\n",
      "8/8 [==============================] - 0s 1ms/step\n",
      "8/8 [==============================] - 0s 1ms/step\n",
      "8/8 [==============================] - 0s 2ms/step\n",
      "8/8 [==============================] - 0s 1ms/step\n",
      "8/8 [==============================] - 0s 1ms/step\n",
      "8/8 [==============================] - 0s 2ms/step\n",
      "8/8 [==============================] - 0s 1ms/step\n",
      "8/8 [==============================] - 0s 1ms/step\n",
      "8/8 [==============================] - 0s 956us/step\n",
      "8/8 [==============================] - 0s 755us/step\n",
      "8/8 [==============================] - 0s 634us/step\n",
      "8/8 [==============================] - 0s 531us/step\n",
      "8/8 [==============================] - 0s 524us/step\n"
     ]
    },
    {
     "name": "stderr",
     "output_type": "stream",
     "text": [
      "2022-11-23 21:30:58.038671: I tensorflow/core/platform/cpu_feature_guard.cc:193] This TensorFlow binary is optimized with oneAPI Deep Neural Network Library (oneDNN) to use the following CPU instructions in performance-critical operations:  AVX2 FMA\n",
      "To enable them in other operations, rebuild TensorFlow with the appropriate compiler flags.\n"
     ]
    }
   ]
  },
  {
   "cell_type": "markdown",
   "metadata": {
    "id": "YMyw2nj_Ip-B",
    "pycharm": {
     "name": "#%% md\n"
    }
   },
   "source": [
    "Evaluate output"
   ]
  },
  {
   "cell_type": "code",
   "metadata": {
    "id": "uyHBXI5CIsWR",
    "executionInfo": {
     "status": "ok",
     "timestamp": 1604776742432,
     "user_tz": 600,
     "elapsed": 456,
     "user": {
      "displayName": "Torrey Wagner",
      "photoUrl": "",
      "userId": "18235062716651285949"
     }
    },
    "outputId": "b3c24135-5c04-4d6b-b134-cc9f538ac6a5",
    "colab": {
     "base_uri": "https://localhost:8080/"
    },
    "pycharm": {
     "name": "#%%\n"
    }
   },
   "source": [
    "print(\"Best: %f using %s\" % (grid_result.best_score_, grid_result.best_params_))\n",
    "\n",
    "means = grid_result.cv_results_['mean_test_score']\n",
    "\n",
    "params = grid_result.cv_results_['params']\n",
    "\n",
    "for mean, param in zip(means, params):\n",
    "    print(\"train accuracy %f for: %r\" % (mean, param))"
   ],
   "execution_count": 5,
   "outputs": [
    {
     "name": "stdout",
     "output_type": "stream",
     "text": [
      "Best: 0.704427 using {'batch_size': 20, 'epochs': 100}\n",
      "train accuracy 0.628906 for: {'batch_size': 10, 'epochs': 10}\n",
      "train accuracy 0.670573 for: {'batch_size': 10, 'epochs': 50}\n",
      "train accuracy 0.700521 for: {'batch_size': 10, 'epochs': 100}\n",
      "train accuracy 0.596354 for: {'batch_size': 20, 'epochs': 10}\n",
      "train accuracy 0.662760 for: {'batch_size': 20, 'epochs': 50}\n",
      "train accuracy 0.704427 for: {'batch_size': 20, 'epochs': 100}\n",
      "train accuracy 0.591146 for: {'batch_size': 40, 'epochs': 10}\n",
      "train accuracy 0.618490 for: {'batch_size': 40, 'epochs': 50}\n",
      "train accuracy 0.670573 for: {'batch_size': 40, 'epochs': 100}\n",
      "train accuracy 0.541667 for: {'batch_size': 60, 'epochs': 10}\n",
      "train accuracy 0.657552 for: {'batch_size': 60, 'epochs': 50}\n",
      "train accuracy 0.667969 for: {'batch_size': 60, 'epochs': 100}\n",
      "train accuracy 0.505208 for: {'batch_size': 80, 'epochs': 10}\n",
      "train accuracy 0.609375 for: {'batch_size': 80, 'epochs': 50}\n",
      "train accuracy 0.635417 for: {'batch_size': 80, 'epochs': 100}\n",
      "train accuracy 0.540365 for: {'batch_size': 100, 'epochs': 10}\n",
      "train accuracy 0.576823 for: {'batch_size': 100, 'epochs': 50}\n",
      "train accuracy 0.643229 for: {'batch_size': 100, 'epochs': 100}\n"
     ]
    }
   ]
  },
  {
   "cell_type": "markdown",
   "metadata": {
    "id": "e8pT4TRiJaIF",
    "pycharm": {
     "name": "#%% md\n"
    }
   },
   "source": [
    "Verify best hyperparameters"
   ]
  },
  {
   "cell_type": "code",
   "metadata": {
    "id": "6wHlZL_5Jdva",
    "executionInfo": {
     "status": "ok",
     "timestamp": 1604775320583,
     "user_tz": 600,
     "elapsed": 3294,
     "user": {
      "displayName": "Torrey Wagner",
      "photoUrl": "",
      "userId": "18235062716651285949"
     }
    },
    "outputId": "154de21a-31af-451d-fa2c-1f4f26f17cb2",
    "colab": {
     "base_uri": "https://localhost:8080/"
    },
    "pycharm": {
     "name": "#%%\n"
    }
   },
   "source": [
    "# define the keras model\n",
    "model = Sequential()\n",
    "model.add(Dense(12, input_dim=8, activation='relu'))\n",
    "model.add(Dense(1, activation='sigmoid'))\n",
    "\n",
    "# compile the keras model\n",
    "model.compile(loss='binary_crossentropy', optimizer='adam', metrics=['accuracy'])\n",
    "\n",
    "# fit the keras model on the dataset\n",
    "model.fit(X, y, epochs=100, batch_size=60)\n",
    "\n",
    "# evaluate the keras model\n",
    "_, accuracy = model.evaluate(X, y)\n",
    "\n",
    "print('\\n Final Accuracy: %.2f' % (accuracy*100))"
   ],
   "execution_count": 6,
   "outputs": [
    {
     "name": "stdout",
     "output_type": "stream",
     "text": [
      "Epoch 1/100\n",
      "13/13 [==============================] - 1s 855us/step - loss: 39.8991 - accuracy: 0.3490\n",
      "Epoch 2/100\n",
      "13/13 [==============================] - 0s 834us/step - loss: 34.2696 - accuracy: 0.3503\n",
      "Epoch 3/100\n",
      "13/13 [==============================] - 0s 886us/step - loss: 28.5755 - accuracy: 0.3490\n",
      "Epoch 4/100\n",
      "13/13 [==============================] - 0s 771us/step - loss: 22.9692 - accuracy: 0.3398\n",
      "Epoch 5/100\n",
      "13/13 [==============================] - 0s 921us/step - loss: 17.4410 - accuracy: 0.3464\n",
      "Epoch 6/100\n",
      "13/13 [==============================] - 0s 808us/step - loss: 12.3080 - accuracy: 0.3659\n",
      "Epoch 7/100\n",
      "13/13 [==============================] - 0s 923us/step - loss: 7.8964 - accuracy: 0.4115\n",
      "Epoch 8/100\n",
      "13/13 [==============================] - 0s 759us/step - loss: 5.2163 - accuracy: 0.4792\n",
      "Epoch 9/100\n",
      "13/13 [==============================] - 0s 1ms/step - loss: 4.6992 - accuracy: 0.5078\n",
      "Epoch 10/100\n",
      "13/13 [==============================] - 0s 958us/step - loss: 4.6413 - accuracy: 0.5143\n",
      "Epoch 11/100\n",
      "13/13 [==============================] - 0s 965us/step - loss: 4.4561 - accuracy: 0.5039\n",
      "Epoch 12/100\n",
      "13/13 [==============================] - 0s 796us/step - loss: 4.3413 - accuracy: 0.4948\n",
      "Epoch 13/100\n",
      "13/13 [==============================] - 0s 781us/step - loss: 4.1984 - accuracy: 0.5000\n",
      "Epoch 14/100\n",
      "13/13 [==============================] - 0s 762us/step - loss: 4.0696 - accuracy: 0.5052\n",
      "Epoch 15/100\n",
      "13/13 [==============================] - 0s 757us/step - loss: 3.8881 - accuracy: 0.5078\n",
      "Epoch 16/100\n",
      "13/13 [==============================] - 0s 786us/step - loss: 3.5734 - accuracy: 0.5052\n",
      "Epoch 17/100\n",
      "13/13 [==============================] - 0s 756us/step - loss: 3.2455 - accuracy: 0.5013\n",
      "Epoch 18/100\n",
      "13/13 [==============================] - 0s 766us/step - loss: 2.9473 - accuracy: 0.5091\n",
      "Epoch 19/100\n",
      "13/13 [==============================] - 0s 856us/step - loss: 2.6317 - accuracy: 0.5326\n",
      "Epoch 20/100\n",
      "13/13 [==============================] - 0s 886us/step - loss: 2.2853 - accuracy: 0.5638\n",
      "Epoch 21/100\n",
      "13/13 [==============================] - 0s 757us/step - loss: 1.9749 - accuracy: 0.5573\n",
      "Epoch 22/100\n",
      "13/13 [==============================] - 0s 777us/step - loss: 1.7119 - accuracy: 0.5560\n",
      "Epoch 23/100\n",
      "13/13 [==============================] - 0s 761us/step - loss: 1.5324 - accuracy: 0.5560\n",
      "Epoch 24/100\n",
      "13/13 [==============================] - 0s 965us/step - loss: 1.4070 - accuracy: 0.5716\n",
      "Epoch 25/100\n",
      "13/13 [==============================] - 0s 923us/step - loss: 1.3228 - accuracy: 0.5729\n",
      "Epoch 26/100\n",
      "13/13 [==============================] - 0s 1ms/step - loss: 1.2443 - accuracy: 0.5768\n",
      "Epoch 27/100\n",
      "13/13 [==============================] - 0s 918us/step - loss: 1.1879 - accuracy: 0.5638\n",
      "Epoch 28/100\n",
      "13/13 [==============================] - 0s 933us/step - loss: 1.1751 - accuracy: 0.5547\n",
      "Epoch 29/100\n",
      "13/13 [==============================] - 0s 946us/step - loss: 1.1392 - accuracy: 0.5768\n",
      "Epoch 30/100\n",
      "13/13 [==============================] - 0s 1ms/step - loss: 1.0944 - accuracy: 0.5599\n",
      "Epoch 31/100\n",
      "13/13 [==============================] - 0s 927us/step - loss: 1.0167 - accuracy: 0.5898\n",
      "Epoch 32/100\n",
      "13/13 [==============================] - 0s 985us/step - loss: 0.9908 - accuracy: 0.5938\n",
      "Epoch 33/100\n",
      "13/13 [==============================] - 0s 954us/step - loss: 0.9627 - accuracy: 0.5846\n",
      "Epoch 34/100\n",
      "13/13 [==============================] - 0s 908us/step - loss: 0.9495 - accuracy: 0.5951\n",
      "Epoch 35/100\n",
      "13/13 [==============================] - 0s 912us/step - loss: 0.9178 - accuracy: 0.6042\n",
      "Epoch 36/100\n",
      "13/13 [==============================] - 0s 974us/step - loss: 0.8696 - accuracy: 0.6237\n",
      "Epoch 37/100\n",
      "13/13 [==============================] - 0s 948us/step - loss: 0.8606 - accuracy: 0.6237\n",
      "Epoch 38/100\n",
      "13/13 [==============================] - 0s 947us/step - loss: 0.8290 - accuracy: 0.6341\n",
      "Epoch 39/100\n",
      "13/13 [==============================] - 0s 897us/step - loss: 0.8079 - accuracy: 0.6263\n",
      "Epoch 40/100\n",
      "13/13 [==============================] - 0s 975us/step - loss: 0.7931 - accuracy: 0.6315\n",
      "Epoch 41/100\n",
      "13/13 [==============================] - 0s 938us/step - loss: 0.7789 - accuracy: 0.6432\n",
      "Epoch 42/100\n",
      "13/13 [==============================] - 0s 973us/step - loss: 0.7687 - accuracy: 0.6576\n",
      "Epoch 43/100\n",
      "13/13 [==============================] - 0s 940us/step - loss: 0.7516 - accuracy: 0.6628\n",
      "Epoch 44/100\n",
      "13/13 [==============================] - 0s 1ms/step - loss: 0.7466 - accuracy: 0.6576\n",
      "Epoch 45/100\n",
      "13/13 [==============================] - 0s 848us/step - loss: 0.7417 - accuracy: 0.6576\n",
      "Epoch 46/100\n",
      "13/13 [==============================] - 0s 846us/step - loss: 0.7221 - accuracy: 0.6628\n",
      "Epoch 47/100\n",
      "13/13 [==============================] - 0s 755us/step - loss: 0.7164 - accuracy: 0.6745\n",
      "Epoch 48/100\n",
      "13/13 [==============================] - 0s 784us/step - loss: 0.7011 - accuracy: 0.6862\n",
      "Epoch 49/100\n",
      "13/13 [==============================] - 0s 778us/step - loss: 0.6950 - accuracy: 0.6914\n",
      "Epoch 50/100\n",
      "13/13 [==============================] - 0s 819us/step - loss: 0.6967 - accuracy: 0.6706\n",
      "Epoch 51/100\n",
      "13/13 [==============================] - 0s 766us/step - loss: 0.6794 - accuracy: 0.6914\n",
      "Epoch 52/100\n",
      "13/13 [==============================] - 0s 791us/step - loss: 0.6709 - accuracy: 0.6979\n",
      "Epoch 53/100\n",
      "13/13 [==============================] - 0s 773us/step - loss: 0.6682 - accuracy: 0.6927\n",
      "Epoch 54/100\n",
      "13/13 [==============================] - 0s 801us/step - loss: 0.6610 - accuracy: 0.6875\n",
      "Epoch 55/100\n",
      "13/13 [==============================] - 0s 807us/step - loss: 0.6568 - accuracy: 0.7018\n",
      "Epoch 56/100\n",
      "13/13 [==============================] - 0s 802us/step - loss: 0.6568 - accuracy: 0.6875\n",
      "Epoch 57/100\n",
      "13/13 [==============================] - 0s 747us/step - loss: 0.6552 - accuracy: 0.6940\n",
      "Epoch 58/100\n",
      "13/13 [==============================] - 0s 754us/step - loss: 0.6474 - accuracy: 0.6927\n",
      "Epoch 59/100\n",
      "13/13 [==============================] - 0s 767us/step - loss: 0.6494 - accuracy: 0.6927\n",
      "Epoch 60/100\n",
      "13/13 [==============================] - 0s 768us/step - loss: 0.6485 - accuracy: 0.7018\n",
      "Epoch 61/100\n",
      "13/13 [==============================] - 0s 785us/step - loss: 0.6330 - accuracy: 0.7044\n",
      "Epoch 62/100\n",
      "13/13 [==============================] - 0s 764us/step - loss: 0.6319 - accuracy: 0.7044\n",
      "Epoch 63/100\n",
      "13/13 [==============================] - 0s 779us/step - loss: 0.6452 - accuracy: 0.6888\n",
      "Epoch 64/100\n",
      "13/13 [==============================] - 0s 771us/step - loss: 0.6313 - accuracy: 0.7005\n",
      "Epoch 65/100\n",
      "13/13 [==============================] - 0s 731us/step - loss: 0.6306 - accuracy: 0.7031\n",
      "Epoch 66/100\n",
      "13/13 [==============================] - 0s 773us/step - loss: 0.6229 - accuracy: 0.6966\n",
      "Epoch 67/100\n",
      "13/13 [==============================] - 0s 763us/step - loss: 0.6207 - accuracy: 0.7018\n",
      "Epoch 68/100\n",
      "13/13 [==============================] - 0s 886us/step - loss: 0.6166 - accuracy: 0.7148\n",
      "Epoch 69/100\n",
      "13/13 [==============================] - 0s 683us/step - loss: 0.6407 - accuracy: 0.6797\n",
      "Epoch 70/100\n",
      "13/13 [==============================] - 0s 785us/step - loss: 0.6794 - accuracy: 0.6680\n",
      "Epoch 71/100\n",
      "13/13 [==============================] - 0s 814us/step - loss: 0.6396 - accuracy: 0.6875\n",
      "Epoch 72/100\n",
      "13/13 [==============================] - 0s 764us/step - loss: 0.6170 - accuracy: 0.7161\n",
      "Epoch 73/100\n",
      "13/13 [==============================] - 0s 747us/step - loss: 0.6240 - accuracy: 0.7096\n",
      "Epoch 74/100\n",
      "13/13 [==============================] - 0s 775us/step - loss: 0.6122 - accuracy: 0.7161\n",
      "Epoch 75/100\n",
      "13/13 [==============================] - 0s 785us/step - loss: 0.6134 - accuracy: 0.6966\n",
      "Epoch 76/100\n",
      "13/13 [==============================] - 0s 770us/step - loss: 0.6176 - accuracy: 0.7005\n",
      "Epoch 77/100\n",
      "13/13 [==============================] - 0s 775us/step - loss: 0.6123 - accuracy: 0.7057\n",
      "Epoch 78/100\n",
      "13/13 [==============================] - 0s 791us/step - loss: 0.6120 - accuracy: 0.7188\n",
      "Epoch 79/100\n",
      "13/13 [==============================] - 0s 810us/step - loss: 0.6109 - accuracy: 0.7161\n",
      "Epoch 80/100\n",
      "13/13 [==============================] - 0s 748us/step - loss: 0.6141 - accuracy: 0.7044\n",
      "Epoch 81/100\n",
      "13/13 [==============================] - 0s 776us/step - loss: 0.6091 - accuracy: 0.7122\n",
      "Epoch 82/100\n",
      "13/13 [==============================] - 0s 776us/step - loss: 0.6101 - accuracy: 0.7109\n",
      "Epoch 83/100\n",
      "13/13 [==============================] - 0s 745us/step - loss: 0.6147 - accuracy: 0.7031\n",
      "Epoch 84/100\n",
      "13/13 [==============================] - 0s 751us/step - loss: 0.6007 - accuracy: 0.7109\n",
      "Epoch 85/100\n",
      "13/13 [==============================] - 0s 773us/step - loss: 0.6065 - accuracy: 0.7240\n",
      "Epoch 86/100\n",
      "13/13 [==============================] - 0s 758us/step - loss: 0.6103 - accuracy: 0.7031\n",
      "Epoch 87/100\n",
      "13/13 [==============================] - 0s 767us/step - loss: 0.6189 - accuracy: 0.7005\n",
      "Epoch 88/100\n",
      "13/13 [==============================] - 0s 773us/step - loss: 0.6032 - accuracy: 0.7227\n",
      "Epoch 89/100\n",
      "13/13 [==============================] - 0s 776us/step - loss: 0.6237 - accuracy: 0.7109\n",
      "Epoch 90/100\n",
      "13/13 [==============================] - 0s 740us/step - loss: 0.6091 - accuracy: 0.7109\n",
      "Epoch 91/100\n",
      "13/13 [==============================] - 0s 762us/step - loss: 0.6017 - accuracy: 0.7253\n",
      "Epoch 92/100\n",
      "13/13 [==============================] - 0s 865us/step - loss: 0.5948 - accuracy: 0.7109\n",
      "Epoch 93/100\n",
      "13/13 [==============================] - 0s 955us/step - loss: 0.6147 - accuracy: 0.7070\n",
      "Epoch 94/100\n",
      "13/13 [==============================] - 0s 828us/step - loss: 0.6002 - accuracy: 0.7096\n",
      "Epoch 95/100\n",
      "13/13 [==============================] - 0s 783us/step - loss: 0.5973 - accuracy: 0.7292\n",
      "Epoch 96/100\n",
      "13/13 [==============================] - 0s 756us/step - loss: 0.6062 - accuracy: 0.7109\n",
      "Epoch 97/100\n",
      "13/13 [==============================] - 0s 782us/step - loss: 0.6039 - accuracy: 0.7070\n",
      "Epoch 98/100\n",
      "13/13 [==============================] - 0s 751us/step - loss: 0.5980 - accuracy: 0.7083\n",
      "Epoch 99/100\n",
      "13/13 [==============================] - 0s 782us/step - loss: 0.5966 - accuracy: 0.7148\n",
      "Epoch 100/100\n",
      "13/13 [==============================] - 0s 762us/step - loss: 0.5913 - accuracy: 0.7318\n",
      "24/24 [==============================] - 0s 642us/step - loss: 0.5914 - accuracy: 0.7174\n",
      "\n",
      " Final Accuracy: 71.74\n"
     ]
    }
   ]
  },
  {
   "cell_type": "markdown",
   "metadata": {
    "id": "T7lCLJuLMYb8",
    "pycharm": {
     "name": "#%% md\n"
    }
   },
   "source": [
    "###Sweep number of neurons and number of layers"
   ]
  },
  {
   "cell_type": "markdown",
   "metadata": {
    "id": "2LVqlcKRMhy4",
    "pycharm": {
     "name": "#%% md\n"
    }
   },
   "source": [
    "Re-define model creation function"
   ]
  },
  {
   "cell_type": "code",
   "metadata": {
    "id": "dbGyzFWkMdWx",
    "executionInfo": {
     "status": "ok",
     "timestamp": 1604778177113,
     "user_tz": 600,
     "elapsed": 460,
     "user": {
      "displayName": "Torrey Wagner",
      "photoUrl": "",
      "userId": "18235062716651285949"
     }
    },
    "pycharm": {
     "name": "#%%\n"
    }
   },
   "source": [
    "def create_and_compile_model(num_neurons, num_layers):\n",
    "\t# create model\n",
    "  model = Sequential()\n",
    "  model.add(Dense(num_neurons, input_dim=8, activation='relu'))\n",
    "  \n",
    "  if num_layers > 0:\n",
    "    \n",
    "    while num_layers > 0:\n",
    "      model.add(Dense(num_neurons, activation='relu'))\n",
    "      num_layers=num_layers-1\n",
    "\n",
    "\n",
    "  model.add(Dense(1, activation='sigmoid')) # output layer\n",
    "  \n",
    "  # Compile model\n",
    "  model.compile(loss='binary_crossentropy', optimizer='adam', metrics=['accuracy'])\n",
    "\n",
    "  print(model.summary()) \n",
    "  print('--')\n",
    "  \n",
    "  return model\n"
   ],
   "execution_count": 7,
   "outputs": []
  },
  {
   "cell_type": "markdown",
   "metadata": {
    "id": "QDgyRhAYOUbs",
    "pycharm": {
     "name": "#%% md\n"
    }
   },
   "source": [
    "Create new model"
   ]
  },
  {
   "cell_type": "code",
   "metadata": {
    "id": "zIq_pfUOOV_z",
    "executionInfo": {
     "status": "ok",
     "timestamp": 1604778261545,
     "user_tz": 600,
     "elapsed": 81972,
     "user": {
      "displayName": "Torrey Wagner",
      "photoUrl": "",
      "userId": "18235062716651285949"
     }
    },
    "outputId": "53f9c525-e612-48c2-f2ca-964c7b3c1255",
    "colab": {
     "base_uri": "https://localhost:8080/"
    },
    "pycharm": {
     "name": "#%%\n"
    }
   },
   "source": [
    "# create model\n",
    "model = KerasClassifier(build_fn=create_and_compile_model, epochs=100, batch_size=10, verbose=0)\n",
    "\n",
    "# define the grid search parameters\n",
    "num_neurons_grid = [3, 100]\n",
    "num_layers_grid = [0, 4]\n",
    "\n",
    "param_grid = dict(num_neurons=num_neurons_grid, num_layers=num_layers_grid)\n",
    "\n",
    "grid = GridSearchCV(estimator=model, param_grid=param_grid, n_jobs=-1, cv=3)\n",
    "\n",
    "grid_result = grid.fit(X, y)"
   ],
   "execution_count": 8,
   "outputs": [
    {
     "name": "stdout",
     "output_type": "stream",
     "text": [
      "Model: \"sequential_5\"\n",
      "_________________________________________________________________\n",
      " Layer (type)                Output Shape              Param #   \n",
      "=================================================================\n",
      " dense_10 (Dense)            (None, 3)                 27        \n",
      "                                                                 \n",
      " dense_11 (Dense)            (None, 1)                 4         \n",
      "                                                                 \n",
      "=================================================================\n",
      "Total params: 31\n",
      "Trainable params: 31\n",
      "Non-trainable params: 0\n",
      "_________________________________________________________________\n",
      "Model: \"sequential_7\"\n",
      "_________________________________________________________________\n",
      " Layer (type)                Output Shape              Param #   \n",
      "=================================================================\n",
      " dense_14 (Dense)            (None, 3)                 27        \n",
      "                                                                 \n",
      " dense_15 (Dense)            (None, 1)                 4         \n",
      "                                                                 \n",
      "=================================================================\n",
      "Total params: 31\n",
      "Trainable params: 31\n",
      "Non-trainable params: 0\n",
      "_________________________________________________________________\n",
      "Model: \"sequential_8\"\n",
      "_________________________________________________________________\n",
      " Layer (type)                Output Shape              Param #   \n",
      "=================================================================\n",
      " dense_16 (Dense)            (None, 3)                 27        \n",
      "                                                                 \n",
      " dense_17 (Dense)            (None, 1)                 4         \n",
      "                                                                 \n",
      "=================================================================\n",
      "Total params: 31\n",
      "Trainable params: 31\n",
      "Non-trainable params: 0\n",
      "_________________________________________________________________\n",
      "Model: \"sequential_7\"\n",
      "_________________________________________________________________\n",
      " Layer (type)                Output Shape              Param #   \n",
      "=================================================================\n",
      " dense_14 (Dense)            (None, 100)               900       \n",
      "                                                                 \n",
      " dense_15 (Dense)            (None, 1)                 101       \n",
      "                                                                 \n",
      "=================================================================\n",
      "Total params: 1,001\n",
      "Trainable params: 1,001\n",
      "Non-trainable params: 0\n",
      "_________________________________________________________________\n",
      "Model: \"sequential_7\"\n",
      "_________________________________________________________________\n",
      " Layer (type)                Output Shape              Param #   \n",
      "=================================================================\n",
      " dense_14 (Dense)            (None, 100)               900       \n",
      "                                                                 \n",
      " dense_15 (Dense)            (None, 1)                 101       \n",
      "                                                                 \n",
      "=================================================================\n",
      "Total params: 1,001\n",
      "Trainable params: 1,001\n",
      "Non-trainable params: 0\n",
      "_________________________________________________________________\n",
      "Model: \"sequential_6\"\n",
      "_________________________________________________________________\n",
      " Layer (type)                Output Shape              Param #   \n",
      "=================================================================\n",
      " dense_12 (Dense)            (None, 100)               900       \n",
      "                                                                 \n",
      " dense_13 (Dense)            (None, 1)                 101       \n",
      "                                                                 \n",
      "=================================================================\n",
      "Total params: 1,001\n",
      "Trainable params: 1,001\n",
      "Non-trainable params: 0\n",
      "_________________________________________________________________\n",
      "Model: \"sequential_6\"\n",
      "_________________________________________________________________\n",
      " Layer (type)                Output Shape              Param #   \n",
      "=================================================================\n",
      " dense_12 (Dense)            (None, 3)                 27        \n",
      "                                                                 \n",
      " dense_13 (Dense)            (None, 3)                 12        \n",
      "                                                                 \n",
      " dense_14 (Dense)            (None, 3)                 12        \n",
      "                                                                 \n",
      " dense_15 (Dense)            (None, 3)                 12        \n",
      "                                                                 \n",
      " dense_16 (Dense)            (None, 3)                 12        \n",
      "                                                                 \n",
      " dense_17 (Dense)            (None, 1)                 4         \n",
      "                                                                 \n",
      "=================================================================\n",
      "Total params: 79\n",
      "Trainable params: 79\n",
      "Non-trainable params: 0\n",
      "_________________________________________________________________\n",
      "Model: \"sequential_8\"\n",
      "_________________________________________________________________\n",
      " Layer (type)                Output Shape              Param #   \n",
      "=================================================================\n",
      " dense_16 (Dense)            (None, 3)                 27        \n",
      "                                                                 \n",
      " dense_17 (Dense)            (None, 3)                 12        \n",
      "                                                                 \n",
      " dense_18 (Dense)            (None, 3)                 12        \n",
      "                                                                 \n",
      " dense_19 (Dense)            (None, 3)                 12        \n",
      "                                                                 \n",
      " dense_20 (Dense)            (None, 3)                 12        \n",
      "                                                                 \n",
      " dense_21 (Dense)            (None, 1)                 4         \n",
      "                                                                 \n",
      "=================================================================\n",
      "Total params: 79\n",
      "Trainable params: 79\n",
      "Non-trainable params: 0\n",
      "_________________________________________________________________\n"
     ]
    },
    {
     "name": "stderr",
     "output_type": "stream",
     "text": [
      "/var/folders/nz/57m0v30s0kqdtdm5876x20qw0000gn/T/ipykernel_71324/1746459463.py:2: DeprecationWarning: KerasClassifier is deprecated, use Sci-Keras (https://github.com/adriangb/scikeras) instead. See https://www.adriangb.com/scikeras/stable/migration.html for help migrating.\n",
      "  model = KerasClassifier(build_fn=create_and_compile_model, epochs=100, batch_size=10, verbose=0)\n"
     ]
    },
    {
     "name": "stdout",
     "output_type": "stream",
     "text": [
      "None\n",
      "--\n",
      "Model: \"sequential_6\"\n",
      "_________________________________________________________________\n",
      " Layer (type)                Output Shape              Param #   \n",
      "=================================================================\n",
      " dense_12 (Dense)            (None, 3)                 27        \n",
      "                                                                 \n",
      " dense_13 (Dense)            (None, 3)                 12        \n",
      "                                                                 \n",
      " dense_14 (Dense)            (None, 3)                 12        \n",
      "                                                                 \n",
      " dense_15 (Dense)            (None, 3)                 12        \n",
      "                                                                 \n",
      " dense_16 (Dense)            (None, 3)                 12        \n",
      "                                                                 \n",
      " dense_17 (Dense)            (None, 1)                 4         \n",
      "                                                                 \n",
      "=================================================================\n",
      "Total params: 79\n",
      "Trainable params: 79\n",
      "Non-trainable params: 0\n",
      "_________________________________________________________________\n",
      "None\n",
      "--\n",
      "Model: \"sequential_8\"\n",
      "_________________________________________________________________\n",
      " Layer (type)                Output Shape              Param #   \n",
      "=================================================================\n",
      " dense_16 (Dense)            (None, 100)               900       \n",
      "                                                                 \n",
      " dense_17 (Dense)            (None, 100)               10100     \n",
      "                                                                 \n",
      " dense_18 (Dense)            (None, 100)               10100     \n",
      "                                                                 \n",
      " dense_19 (Dense)            (None, 100)               10100     \n",
      "                                                                 \n",
      " dense_20 (Dense)            (None, 100)               10100     \n",
      "                                                                 \n",
      " dense_21 (Dense)            (None, 1)                 101       \n",
      "                                                                 \n",
      "=================================================================\n",
      "Total params: 41,401\n",
      "Trainable params: 41,401\n",
      "Non-trainable params: 0\n",
      "_________________________________________________________________\n",
      "None\n",
      "--\n",
      "Model: \"sequential_8\"\n",
      "_________________________________________________________________\n",
      " Layer (type)                Output Shape              Param #   \n",
      "=================================================================\n",
      " dense_16 (Dense)            (None, 100)               900       \n",
      "                                                                 \n",
      " dense_17 (Dense)            (None, 100)               10100     \n",
      "                                                                 \n",
      " dense_18 (Dense)            (None, 100)               10100     \n",
      "                                                                 \n",
      " dense_19 (Dense)            (None, 100)               10100     \n",
      "                                                                 \n",
      " dense_20 (Dense)            (None, 100)               10100     \n",
      "                                                                 \n",
      " dense_21 (Dense)            (None, 1)                 101       \n",
      "                                                                 \n",
      "=================================================================\n",
      "Total params: 41,401\n",
      "Trainable params: 41,401\n",
      "Non-trainable params: 0\n",
      "_________________________________________________________________\n",
      "None\n",
      "--\n",
      "Model: \"sequential_7\"\n",
      "_________________________________________________________________\n",
      " Layer (type)                Output Shape              Param #   \n",
      "=================================================================\n",
      " dense_14 (Dense)            (None, 100)               900       \n",
      "                                                                 \n",
      " dense_15 (Dense)            (None, 100)               10100     \n",
      "                                                                 \n",
      " dense_16 (Dense)            (None, 100)               10100     \n",
      "                                                                 \n",
      " dense_17 (Dense)            (None, 100)               10100     \n",
      "                                                                 \n",
      " dense_18 (Dense)            (None, 100)               10100     \n",
      "                                                                 \n",
      " dense_19 (Dense)            (None, 1)                 101       \n",
      "                                                                 \n",
      "=================================================================\n",
      "Total params: 41,401\n",
      "Trainable params: 41,401\n",
      "Non-trainable params: 0\n",
      "_________________________________________________________________\n",
      "Model: \"sequential_2\"\n",
      "_________________________________________________________________\n",
      " Layer (type)                Output Shape              Param #   \n",
      "=================================================================\n",
      " dense_4 (Dense)             (None, 100)               900       \n",
      "                                                                 \n",
      " dense_5 (Dense)             (None, 100)               10100     \n",
      "                                                                 \n",
      " dense_6 (Dense)             (None, 100)               10100     \n",
      "                                                                 \n",
      " dense_7 (Dense)             (None, 100)               10100     \n",
      "                                                                 \n",
      " dense_8 (Dense)             (None, 100)               10100     \n",
      "                                                                 \n",
      " dense_9 (Dense)             (None, 1)                 101       \n",
      "                                                                 \n",
      "=================================================================\n",
      "Total params: 41,401\n",
      "Trainable params: 41,401\n",
      "Non-trainable params: 0\n",
      "_________________________________________________________________\n",
      "None\n",
      "--\n"
     ]
    }
   ]
  },
  {
   "cell_type": "markdown",
   "metadata": {
    "id": "uYbXmMXjOYoB",
    "pycharm": {
     "name": "#%% md\n"
    }
   },
   "source": [
    "Evaluate output"
   ]
  },
  {
   "cell_type": "code",
   "metadata": {
    "id": "mPh--vfVOZ_j",
    "executionInfo": {
     "status": "ok",
     "timestamp": 1604778345074,
     "user_tz": 600,
     "elapsed": 563,
     "user": {
      "displayName": "Torrey Wagner",
      "photoUrl": "",
      "userId": "18235062716651285949"
     }
    },
    "outputId": "f18d653e-e8cc-4237-bef7-00e50f20aef5",
    "colab": {
     "base_uri": "https://localhost:8080/"
    },
    "pycharm": {
     "name": "#%%\n"
    }
   },
   "source": [
    "print(\"Best: %f using %s\" % (grid_result.best_score_, grid_result.best_params_))\n",
    "\n",
    "means = grid_result.cv_results_['mean_test_score']\n",
    "\n",
    "params = grid_result.cv_results_['params']\n",
    "\n",
    "for mean, param in zip(means, params):\n",
    "    print(\"train accuracy %f for: %r\" % (mean, param))"
   ],
   "execution_count": 9,
   "outputs": [
    {
     "name": "stdout",
     "output_type": "stream",
     "text": [
      "Best: 0.705729 using {'num_layers': 4, 'num_neurons': 100}\n",
      "train accuracy 0.661458 for: {'num_layers': 0, 'num_neurons': 3}\n",
      "train accuracy 0.631510 for: {'num_layers': 0, 'num_neurons': 100}\n",
      "train accuracy 0.677083 for: {'num_layers': 4, 'num_neurons': 3}\n",
      "train accuracy 0.705729 for: {'num_layers': 4, 'num_neurons': 100}\n"
     ]
    }
   ]
  },
  {
   "cell_type": "markdown",
   "metadata": {
    "id": "0mg9sBZ_VYIH",
    "pycharm": {
     "name": "#%% md\n"
    }
   },
   "source": [
    "Verify best hyperparameters"
   ]
  },
  {
   "cell_type": "code",
   "metadata": {
    "id": "76sl4JXWVZ5F",
    "executionInfo": {
     "status": "ok",
     "timestamp": 1604778395318,
     "user_tz": 600,
     "elapsed": 14368,
     "user": {
      "displayName": "Torrey Wagner",
      "photoUrl": "",
      "userId": "18235062716651285949"
     }
    },
    "outputId": "cd013266-77fd-4ef7-db61-960863fd9c85",
    "colab": {
     "base_uri": "https://localhost:8080/"
    },
    "pycharm": {
     "name": "#%%\n"
    }
   },
   "source": [
    "# define the keras model\n",
    "model2 = Sequential()\n",
    "model2.add(Dense(100, input_dim=8, activation='relu'))\n",
    "model2.add(Dense(100, activation='relu'))\n",
    "model2.add(Dense(100, activation='relu'))\n",
    "model2.add(Dense(100, activation='relu'))\n",
    "model2.add(Dense(1, activation='sigmoid'))\n",
    "\n",
    "# compile the keras model\n",
    "model2.compile(loss='binary_crossentropy', optimizer='adam', metrics=['accuracy'])\n",
    "\n",
    "# fit the keras model on the dataset\n",
    "model2.fit(X, y, epochs=100, batch_size=10)\n",
    "\n",
    "# evaluate the keras model\n",
    "_, accuracy = model2.evaluate(X, y)\n",
    "\n",
    "print('\\n Final Accuracy: %.2f' % (accuracy*100))"
   ],
   "execution_count": 10,
   "outputs": [
    {
     "name": "stdout",
     "output_type": "stream",
     "text": [
      "Epoch 1/100\n",
      "77/77 [==============================] - 0s 897us/step - loss: 0.8860 - accuracy: 0.6107\n",
      "Epoch 2/100\n",
      "77/77 [==============================] - 0s 997us/step - loss: 0.6697 - accuracy: 0.6510\n",
      "Epoch 3/100\n",
      "77/77 [==============================] - 0s 828us/step - loss: 0.7243 - accuracy: 0.6289\n",
      "Epoch 4/100\n",
      "77/77 [==============================] - 0s 888us/step - loss: 0.6098 - accuracy: 0.6888\n",
      "Epoch 5/100\n",
      "77/77 [==============================] - 0s 920us/step - loss: 0.6355 - accuracy: 0.6810\n",
      "Epoch 6/100\n",
      "77/77 [==============================] - 0s 909us/step - loss: 0.5844 - accuracy: 0.6940\n",
      "Epoch 7/100\n",
      "77/77 [==============================] - 0s 837us/step - loss: 0.6032 - accuracy: 0.6888\n",
      "Epoch 8/100\n",
      "77/77 [==============================] - 0s 884us/step - loss: 0.5866 - accuracy: 0.6914\n",
      "Epoch 9/100\n",
      "77/77 [==============================] - 0s 861us/step - loss: 0.5854 - accuracy: 0.7148\n",
      "Epoch 10/100\n",
      "77/77 [==============================] - 0s 904us/step - loss: 0.6042 - accuracy: 0.6862\n",
      "Epoch 11/100\n",
      "77/77 [==============================] - 0s 810us/step - loss: 0.5740 - accuracy: 0.7214\n",
      "Epoch 12/100\n",
      "77/77 [==============================] - 0s 821us/step - loss: 0.5567 - accuracy: 0.7161\n",
      "Epoch 13/100\n",
      "77/77 [==============================] - 0s 941us/step - loss: 0.5551 - accuracy: 0.7188\n",
      "Epoch 14/100\n",
      "77/77 [==============================] - 0s 972us/step - loss: 0.5769 - accuracy: 0.7161\n",
      "Epoch 15/100\n",
      "77/77 [==============================] - 0s 1ms/step - loss: 0.5817 - accuracy: 0.7083\n",
      "Epoch 16/100\n",
      "77/77 [==============================] - 0s 807us/step - loss: 0.5461 - accuracy: 0.7422\n",
      "Epoch 17/100\n",
      "77/77 [==============================] - 0s 814us/step - loss: 0.5719 - accuracy: 0.7070\n",
      "Epoch 18/100\n",
      "77/77 [==============================] - 0s 797us/step - loss: 0.5500 - accuracy: 0.7292\n",
      "Epoch 19/100\n",
      "77/77 [==============================] - 0s 798us/step - loss: 0.5518 - accuracy: 0.7305\n",
      "Epoch 20/100\n",
      "77/77 [==============================] - 0s 823us/step - loss: 0.5745 - accuracy: 0.7227\n",
      "Epoch 21/100\n",
      "77/77 [==============================] - 0s 795us/step - loss: 0.5376 - accuracy: 0.7266\n",
      "Epoch 22/100\n",
      "77/77 [==============================] - 0s 789us/step - loss: 0.5349 - accuracy: 0.7370\n",
      "Epoch 23/100\n",
      "77/77 [==============================] - 0s 796us/step - loss: 0.5270 - accuracy: 0.7357\n",
      "Epoch 24/100\n",
      "77/77 [==============================] - 0s 805us/step - loss: 0.5243 - accuracy: 0.7422\n",
      "Epoch 25/100\n",
      "77/77 [==============================] - 0s 788us/step - loss: 0.5186 - accuracy: 0.7474\n",
      "Epoch 26/100\n",
      "77/77 [==============================] - 0s 809us/step - loss: 0.5252 - accuracy: 0.7344\n",
      "Epoch 27/100\n",
      "77/77 [==============================] - 0s 855us/step - loss: 0.5213 - accuracy: 0.7292\n",
      "Epoch 28/100\n",
      "77/77 [==============================] - 0s 829us/step - loss: 0.5401 - accuracy: 0.7396\n",
      "Epoch 29/100\n",
      "77/77 [==============================] - 0s 791us/step - loss: 0.5133 - accuracy: 0.7565\n",
      "Epoch 30/100\n",
      "77/77 [==============================] - 0s 807us/step - loss: 0.5185 - accuracy: 0.7422\n",
      "Epoch 31/100\n",
      "77/77 [==============================] - 0s 822us/step - loss: 0.5086 - accuracy: 0.7617\n",
      "Epoch 32/100\n",
      "77/77 [==============================] - 0s 812us/step - loss: 0.5143 - accuracy: 0.7357\n",
      "Epoch 33/100\n",
      "77/77 [==============================] - 0s 785us/step - loss: 0.4932 - accuracy: 0.7604\n",
      "Epoch 34/100\n",
      "77/77 [==============================] - 0s 791us/step - loss: 0.5002 - accuracy: 0.7617\n",
      "Epoch 35/100\n",
      "77/77 [==============================] - 0s 1ms/step - loss: 0.5005 - accuracy: 0.7604\n",
      "Epoch 36/100\n",
      "77/77 [==============================] - 0s 796us/step - loss: 0.5059 - accuracy: 0.7526\n",
      "Epoch 37/100\n",
      "77/77 [==============================] - 0s 790us/step - loss: 0.5116 - accuracy: 0.7487\n",
      "Epoch 38/100\n",
      "77/77 [==============================] - 0s 786us/step - loss: 0.4965 - accuracy: 0.7526\n",
      "Epoch 39/100\n",
      "77/77 [==============================] - 0s 884us/step - loss: 0.5006 - accuracy: 0.7552\n",
      "Epoch 40/100\n",
      "77/77 [==============================] - 0s 813us/step - loss: 0.4772 - accuracy: 0.7812\n",
      "Epoch 41/100\n",
      "77/77 [==============================] - 0s 798us/step - loss: 0.4861 - accuracy: 0.7669\n",
      "Epoch 42/100\n",
      "77/77 [==============================] - 0s 797us/step - loss: 0.4756 - accuracy: 0.7747\n",
      "Epoch 43/100\n",
      "77/77 [==============================] - 0s 788us/step - loss: 0.4724 - accuracy: 0.7760\n",
      "Epoch 44/100\n",
      "77/77 [==============================] - 0s 791us/step - loss: 0.4690 - accuracy: 0.7552\n",
      "Epoch 45/100\n",
      "77/77 [==============================] - 0s 782us/step - loss: 0.4605 - accuracy: 0.7773\n",
      "Epoch 46/100\n",
      "77/77 [==============================] - 0s 787us/step - loss: 0.4566 - accuracy: 0.7956\n",
      "Epoch 47/100\n",
      "77/77 [==============================] - 0s 824us/step - loss: 0.4558 - accuracy: 0.7708\n",
      "Epoch 48/100\n",
      "77/77 [==============================] - 0s 781us/step - loss: 0.4523 - accuracy: 0.7865\n",
      "Epoch 49/100\n",
      "77/77 [==============================] - 0s 796us/step - loss: 0.4495 - accuracy: 0.7734\n",
      "Epoch 50/100\n",
      "77/77 [==============================] - 0s 879us/step - loss: 0.4584 - accuracy: 0.7826\n",
      "Epoch 51/100\n",
      "77/77 [==============================] - 0s 930us/step - loss: 0.4546 - accuracy: 0.7891\n",
      "Epoch 52/100\n",
      "77/77 [==============================] - 0s 824us/step - loss: 0.4443 - accuracy: 0.7721\n",
      "Epoch 53/100\n",
      "77/77 [==============================] - 0s 783us/step - loss: 0.4454 - accuracy: 0.7865\n",
      "Epoch 54/100\n",
      "77/77 [==============================] - 0s 789us/step - loss: 0.4428 - accuracy: 0.7812\n",
      "Epoch 55/100\n",
      "77/77 [==============================] - 0s 826us/step - loss: 0.4230 - accuracy: 0.8008\n",
      "Epoch 56/100\n",
      "77/77 [==============================] - 0s 803us/step - loss: 0.4298 - accuracy: 0.8073\n",
      "Epoch 57/100\n",
      "77/77 [==============================] - 0s 797us/step - loss: 0.4365 - accuracy: 0.8021\n",
      "Epoch 58/100\n",
      "77/77 [==============================] - 0s 827us/step - loss: 0.4398 - accuracy: 0.7878\n",
      "Epoch 59/100\n",
      "77/77 [==============================] - 0s 791us/step - loss: 0.4321 - accuracy: 0.7956\n",
      "Epoch 60/100\n",
      "77/77 [==============================] - 0s 786us/step - loss: 0.4253 - accuracy: 0.7930\n",
      "Epoch 61/100\n",
      "77/77 [==============================] - 0s 811us/step - loss: 0.4282 - accuracy: 0.7930\n",
      "Epoch 62/100\n",
      "77/77 [==============================] - 0s 783us/step - loss: 0.4155 - accuracy: 0.7878\n",
      "Epoch 63/100\n",
      "77/77 [==============================] - 0s 808us/step - loss: 0.4312 - accuracy: 0.7969\n",
      "Epoch 64/100\n",
      "77/77 [==============================] - 0s 785us/step - loss: 0.4025 - accuracy: 0.8047\n",
      "Epoch 65/100\n",
      "77/77 [==============================] - 0s 789us/step - loss: 0.4102 - accuracy: 0.7943\n",
      "Epoch 66/100\n",
      "77/77 [==============================] - 0s 860us/step - loss: 0.4075 - accuracy: 0.8073\n",
      "Epoch 67/100\n",
      "77/77 [==============================] - 0s 786us/step - loss: 0.4019 - accuracy: 0.8073\n",
      "Epoch 68/100\n",
      "77/77 [==============================] - 0s 806us/step - loss: 0.4190 - accuracy: 0.8164\n",
      "Epoch 69/100\n",
      "77/77 [==============================] - 0s 833us/step - loss: 0.4189 - accuracy: 0.7930\n",
      "Epoch 70/100\n",
      "77/77 [==============================] - 0s 1ms/step - loss: 0.4014 - accuracy: 0.8125\n",
      "Epoch 71/100\n",
      "77/77 [==============================] - 0s 1ms/step - loss: 0.3794 - accuracy: 0.8216\n",
      "Epoch 72/100\n",
      "77/77 [==============================] - 0s 1ms/step - loss: 0.3992 - accuracy: 0.8112\n",
      "Epoch 73/100\n",
      "77/77 [==============================] - 0s 1ms/step - loss: 0.3990 - accuracy: 0.8138\n",
      "Epoch 74/100\n",
      "77/77 [==============================] - 0s 1ms/step - loss: 0.3862 - accuracy: 0.8151\n",
      "Epoch 75/100\n",
      "77/77 [==============================] - 0s 982us/step - loss: 0.3890 - accuracy: 0.8177\n",
      "Epoch 76/100\n",
      "77/77 [==============================] - 0s 997us/step - loss: 0.3945 - accuracy: 0.8086\n",
      "Epoch 77/100\n",
      "77/77 [==============================] - 0s 992us/step - loss: 0.3655 - accuracy: 0.8359\n",
      "Epoch 78/100\n",
      "77/77 [==============================] - 0s 1ms/step - loss: 0.3839 - accuracy: 0.8229\n",
      "Epoch 79/100\n",
      "77/77 [==============================] - 0s 1ms/step - loss: 0.3943 - accuracy: 0.8047\n",
      "Epoch 80/100\n",
      "77/77 [==============================] - 0s 1ms/step - loss: 0.3800 - accuracy: 0.8112\n",
      "Epoch 81/100\n",
      "77/77 [==============================] - 0s 978us/step - loss: 0.3625 - accuracy: 0.8477\n",
      "Epoch 82/100\n",
      "77/77 [==============================] - 0s 991us/step - loss: 0.3548 - accuracy: 0.8411\n",
      "Epoch 83/100\n",
      "77/77 [==============================] - 0s 1ms/step - loss: 0.3520 - accuracy: 0.8320\n",
      "Epoch 84/100\n",
      "77/77 [==============================] - 0s 1ms/step - loss: 0.3491 - accuracy: 0.8359\n",
      "Epoch 85/100\n",
      "77/77 [==============================] - 0s 996us/step - loss: 0.3569 - accuracy: 0.8294\n",
      "Epoch 86/100\n",
      "77/77 [==============================] - 0s 1ms/step - loss: 0.3566 - accuracy: 0.8268\n",
      "Epoch 87/100\n",
      "77/77 [==============================] - 0s 961us/step - loss: 0.3520 - accuracy: 0.8268\n",
      "Epoch 88/100\n",
      "77/77 [==============================] - 0s 786us/step - loss: 0.3781 - accuracy: 0.8294\n",
      "Epoch 89/100\n",
      "77/77 [==============================] - 0s 787us/step - loss: 0.3694 - accuracy: 0.8359\n",
      "Epoch 90/100\n",
      "77/77 [==============================] - 0s 794us/step - loss: 0.3464 - accuracy: 0.8385\n",
      "Epoch 91/100\n",
      "77/77 [==============================] - 0s 825us/step - loss: 0.3349 - accuracy: 0.8490\n",
      "Epoch 92/100\n",
      "77/77 [==============================] - 0s 797us/step - loss: 0.3735 - accuracy: 0.8255\n",
      "Epoch 93/100\n",
      "77/77 [==============================] - 0s 863us/step - loss: 0.3376 - accuracy: 0.8529\n",
      "Epoch 94/100\n",
      "77/77 [==============================] - 0s 817us/step - loss: 0.3167 - accuracy: 0.8620\n",
      "Epoch 95/100\n",
      "77/77 [==============================] - 0s 878us/step - loss: 0.3185 - accuracy: 0.8529\n",
      "Epoch 96/100\n",
      "77/77 [==============================] - 0s 997us/step - loss: 0.3016 - accuracy: 0.8581\n",
      "Epoch 97/100\n",
      "77/77 [==============================] - 0s 816us/step - loss: 0.3174 - accuracy: 0.8464\n",
      "Epoch 98/100\n",
      "77/77 [==============================] - 0s 795us/step - loss: 0.3391 - accuracy: 0.8490\n",
      "Epoch 99/100\n",
      "77/77 [==============================] - 0s 848us/step - loss: 0.3442 - accuracy: 0.8581\n",
      "Epoch 100/100\n",
      "77/77 [==============================] - 0s 789us/step - loss: 0.3463 - accuracy: 0.8438\n",
      "24/24 [==============================] - 0s 697us/step - loss: 0.3305 - accuracy: 0.8581\n",
      "\n",
      " Final Accuracy: 85.81\n"
     ]
    }
   ]
  }
 ]
}