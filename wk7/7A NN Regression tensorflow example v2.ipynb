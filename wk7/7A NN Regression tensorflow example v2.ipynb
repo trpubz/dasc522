{
 "nbformat": 4,
 "nbformat_minor": 0,
 "metadata": {
  "colab": {
   "name": "7A NN Regression tensorflow example v2.ipynb",
   "provenance": [
    {
     "file_id": "https://github.com/tensorflow/docs/blob/master/site/en/tutorials/keras/regression.ipynb",
     "timestamp": 1604438532642
    }
   ],
   "collapsed_sections": []
  },
  "kernelspec": {
   "display_name": "Python 3",
   "name": "python3"
  }
 },
 "cells": [
  {
   "cell_type": "markdown",
   "metadata": {
    "id": "BW9Ub6MAM1FK",
    "pycharm": {
     "name": "#%% md\n"
    }
   },
   "source": [
    "This demo is modified from https://www.tensorflow.org/tutorials/keras/regression"
   ]
  },
  {
   "cell_type": "markdown",
   "metadata": {
    "id": "FhGuhbZ6M5tl",
    "pycharm": {
     "name": "#%% md\n"
    }
   },
   "source": [
    "##### Copyright 2018 The TensorFlow Authors."
   ]
  },
  {
   "cell_type": "code",
   "metadata": {
    "cellView": "form",
    "id": "AwOEIRJC6Une",
    "executionInfo": {
     "status": "ok",
     "timestamp": 1637265440632,
     "user_tz": 600,
     "elapsed": 392,
     "user": {
      "displayName": "Torrey Wagner",
      "photoUrl": "https://lh3.googleusercontent.com/a/default-user=s64",
      "userId": "18235062716651285949"
     }
    },
    "pycharm": {
     "name": "#%%\n"
    }
   },
   "source": [
    "#@title Licensed under the Apache License, Version 2.0 (the \"License\");\n",
    "# you may not use this file except in compliance with the License.\n",
    "# You may obtain a copy of the License at\n",
    "#\n",
    "# https://www.apache.org/licenses/LICENSE-2.0\n",
    "#\n",
    "# Unless required by applicable law or agreed to in writing, software\n",
    "# distributed under the License is distributed on an \"AS IS\" BASIS,\n",
    "# WITHOUT WARRANTIES OR CONDITIONS OF ANY KIND, either express or implied.\n",
    "# See the License for the specific language governing permissions and\n",
    "# limitations under the License."
   ],
   "execution_count": 1,
   "outputs": []
  },
  {
   "cell_type": "code",
   "metadata": {
    "cellView": "form",
    "id": "KyPEtTqk6VdG",
    "executionInfo": {
     "status": "ok",
     "timestamp": 1637265442360,
     "user_tz": 600,
     "elapsed": 697,
     "user": {
      "displayName": "Torrey Wagner",
      "photoUrl": "https://lh3.googleusercontent.com/a/default-user=s64",
      "userId": "18235062716651285949"
     }
    },
    "pycharm": {
     "name": "#%%\n"
    }
   },
   "source": [
    "#@title MIT License\n",
    "#\n",
    "# Copyright (c) 2017 François Chollet\n",
    "#\n",
    "# Permission is hereby granted, free of charge, to any person obtaining a\n",
    "# copy of this software and associated documentation files (the \"Software\"),\n",
    "# to deal in the Software without restriction, including without limitation\n",
    "# the rights to use, copy, modify, merge, publish, distribute, sublicense,\n",
    "# and/or sell copies of the Software, and to permit persons to whom the\n",
    "# Software is furnished to do so, subject to the following conditions:\n",
    "#\n",
    "# The above copyright notice and this permission notice shall be included in\n",
    "# all copies or substantial portions of the Software.\n",
    "#\n",
    "# THE SOFTWARE IS PROVIDED \"AS IS\", WITHOUT WARRANTY OF ANY KIND, EXPRESS OR\n",
    "# IMPLIED, INCLUDING BUT NOT LIMITED TO THE WARRANTIES OF MERCHANTABILITY,\n",
    "# FITNESS FOR A PARTICULAR PURPOSE AND NONINFRINGEMENT. IN NO EVENT SHALL\n",
    "# THE AUTHORS OR COPYRIGHT HOLDERS BE LIABLE FOR ANY CLAIM, DAMAGES OR OTHER\n",
    "# LIABILITY, WHETHER IN AN ACTION OF CONTRACT, TORT OR OTHERWISE, ARISING\n",
    "# FROM, OUT OF OR IN CONNECTION WITH THE SOFTWARE OR THE USE OR OTHER\n",
    "# DEALINGS IN THE SOFTWARE."
   ],
   "execution_count": 2,
   "outputs": []
  },
  {
   "cell_type": "markdown",
   "metadata": {
    "id": "EIdT9iu_Z4Rb",
    "pycharm": {
     "name": "#%% md\n"
    }
   },
   "source": [
    "# Basic regression: Predict fuel efficiency"
   ]
  },
  {
   "cell_type": "markdown",
   "metadata": {
    "id": "bBIlTPscrIT9",
    "pycharm": {
     "name": "#%% md\n"
    }
   },
   "source": [
    "<table class=\"tfo-notebook-buttons\" align=\"left\">\n",
    "  <td>\n",
    "    <a target=\"_blank\" href=\"https://www.tensorflow.org/tutorials/keras/regression\"><img src=\"https://www.tensorflow.org/images/tf_logo_32px.png\" />View on TensorFlow.org</a>\n",
    "  </td>\n",
    "  <td>\n",
    "    <a target=\"_blank\" href=\"https://colab.research.google.com/github/tensorflow/docs/blob/master/site/en/tutorials/keras/regression.ipynb\"><img src=\"https://www.tensorflow.org/images/colab_logo_32px.png\" />Run in Google Colab</a>\n",
    "  </td>\n",
    "  <td>\n",
    "    <a target=\"_blank\" href=\"https://github.com/tensorflow/docs/blob/master/site/en/tutorials/keras/regression.ipynb\"><img src=\"https://www.tensorflow.org/images/GitHub-Mark-32px.png\" />View source on GitHub</a>\n",
    "  </td>\n",
    "  <td>\n",
    "    <a href=\"https://storage.googleapis.com/tensorflow_docs/docs/site/en/tutorials/keras/regression.ipynb\"><img src=\"https://www.tensorflow.org/images/download_logo_32px.png\" />Download notebook</a>\n",
    "  </td>\n",
    "</table>"
   ]
  },
  {
   "cell_type": "markdown",
   "metadata": {
    "id": "AHp3M9ZmrIxj",
    "pycharm": {
     "name": "#%% md\n"
    }
   },
   "source": [
    "In a *regression* problem, we aim to predict the output of a continuous value, like a price or a probability. Contrast this with a *classification* problem, where we aim to select a class from a list of classes (for example, where a picture contains an apple or an orange, recognizing which fruit is in the picture).\n",
    "\n",
    "This notebook uses the classic [Auto MPG](https://archive.ics.uci.edu/ml/datasets/auto+mpg) Dataset and builds a model to predict the fuel efficiency of late-1970s and early 1980s automobiles. To do this, we'll provide the model with a description of many automobiles from that time period. This description includes attributes like: cylinders, displacement, horsepower, and weight.\n",
    "\n",
    "This example uses the `tf.keras` API, see [this guide](https://www.tensorflow.org/guide/keras) for details."
   ]
  },
  {
   "cell_type": "code",
   "metadata": {
    "id": "1rRo8oNqZ-Rj",
    "executionInfo": {
     "status": "ok",
     "timestamp": 1637265442360,
     "user_tz": 600,
     "elapsed": 4,
     "user": {
      "displayName": "Torrey Wagner",
      "photoUrl": "https://lh3.googleusercontent.com/a/default-user=s64",
      "userId": "18235062716651285949"
     }
    },
    "pycharm": {
     "name": "#%%\n"
    }
   },
   "source": [
    "import matplotlib.pyplot as plt\n",
    "import numpy as np\n",
    "import pandas as pd\n",
    "import seaborn as sns\n",
    "# if not using colab may need to install seaborn with # !pip install -q seaborn\n",
    "\n",
    "# Make numpy printouts easier to read.\n",
    "np.set_printoptions(precision=3, suppress=True)\n",
    "\n",
    "# set demo mode\n",
    "use_normalization = 0"
   ],
   "execution_count": 3,
   "outputs": []
  },
  {
   "cell_type": "code",
   "metadata": {
    "id": "9xQKvCJ85kCQ",
    "colab": {
     "base_uri": "https://localhost:8080/"
    },
    "executionInfo": {
     "status": "ok",
     "timestamp": 1637265444708,
     "user_tz": 600,
     "elapsed": 2350,
     "user": {
      "displayName": "Torrey Wagner",
      "photoUrl": "https://lh3.googleusercontent.com/a/default-user=s64",
      "userId": "18235062716651285949"
     }
    },
    "outputId": "435988e0-e57a-4f34-a661-2eaf9f4bdbd0",
    "pycharm": {
     "name": "#%%\n"
    }
   },
   "source": [
    "import tensorflow as tf\n",
    "\n",
    "from tensorflow import keras\n",
    "from tensorflow.keras import layers\n",
    "from tensorflow.keras.layers.experimental import preprocessing\n",
    "\n",
    "print(tf.__version__)"
   ],
   "execution_count": 4,
   "outputs": [
    {
     "name": "stderr",
     "output_type": "stream",
     "text": [
      "2022-11-23 14:58:37.942879: I tensorflow/core/platform/cpu_feature_guard.cc:193] This TensorFlow binary is optimized with oneAPI Deep Neural Network Library (oneDNN) to use the following CPU instructions in performance-critical operations:  AVX2 FMA\n",
      "To enable them in other operations, rebuild TensorFlow with the appropriate compiler flags.\n"
     ]
    },
    {
     "name": "stdout",
     "output_type": "stream",
     "text": [
      "2.10.0\n"
     ]
    }
   ]
  },
  {
   "cell_type": "markdown",
   "metadata": {
    "id": "NVfEZnigEubx",
    "pycharm": {
     "name": "#%% md\n"
    }
   },
   "source": []
  },
  {
   "cell_type": "markdown",
   "metadata": {
    "id": "F_72b0LCNbjx",
    "pycharm": {
     "name": "#%% md\n"
    }
   },
   "source": [
    "## The Auto MPG dataset\n",
    "\n",
    "The dataset is available from the [UCI Machine Learning Repository](https://archive.ics.uci.edu/ml/).\n"
   ]
  },
  {
   "cell_type": "markdown",
   "metadata": {
    "id": "gFh9ne3FZ-On",
    "pycharm": {
     "name": "#%% md\n"
    }
   },
   "source": [
    "### Get the data\n",
    "First download and import the dataset using pandas:"
   ]
  },
  {
   "cell_type": "code",
   "metadata": {
    "id": "CiX2FI4gZtTt",
    "executionInfo": {
     "status": "ok",
     "timestamp": 1637265445309,
     "user_tz": 600,
     "elapsed": 604,
     "user": {
      "displayName": "Torrey Wagner",
      "photoUrl": "https://lh3.googleusercontent.com/a/default-user=s64",
      "userId": "18235062716651285949"
     }
    },
    "pycharm": {
     "name": "#%%\n"
    }
   },
   "source": [
    "url = 'http://archive.ics.uci.edu/ml/machine-learning-databases/auto-mpg/auto-mpg.data'\n",
    "column_names = ['MPG', 'Cylinders', 'Displacement', 'Horsepower', 'Weight',\n",
    "                'Acceleration', 'Model Year', 'Origin']\n",
    "\n",
    "raw_dataset = pd.read_csv(url, names=column_names,\n",
    "                          na_values='?', comment='\\t',\n",
    "                          sep=' ', skipinitialspace=True)"
   ],
   "execution_count": 5,
   "outputs": []
  },
  {
   "cell_type": "code",
   "metadata": {
    "id": "2oY3pMPagJrO",
    "colab": {
     "base_uri": "https://localhost:8080/",
     "height": 204
    },
    "executionInfo": {
     "status": "ok",
     "timestamp": 1637265445310,
     "user_tz": 600,
     "elapsed": 16,
     "user": {
      "displayName": "Torrey Wagner",
      "photoUrl": "https://lh3.googleusercontent.com/a/default-user=s64",
      "userId": "18235062716651285949"
     }
    },
    "outputId": "b0f9cb84-9d35-492d-c5e7-76e216d99e7a",
    "pycharm": {
     "name": "#%%\n"
    }
   },
   "source": [
    "dataset = raw_dataset.copy()\n",
    "dataset.tail()"
   ],
   "execution_count": 6,
   "outputs": [
    {
     "data": {
      "text/plain": "      MPG  Cylinders  Displacement  Horsepower  Weight  Acceleration  \\\n393  27.0          4         140.0        86.0  2790.0          15.6   \n394  44.0          4          97.0        52.0  2130.0          24.6   \n395  32.0          4         135.0        84.0  2295.0          11.6   \n396  28.0          4         120.0        79.0  2625.0          18.6   \n397  31.0          4         119.0        82.0  2720.0          19.4   \n\n     Model Year  Origin  \n393          82       1  \n394          82       2  \n395          82       1  \n396          82       1  \n397          82       1  ",
      "text/html": "<div>\n<style scoped>\n    .dataframe tbody tr th:only-of-type {\n        vertical-align: middle;\n    }\n\n    .dataframe tbody tr th {\n        vertical-align: top;\n    }\n\n    .dataframe thead th {\n        text-align: right;\n    }\n</style>\n<table border=\"1\" class=\"dataframe\">\n  <thead>\n    <tr style=\"text-align: right;\">\n      <th></th>\n      <th>MPG</th>\n      <th>Cylinders</th>\n      <th>Displacement</th>\n      <th>Horsepower</th>\n      <th>Weight</th>\n      <th>Acceleration</th>\n      <th>Model Year</th>\n      <th>Origin</th>\n    </tr>\n  </thead>\n  <tbody>\n    <tr>\n      <th>393</th>\n      <td>27.0</td>\n      <td>4</td>\n      <td>140.0</td>\n      <td>86.0</td>\n      <td>2790.0</td>\n      <td>15.6</td>\n      <td>82</td>\n      <td>1</td>\n    </tr>\n    <tr>\n      <th>394</th>\n      <td>44.0</td>\n      <td>4</td>\n      <td>97.0</td>\n      <td>52.0</td>\n      <td>2130.0</td>\n      <td>24.6</td>\n      <td>82</td>\n      <td>2</td>\n    </tr>\n    <tr>\n      <th>395</th>\n      <td>32.0</td>\n      <td>4</td>\n      <td>135.0</td>\n      <td>84.0</td>\n      <td>2295.0</td>\n      <td>11.6</td>\n      <td>82</td>\n      <td>1</td>\n    </tr>\n    <tr>\n      <th>396</th>\n      <td>28.0</td>\n      <td>4</td>\n      <td>120.0</td>\n      <td>79.0</td>\n      <td>2625.0</td>\n      <td>18.6</td>\n      <td>82</td>\n      <td>1</td>\n    </tr>\n    <tr>\n      <th>397</th>\n      <td>31.0</td>\n      <td>4</td>\n      <td>119.0</td>\n      <td>82.0</td>\n      <td>2720.0</td>\n      <td>19.4</td>\n      <td>82</td>\n      <td>1</td>\n    </tr>\n  </tbody>\n</table>\n</div>"
     },
     "execution_count": 6,
     "metadata": {},
     "output_type": "execute_result"
    }
   ]
  },
  {
   "cell_type": "markdown",
   "metadata": {
    "id": "3MWuJTKEDM-f",
    "pycharm": {
     "name": "#%% md\n"
    }
   },
   "source": [
    "### Clean the data\n",
    "\n",
    "The dataset contains a few unknown values."
   ]
  },
  {
   "cell_type": "code",
   "metadata": {
    "id": "JEJHhN65a2VV",
    "colab": {
     "base_uri": "https://localhost:8080/"
    },
    "executionInfo": {
     "status": "ok",
     "timestamp": 1637265445310,
     "user_tz": 600,
     "elapsed": 14,
     "user": {
      "displayName": "Torrey Wagner",
      "photoUrl": "https://lh3.googleusercontent.com/a/default-user=s64",
      "userId": "18235062716651285949"
     }
    },
    "outputId": "75a6303e-4c71-4d6c-c19b-ee41b548996a",
    "pycharm": {
     "name": "#%%\n"
    }
   },
   "source": [
    "dataset.isna().sum()"
   ],
   "execution_count": 7,
   "outputs": [
    {
     "data": {
      "text/plain": "MPG             0\nCylinders       0\nDisplacement    0\nHorsepower      6\nWeight          0\nAcceleration    0\nModel Year      0\nOrigin          0\ndtype: int64"
     },
     "execution_count": 7,
     "metadata": {},
     "output_type": "execute_result"
    }
   ]
  },
  {
   "cell_type": "markdown",
   "metadata": {
    "id": "9UPN0KBHa_WI",
    "pycharm": {
     "name": "#%% md\n"
    }
   },
   "source": [
    "Drop those rows to keep this initial tutorial simple."
   ]
  },
  {
   "cell_type": "code",
   "metadata": {
    "id": "4ZUDosChC1UN",
    "executionInfo": {
     "status": "ok",
     "timestamp": 1637265445310,
     "user_tz": 600,
     "elapsed": 11,
     "user": {
      "displayName": "Torrey Wagner",
      "photoUrl": "https://lh3.googleusercontent.com/a/default-user=s64",
      "userId": "18235062716651285949"
     }
    },
    "pycharm": {
     "name": "#%%\n"
    }
   },
   "source": [
    "dataset = dataset.dropna()"
   ],
   "execution_count": 8,
   "outputs": []
  },
  {
   "cell_type": "markdown",
   "metadata": {
    "id": "V_GfveW8DpEN",
    "pycharm": {
     "name": "#%% md\n"
    }
   },
   "source": [
    "Make sure that worked"
   ]
  },
  {
   "cell_type": "code",
   "metadata": {
    "id": "V3mERvmYDqjr",
    "colab": {
     "base_uri": "https://localhost:8080/"
    },
    "executionInfo": {
     "status": "ok",
     "timestamp": 1637265445310,
     "user_tz": 600,
     "elapsed": 11,
     "user": {
      "displayName": "Torrey Wagner",
      "photoUrl": "https://lh3.googleusercontent.com/a/default-user=s64",
      "userId": "18235062716651285949"
     }
    },
    "outputId": "cf4ab66b-6290-4a63-cf1a-b80e2c1b39d8",
    "pycharm": {
     "name": "#%%\n"
    }
   },
   "source": [
    "dataset.isna().sum()"
   ],
   "execution_count": 9,
   "outputs": [
    {
     "data": {
      "text/plain": "MPG             0\nCylinders       0\nDisplacement    0\nHorsepower      0\nWeight          0\nAcceleration    0\nModel Year      0\nOrigin          0\ndtype: int64"
     },
     "execution_count": 9,
     "metadata": {},
     "output_type": "execute_result"
    }
   ]
  },
  {
   "cell_type": "markdown",
   "metadata": {
    "id": "8XKitwaH4v8h",
    "pycharm": {
     "name": "#%% md\n"
    }
   },
   "source": [
    "The `\"Origin\"` column is really categorical, not numeric. So convert that to a one-hot:\n",
    "\n",
    "Note: You can set up the `keras.Model` to do this kind of transformation for you. That's beyond the scope of this tutorial. See the [preprocessing layers](../structured_data/preprocessing_layers.ipynb) or [Loading CSV data](../load_data/csv.ipynb) tutorials for examples."
   ]
  },
  {
   "cell_type": "code",
   "metadata": {
    "id": "gWNTD2QjBWFJ",
    "executionInfo": {
     "status": "ok",
     "timestamp": 1637265445311,
     "user_tz": 600,
     "elapsed": 10,
     "user": {
      "displayName": "Torrey Wagner",
      "photoUrl": "https://lh3.googleusercontent.com/a/default-user=s64",
      "userId": "18235062716651285949"
     }
    },
    "pycharm": {
     "name": "#%%\n"
    }
   },
   "source": [
    "dataset['Origin'] = dataset['Origin'].map({1: 'USA', 2: 'Europe', 3: 'Japan'})"
   ],
   "execution_count": 10,
   "outputs": []
  },
  {
   "cell_type": "code",
   "metadata": {
    "id": "ulXz4J7PAUzk",
    "colab": {
     "base_uri": "https://localhost:8080/",
     "height": 204
    },
    "executionInfo": {
     "status": "ok",
     "timestamp": 1637265445311,
     "user_tz": 600,
     "elapsed": 10,
     "user": {
      "displayName": "Torrey Wagner",
      "photoUrl": "https://lh3.googleusercontent.com/a/default-user=s64",
      "userId": "18235062716651285949"
     }
    },
    "outputId": "ad9eb24f-1768-402d-cc42-d35fd6b36e79",
    "pycharm": {
     "name": "#%%\n"
    }
   },
   "source": [
    "dataset = pd.get_dummies(dataset, prefix='', prefix_sep='')\n",
    "dataset.tail()"
   ],
   "execution_count": 11,
   "outputs": [
    {
     "data": {
      "text/plain": "      MPG  Cylinders  Displacement  Horsepower  Weight  Acceleration  \\\n393  27.0          4         140.0        86.0  2790.0          15.6   \n394  44.0          4          97.0        52.0  2130.0          24.6   \n395  32.0          4         135.0        84.0  2295.0          11.6   \n396  28.0          4         120.0        79.0  2625.0          18.6   \n397  31.0          4         119.0        82.0  2720.0          19.4   \n\n     Model Year  Europe  Japan  USA  \n393          82       0      0    1  \n394          82       1      0    0  \n395          82       0      0    1  \n396          82       0      0    1  \n397          82       0      0    1  ",
      "text/html": "<div>\n<style scoped>\n    .dataframe tbody tr th:only-of-type {\n        vertical-align: middle;\n    }\n\n    .dataframe tbody tr th {\n        vertical-align: top;\n    }\n\n    .dataframe thead th {\n        text-align: right;\n    }\n</style>\n<table border=\"1\" class=\"dataframe\">\n  <thead>\n    <tr style=\"text-align: right;\">\n      <th></th>\n      <th>MPG</th>\n      <th>Cylinders</th>\n      <th>Displacement</th>\n      <th>Horsepower</th>\n      <th>Weight</th>\n      <th>Acceleration</th>\n      <th>Model Year</th>\n      <th>Europe</th>\n      <th>Japan</th>\n      <th>USA</th>\n    </tr>\n  </thead>\n  <tbody>\n    <tr>\n      <th>393</th>\n      <td>27.0</td>\n      <td>4</td>\n      <td>140.0</td>\n      <td>86.0</td>\n      <td>2790.0</td>\n      <td>15.6</td>\n      <td>82</td>\n      <td>0</td>\n      <td>0</td>\n      <td>1</td>\n    </tr>\n    <tr>\n      <th>394</th>\n      <td>44.0</td>\n      <td>4</td>\n      <td>97.0</td>\n      <td>52.0</td>\n      <td>2130.0</td>\n      <td>24.6</td>\n      <td>82</td>\n      <td>1</td>\n      <td>0</td>\n      <td>0</td>\n    </tr>\n    <tr>\n      <th>395</th>\n      <td>32.0</td>\n      <td>4</td>\n      <td>135.0</td>\n      <td>84.0</td>\n      <td>2295.0</td>\n      <td>11.6</td>\n      <td>82</td>\n      <td>0</td>\n      <td>0</td>\n      <td>1</td>\n    </tr>\n    <tr>\n      <th>396</th>\n      <td>28.0</td>\n      <td>4</td>\n      <td>120.0</td>\n      <td>79.0</td>\n      <td>2625.0</td>\n      <td>18.6</td>\n      <td>82</td>\n      <td>0</td>\n      <td>0</td>\n      <td>1</td>\n    </tr>\n    <tr>\n      <th>397</th>\n      <td>31.0</td>\n      <td>4</td>\n      <td>119.0</td>\n      <td>82.0</td>\n      <td>2720.0</td>\n      <td>19.4</td>\n      <td>82</td>\n      <td>0</td>\n      <td>0</td>\n      <td>1</td>\n    </tr>\n  </tbody>\n</table>\n</div>"
     },
     "execution_count": 11,
     "metadata": {},
     "output_type": "execute_result"
    }
   ]
  },
  {
   "cell_type": "markdown",
   "metadata": {
    "id": "Cuym4yvk76vU",
    "pycharm": {
     "name": "#%% md\n"
    }
   },
   "source": [
    "### Split the data into train and test\n",
    "\n",
    "Now split the dataset into a training set and a test set.\n",
    "\n",
    "We will use the test set in the final evaluation of our models."
   ]
  },
  {
   "cell_type": "code",
   "metadata": {
    "id": "qn-IGhUE7_1H",
    "colab": {
     "base_uri": "https://localhost:8080/"
    },
    "executionInfo": {
     "status": "ok",
     "timestamp": 1637265445311,
     "user_tz": 600,
     "elapsed": 10,
     "user": {
      "displayName": "Torrey Wagner",
      "photoUrl": "https://lh3.googleusercontent.com/a/default-user=s64",
      "userId": "18235062716651285949"
     }
    },
    "outputId": "e5c24f65-0027-49fc-e07d-64b1d488d2fb",
    "pycharm": {
     "name": "#%%\n"
    }
   },
   "source": [
    "train_dataset = dataset.sample(frac=0.8, random_state=0)\n",
    "# train_dataset = dataset.sample(frac=0.8)\n",
    "\n",
    "test_dataset = dataset.drop(train_dataset.index)  # <-- elegant!\n",
    "\n",
    "print(train_dataset.shape)\n",
    "print(test_dataset.shape)\n",
    "print(\" \")\n",
    "\n",
    "print(train_dataset.tail())"
   ],
   "execution_count": 12,
   "outputs": [
    {
     "name": "stdout",
     "output_type": "stream",
     "text": [
      "(314, 10)\n",
      "(78, 10)\n",
      " \n",
      "      MPG  Cylinders  Displacement  Horsepower  Weight  Acceleration  \\\n",
      "281  19.8          6         200.0        85.0  2990.0          18.2   \n",
      "229  16.0          8         400.0       180.0  4220.0          11.1   \n",
      "150  26.0          4         108.0        93.0  2391.0          15.5   \n",
      "145  32.0          4          83.0        61.0  2003.0          19.0   \n",
      "182  28.0          4         107.0        86.0  2464.0          15.5   \n",
      "\n",
      "     Model Year  Europe  Japan  USA  \n",
      "281          79       0      0    1  \n",
      "229          77       0      0    1  \n",
      "150          74       0      1    0  \n",
      "145          74       0      1    0  \n",
      "182          76       1      0    0  \n"
     ]
    }
   ]
  },
  {
   "cell_type": "markdown",
   "metadata": {
    "id": "J4ubs136WLNp",
    "pycharm": {
     "name": "#%% md\n"
    }
   },
   "source": [
    "### Data understanding\n",
    "\n",
    "Have a quick look at the joint distribution of a few pairs of columns from the training set.\n",
    "\n",
    "Looking at the top row it should be clear that the fuel efficiency (MPG) is a function of all the other parameters. Looking at the other rows it should be clear that they are each functions of eachother."
   ]
  },
  {
   "cell_type": "code",
   "metadata": {
    "id": "oRKO_x8gWKv-",
    "colab": {
     "base_uri": "https://localhost:8080/",
     "height": 743
    },
    "executionInfo": {
     "status": "ok",
     "timestamp": 1637265452632,
     "user_tz": 600,
     "elapsed": 7329,
     "user": {
      "displayName": "Torrey Wagner",
      "photoUrl": "https://lh3.googleusercontent.com/a/default-user=s64",
      "userId": "18235062716651285949"
     }
    },
    "outputId": "82094c65-98c9-4c5a-fd0f-c0430568e1de",
    "pycharm": {
     "name": "#%%\n"
    }
   },
   "source": [
    "sns.pairplot(train_dataset[['MPG', 'Cylinders', 'Displacement', 'Weight']], diag_kind='kde')\n",
    "\n"
   ],
   "execution_count": 13,
   "outputs": [
    {
     "data": {
      "text/plain": "<seaborn.axisgrid.PairGrid at 0x13c0f92a0>"
     },
     "execution_count": 13,
     "metadata": {},
     "output_type": "execute_result"
    },
    {
     "data": {
      "text/plain": "<Figure size 720x720 with 20 Axes>",
      "image/png": "[encoded data removed]"
     },
     "metadata": {
      "needs_background": "light"
     },
     "output_type": "display_data"
    }
   ]
  },
  {
   "cell_type": "markdown",
   "metadata": {
    "id": "gavKO_6DWRMP",
    "pycharm": {
     "name": "#%% md\n"
    }
   },
   "source": [
    "Also look at the overall statistics, note how each feature covers a very different range:"
   ]
  },
  {
   "cell_type": "code",
   "metadata": {
    "id": "yi2FzC3T21jR",
    "colab": {
     "base_uri": "https://localhost:8080/",
     "height": 359
    },
    "executionInfo": {
     "status": "ok",
     "timestamp": 1637265452633,
     "user_tz": 600,
     "elapsed": 17,
     "user": {
      "displayName": "Torrey Wagner",
      "photoUrl": "https://lh3.googleusercontent.com/a/default-user=s64",
      "userId": "18235062716651285949"
     }
    },
    "outputId": "b384bd96-bb72-4cd6-ad3f-83e2a33bde91",
    "pycharm": {
     "name": "#%%\n"
    }
   },
   "source": [
    "train_dataset.describe().transpose()"
   ],
   "execution_count": 14,
   "outputs": [
    {
     "data": {
      "text/plain": "              count         mean         std     min      25%     50%  \\\nMPG           314.0    23.310510    7.728652    10.0    17.00    22.0   \nCylinders     314.0     5.477707    1.699788     3.0     4.00     4.0   \nDisplacement  314.0   195.318471  104.331589    68.0   105.50   151.0   \nHorsepower    314.0   104.869427   38.096214    46.0    76.25    94.5   \nWeight        314.0  2990.251592  843.898596  1649.0  2256.50  2822.5   \nAcceleration  314.0    15.559236    2.789230     8.0    13.80    15.5   \nModel Year    314.0    75.898089    3.675642    70.0    73.00    76.0   \nEurope        314.0     0.178344    0.383413     0.0     0.00     0.0   \nJapan         314.0     0.197452    0.398712     0.0     0.00     0.0   \nUSA           314.0     0.624204    0.485101     0.0     0.00     1.0   \n\n                  75%     max  \nMPG             28.95    46.6  \nCylinders        8.00     8.0  \nDisplacement   265.75   455.0  \nHorsepower     128.00   225.0  \nWeight        3608.00  5140.0  \nAcceleration    17.20    24.8  \nModel Year      79.00    82.0  \nEurope           0.00     1.0  \nJapan            0.00     1.0  \nUSA              1.00     1.0  ",
      "text/html": "<div>\n<style scoped>\n    .dataframe tbody tr th:only-of-type {\n        vertical-align: middle;\n    }\n\n    .dataframe tbody tr th {\n        vertical-align: top;\n    }\n\n    .dataframe thead th {\n        text-align: right;\n    }\n</style>\n<table border=\"1\" class=\"dataframe\">\n  <thead>\n    <tr style=\"text-align: right;\">\n      <th></th>\n      <th>count</th>\n      <th>mean</th>\n      <th>std</th>\n      <th>min</th>\n      <th>25%</th>\n      <th>50%</th>\n      <th>75%</th>\n      <th>max</th>\n    </tr>\n  </thead>\n  <tbody>\n    <tr>\n      <th>MPG</th>\n      <td>314.0</td>\n      <td>23.310510</td>\n      <td>7.728652</td>\n      <td>10.0</td>\n      <td>17.00</td>\n      <td>22.0</td>\n      <td>28.95</td>\n      <td>46.6</td>\n    </tr>\n    <tr>\n      <th>Cylinders</th>\n      <td>314.0</td>\n      <td>5.477707</td>\n      <td>1.699788</td>\n      <td>3.0</td>\n      <td>4.00</td>\n      <td>4.0</td>\n      <td>8.00</td>\n      <td>8.0</td>\n    </tr>\n    <tr>\n      <th>Displacement</th>\n      <td>314.0</td>\n      <td>195.318471</td>\n      <td>104.331589</td>\n      <td>68.0</td>\n      <td>105.50</td>\n      <td>151.0</td>\n      <td>265.75</td>\n      <td>455.0</td>\n    </tr>\n    <tr>\n      <th>Horsepower</th>\n      <td>314.0</td>\n      <td>104.869427</td>\n      <td>38.096214</td>\n      <td>46.0</td>\n      <td>76.25</td>\n      <td>94.5</td>\n      <td>128.00</td>\n      <td>225.0</td>\n    </tr>\n    <tr>\n      <th>Weight</th>\n      <td>314.0</td>\n      <td>2990.251592</td>\n      <td>843.898596</td>\n      <td>1649.0</td>\n      <td>2256.50</td>\n      <td>2822.5</td>\n      <td>3608.00</td>\n      <td>5140.0</td>\n    </tr>\n    <tr>\n      <th>Acceleration</th>\n      <td>314.0</td>\n      <td>15.559236</td>\n      <td>2.789230</td>\n      <td>8.0</td>\n      <td>13.80</td>\n      <td>15.5</td>\n      <td>17.20</td>\n      <td>24.8</td>\n    </tr>\n    <tr>\n      <th>Model Year</th>\n      <td>314.0</td>\n      <td>75.898089</td>\n      <td>3.675642</td>\n      <td>70.0</td>\n      <td>73.00</td>\n      <td>76.0</td>\n      <td>79.00</td>\n      <td>82.0</td>\n    </tr>\n    <tr>\n      <th>Europe</th>\n      <td>314.0</td>\n      <td>0.178344</td>\n      <td>0.383413</td>\n      <td>0.0</td>\n      <td>0.00</td>\n      <td>0.0</td>\n      <td>0.00</td>\n      <td>1.0</td>\n    </tr>\n    <tr>\n      <th>Japan</th>\n      <td>314.0</td>\n      <td>0.197452</td>\n      <td>0.398712</td>\n      <td>0.0</td>\n      <td>0.00</td>\n      <td>0.0</td>\n      <td>0.00</td>\n      <td>1.0</td>\n    </tr>\n    <tr>\n      <th>USA</th>\n      <td>314.0</td>\n      <td>0.624204</td>\n      <td>0.485101</td>\n      <td>0.0</td>\n      <td>0.00</td>\n      <td>1.0</td>\n      <td>1.00</td>\n      <td>1.0</td>\n    </tr>\n  </tbody>\n</table>\n</div>"
     },
     "execution_count": 14,
     "metadata": {},
     "output_type": "execute_result"
    }
   ]
  },
  {
   "cell_type": "markdown",
   "metadata": {
    "id": "Db7Auq1yXUvh",
    "pycharm": {
     "name": "#%% md\n"
    }
   },
   "source": [
    "### Split features from labels\n",
    "\n",
    "Separate the target value, the \"label\", from the features. This label is the value that you will train the model to predict."
   ]
  },
  {
   "cell_type": "code",
   "metadata": {
    "id": "t2sluJdCW7jN",
    "colab": {
     "base_uri": "https://localhost:8080/"
    },
    "executionInfo": {
     "status": "ok",
     "timestamp": 1637265452633,
     "user_tz": 600,
     "elapsed": 15,
     "user": {
      "displayName": "Torrey Wagner",
      "photoUrl": "https://lh3.googleusercontent.com/a/default-user=s64",
      "userId": "18235062716651285949"
     }
    },
    "outputId": "e5544bd2-79af-4f8f-ccc3-7baefe4b2f3b",
    "pycharm": {
     "name": "#%%\n"
    }
   },
   "source": [
    "train_features = train_dataset.copy()\n",
    "test_features = test_dataset.copy()\n",
    "\n",
    "print(train_features.shape)\n",
    "\n",
    "train_labels = train_features.pop('MPG')\n",
    "test_labels = test_features.pop('MPG')\n",
    "\n",
    "LR_train_features = train_features['Horsepower']  # save this for LR later on\n",
    "\n",
    "print(train_features.shape)\n"
   ],
   "execution_count": 15,
   "outputs": [
    {
     "name": "stdout",
     "output_type": "stream",
     "text": [
      "(314, 10)\n",
      "(314, 9)\n"
     ]
    }
   ]
  },
  {
   "cell_type": "markdown",
   "metadata": {
    "id": "mRklxK5s388r",
    "pycharm": {
     "name": "#%% md\n"
    }
   },
   "source": [
    "## Normalization\n",
    "\n",
    "In the table of statistics it's easy to see how different the ranges of each feature are."
   ]
  },
  {
   "cell_type": "code",
   "metadata": {
    "id": "IcmY6lKKbkw8",
    "colab": {
     "base_uri": "https://localhost:8080/",
     "height": 359
    },
    "executionInfo": {
     "status": "ok",
     "timestamp": 1637265452633,
     "user_tz": 600,
     "elapsed": 12,
     "user": {
      "displayName": "Torrey Wagner",
      "photoUrl": "https://lh3.googleusercontent.com/a/default-user=s64",
      "userId": "18235062716651285949"
     }
    },
    "outputId": "65a98804-ba3a-4960-8ef2-22cacc0ef428",
    "pycharm": {
     "name": "#%%\n"
    }
   },
   "source": [
    "train_dataset.describe().transpose()[['mean', 'std']]"
   ],
   "execution_count": 16,
   "outputs": [
    {
     "data": {
      "text/plain": "                     mean         std\nMPG             23.310510    7.728652\nCylinders        5.477707    1.699788\nDisplacement   195.318471  104.331589\nHorsepower     104.869427   38.096214\nWeight        2990.251592  843.898596\nAcceleration    15.559236    2.789230\nModel Year      75.898089    3.675642\nEurope           0.178344    0.383413\nJapan            0.197452    0.398712\nUSA              0.624204    0.485101",
      "text/html": "<div>\n<style scoped>\n    .dataframe tbody tr th:only-of-type {\n        vertical-align: middle;\n    }\n\n    .dataframe tbody tr th {\n        vertical-align: top;\n    }\n\n    .dataframe thead th {\n        text-align: right;\n    }\n</style>\n<table border=\"1\" class=\"dataframe\">\n  <thead>\n    <tr style=\"text-align: right;\">\n      <th></th>\n      <th>mean</th>\n      <th>std</th>\n    </tr>\n  </thead>\n  <tbody>\n    <tr>\n      <th>MPG</th>\n      <td>23.310510</td>\n      <td>7.728652</td>\n    </tr>\n    <tr>\n      <th>Cylinders</th>\n      <td>5.477707</td>\n      <td>1.699788</td>\n    </tr>\n    <tr>\n      <th>Displacement</th>\n      <td>195.318471</td>\n      <td>104.331589</td>\n    </tr>\n    <tr>\n      <th>Horsepower</th>\n      <td>104.869427</td>\n      <td>38.096214</td>\n    </tr>\n    <tr>\n      <th>Weight</th>\n      <td>2990.251592</td>\n      <td>843.898596</td>\n    </tr>\n    <tr>\n      <th>Acceleration</th>\n      <td>15.559236</td>\n      <td>2.789230</td>\n    </tr>\n    <tr>\n      <th>Model Year</th>\n      <td>75.898089</td>\n      <td>3.675642</td>\n    </tr>\n    <tr>\n      <th>Europe</th>\n      <td>0.178344</td>\n      <td>0.383413</td>\n    </tr>\n    <tr>\n      <th>Japan</th>\n      <td>0.197452</td>\n      <td>0.398712</td>\n    </tr>\n    <tr>\n      <th>USA</th>\n      <td>0.624204</td>\n      <td>0.485101</td>\n    </tr>\n  </tbody>\n</table>\n</div>"
     },
     "execution_count": 16,
     "metadata": {},
     "output_type": "execute_result"
    }
   ]
  },
  {
   "cell_type": "markdown",
   "metadata": {
    "id": "-ywmerQ6dSox",
    "pycharm": {
     "name": "#%% md\n"
    }
   },
   "source": [
    "It is good practice to normalize features that use different scales and ranges. \n",
    "\n",
    "One reason this is important is because the features are multiplied by the model weights. So the scale of the outputs and the scale of the gradients are affected by the scale of the inputs. \n",
    "\n",
    "Although a model *might* converge without feature normalization, normalization makes training much more stable. "
   ]
  },
  {
   "cell_type": "markdown",
   "metadata": {
    "id": "aFJ6ISropeoo",
    "pycharm": {
     "name": "#%% md\n"
    }
   },
   "source": [
    "### The Normalization layer\n",
    "The `preprocessing.Normalization` layer is a clean and simple way to build that preprocessing into your model.\n",
    "\n",
    "The first step is to create the layer:"
   ]
  },
  {
   "cell_type": "code",
   "metadata": {
    "id": "JlC5ooJrgjQF",
    "executionInfo": {
     "status": "ok",
     "timestamp": 1637265452634,
     "user_tz": 600,
     "elapsed": 12,
     "user": {
      "displayName": "Torrey Wagner",
      "photoUrl": "https://lh3.googleusercontent.com/a/default-user=s64",
      "userId": "18235062716651285949"
     }
    },
    "pycharm": {
     "name": "#%%\n"
    }
   },
   "source": [
    "normalizer = preprocessing.Normalization()"
   ],
   "execution_count": 17,
   "outputs": []
  },
  {
   "cell_type": "markdown",
   "metadata": {
    "id": "XYA2Ap6nVOha",
    "pycharm": {
     "name": "#%% md\n"
    }
   },
   "source": [
    "Then `.adapt()` it to the data:"
   ]
  },
  {
   "cell_type": "code",
   "metadata": {
    "id": "CrBbbjbwV91f",
    "executionInfo": {
     "status": "ok",
     "timestamp": 1637265452634,
     "user_tz": 600,
     "elapsed": 12,
     "user": {
      "displayName": "Torrey Wagner",
      "photoUrl": "https://lh3.googleusercontent.com/a/default-user=s64",
      "userId": "18235062716651285949"
     }
    },
    "pycharm": {
     "name": "#%%\n"
    }
   },
   "source": [
    "normalizer.adapt(np.array(train_features))"
   ],
   "execution_count": 18,
   "outputs": [
    {
     "name": "stderr",
     "output_type": "stream",
     "text": [
      "2022-11-23 14:58:53.843241: I tensorflow/core/platform/cpu_feature_guard.cc:193] This TensorFlow binary is optimized with oneAPI Deep Neural Network Library (oneDNN) to use the following CPU instructions in performance-critical operations:  AVX2 FMA\n",
      "To enable them in other operations, rebuild TensorFlow with the appropriate compiler flags.\n"
     ]
    }
   ]
  },
  {
   "cell_type": "markdown",
   "metadata": {
    "id": "oZccMR5yV9YV",
    "pycharm": {
     "name": "#%% md\n"
    }
   },
   "source": [
    "This calculates the mean and variance, and stores them in the layer. "
   ]
  },
  {
   "cell_type": "code",
   "metadata": {
    "id": "GGn-ukwxSPtx",
    "colab": {
     "base_uri": "https://localhost:8080/"
    },
    "executionInfo": {
     "status": "ok",
     "timestamp": 1637265452634,
     "user_tz": 600,
     "elapsed": 12,
     "user": {
      "displayName": "Torrey Wagner",
      "photoUrl": "https://lh3.googleusercontent.com/a/default-user=s64",
      "userId": "18235062716651285949"
     }
    },
    "outputId": "77ede167-4604-404f-cdc8-ee200904276e",
    "pycharm": {
     "name": "#%%\n"
    }
   },
   "source": [
    "import numpy\n",
    "\n",
    "print(normalizer.mean.numpy())\n",
    "print(\" \")\n",
    "\n",
    "\n",
    "print(numpy.sqrt( normalizer.variance.numpy() ))"
   ],
   "execution_count": 19,
   "outputs": [
    {
     "name": "stdout",
     "output_type": "stream",
     "text": [
      "[[   5.478  195.318  104.869 2990.252   15.559   75.898    0.178    0.197\n",
      "     0.624]]\n",
      " \n",
      "[[  1.697 104.165  38.035 842.554   2.785   3.67    0.383   0.398   0.484]]\n"
     ]
    }
   ]
  },
  {
   "cell_type": "markdown",
   "metadata": {
    "id": "oGWKaF9GSRuN",
    "pycharm": {
     "name": "#%% md\n"
    }
   },
   "source": [
    "When the layer is called it returns the input data, with each feature independently normalized:"
   ]
  },
  {
   "cell_type": "code",
   "metadata": {
    "id": "2l7zFL_XWIRu",
    "colab": {
     "base_uri": "https://localhost:8080/"
    },
    "executionInfo": {
     "status": "ok",
     "timestamp": 1637265452634,
     "user_tz": 600,
     "elapsed": 10,
     "user": {
      "displayName": "Torrey Wagner",
      "photoUrl": "https://lh3.googleusercontent.com/a/default-user=s64",
      "userId": "18235062716651285949"
     }
    },
    "outputId": "12e80de6-467a-4515-b85b-9682967673c5",
    "pycharm": {
     "name": "#%%\n"
    }
   },
   "source": [
    "first = np.array(train_features[:1])\n",
    "\n",
    "with np.printoptions(precision=2, suppress=True):\n",
    "  print('First example:', first)\n",
    "  print()\n",
    "  print('Normalized:', normalizer(first).numpy())"
   ],
   "execution_count": 20,
   "outputs": [
    {
     "name": "stdout",
     "output_type": "stream",
     "text": [
      "First example: [[   4.    90.    75.  2125.    14.5   74.     0.     0.     1. ]]\n",
      "\n",
      "Normalized: [[-0.87 -1.01 -0.79 -1.03 -0.38 -0.52 -0.47 -0.5   0.78]]\n"
     ]
    }
   ]
  },
  {
   "cell_type": "markdown",
   "metadata": {
    "id": "6o3CrycBXA2s",
    "pycharm": {
     "name": "#%% md\n"
    }
   },
   "source": [
    "## Linear regression\n",
    "\n",
    "Before building a DNN model, start with a linear regression."
   ]
  },
  {
   "cell_type": "markdown",
   "metadata": {
    "id": "lFby9n0tnHkw",
    "pycharm": {
     "name": "#%% md\n"
    }
   },
   "source": [
    "### One Variable\n",
    "\n",
    "Start with a single-variable linear regression, to predict `MPG` from `Horsepower`.\n",
    "\n",
    "Training a model with `tf.keras` typically starts by defining the model architecture.\n",
    "\n",
    "In this case use a `keras.Sequential` model. This model represents a sequence of steps. In this case there are two steps:\n",
    "\n",
    "* Normalize the input `horsepower`.\n",
    "* Apply a linear transformation ($y = mx+b$) to produce 1 output using `layers.Dense`.\n",
    "\n",
    "The number of _inputs_ can either be set by the `input_shape` argument, or automatically when the model is run for the first time."
   ]
  },
  {
   "cell_type": "markdown",
   "metadata": {
    "id": "Xp3gAFn3TPv8",
    "pycharm": {
     "name": "#%% md\n"
    }
   },
   "source": [
    "First create the horsepower `Normalization` layer:"
   ]
  },
  {
   "cell_type": "code",
   "metadata": {
    "id": "1gJAy0fKs1TS",
    "executionInfo": {
     "status": "ok",
     "timestamp": 1637265452635,
     "user_tz": 600,
     "elapsed": 9,
     "user": {
      "displayName": "Torrey Wagner",
      "photoUrl": "https://lh3.googleusercontent.com/a/default-user=s64",
      "userId": "18235062716651285949"
     }
    },
    "pycharm": {
     "name": "#%%\n"
    }
   },
   "source": [
    "horsepower = train_features['Horsepower']   #  <---- new\n",
    "# horsepower = np.array(train_features['Horsepower'])\n",
    "\n",
    "# horsepower_normalizer = preprocessing.Normalization()\n",
    "horsepower_normalizer = preprocessing.Normalization(input_dim=1)\n",
    "# horsepower_normalizer = preprocessing.Normalization(input_shape=[1,])\n",
    "\n",
    "horsepower_normalizer.adapt(horsepower)  #  <---- new"
   ],
   "execution_count": 21,
   "outputs": []
  },
  {
   "cell_type": "markdown",
   "metadata": {
    "id": "4NVlHJY2TWlC",
    "pycharm": {
     "name": "#%% md\n"
    }
   },
   "source": [
    "Build the sequential model:"
   ]
  },
  {
   "cell_type": "code",
   "metadata": {
    "id": "c0sXM7qLlKfZ",
    "executionInfo": {
     "status": "ok",
     "timestamp": 1637265452635,
     "user_tz": 600,
     "elapsed": 9,
     "user": {
      "displayName": "Torrey Wagner",
      "photoUrl": "https://lh3.googleusercontent.com/a/default-user=s64",
      "userId": "18235062716651285949"
     }
    },
    "pycharm": {
     "name": "#%%\n"
    }
   },
   "source": [
    "if(use_normalization):\n",
    "  horsepower_model = tf.keras.Sequential([\n",
    "    horsepower_normalizer,\n",
    "    layers.Dense(units=1)\n",
    "  ])\n",
    "\n",
    "  # Insight into the weights\n",
    "  first_layer_weights = horsepower_model.layers[1].get_weights()[0]\n",
    "  first_layer_biases  = horsepower_model.layers[1].get_weights()[1]\n",
    "\n",
    "  print(f\"1st layer weight is {first_layer_weights} and bias is {first_layer_biases}\")\n",
    "\n",
    "  horsepower_model.summary()\n",
    "\n",
    "else:  # this is a demo so we can see the weights\n",
    "  horsepower_model = tf.keras.Sequential([\n",
    "    layers.Dense(units=1)\n",
    "  ])\n",
    "\n",
    "\n",
    "\n",
    "\n",
    "\n",
    "\n"
   ],
   "execution_count": 22,
   "outputs": []
  },
  {
   "cell_type": "markdown",
   "metadata": {
    "id": "eObQu9fDnXGL",
    "pycharm": {
     "name": "#%% md\n"
    }
   },
   "source": [
    "This model will predict `MPG` from `Horsepower`.\n",
    "\n",
    "Run the untrained model on the first 10 horse-power values. The output won't be good, but you'll see that it has the expected shape, `(10,1)`:"
   ]
  },
  {
   "cell_type": "code",
   "metadata": {
    "id": "UfV1HS6bns-s",
    "colab": {
     "base_uri": "https://localhost:8080/"
    },
    "executionInfo": {
     "status": "ok",
     "timestamp": 1637265453107,
     "user_tz": 600,
     "elapsed": 480,
     "user": {
      "displayName": "Torrey Wagner",
      "photoUrl": "https://lh3.googleusercontent.com/a/default-user=s64",
      "userId": "18235062716651285949"
     }
    },
    "outputId": "37101a98-b9b6-4d6e-f2f9-eef02393bb14",
    "pycharm": {
     "name": "#%%\n"
    }
   },
   "source": [
    "horsepower_model.predict(horsepower[:10])"
   ],
   "execution_count": 23,
   "outputs": [
    {
     "name": "stdout",
     "output_type": "stream",
     "text": [
      "1/1 [==============================] - 0s 66ms/step\n"
     ]
    },
    {
     "name": "stderr",
     "output_type": "stream",
     "text": [
      "/var/folders/nz/57m0v30s0kqdtdm5876x20qw0000gn/T/ipykernel_61609/3396703680.py:1: FutureWarning: The behavior of `series[i:j]` with an integer-dtype index is deprecated. In a future version, this will be treated as *label-based* indexing, consistent with e.g. `series[i]` lookups. To retain the old behavior, use `series.iloc[i:j]`. To get the future behavior, use `series.loc[i:j]`.\n",
      "  horsepower_model.predict(horsepower[:10])\n"
     ]
    },
    {
     "data": {
      "text/plain": "array([[118.37 ],\n       [138.888],\n       [252.523],\n       [ 99.431],\n       [105.744],\n       [142.044],\n       [ 94.696],\n       [105.744],\n       [149.935],\n       [138.888]], dtype=float32)"
     },
     "execution_count": 23,
     "metadata": {},
     "output_type": "execute_result"
    }
   ]
  },
  {
   "cell_type": "markdown",
   "metadata": {
    "id": "un9Hcp-QQkV1",
    "pycharm": {
     "name": "#%% md\n"
    }
   },
   "source": [
    "Check the output"
   ]
  },
  {
   "cell_type": "code",
   "metadata": {
    "id": "8wReqBKFQnQV",
    "colab": {
     "base_uri": "https://localhost:8080/",
     "height": 279
    },
    "executionInfo": {
     "status": "ok",
     "timestamp": 1637265453107,
     "user_tz": 600,
     "elapsed": 6,
     "user": {
      "displayName": "Torrey Wagner",
      "photoUrl": "https://lh3.googleusercontent.com/a/default-user=s64",
      "userId": "18235062716651285949"
     }
    },
    "outputId": "d1098e4e-bab8-48f5-a8ea-fb1cea29ba0a",
    "pycharm": {
     "name": "#%%\n"
    }
   },
   "source": [
    "def plot_horsepower(x, y):\n",
    "  plt.scatter(train_features['Horsepower'], train_labels, label='Data')\n",
    "  plt.plot(x, y, color='k', label='Predictions')\n",
    "  plt.xlabel('Horsepower')\n",
    "  plt.ylabel('MPG')\n",
    "  plt.legend()\n",
    "\n",
    "x = tf.linspace(0.0, 250, 251)\n",
    "y = horsepower_model.predict(x)\n",
    "\n",
    "plot_horsepower(x,y)"
   ],
   "execution_count": 24,
   "outputs": [
    {
     "ename": "ValueError",
     "evalue": "in user code:\n\n    File \"/usr/local/lib/python3.10/site-packages/keras/engine/training.py\", line 2041, in predict_function  *\n        return step_function(self, iterator)\n    File \"/usr/local/lib/python3.10/site-packages/keras/engine/training.py\", line 2027, in step_function  **\n        outputs = model.distribute_strategy.run(run_step, args=(data,))\n    File \"/usr/local/lib/python3.10/site-packages/keras/engine/training.py\", line 2015, in run_step  **\n        outputs = model.predict_step(data)\n    File \"/usr/local/lib/python3.10/site-packages/keras/engine/training.py\", line 1983, in predict_step\n        return self(x, training=False)\n    File \"/usr/local/lib/python3.10/site-packages/keras/utils/traceback_utils.py\", line 70, in error_handler\n        raise e.with_traceback(filtered_tb) from None\n\n    ValueError: Exception encountered when calling layer \"sequential\" \"                 f\"(type Sequential).\n    \n    Cannot iterate over a shape with unknown rank.\n    \n    Call arguments received by layer \"sequential\" \"                 f\"(type Sequential):\n      • inputs=tf.Tensor(shape=<unknown>, dtype=float32)\n      • training=False\n      • mask=None\n",
     "output_type": "error",
     "traceback": [
      "\u001B[0;31m---------------------------------------------------------------------------\u001B[0m",
      "\u001B[0;31mValueError\u001B[0m                                Traceback (most recent call last)",
      "Input \u001B[0;32mIn [24]\u001B[0m, in \u001B[0;36m<cell line: 9>\u001B[0;34m()\u001B[0m\n\u001B[1;32m      6\u001B[0m   plt\u001B[38;5;241m.\u001B[39mlegend()\n\u001B[1;32m      8\u001B[0m x \u001B[38;5;241m=\u001B[39m tf\u001B[38;5;241m.\u001B[39mlinspace(\u001B[38;5;241m0.0\u001B[39m, \u001B[38;5;241m250\u001B[39m, \u001B[38;5;241m251\u001B[39m)\n\u001B[0;32m----> 9\u001B[0m y \u001B[38;5;241m=\u001B[39m \u001B[43mhorsepower_model\u001B[49m\u001B[38;5;241;43m.\u001B[39;49m\u001B[43mpredict\u001B[49m\u001B[43m(\u001B[49m\u001B[43mx\u001B[49m\u001B[43m)\u001B[49m\n\u001B[1;32m     11\u001B[0m plot_horsepower(x,y)\n",
      "File \u001B[0;32m/usr/local/lib/python3.10/site-packages/keras/utils/traceback_utils.py:70\u001B[0m, in \u001B[0;36mfilter_traceback.<locals>.error_handler\u001B[0;34m(*args, **kwargs)\u001B[0m\n\u001B[1;32m     67\u001B[0m     filtered_tb \u001B[38;5;241m=\u001B[39m _process_traceback_frames(e\u001B[38;5;241m.\u001B[39m__traceback__)\n\u001B[1;32m     68\u001B[0m     \u001B[38;5;66;03m# To get the full stack trace, call:\u001B[39;00m\n\u001B[1;32m     69\u001B[0m     \u001B[38;5;66;03m# `tf.debugging.disable_traceback_filtering()`\u001B[39;00m\n\u001B[0;32m---> 70\u001B[0m     \u001B[38;5;28;01mraise\u001B[39;00m e\u001B[38;5;241m.\u001B[39mwith_traceback(filtered_tb) \u001B[38;5;28;01mfrom\u001B[39;00m \u001B[38;5;28mNone\u001B[39m\n\u001B[1;32m     71\u001B[0m \u001B[38;5;28;01mfinally\u001B[39;00m:\n\u001B[1;32m     72\u001B[0m     \u001B[38;5;28;01mdel\u001B[39;00m filtered_tb\n",
      "File \u001B[0;32m/var/folders/nz/57m0v30s0kqdtdm5876x20qw0000gn/T/__autograph_generated_filee5ptatjh.py:15\u001B[0m, in \u001B[0;36mouter_factory.<locals>.inner_factory.<locals>.tf__predict_function\u001B[0;34m(iterator)\u001B[0m\n\u001B[1;32m     13\u001B[0m \u001B[38;5;28;01mtry\u001B[39;00m:\n\u001B[1;32m     14\u001B[0m     do_return \u001B[38;5;241m=\u001B[39m \u001B[38;5;28;01mTrue\u001B[39;00m\n\u001B[0;32m---> 15\u001B[0m     retval_ \u001B[38;5;241m=\u001B[39m ag__\u001B[38;5;241m.\u001B[39mconverted_call(ag__\u001B[38;5;241m.\u001B[39mld(step_function), (ag__\u001B[38;5;241m.\u001B[39mld(\u001B[38;5;28mself\u001B[39m), ag__\u001B[38;5;241m.\u001B[39mld(iterator)), \u001B[38;5;28;01mNone\u001B[39;00m, fscope)\n\u001B[1;32m     16\u001B[0m \u001B[38;5;28;01mexcept\u001B[39;00m:\n\u001B[1;32m     17\u001B[0m     do_return \u001B[38;5;241m=\u001B[39m \u001B[38;5;28;01mFalse\u001B[39;00m\n",
      "\u001B[0;31mValueError\u001B[0m: in user code:\n\n    File \"/usr/local/lib/python3.10/site-packages/keras/engine/training.py\", line 2041, in predict_function  *\n        return step_function(self, iterator)\n    File \"/usr/local/lib/python3.10/site-packages/keras/engine/training.py\", line 2027, in step_function  **\n        outputs = model.distribute_strategy.run(run_step, args=(data,))\n    File \"/usr/local/lib/python3.10/site-packages/keras/engine/training.py\", line 2015, in run_step  **\n        outputs = model.predict_step(data)\n    File \"/usr/local/lib/python3.10/site-packages/keras/engine/training.py\", line 1983, in predict_step\n        return self(x, training=False)\n    File \"/usr/local/lib/python3.10/site-packages/keras/utils/traceback_utils.py\", line 70, in error_handler\n        raise e.with_traceback(filtered_tb) from None\n\n    ValueError: Exception encountered when calling layer \"sequential\" \"                 f\"(type Sequential).\n    \n    Cannot iterate over a shape with unknown rank.\n    \n    Call arguments received by layer \"sequential\" \"                 f\"(type Sequential):\n      • inputs=tf.Tensor(shape=<unknown>, dtype=float32)\n      • training=False\n      • mask=None\n"
     ]
    }
   ]
  },
  {
   "cell_type": "markdown",
   "metadata": {
    "id": "CSkanJlmmFBX",
    "pycharm": {
     "name": "#%% md\n"
    }
   },
   "source": [
    "Once the model is built, configure the training procedure using the `Model.compile()` method. The most important arguments to compile are the `loss` and the `optimizer` since these define what will be optimized (`mean_absolute_error`) and how (using the `optimizers.Adam`)."
   ]
  },
  {
   "cell_type": "code",
   "metadata": {
    "id": "JxA_3lpOm-SK",
    "executionInfo": {
     "status": "ok",
     "timestamp": 1637265453108,
     "user_tz": 600,
     "elapsed": 6,
     "user": {
      "displayName": "Torrey Wagner",
      "photoUrl": "https://lh3.googleusercontent.com/a/default-user=s64",
      "userId": "18235062716651285949"
     }
    },
    "pycharm": {
     "name": "#%%\n"
    }
   },
   "source": [
    "horsepower_model.compile(\n",
    "    optimizer=tf.optimizers.Adam(learning_rate=0.1),\n",
    "    loss='mean_absolute_error')\n",
    "\n",
    "# could use mean_squared_error"
   ],
   "execution_count": null,
   "outputs": []
  },
  {
   "cell_type": "markdown",
   "metadata": {
    "id": "Z3q1I9TwnRSC",
    "pycharm": {
     "name": "#%% md\n"
    }
   },
   "source": [
    "Once the training is configured, use `Model.fit()` to execute the training:"
   ]
  },
  {
   "cell_type": "code",
   "metadata": {
    "id": "-iSrNy59nRAp",
    "colab": {
     "base_uri": "https://localhost:8080/"
    },
    "executionInfo": {
     "status": "ok",
     "timestamp": 1637265458624,
     "user_tz": 600,
     "elapsed": 5522,
     "user": {
      "displayName": "Torrey Wagner",
      "photoUrl": "https://lh3.googleusercontent.com/a/default-user=s64",
      "userId": "18235062716651285949"
     }
    },
    "outputId": "c0d4bd0a-7b73-4ee0-95ab-07921df3c769",
    "pycharm": {
     "name": "#%%\n"
    }
   },
   "source": [
    "%%time\n",
    "history = horsepower_model.fit(\n",
    "    train_features['Horsepower'], train_labels,\n",
    "    epochs=100,\n",
    "    # suppress logging if 0\n",
    "    verbose=1,\n",
    "    # Calculate validation results on 20% of the training data\n",
    "    validation_split = 0.2)"
   ],
   "execution_count": null,
   "outputs": []
  },
  {
   "cell_type": "markdown",
   "metadata": {
    "id": "tQm3pc0FYPQB",
    "pycharm": {
     "name": "#%% md\n"
    }
   },
   "source": [
    "Visualize the model's training progress using the stats stored in the `history` object."
   ]
  },
  {
   "cell_type": "code",
   "metadata": {
    "id": "YCAwD_y4AdC3",
    "colab": {
     "base_uri": "https://localhost:8080/",
     "height": 204
    },
    "executionInfo": {
     "status": "ok",
     "timestamp": 1637265458625,
     "user_tz": 600,
     "elapsed": 14,
     "user": {
      "displayName": "Torrey Wagner",
      "photoUrl": "https://lh3.googleusercontent.com/a/default-user=s64",
      "userId": "18235062716651285949"
     }
    },
    "outputId": "b82101ab-5e8e-4f8d-b94a-cbe42441d186",
    "pycharm": {
     "name": "#%%\n"
    }
   },
   "source": [
    "hist = pd.DataFrame(history.history)\n",
    "hist['epoch'] = history.epoch\n",
    "hist.tail()"
   ],
   "execution_count": null,
   "outputs": []
  },
  {
   "cell_type": "code",
   "metadata": {
    "id": "yYsQYrIZyqjz",
    "colab": {
     "base_uri": "https://localhost:8080/",
     "height": 283
    },
    "executionInfo": {
     "status": "ok",
     "timestamp": 1637265459328,
     "user_tz": 600,
     "elapsed": 715,
     "user": {
      "displayName": "Torrey Wagner",
      "photoUrl": "https://lh3.googleusercontent.com/a/default-user=s64",
      "userId": "18235062716651285949"
     }
    },
    "outputId": "44dfdd09-43ef-443e-e993-daef19e4d46c",
    "pycharm": {
     "name": "#%%\n"
    }
   },
   "source": [
    "def plot_loss(history,y_lim=10):\n",
    "  plt.plot(history.history['loss'], label='loss')\n",
    "  plt.plot(history.history['val_loss'], label='val_loss')\n",
    "  plt.ylim([0, y_lim])\n",
    "  plt.xlabel('Epoch')\n",
    "  plt.ylabel('Error [MPG]')\n",
    "  plt.legend()\n",
    "  plt.grid(True)\n",
    "  \n",
    "  \n",
    "plot_loss(history)\n",
    "\n",
    "# another way to plot training history from 6A\n",
    "# pyplot.plot(history.history['loss'], label='train')\n",
    "# pyplot.plot(history.history['val_loss'], label='test')\n",
    "# pyplot.legend()\n",
    "# pyplot.show()"
   ],
   "execution_count": null,
   "outputs": []
  },
  {
   "cell_type": "markdown",
   "metadata": {
    "id": "CMNrt8X2ebXd",
    "pycharm": {
     "name": "#%% md\n"
    }
   },
   "source": [
    "Collect the results on the test set, for later:"
   ]
  },
  {
   "cell_type": "code",
   "metadata": {
    "id": "kDZ8EvNYrDtx",
    "executionInfo": {
     "status": "ok",
     "timestamp": 1637265459329,
     "user_tz": 600,
     "elapsed": 7,
     "user": {
      "displayName": "Torrey Wagner",
      "photoUrl": "https://lh3.googleusercontent.com/a/default-user=s64",
      "userId": "18235062716651285949"
     }
    },
    "pycharm": {
     "name": "#%%\n"
    }
   },
   "source": [
    "test_results = {}\n",
    "\n",
    "test_results['horsepower_model'] = horsepower_model.evaluate(\n",
    "    test_features['Horsepower'],\n",
    "    test_labels, verbose=0)"
   ],
   "execution_count": null,
   "outputs": []
  },
  {
   "cell_type": "markdown",
   "metadata": {
    "id": "F0qutYAKwoda",
    "pycharm": {
     "name": "#%% md\n"
    }
   },
   "source": [
    "SInce this is a single variable regression it's easy to look at the model's predictions as a function of the input:"
   ]
  },
  {
   "cell_type": "code",
   "metadata": {
    "id": "xDS2JEtOn9Jn",
    "colab": {
     "base_uri": "https://localhost:8080/"
    },
    "executionInfo": {
     "status": "ok",
     "timestamp": 1637265459329,
     "user_tz": 600,
     "elapsed": 7,
     "user": {
      "displayName": "Torrey Wagner",
      "photoUrl": "https://lh3.googleusercontent.com/a/default-user=s64",
      "userId": "18235062716651285949"
     }
    },
    "outputId": "a9d912dc-30ec-4552-cbdc-040905f94144",
    "pycharm": {
     "name": "#%%\n"
    }
   },
   "source": [
    "x = tf.linspace(0.0, 250, 251)\n",
    "y = horsepower_model.predict(x)\n",
    "\n",
    "horsepower_model.predict(horsepower[:10])"
   ],
   "execution_count": null,
   "outputs": []
  },
  {
   "cell_type": "code",
   "metadata": {
    "id": "7l9ZiAOEUNBL",
    "colab": {
     "base_uri": "https://localhost:8080/",
     "height": 279
    },
    "executionInfo": {
     "status": "ok",
     "timestamp": 1637265459710,
     "user_tz": 600,
     "elapsed": 386,
     "user": {
      "displayName": "Torrey Wagner",
      "photoUrl": "https://lh3.googleusercontent.com/a/default-user=s64",
      "userId": "18235062716651285949"
     }
    },
    "outputId": "4e1aebcb-86ab-4fb2-e9f5-dc58d8a7ffc4",
    "pycharm": {
     "name": "#%%\n"
    }
   },
   "source": [
    "plot_horsepower(x,y)"
   ],
   "execution_count": null,
   "outputs": []
  },
  {
   "cell_type": "markdown",
   "metadata": {
    "id": "UWWNd93_65-F",
    "pycharm": {
     "name": "#%% md\n"
    }
   },
   "source": [
    "Pull out weights"
   ]
  },
  {
   "cell_type": "code",
   "metadata": {
    "id": "aGzK_a8X9FMV",
    "colab": {
     "base_uri": "https://localhost:8080/"
    },
    "executionInfo": {
     "status": "ok",
     "timestamp": 1637265459711,
     "user_tz": 600,
     "elapsed": 5,
     "user": {
      "displayName": "Torrey Wagner",
      "photoUrl": "https://lh3.googleusercontent.com/a/default-user=s64",
      "userId": "18235062716651285949"
     }
    },
    "outputId": "b90229f1-29c7-4891-ec74-07c0332ef4ca",
    "pycharm": {
     "name": "#%%\n"
    }
   },
   "source": [
    "# first_layer_weights = horsepower_model.layers[1].get_weights()[0]\n",
    "# first_layer_biases  = horsepower_model.layers[1].get_weights()[1]\n",
    "\n",
    "# print(f\"1st layer weight is {first_layer_weights} and bias is {first_layer_biases}\")\n",
    "\n",
    "for layer in horsepower_model.layers: print(layer.get_config(), layer.get_weights(), \"\\n\")"
   ],
   "execution_count": null,
   "outputs": []
  },
  {
   "cell_type": "markdown",
   "metadata": {
    "id": "AkZDZz-9F3Z3",
    "pycharm": {
     "name": "#%% md\n"
    }
   },
   "source": [
    "Check with Classical Linear Regression"
   ]
  },
  {
   "cell_type": "code",
   "metadata": {
    "id": "8LyOWgiSF47N",
    "colab": {
     "base_uri": "https://localhost:8080/"
    },
    "executionInfo": {
     "status": "ok",
     "timestamp": 1637265460201,
     "user_tz": 600,
     "elapsed": 494,
     "user": {
      "displayName": "Torrey Wagner",
      "photoUrl": "https://lh3.googleusercontent.com/a/default-user=s64",
      "userId": "18235062716651285949"
     }
    },
    "outputId": "3eb41edd-ddd2-4c40-8e87-146f0b5873d5",
    "pycharm": {
     "name": "#%%\n"
    }
   },
   "source": [
    "# import statsmodels.formula.api as smf\n",
    "import statsmodels.api as sm\n",
    "\n",
    "X_labels = sm.add_constant(LR_train_features)\n",
    "\n",
    "model_LRcheck = sm.OLS(train_labels, X_labels)\n",
    "\n",
    "# LR_predictions = model_LRcheck.predict(X_labels)\n",
    "results = model_LRcheck.fit()\n",
    "print(results.summary())\n"
   ],
   "execution_count": null,
   "outputs": []
  },
  {
   "cell_type": "markdown",
   "metadata": {
    "id": "Yk2RmlqPoM9u",
    "pycharm": {
     "name": "#%% md\n"
    }
   },
   "source": [
    "### Multiple inputs"
   ]
  },
  {
   "cell_type": "markdown",
   "metadata": {
    "id": "PribnwDHUksC",
    "pycharm": {
     "name": "#%% md\n"
    }
   },
   "source": [
    "You can use an almost identical setup to make predictions based on multiple inputs. This model still does the same $y = mx+b$ except that $m$ is a matrix and $b$ is a vector.\n",
    "\n",
    "This time use the `Normalization` layer that was adapted to the whole dataset."
   ]
  },
  {
   "cell_type": "markdown",
   "metadata": {
    "id": "OPUwB7CHc3_d",
    "pycharm": {
     "name": "#%% md\n"
    }
   },
   "source": [
    "Data refresh"
   ]
  },
  {
   "cell_type": "code",
   "metadata": {
    "id": "S47aXbUzc6pV",
    "colab": {
     "base_uri": "https://localhost:8080/",
     "height": 204
    },
    "executionInfo": {
     "status": "ok",
     "timestamp": 1637265460201,
     "user_tz": 600,
     "elapsed": 9,
     "user": {
      "displayName": "Torrey Wagner",
      "photoUrl": "https://lh3.googleusercontent.com/a/default-user=s64",
      "userId": "18235062716651285949"
     }
    },
    "outputId": "de9e1fbf-91c0-4ed4-eb52-e74a197ed83f",
    "pycharm": {
     "name": "#%%\n"
    }
   },
   "source": [
    "train_features.tail()"
   ],
   "execution_count": null,
   "outputs": []
  },
  {
   "cell_type": "code",
   "metadata": {
    "id": "ssnVcKg7oMe6",
    "executionInfo": {
     "status": "ok",
     "timestamp": 1637265460201,
     "user_tz": 600,
     "elapsed": 8,
     "user": {
      "displayName": "Torrey Wagner",
      "photoUrl": "https://lh3.googleusercontent.com/a/default-user=s64",
      "userId": "18235062716651285949"
     }
    },
    "pycharm": {
     "name": "#%%\n"
    }
   },
   "source": [
    "linear_model = tf.keras.Sequential([\n",
    "    normalizer,\n",
    "    layers.Dense(units=1)\n",
    "])\n"
   ],
   "execution_count": null,
   "outputs": []
  },
  {
   "cell_type": "markdown",
   "metadata": {
    "id": "IHlx6WeIWyAr",
    "pycharm": {
     "name": "#%% md\n"
    }
   },
   "source": [
    "When you call this model on a batch of inputs, it produces `units=1` outputs for each example."
   ]
  },
  {
   "cell_type": "code",
   "metadata": {
    "id": "DynfJV18WiuT",
    "colab": {
     "base_uri": "https://localhost:8080/"
    },
    "executionInfo": {
     "status": "ok",
     "timestamp": 1637265460202,
     "user_tz": 600,
     "elapsed": 9,
     "user": {
      "displayName": "Torrey Wagner",
      "photoUrl": "https://lh3.googleusercontent.com/a/default-user=s64",
      "userId": "18235062716651285949"
     }
    },
    "outputId": "1a8fa018-877c-406b-fd54-c68247a40de7",
    "pycharm": {
     "name": "#%%\n"
    }
   },
   "source": [
    "linear_model.predict(train_features[:10])"
   ],
   "execution_count": null,
   "outputs": []
  },
  {
   "cell_type": "markdown",
   "metadata": {
    "id": "hvHKH3rPXHmq",
    "pycharm": {
     "name": "#%% md\n"
    }
   },
   "source": [
    "When you call the model it's weight matrices will be built. Now you can see that the `kernel` (the $m$ in $y=mx+b$) has a shape of `(9,1)`."
   ]
  },
  {
   "cell_type": "code",
   "metadata": {
    "id": "DwJ4Fq0RXBQf",
    "colab": {
     "base_uri": "https://localhost:8080/"
    },
    "executionInfo": {
     "status": "ok",
     "timestamp": 1637265460202,
     "user_tz": 600,
     "elapsed": 7,
     "user": {
      "displayName": "Torrey Wagner",
      "photoUrl": "https://lh3.googleusercontent.com/a/default-user=s64",
      "userId": "18235062716651285949"
     }
    },
    "outputId": "3c99b2a6-2a59-4874-96f3-6cdf5a20b354",
    "pycharm": {
     "name": "#%%\n"
    }
   },
   "source": [
    "linear_model.layers[1].kernel"
   ],
   "execution_count": null,
   "outputs": []
  },
  {
   "cell_type": "markdown",
   "metadata": {
    "id": "eINAc6rZXzOt",
    "pycharm": {
     "name": "#%% md\n"
    }
   },
   "source": [
    "Use the same `compile` and `fit` calls as for the single input `horsepower` model:"
   ]
  },
  {
   "cell_type": "code",
   "metadata": {
    "id": "A0Sv_Ybr0szp",
    "executionInfo": {
     "status": "ok",
     "timestamp": 1637265460202,
     "user_tz": 600,
     "elapsed": 5,
     "user": {
      "displayName": "Torrey Wagner",
      "photoUrl": "https://lh3.googleusercontent.com/a/default-user=s64",
      "userId": "18235062716651285949"
     }
    },
    "pycharm": {
     "name": "#%%\n"
    }
   },
   "source": [
    "linear_model.compile(\n",
    "    optimizer=tf.optimizers.Adam(learning_rate=0.1),\n",
    "    loss='mean_absolute_error')"
   ],
   "execution_count": null,
   "outputs": []
  },
  {
   "cell_type": "code",
   "metadata": {
    "id": "EZoOYORvoTSe",
    "colab": {
     "base_uri": "https://localhost:8080/"
    },
    "executionInfo": {
     "status": "ok",
     "timestamp": 1637265463662,
     "user_tz": 600,
     "elapsed": 3465,
     "user": {
      "displayName": "Torrey Wagner",
      "photoUrl": "https://lh3.googleusercontent.com/a/default-user=s64",
      "userId": "18235062716651285949"
     }
    },
    "outputId": "f751e4f2-d710-4949-a66c-035be6432009",
    "pycharm": {
     "name": "#%%\n"
    }
   },
   "source": [
    "%%time\n",
    "history = linear_model.fit(\n",
    "    train_features, train_labels, \n",
    "    epochs=100,\n",
    "    # suppress logging\n",
    "    verbose=0,\n",
    "    # Calculate validation results on 20% of the training data\n",
    "    validation_split = 0.2)"
   ],
   "execution_count": null,
   "outputs": []
  },
  {
   "cell_type": "markdown",
   "metadata": {
    "id": "EdxiCbiNYK2F",
    "pycharm": {
     "name": "#%% md\n"
    }
   },
   "source": [
    "Using all the inputs achieves a much lower training and validation error than the `horsepower` model: "
   ]
  },
  {
   "cell_type": "code",
   "metadata": {
    "id": "4sWO3W0koYgu",
    "colab": {
     "base_uri": "https://localhost:8080/",
     "height": 283
    },
    "executionInfo": {
     "status": "ok",
     "timestamp": 1637265463662,
     "user_tz": 600,
     "elapsed": 6,
     "user": {
      "displayName": "Torrey Wagner",
      "photoUrl": "https://lh3.googleusercontent.com/a/default-user=s64",
      "userId": "18235062716651285949"
     }
    },
    "outputId": "e300be15-2369-4eb7-c6e7-c730da8892d4",
    "pycharm": {
     "name": "#%%\n"
    }
   },
   "source": [
    "plot_loss(history)"
   ],
   "execution_count": null,
   "outputs": []
  },
  {
   "cell_type": "markdown",
   "metadata": {
    "id": "NyN49hIWe_NH",
    "pycharm": {
     "name": "#%% md\n"
    }
   },
   "source": [
    "Collect the results on the test set, for later:"
   ]
  },
  {
   "cell_type": "code",
   "metadata": {
    "id": "jNC3D1DGsGgK",
    "executionInfo": {
     "status": "ok",
     "timestamp": 1637265463663,
     "user_tz": 600,
     "elapsed": 5,
     "user": {
      "displayName": "Torrey Wagner",
      "photoUrl": "https://lh3.googleusercontent.com/a/default-user=s64",
      "userId": "18235062716651285949"
     }
    },
    "pycharm": {
     "name": "#%%\n"
    }
   },
   "source": [
    "test_results['linear_model'] = linear_model.evaluate(\n",
    "    test_features, test_labels, verbose=0)"
   ],
   "execution_count": null,
   "outputs": []
  },
  {
   "cell_type": "markdown",
   "metadata": {
    "id": "An88BunQlkNJ",
    "pycharm": {
     "name": "#%% md\n"
    }
   },
   "source": [
    "Remove normalization for comparison"
   ]
  },
  {
   "cell_type": "code",
   "metadata": {
    "id": "p77gWRkJlpZb",
    "colab": {
     "base_uri": "https://localhost:8080/",
     "height": 549
    },
    "executionInfo": {
     "status": "ok",
     "timestamp": 1637265467759,
     "user_tz": 600,
     "elapsed": 4101,
     "user": {
      "displayName": "Torrey Wagner",
      "photoUrl": "https://lh3.googleusercontent.com/a/default-user=s64",
      "userId": "18235062716651285949"
     }
    },
    "outputId": "6361f9ce-aebf-4fc6-c9cf-f62412a41e1e",
    "pycharm": {
     "name": "#%%\n"
    }
   },
   "source": [
    "\n",
    "linear_model_noNorm = tf.keras.Sequential([\n",
    "    layers.Dense(units=1)\n",
    "])\n",
    "\n",
    "linear_model_noNorm.compile(\n",
    "    optimizer=tf.optimizers.Adam(learning_rate=0.1),\n",
    "    loss='mean_absolute_error')\n",
    "\n",
    "history = linear_model_noNorm.fit(\n",
    "    train_features, train_labels, \n",
    "    epochs=100,\n",
    "    # suppress logging\n",
    "    verbose=0,\n",
    "    # Calculate validation results on 20% of the training data\n",
    "    validation_split = 0.2)\n",
    "\n",
    "plt.figure(0)\n",
    "plot_loss(history, 50)\n",
    "plt.figure(1)\n",
    "plot_loss(history, 10)"
   ],
   "execution_count": null,
   "outputs": []
  },
  {
   "cell_type": "markdown",
   "metadata": {
    "id": "T3K_vyBYkAf8",
    "pycharm": {
     "name": "#%% md\n"
    }
   },
   "source": [
    "Check with Classical Linear Regression"
   ]
  },
  {
   "cell_type": "code",
   "metadata": {
    "id": "zeJYDsMLkCla",
    "colab": {
     "base_uri": "https://localhost:8080/"
    },
    "executionInfo": {
     "status": "ok",
     "timestamp": 1637265467759,
     "user_tz": 600,
     "elapsed": 13,
     "user": {
      "displayName": "Torrey Wagner",
      "photoUrl": "https://lh3.googleusercontent.com/a/default-user=s64",
      "userId": "18235062716651285949"
     }
    },
    "outputId": "374a15fe-9b38-45c3-d9c2-c51d7e2a5ae5",
    "pycharm": {
     "name": "#%%\n"
    }
   },
   "source": [
    "# import statsmodels.formula.api as smf\n",
    "import statsmodels.api as sm\n",
    "\n",
    "X_labels_9var = sm.add_constant(train_features)\n",
    "\n",
    "model_LRcheck = sm.OLS(train_labels, X_labels_9var)\n",
    "\n",
    "# LR_predictions = model_LRcheck.predict(X_labels)\n",
    "results = model_LRcheck.fit()\n",
    "print(results.summary())\n"
   ],
   "execution_count": null,
   "outputs": []
  },
  {
   "cell_type": "code",
   "metadata": {
    "id": "TeqQxj9roJOW",
    "colab": {
     "base_uri": "https://localhost:8080/"
    },
    "executionInfo": {
     "status": "ok",
     "timestamp": 1637265467759,
     "user_tz": 600,
     "elapsed": 11,
     "user": {
      "displayName": "Torrey Wagner",
      "photoUrl": "https://lh3.googleusercontent.com/a/default-user=s64",
      "userId": "18235062716651285949"
     }
    },
    "outputId": "6d7c8592-31be-4ee0-aba1-5ff205965e14",
    "pycharm": {
     "name": "#%%\n"
    }
   },
   "source": [
    "for layer in linear_model_noNorm.layers: print(layer.get_config(), layer.get_weights(), \"\\n\")"
   ],
   "execution_count": null,
   "outputs": []
  },
  {
   "cell_type": "code",
   "metadata": {
    "id": "GUUEQCEooQ_j",
    "colab": {
     "base_uri": "https://localhost:8080/"
    },
    "executionInfo": {
     "status": "ok",
     "timestamp": 1637265467760,
     "user_tz": 600,
     "elapsed": 9,
     "user": {
      "displayName": "Torrey Wagner",
      "photoUrl": "https://lh3.googleusercontent.com/a/default-user=s64",
      "userId": "18235062716651285949"
     }
    },
    "outputId": "b8f4a531-aacf-4045-b8bc-ce1713a1a488",
    "pycharm": {
     "name": "#%%\n"
    }
   },
   "source": [
    "linear_model_noNorm.layers[0].kernel\n",
    "\n",
    "\n"
   ],
   "execution_count": null,
   "outputs": []
  },
  {
   "cell_type": "markdown",
   "metadata": {
    "id": "SmjdzxKzEu1-",
    "pycharm": {
     "name": "#%% md\n"
    }
   },
   "source": [
    "## A DNN regression"
   ]
  },
  {
   "cell_type": "markdown",
   "metadata": {
    "id": "DT_aHPsrzO1t",
    "pycharm": {
     "name": "#%% md\n"
    }
   },
   "source": [
    "The previous section implemented linear models for single and multiple inputs.\n",
    "\n",
    "This section implements single-input and multiple-input DNN models. The code is basically the same except the model is expanded to include some \"hidden\"  non-linear layers. The name \"hidden\" here just means not directly connected to the inputs or outputs."
   ]
  },
  {
   "cell_type": "markdown",
   "metadata": {
    "id": "6SWtkIjhrZwa",
    "pycharm": {
     "name": "#%% md\n"
    }
   },
   "source": [
    "These models will contain a few more layers than the linear model:\n",
    "\n",
    "* The normalization layer.\n",
    "* Two hidden, nonlinear, `Dense` layers using the `relu` nonlinearity.\n",
    "* A linear single-output layer.\n",
    "\n",
    "Both will use the same training procedure so the `compile` method is included in the `build_and_compile_model` function below."
   ]
  },
  {
   "cell_type": "code",
   "metadata": {
    "id": "c26juK7ZG8j-",
    "executionInfo": {
     "status": "ok",
     "timestamp": 1637265467760,
     "user_tz": 600,
     "elapsed": 7,
     "user": {
      "displayName": "Torrey Wagner",
      "photoUrl": "https://lh3.googleusercontent.com/a/default-user=s64",
      "userId": "18235062716651285949"
     }
    },
    "pycharm": {
     "name": "#%%\n"
    }
   },
   "source": [
    "def build_and_compile_model(norm):\n",
    "  model = keras.Sequential([\n",
    "      norm,\n",
    "      layers.Dense(64, activation='relu'),\n",
    "      layers.Dense(64, activation='relu'),\n",
    "      layers.Dense(1)\n",
    "  ])\n",
    "\n",
    "  model.compile(loss='mean_absolute_error',\n",
    "                optimizer=tf.keras.optimizers.Adam(0.001))\n",
    "  return model"
   ],
   "execution_count": null,
   "outputs": []
  },
  {
   "cell_type": "markdown",
   "metadata": {
    "id": "7T4RP1V36gVn",
    "pycharm": {
     "name": "#%% md\n"
    }
   },
   "source": [
    "### One variable"
   ]
  },
  {
   "cell_type": "markdown",
   "metadata": {
    "id": "xvu9gtxTZR5V",
    "pycharm": {
     "name": "#%% md\n"
    }
   },
   "source": [
    "Start with a DNN model for a single input: \"Horsepower\""
   ]
  },
  {
   "cell_type": "code",
   "metadata": {
    "id": "cGbPb-PHGbhs",
    "executionInfo": {
     "status": "ok",
     "timestamp": 1637265467760,
     "user_tz": 600,
     "elapsed": 6,
     "user": {
      "displayName": "Torrey Wagner",
      "photoUrl": "https://lh3.googleusercontent.com/a/default-user=s64",
      "userId": "18235062716651285949"
     }
    },
    "pycharm": {
     "name": "#%%\n"
    }
   },
   "source": [
    "dnn_horsepower_model = build_and_compile_model(horsepower_normalizer)"
   ],
   "execution_count": null,
   "outputs": []
  },
  {
   "cell_type": "markdown",
   "metadata": {
    "id": "Sj49Og4YGULr",
    "pycharm": {
     "name": "#%% md\n"
    }
   },
   "source": [
    "This model has quite a few more trainable parameters than the linear models."
   ]
  },
  {
   "cell_type": "code",
   "metadata": {
    "id": "ReAD0n6MsFK-",
    "colab": {
     "base_uri": "https://localhost:8080/"
    },
    "executionInfo": {
     "status": "ok",
     "timestamp": 1637265467761,
     "user_tz": 600,
     "elapsed": 7,
     "user": {
      "displayName": "Torrey Wagner",
      "photoUrl": "https://lh3.googleusercontent.com/a/default-user=s64",
      "userId": "18235062716651285949"
     }
    },
    "outputId": "28cb1469-b483-4467-c97b-690957b651df",
    "pycharm": {
     "name": "#%%\n"
    }
   },
   "source": [
    "dnn_horsepower_model.summary()"
   ],
   "execution_count": null,
   "outputs": []
  },
  {
   "cell_type": "markdown",
   "metadata": {
    "id": "0-qWCsh6DlyH",
    "pycharm": {
     "name": "#%% md\n"
    }
   },
   "source": [
    "Train the model:"
   ]
  },
  {
   "cell_type": "code",
   "metadata": {
    "id": "sD7qHCmNIOY0",
    "colab": {
     "base_uri": "https://localhost:8080/"
    },
    "executionInfo": {
     "status": "ok",
     "timestamp": 1637265472024,
     "user_tz": 600,
     "elapsed": 4268,
     "user": {
      "displayName": "Torrey Wagner",
      "photoUrl": "https://lh3.googleusercontent.com/a/default-user=s64",
      "userId": "18235062716651285949"
     }
    },
    "outputId": "6df45c24-7492-483a-947d-d822f054b669",
    "pycharm": {
     "name": "#%%\n"
    }
   },
   "source": [
    "%%time\n",
    "history = dnn_horsepower_model.fit(\n",
    "    train_features['Horsepower'], train_labels,\n",
    "    validation_split=0.2,\n",
    "    verbose=0, epochs=100)"
   ],
   "execution_count": null,
   "outputs": []
  },
  {
   "cell_type": "markdown",
   "metadata": {
    "id": "dArGGxHxcKjN",
    "pycharm": {
     "name": "#%% md\n"
    }
   },
   "source": [
    "This model does slightly better than the linear-horsepower model."
   ]
  },
  {
   "cell_type": "code",
   "metadata": {
    "id": "NcF6UWjdCU8T",
    "colab": {
     "base_uri": "https://localhost:8080/",
     "height": 283
    },
    "executionInfo": {
     "status": "ok",
     "timestamp": 1637265472025,
     "user_tz": 600,
     "elapsed": 12,
     "user": {
      "displayName": "Torrey Wagner",
      "photoUrl": "https://lh3.googleusercontent.com/a/default-user=s64",
      "userId": "18235062716651285949"
     }
    },
    "outputId": "4c9381c5-c752-490d-d75d-ab32e3d27bab",
    "pycharm": {
     "name": "#%%\n"
    }
   },
   "source": [
    "plot_loss(history)"
   ],
   "execution_count": null,
   "outputs": []
  },
  {
   "cell_type": "markdown",
   "metadata": {
    "id": "TG1snlpR2QCK",
    "pycharm": {
     "name": "#%% md\n"
    }
   },
   "source": [
    "If you plot the predictions as a function of `Horsepower`, you'll see how this model takes advantage of the nonlinearity provided by the hidden layers:"
   ]
  },
  {
   "cell_type": "code",
   "metadata": {
    "id": "hPF53Rem14NS",
    "executionInfo": {
     "status": "ok",
     "timestamp": 1637265472025,
     "user_tz": 600,
     "elapsed": 10,
     "user": {
      "displayName": "Torrey Wagner",
      "photoUrl": "https://lh3.googleusercontent.com/a/default-user=s64",
      "userId": "18235062716651285949"
     }
    },
    "pycharm": {
     "name": "#%%\n"
    }
   },
   "source": [
    "x = tf.linspace(0.0, 250, 251)\n",
    "y = dnn_horsepower_model.predict(x)"
   ],
   "execution_count": null,
   "outputs": []
  },
  {
   "cell_type": "code",
   "metadata": {
    "id": "rsf9rD8I17Wq",
    "colab": {
     "base_uri": "https://localhost:8080/",
     "height": 279
    },
    "executionInfo": {
     "status": "ok",
     "timestamp": 1637265472026,
     "user_tz": 600,
     "elapsed": 11,
     "user": {
      "displayName": "Torrey Wagner",
      "photoUrl": "https://lh3.googleusercontent.com/a/default-user=s64",
      "userId": "18235062716651285949"
     }
    },
    "outputId": "3a50cba5-e662-4866-819d-81b33ecb1477",
    "pycharm": {
     "name": "#%%\n"
    }
   },
   "source": [
    "plot_horsepower(x, y)"
   ],
   "execution_count": null,
   "outputs": []
  },
  {
   "cell_type": "markdown",
   "metadata": {
    "id": "WxCJKIUpe4io",
    "pycharm": {
     "name": "#%% md\n"
    }
   },
   "source": [
    "Collect the results on the test set, for later:"
   ]
  },
  {
   "cell_type": "code",
   "metadata": {
    "id": "bJjM0dU52XtN",
    "executionInfo": {
     "status": "ok",
     "timestamp": 1637265472026,
     "user_tz": 600,
     "elapsed": 10,
     "user": {
      "displayName": "Torrey Wagner",
      "photoUrl": "https://lh3.googleusercontent.com/a/default-user=s64",
      "userId": "18235062716651285949"
     }
    },
    "pycharm": {
     "name": "#%%\n"
    }
   },
   "source": [
    "test_results['dnn_horsepower_model'] = dnn_horsepower_model.evaluate(\n",
    "    test_features['Horsepower'], test_labels,\n",
    "    verbose=0)"
   ],
   "execution_count": null,
   "outputs": []
  },
  {
   "cell_type": "markdown",
   "metadata": {
    "id": "S_2Btebp2e64",
    "pycharm": {
     "name": "#%% md\n"
    }
   },
   "source": [
    "### Full model"
   ]
  },
  {
   "cell_type": "markdown",
   "metadata": {
    "id": "aKFtezDldLSf",
    "pycharm": {
     "name": "#%% md\n"
    }
   },
   "source": [
    "If you repeat this process using all the inputs it slightly improves the performance on the validation dataset."
   ]
  },
  {
   "cell_type": "code",
   "metadata": {
    "id": "c0mhscXh2k36",
    "colab": {
     "base_uri": "https://localhost:8080/"
    },
    "executionInfo": {
     "status": "ok",
     "timestamp": 1637265472026,
     "user_tz": 600,
     "elapsed": 10,
     "user": {
      "displayName": "Torrey Wagner",
      "photoUrl": "https://lh3.googleusercontent.com/a/default-user=s64",
      "userId": "18235062716651285949"
     }
    },
    "outputId": "4cdd0f32-321a-4d01-f9ac-0ab64c8761e0",
    "pycharm": {
     "name": "#%%\n"
    }
   },
   "source": [
    "dnn_model = build_and_compile_model(normalizer)\n",
    "dnn_model.summary()"
   ],
   "execution_count": null,
   "outputs": []
  },
  {
   "cell_type": "code",
   "metadata": {
    "id": "CXDENACl2tuW",
    "colab": {
     "base_uri": "https://localhost:8080/"
    },
    "executionInfo": {
     "status": "ok",
     "timestamp": 1637265477774,
     "user_tz": 600,
     "elapsed": 5755,
     "user": {
      "displayName": "Torrey Wagner",
      "photoUrl": "https://lh3.googleusercontent.com/a/default-user=s64",
      "userId": "18235062716651285949"
     }
    },
    "outputId": "66025585-5891-452e-d590-0bc8430c7e61",
    "pycharm": {
     "name": "#%%\n"
    }
   },
   "source": [
    "%%time\n",
    "history = dnn_model.fit(\n",
    "    train_features, train_labels,\n",
    "    validation_split=0.2,\n",
    "    verbose=0, epochs=100)"
   ],
   "execution_count": null,
   "outputs": []
  },
  {
   "cell_type": "code",
   "metadata": {
    "id": "-9Dbj0fX23RQ",
    "colab": {
     "base_uri": "https://localhost:8080/",
     "height": 283
    },
    "executionInfo": {
     "status": "ok",
     "timestamp": 1637265477775,
     "user_tz": 600,
     "elapsed": 7,
     "user": {
      "displayName": "Torrey Wagner",
      "photoUrl": "https://lh3.googleusercontent.com/a/default-user=s64",
      "userId": "18235062716651285949"
     }
    },
    "outputId": "03e2a90f-7ac5-41d1-b31c-41bb586d59f2",
    "pycharm": {
     "name": "#%%\n"
    }
   },
   "source": [
    "plot_loss(history)"
   ],
   "execution_count": null,
   "outputs": []
  },
  {
   "cell_type": "markdown",
   "metadata": {
    "id": "hWoVYS34fJPZ",
    "pycharm": {
     "name": "#%% md\n"
    }
   },
   "source": [
    "Collect the results on the test set:"
   ]
  },
  {
   "cell_type": "code",
   "metadata": {
    "id": "-bZIa96W3c7K",
    "executionInfo": {
     "status": "ok",
     "timestamp": 1637265477775,
     "user_tz": 600,
     "elapsed": 5,
     "user": {
      "displayName": "Torrey Wagner",
      "photoUrl": "https://lh3.googleusercontent.com/a/default-user=s64",
      "userId": "18235062716651285949"
     }
    },
    "pycharm": {
     "name": "#%%\n"
    }
   },
   "source": [
    "test_results['dnn_model'] = dnn_model.evaluate(test_features, test_labels, verbose=0)"
   ],
   "execution_count": null,
   "outputs": []
  },
  {
   "cell_type": "markdown",
   "metadata": {
    "id": "6r4Y5z2-wxHR",
    "pycharm": {
     "name": "#%% md\n"
    }
   },
   "source": [
    "Explore normalization"
   ]
  },
  {
   "cell_type": "code",
   "metadata": {
    "id": "H8aGYewpwy1Q",
    "colab": {
     "base_uri": "https://localhost:8080/",
     "height": 538
    },
    "executionInfo": {
     "status": "ok",
     "timestamp": 1637265519871,
     "user_tz": 600,
     "elapsed": 42101,
     "user": {
      "displayName": "Torrey Wagner",
      "photoUrl": "https://lh3.googleusercontent.com/a/default-user=s64",
      "userId": "18235062716651285949"
     }
    },
    "outputId": "32b6a6a2-c50d-4a6e-82a0-8363a34a461b",
    "pycharm": {
     "name": "#%%\n"
    }
   },
   "source": [
    "# X_labels_9var\n",
    "\n",
    "model_noNorm = keras.Sequential([\n",
    "      layers.Dense(64, activation='relu'),   # <--- removed norm\n",
    "      layers.Dense(64, activation='relu'),\n",
    "      layers.Dense(1)\n",
    "])\n",
    "\n",
    "model_noNorm.compile(loss='mean_absolute_error',\n",
    "  optimizer=tf.keras.optimizers.Adam(0.001))\n",
    "  \n",
    "\n",
    "history = model_noNorm.fit(\n",
    "  train_features, train_labels,\n",
    "  validation_split=0.2,\n",
    "  verbose=0, epochs=1000)\n",
    "\n",
    "plot_loss(history)\n",
    "\n",
    "model_noNorm.summary()\n"
   ],
   "execution_count": null,
   "outputs": []
  },
  {
   "cell_type": "markdown",
   "metadata": {
    "id": "uiCucdPLfMkZ",
    "pycharm": {
     "name": "#%% md\n"
    }
   },
   "source": [
    "## Performance"
   ]
  },
  {
   "cell_type": "markdown",
   "metadata": {
    "id": "rDf1xebEfWBw",
    "pycharm": {
     "name": "#%% md\n"
    }
   },
   "source": [
    "Now that all the models are trained check the test-set performance and see how they did:"
   ]
  },
  {
   "cell_type": "code",
   "metadata": {
    "id": "e5_ooufM5iH2",
    "colab": {
     "base_uri": "https://localhost:8080/",
     "height": 173
    },
    "executionInfo": {
     "status": "ok",
     "timestamp": 1637265519872,
     "user_tz": 600,
     "elapsed": 10,
     "user": {
      "displayName": "Torrey Wagner",
      "photoUrl": "https://lh3.googleusercontent.com/a/default-user=s64",
      "userId": "18235062716651285949"
     }
    },
    "outputId": "c73d0986-198b-4089-a988-b27761889293",
    "pycharm": {
     "name": "#%%\n"
    }
   },
   "source": [
    "pd.DataFrame(test_results, index=['Mean absolute error [MPG]']).T"
   ],
   "execution_count": null,
   "outputs": []
  },
  {
   "cell_type": "markdown",
   "metadata": {
    "id": "DABIVzsCf-QI",
    "pycharm": {
     "name": "#%% md\n"
    }
   },
   "source": [
    "These results match the validation error seen during training."
   ]
  },
  {
   "cell_type": "markdown",
   "metadata": {
    "id": "ft603OzXuEZC",
    "pycharm": {
     "name": "#%% md\n"
    }
   },
   "source": [
    "### Make predictions\n",
    "\n",
    "Finally, predict have a look at the errors made by the model when making predictions on the test set:"
   ]
  },
  {
   "cell_type": "code",
   "metadata": {
    "id": "Xe7RXH3N3CWU",
    "colab": {
     "base_uri": "https://localhost:8080/",
     "height": 283
    },
    "executionInfo": {
     "status": "ok",
     "timestamp": 1637265519872,
     "user_tz": 600,
     "elapsed": 8,
     "user": {
      "displayName": "Torrey Wagner",
      "photoUrl": "https://lh3.googleusercontent.com/a/default-user=s64",
      "userId": "18235062716651285949"
     }
    },
    "outputId": "784be4cf-9a05-4efe-b207-0d9169caf6b1",
    "pycharm": {
     "name": "#%%\n"
    }
   },
   "source": [
    "test_predictions = dnn_model.predict(test_features).flatten()\n",
    "\n",
    "a = plt.axes(aspect='equal')\n",
    "plt.scatter(test_labels, test_predictions)\n",
    "plt.xlabel('True Values [MPG]')\n",
    "plt.ylabel('Predictions [MPG]')\n",
    "lims = [0, 50]\n",
    "plt.xlim(lims)\n",
    "plt.ylim(lims)\n",
    "_ = plt.plot(lims, lims)\n"
   ],
   "execution_count": null,
   "outputs": []
  },
  {
   "cell_type": "markdown",
   "metadata": {
    "id": "19wyogbOSU5t",
    "pycharm": {
     "name": "#%% md\n"
    }
   },
   "source": [
    "It looks like the model predicts reasonably well. \n",
    "\n",
    "Now take a look at the error distribution:"
   ]
  },
  {
   "cell_type": "code",
   "metadata": {
    "id": "f-OHX4DiXd8x",
    "colab": {
     "base_uri": "https://localhost:8080/",
     "height": 279
    },
    "executionInfo": {
     "status": "ok",
     "timestamp": 1637265520361,
     "user_tz": 600,
     "elapsed": 496,
     "user": {
      "displayName": "Torrey Wagner",
      "photoUrl": "https://lh3.googleusercontent.com/a/default-user=s64",
      "userId": "18235062716651285949"
     }
    },
    "outputId": "a16a3435-f0d4-46d6-a7b4-b97bc8129aa2",
    "pycharm": {
     "name": "#%%\n"
    }
   },
   "source": [
    "error = test_predictions - test_labels\n",
    "plt.hist(error, bins=25)\n",
    "plt.xlabel('Prediction Error [MPG]')\n",
    "_ = plt.ylabel('Count')"
   ],
   "execution_count": null,
   "outputs": []
  },
  {
   "cell_type": "markdown",
   "metadata": {
    "id": "KSyaHUfDT-mZ",
    "pycharm": {
     "name": "#%% md\n"
    }
   },
   "source": [
    "If you're happy with the model save it for later use:"
   ]
  },
  {
   "cell_type": "code",
   "metadata": {
    "id": "4-WwLlmfT-mb",
    "colab": {
     "base_uri": "https://localhost:8080/"
    },
    "executionInfo": {
     "status": "ok",
     "timestamp": 1637265521290,
     "user_tz": 600,
     "elapsed": 932,
     "user": {
      "displayName": "Torrey Wagner",
      "photoUrl": "https://lh3.googleusercontent.com/a/default-user=s64",
      "userId": "18235062716651285949"
     }
    },
    "outputId": "9930da54-f5a2-41f4-dd05-747e7633115f",
    "pycharm": {
     "name": "#%%\n"
    }
   },
   "source": [
    "dnn_model.save('dnn_model')"
   ],
   "execution_count": null,
   "outputs": []
  },
  {
   "cell_type": "markdown",
   "metadata": {
    "id": "Benlnl8UT-me",
    "pycharm": {
     "name": "#%% md\n"
    }
   },
   "source": [
    "If you reload the model, it gives identical output:"
   ]
  },
  {
   "cell_type": "code",
   "metadata": {
    "id": "dyyyj2zVT-mf",
    "executionInfo": {
     "status": "ok",
     "timestamp": 1637265521801,
     "user_tz": 600,
     "elapsed": 512,
     "user": {
      "displayName": "Torrey Wagner",
      "photoUrl": "https://lh3.googleusercontent.com/a/default-user=s64",
      "userId": "18235062716651285949"
     }
    },
    "pycharm": {
     "name": "#%%\n"
    }
   },
   "source": [
    "reloaded = tf.keras.models.load_model('dnn_model')\n",
    "\n",
    "test_results['reloaded'] = reloaded.evaluate(\n",
    "    test_features, test_labels, verbose=0)"
   ],
   "execution_count": null,
   "outputs": []
  },
  {
   "cell_type": "code",
   "metadata": {
    "id": "f_GchJ2tg-2o",
    "colab": {
     "base_uri": "https://localhost:8080/",
     "height": 204
    },
    "executionInfo": {
     "status": "ok",
     "timestamp": 1637265521802,
     "user_tz": 600,
     "elapsed": 8,
     "user": {
      "displayName": "Torrey Wagner",
      "photoUrl": "https://lh3.googleusercontent.com/a/default-user=s64",
      "userId": "18235062716651285949"
     }
    },
    "outputId": "728fd384-c1f9-4622-bd48-65e2e656861e",
    "pycharm": {
     "name": "#%%\n"
    }
   },
   "source": [
    "pd.DataFrame(test_results, index=['Mean absolute error [MPG]']).T"
   ],
   "execution_count": null,
   "outputs": []
  },
  {
   "cell_type": "markdown",
   "metadata": {
    "id": "vgGQuV-yqYZH",
    "pycharm": {
     "name": "#%% md\n"
    }
   },
   "source": [
    "## Conclusion\n",
    "\n",
    "This notebook introduced a few techniques to handle a regression problem. Here are a few more tips that may help:\n",
    "\n",
    "* [Mean Squared Error (MSE)](https://www.tensorflow.org/api_docs/python/tf/losses/MeanSquaredError) and [Mean Absolute Error (MAE)](https://www.tensorflow.org/api_docs/python/tf/losses/MeanAbsoluteError) are common loss functions used for regression problems. Mean Absolute Error is less sensitive to outliers. Different loss functions are used for classification problems.\n",
    "* Similarly, evaluation metrics used for regression differ from classification.\n",
    "* When numeric input data features have values with different ranges, each feature should be scaled independently to the same range.\n",
    "* Overfitting is a common problem for DNN models, it wasn't a problem for this tutorial. See the [overfit and underfit](overfit_and_underfit.ipynb) tutorial for more help with this.\n"
   ]
  }
 ]
}