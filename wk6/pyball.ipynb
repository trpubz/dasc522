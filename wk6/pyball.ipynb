{
 "cells": [
  {
   "cell_type": "code",
   "execution_count": 3,
   "outputs": [
    {
     "name": "stdout",
     "output_type": "stream",
     "text": [
      "Gathering player lookup table. This may take a moment.\n"
     ]
    },
    {
     "data": {
      "text/plain": "     name_last name_first  key_mlbam key_retro  key_bbref  key_fangraphs  \\\n0  goldschmidt       paul     502671  goldp001  goldspa01           9218   \n\n   mlb_played_first  mlb_played_last  \n0            2011.0           2022.0  ",
      "text/html": "<div>\n<style scoped>\n    .dataframe tbody tr th:only-of-type {\n        vertical-align: middle;\n    }\n\n    .dataframe tbody tr th {\n        vertical-align: top;\n    }\n\n    .dataframe thead th {\n        text-align: right;\n    }\n</style>\n<table border=\"1\" class=\"dataframe\">\n  <thead>\n    <tr style=\"text-align: right;\">\n      <th></th>\n      <th>name_last</th>\n      <th>name_first</th>\n      <th>key_mlbam</th>\n      <th>key_retro</th>\n      <th>key_bbref</th>\n      <th>key_fangraphs</th>\n      <th>mlb_played_first</th>\n      <th>mlb_played_last</th>\n    </tr>\n  </thead>\n  <tbody>\n    <tr>\n      <th>0</th>\n      <td>goldschmidt</td>\n      <td>paul</td>\n      <td>502671</td>\n      <td>goldp001</td>\n      <td>goldspa01</td>\n      <td>9218</td>\n      <td>2011.0</td>\n      <td>2022.0</td>\n    </tr>\n  </tbody>\n</table>\n</div>"
     },
     "execution_count": 3,
     "metadata": {},
     "output_type": "execute_result"
    }
   ],
   "source": [
    "import pybaseball as bb\n",
    "import pandas as pd\n",
    "\n",
    "# data = bb.statcast(start_dt='2022-11-05')\n",
    "bb.playerid_lookup('goldschmidt')"
   ],
   "metadata": {
    "collapsed": false,
    "pycharm": {
     "name": "#%%\n"
    }
   }
  },
  {
   "cell_type": "code",
   "execution_count": null,
   "outputs": [],
   "source": [],
   "metadata": {
    "collapsed": false,
    "pycharm": {
     "name": "#%%\n"
    }
   }
  }
 ],
 "metadata": {
  "kernelspec": {
   "display_name": "Python 3",
   "language": "python",
   "name": "python3"
  },
  "language_info": {
   "codemirror_mode": {
    "name": "ipython",
    "version": 2
   },
   "file_extension": ".py",
   "mimetype": "text/x-python",
   "name": "python",
   "nbconvert_exporter": "python",
   "pygments_lexer": "ipython2",
   "version": "2.7.6"
  }
 },
 "nbformat": 4,
 "nbformat_minor": 0
}