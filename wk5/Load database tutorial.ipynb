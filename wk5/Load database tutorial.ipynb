{
 "nbformat": 4,
 "nbformat_minor": 0,
 "metadata": {
  "colab": {
   "name": "Load database tutorial.ipynb",
   "provenance": [],
   "authorship_tag": "ABX9TyOXmFT54SX6RZXKt90ZFr5O"
  },
  "kernelspec": {
   "name": "python3",
   "display_name": "Python 3"
  }
 },
 "cells": [
  {
   "cell_type": "markdown",
   "metadata": {
    "id": "jfoixhrPRegT",
    "pycharm": {
     "name": "#%% md\n"
    }
   },
   "source": [
    "Preamble"
   ]
  },
  {
   "cell_type": "code",
   "metadata": {
    "id": "5zk_d9Y4RfBC",
    "executionInfo": {
     "status": "ok",
     "timestamp": 1603489840304,
     "user_tz": 600,
     "elapsed": 442,
     "user": {
      "displayName": "Torrey Wagner",
      "photoUrl": "",
      "userId": "18235062716651285949"
     }
    },
    "pycharm": {
     "name": "#%%\n"
    }
   },
   "source": [
    "import numpy as np\n",
    "import matplotlib.pyplot as plt\n",
    "import pandas as pd\n",
    "\n",
    "import scipy.stats as stats\n",
    "import seaborn as sns\n",
    "\n",
    "import statsmodels.api as sm\n",
    "\n",
    "\n",
    "\n",
    "# for regression\n",
    "import statsmodels.formula.api as smf\n",
    "from sklearn import datasets\n",
    "from statistics import mean"
   ],
   "execution_count": 10,
   "outputs": []
  },
  {
   "cell_type": "markdown",
   "metadata": {
    "id": "hMetFUaUwokE",
    "pycharm": {
     "name": "#%% md\n"
    }
   },
   "source": [
    "Load mdbtools framework"
   ]
  },
  {
   "cell_type": "code",
   "metadata": {
    "id": "tZfa1o8U7QID",
    "executionInfo": {
     "status": "ok",
     "timestamp": 1603489843514,
     "user_tz": 600,
     "elapsed": 2510,
     "user": {
      "displayName": "Torrey Wagner",
      "photoUrl": "",
      "userId": "18235062716651285949"
     }
    },
    "outputId": "e3800ddb-3ec8-46ac-a9c9-275b754dc1ab",
    "colab": {
     "base_uri": "https://localhost:8080/",
     "height": 102
    },
    "pycharm": {
     "name": "#%%\n"
    }
   },
   "source": [
    "!sudo apt install mdbtools  \n",
    "\n",
    "# ways that didn't work\n",
    "# 1) !apt install unixodbc-dev  \n",
    "#    !pip install pyodbc # this couldn't find my database file\n",
    "# 2)  # !pip install mdbtools  # this installs a different version of mdbtools that doesn't work\n",
    "# 3)  # !pip install meza   # meza is another way to read mdb files"
   ],
   "execution_count": 11,
   "outputs": [
    {
     "output_type": "stream",
     "text": [
      "Reading package lists... Done\n",
      "Building dependency tree       \n",
      "Reading state information... Done\n",
      "mdbtools is already the newest version (0.7.1-6).\n",
      "0 upgraded, 0 newly installed, 0 to remove and 21 not upgraded.\n"
     ],
     "name": "stdout"
    }
   ]
  },
  {
   "cell_type": "code",
   "metadata": {
    "id": "03rBL-XYFVc1",
    "executionInfo": {
     "status": "ok",
     "timestamp": 1603489858233,
     "user_tz": 600,
     "elapsed": 507,
     "user": {
      "displayName": "Torrey Wagner",
      "photoUrl": "",
      "userId": "18235062716651285949"
     }
    },
    "outputId": "ad7b2a0a-4bae-4980-82d8-e0bf972c21fd",
    "colab": {
     "base_uri": "https://localhost:8080/",
     "height": 34
    },
    "pycharm": {
     "name": "#%%\n"
    }
   },
   "source": [
    "import subprocess # from mdbtools\n",
    " \n",
    "def show_tables(path='class_mtcars.mdb'):\n",
    "    tables = subprocess.check_output([\"mdb-tables\", path])\n",
    "    return tables.decode().split()\n",
    "\n",
    "a = show_tables()\n",
    "print(a)"
   ],
   "execution_count": 12,
   "outputs": [
    {
     "output_type": "stream",
     "text": [
      "['mtcars']\n"
     ],
     "name": "stdout"
    }
   ]
  },
  {
   "cell_type": "code",
   "metadata": {
    "id": "IFa-bE0uF-J6",
    "executionInfo": {
     "status": "ok",
     "timestamp": 1603489899999,
     "user_tz": 600,
     "elapsed": 373,
     "user": {
      "displayName": "Torrey Wagner",
      "photoUrl": "",
      "userId": "18235062716651285949"
     }
    },
    "pycharm": {
     "name": "#%%\n"
    }
   },
   "source": [
    "myFileName = 'class_mtcars.mdb'\n",
    "myTable = 'mtcars'\n",
    "\n",
    "def show_data(path=myFileName, table=myTable):\n",
    "    tables = subprocess.check_output([\"mdb-export\", path, table])\n",
    "    return tables.decode().split('\\n')\n",
    " \n",
    "def convert_df(path, table):\n",
    "    d = show_data(path, table)\n",
    "    columns = d[0].split(',')\n",
    "    data = [i.split(',') for i in d[1:]]\n",
    "    df = pd.DataFrame(columns=columns, data=data)\n",
    "    return df"
   ],
   "execution_count": 13,
   "outputs": []
  },
  {
   "cell_type": "markdown",
   "metadata": {
    "id": "W7K-TOE-Xbj3",
    "pycharm": {
     "name": "#%% md\n"
    }
   },
   "source": [
    "Load data"
   ]
  },
  {
   "cell_type": "code",
   "metadata": {
    "id": "W7ujpXt1F-aC",
    "executionInfo": {
     "status": "ok",
     "timestamp": 1603489913536,
     "user_tz": 600,
     "elapsed": 620,
     "user": {
      "displayName": "Torrey Wagner",
      "photoUrl": "",
      "userId": "18235062716651285949"
     }
    },
    "outputId": "2b4c1be0-0918-47a6-e105-37ff646f504a",
    "colab": {
     "base_uri": "https://localhost:8080/",
     "height": 68
    },
    "pycharm": {
     "name": "#%%\n"
    }
   },
   "source": [
    "new_df = convert_df(path='class_mtcars.mdb', table='mtcars')\n",
    "\n",
    "new_df.columns\n",
    "\n",
    "# new_df.head"
   ],
   "execution_count": 14,
   "outputs": [
    {
     "output_type": "execute_result",
     "data": {
      "text/plain": [
       "Index(['ID', 'model', 'mpg', 'cyl', 'disp', 'hp', 'drat', 'wt', 'qsec', 'vs',\n",
       "       'am', 'gear', 'carb'],\n",
       "      dtype='object')"
      ]
     },
     "metadata": {
      "tags": []
     },
     "execution_count": 14
    }
   ]
  },
  {
   "cell_type": "markdown",
   "metadata": {
    "id": "msmMiqnGYQgX",
    "pycharm": {
     "name": "#%% md\n"
    }
   },
   "source": [
    "Trim \"model\" column, convert the rest to float"
   ]
  },
  {
   "cell_type": "code",
   "metadata": {
    "id": "YZ5Gh498YT1U",
    "executionInfo": {
     "status": "ok",
     "timestamp": 1603489948411,
     "user_tz": 600,
     "elapsed": 452,
     "user": {
      "displayName": "Torrey Wagner",
      "photoUrl": "",
      "userId": "18235062716651285949"
     }
    },
    "outputId": "18e98c1f-04bb-4d33-8d46-6f15a436a3fc",
    "colab": {
     "base_uri": "https://localhost:8080/",
     "height": 510
    },
    "pycharm": {
     "name": "#%%\n"
    }
   },
   "source": [
    "new_df = new_df.drop(columns = 'model') \n",
    "print(new_df.columns)\n",
    "\n",
    "print(new_df.dtypes)\n",
    "\n",
    "new_df = new_df.apply(pd.to_numeric)\n",
    "\n",
    "print(new_df.dtypes)\n"
   ],
   "execution_count": 15,
   "outputs": [
    {
     "output_type": "stream",
     "text": [
      "Index(['ID', 'mpg', 'cyl', 'disp', 'hp', 'drat', 'wt', 'qsec', 'vs', 'am',\n",
      "       'gear', 'carb'],\n",
      "      dtype='object')\n",
      "ID      object\n",
      "mpg     object\n",
      "cyl     object\n",
      "disp    object\n",
      "hp      object\n",
      "drat    object\n",
      "wt      object\n",
      "qsec    object\n",
      "vs      object\n",
      "am      object\n",
      "gear    object\n",
      "carb    object\n",
      "dtype: object\n",
      "ID      float64\n",
      "mpg     float64\n",
      "cyl     float64\n",
      "disp    float64\n",
      "hp      float64\n",
      "drat    float64\n",
      "wt      float64\n",
      "qsec    float64\n",
      "vs      float64\n",
      "am      float64\n",
      "gear    float64\n",
      "carb    float64\n",
      "dtype: object\n"
     ],
     "name": "stdout"
    }
   ]
  },
  {
   "cell_type": "markdown",
   "metadata": {
    "id": "qir3aYBGRDSR",
    "pycharm": {
     "name": "#%% md\n"
    }
   },
   "source": [
    "DP"
   ]
  },
  {
   "cell_type": "code",
   "metadata": {
    "id": "T5I3dh0KRFhF",
    "executionInfo": {
     "status": "ok",
     "timestamp": 1603489992098,
     "user_tz": 600,
     "elapsed": 396,
     "user": {
      "displayName": "Torrey Wagner",
      "photoUrl": "",
      "userId": "18235062716651285949"
     }
    },
    "outputId": "07e26f60-e46c-4b10-a016-eb5e541e3d56",
    "colab": {
     "base_uri": "https://localhost:8080/",
     "height": 102
    },
    "pycharm": {
     "name": "#%%\n"
    }
   },
   "source": [
    "\n",
    "print(new_df.shape)\n",
    "print(list(new_df.columns))\n",
    "\n",
    "X = new_df.loc[:, new_df.columns != 'mpg' ]\n",
    "# print(list(X.columns))\n",
    "y = new_df.loc[:, new_df.columns == 'mpg']\n",
    "X=sm.add_constant(X)\n",
    "\n",
    "y\n",
    "\n",
    "print(X.iloc[3,3])\n",
    "print(type(X.iloc[3,3]))\n",
    "print(type(y))"
   ],
   "execution_count": 16,
   "outputs": [
    {
     "output_type": "stream",
     "text": [
      "(33, 12)\n",
      "['ID', 'mpg', 'cyl', 'disp', 'hp', 'drat', 'wt', 'qsec', 'vs', 'am', 'gear', 'carb']\n",
      "258.0\n",
      "<class 'numpy.float64'>\n",
      "<class 'pandas.core.frame.DataFrame'>\n"
     ],
     "name": "stdout"
    }
   ]
  },
  {
   "cell_type": "markdown",
   "metadata": {
    "id": "kGuWju4fq__L",
    "pycharm": {
     "name": "#%% md\n"
    }
   },
   "source": [
    "Model using OLS regression"
   ]
  },
  {
   "cell_type": "code",
   "metadata": {
    "id": "D06tPT4gRr14",
    "executionInfo": {
     "status": "ok",
     "timestamp": 1603490077279,
     "user_tz": 600,
     "elapsed": 417,
     "user": {
      "displayName": "Torrey Wagner",
      "photoUrl": "",
      "userId": "18235062716651285949"
     }
    },
    "outputId": "484b4a43-d8dd-449a-a414-e0c9e9378265",
    "colab": {
     "base_uri": "https://localhost:8080/",
     "height": 493
    },
    "pycharm": {
     "name": "#%%\n"
    }
   },
   "source": [
    "model = smf.ols('mpg ~ cyl + disp', data=new_df).fit()\n",
    "\n",
    "# model = smf.ols('y ~ M + Ed + Po1 + Wealth + Ineq + Prob ', data=data).fit()\n",
    "\n",
    "predictions = model.predict(X) \n",
    "\n",
    "print_model = model.summary()\n",
    "print(print_model)"
   ],
   "execution_count": 17,
   "outputs": [
    {
     "output_type": "stream",
     "text": [
      "                            OLS Regression Results                            \n",
      "==============================================================================\n",
      "Dep. Variable:                    mpg   R-squared:                       0.760\n",
      "Model:                            OLS   Adj. R-squared:                  0.743\n",
      "Method:                 Least Squares   F-statistic:                     45.81\n",
      "Date:                Fri, 23 Oct 2020   Prob (F-statistic):           1.06e-09\n",
      "Time:                        21:54:37   Log-Likelihood:                -79.573\n",
      "No. Observations:                  32   AIC:                             165.1\n",
      "Df Residuals:                      29   BIC:                             169.5\n",
      "Df Model:                           2                                         \n",
      "Covariance Type:            nonrobust                                         \n",
      "==============================================================================\n",
      "                 coef    std err          t      P>|t|      [0.025      0.975]\n",
      "------------------------------------------------------------------------------\n",
      "Intercept     34.6610      2.547     13.609      0.000      29.452      39.870\n",
      "cyl           -1.5873      0.712     -2.230      0.034      -3.043      -0.131\n",
      "disp          -0.0206      0.010     -2.007      0.054      -0.042       0.000\n",
      "==============================================================================\n",
      "Omnibus:                        3.200   Durbin-Watson:                   1.596\n",
      "Prob(Omnibus):                  0.202   Jarque-Bera (JB):                2.660\n",
      "Skew:                           0.701   Prob(JB):                        0.264\n",
      "Kurtosis:                       2.822   Cond. No.                     1.27e+03\n",
      "==============================================================================\n",
      "\n",
      "Warnings:\n",
      "[1] Standard Errors assume that the covariance matrix of the errors is correctly specified.\n",
      "[2] The condition number is large, 1.27e+03. This might indicate that there are\n",
      "strong multicollinearity or other numerical problems.\n"
     ],
     "name": "stdout"
    }
   ]
  }
 ]
}