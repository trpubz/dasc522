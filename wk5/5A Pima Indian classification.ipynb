{
 "nbformat": 4,
 "nbformat_minor": 0,
 "metadata": {
  "colab": {
   "name": "5A Pima Indian classification.ipynb",
   "provenance": [],
   "authorship_tag": "ABX9TyM/BCdS/ulrTvLNNqGQXVf8"
  },
  "kernelspec": {
   "name": "python3",
   "display_name": "Python 3"
  }
 },
 "cells": [
  {
   "cell_type": "markdown",
   "metadata": {
    "id": "E0PrzAyM62ro",
    "pycharm": {
     "name": "#%% md\n"
    }
   },
   "source": [
    "Preamble & DU"
   ]
  },
  {
   "cell_type": "code",
   "metadata": {
    "id": "MrbsR3QOyWl0",
    "colab": {
     "base_uri": "https://localhost:8080/"
    },
    "executionInfo": {
     "status": "ok",
     "timestamp": 1610753678118,
     "user_tz": 600,
     "elapsed": 2300,
     "user": {
      "displayName": "Torrey Wagner",
      "photoUrl": "",
      "userId": "18235062716651285949"
     }
    },
    "outputId": "b55ea42b-9982-4ccb-d2d9-fba1b079567f",
    "pycharm": {
     "name": "#%%\n"
    }
   },
   "source": [
    "from numpy import loadtxt\n",
    "from keras.models import Sequential\n",
    "from keras.layers import Dense\n",
    "\n",
    "import time\n",
    "\n",
    "# load the dataset\n",
    "dataset = loadtxt('5A pima-indians-diabetes.data.csv', delimiter=',')\n",
    "\n",
    "# split into input (X) and output (y) variables\n",
    "X = dataset[:,0:7]\n",
    "y = dataset[:,8]\n",
    "\n",
    "dataset"
   ],
   "execution_count": 1,
   "outputs": [
    {
     "name": "stderr",
     "output_type": "stream",
     "text": [
      "2022-10-31 20:52:54.674133: I tensorflow/core/platform/cpu_feature_guard.cc:193] This TensorFlow binary is optimized with oneAPI Deep Neural Network Library (oneDNN) to use the following CPU instructions in performance-critical operations:  AVX2 FMA\n",
      "To enable them in other operations, rebuild TensorFlow with the appropriate compiler flags.\n"
     ]
    },
    {
     "data": {
      "text/plain": "array([[  6.   , 148.   ,  72.   , ...,   0.627,  50.   ,   1.   ],\n       [  1.   ,  85.   ,  66.   , ...,   0.351,  31.   ,   0.   ],\n       [  8.   , 183.   ,  64.   , ...,   0.672,  32.   ,   1.   ],\n       ...,\n       [  5.   , 121.   ,  72.   , ...,   0.245,  30.   ,   0.   ],\n       [  1.   , 126.   ,  60.   , ...,   0.349,  47.   ,   1.   ],\n       [  1.   ,  93.   ,  70.   , ...,   0.315,  23.   ,   0.   ]])"
     },
     "execution_count": 1,
     "metadata": {},
     "output_type": "execute_result"
    }
   ]
  },
  {
   "cell_type": "markdown",
   "metadata": {
    "id": "iTgjM-oi6vGV",
    "pycharm": {
     "name": "#%% md\n"
    }
   },
   "source": [
    "Create NN"
   ]
  },
  {
   "cell_type": "code",
   "metadata": {
    "id": "dEnylyU76xZr",
    "colab": {
     "base_uri": "https://localhost:8080/"
    },
    "executionInfo": {
     "status": "ok",
     "timestamp": 1610753684799,
     "user_tz": 600,
     "elapsed": 8975,
     "user": {
      "displayName": "Torrey Wagner",
      "photoUrl": "",
      "userId": "18235062716651285949"
     }
    },
    "outputId": "1ebd12f2-1487-485e-800b-0338500a4070",
    "pycharm": {
     "name": "#%%\n"
    }
   },
   "source": [
    "# define the keras model\n",
    "model = Sequential()\n",
    "model.add(Dense(12, input_dim=7, activation='relu'))\n",
    "model.add(Dense(8, activation='relu'))\n",
    "model.add(Dense(1, activation='sigmoid'))\n",
    "\n",
    "# compile the keras model\n",
    "model.compile(loss='binary_crossentropy', optimizer='adam', metrics=['accuracy'])\n",
    "\n",
    "# fit the keras model on the dataset\n",
    "startTime = time.time()\n",
    "\n",
    "model.fit(X, y, epochs=45, batch_size=10)\n",
    "\n",
    "endTime = time.time()-startTime\n",
    "print(\"elasped time \" + str(endTime))\n",
    "\n",
    "# evaluate the keras model\n",
    "_, accuracy = model.evaluate(X, y)\n",
    "\n",
    "print('\\n Final Accuracy: %.2f' % (accuracy*100))\n"
   ],
   "execution_count": 2,
   "outputs": [
    {
     "name": "stdout",
     "output_type": "stream",
     "text": [
      "Epoch 1/45\n"
     ]
    },
    {
     "name": "stderr",
     "output_type": "stream",
     "text": [
      "2022-10-31 20:52:58.731455: I tensorflow/core/platform/cpu_feature_guard.cc:193] This TensorFlow binary is optimized with oneAPI Deep Neural Network Library (oneDNN) to use the following CPU instructions in performance-critical operations:  AVX2 FMA\n",
      "To enable them in other operations, rebuild TensorFlow with the appropriate compiler flags.\n"
     ]
    },
    {
     "name": "stdout",
     "output_type": "stream",
     "text": [
      "77/77 [==============================] - 1s 983us/step - loss: 29.4939 - accuracy: 0.4193\n",
      "Epoch 2/45\n",
      "77/77 [==============================] - 0s 1ms/step - loss: 5.5488 - accuracy: 0.6172\n",
      "Epoch 3/45\n",
      "77/77 [==============================] - 0s 1ms/step - loss: 2.4918 - accuracy: 0.5794\n",
      "Epoch 4/45\n",
      "77/77 [==============================] - 0s 1ms/step - loss: 1.8855 - accuracy: 0.6016\n",
      "Epoch 5/45\n",
      "77/77 [==============================] - 0s 1ms/step - loss: 1.5899 - accuracy: 0.6211\n",
      "Epoch 6/45\n",
      "77/77 [==============================] - 0s 1ms/step - loss: 1.3068 - accuracy: 0.6237\n",
      "Epoch 7/45\n",
      "77/77 [==============================] - 0s 1ms/step - loss: 1.1472 - accuracy: 0.6250\n",
      "Epoch 8/45\n",
      "77/77 [==============================] - 0s 1ms/step - loss: 0.9417 - accuracy: 0.6484\n",
      "Epoch 9/45\n",
      "77/77 [==============================] - 0s 1ms/step - loss: 0.8609 - accuracy: 0.6380\n",
      "Epoch 10/45\n",
      "77/77 [==============================] - 0s 1ms/step - loss: 0.8086 - accuracy: 0.6445\n",
      "Epoch 11/45\n",
      "77/77 [==============================] - 0s 1ms/step - loss: 0.7700 - accuracy: 0.6732\n",
      "Epoch 12/45\n",
      "77/77 [==============================] - 0s 1ms/step - loss: 0.7999 - accuracy: 0.6797\n",
      "Epoch 13/45\n",
      "77/77 [==============================] - 0s 925us/step - loss: 0.7149 - accuracy: 0.6810\n",
      "Epoch 14/45\n",
      "77/77 [==============================] - 0s 1ms/step - loss: 0.7396 - accuracy: 0.6484\n",
      "Epoch 15/45\n",
      "77/77 [==============================] - 0s 879us/step - loss: 0.7231 - accuracy: 0.6771\n",
      "Epoch 16/45\n",
      "77/77 [==============================] - 0s 888us/step - loss: 0.6847 - accuracy: 0.6667\n",
      "Epoch 17/45\n",
      "77/77 [==============================] - 0s 817us/step - loss: 0.6776 - accuracy: 0.6888\n",
      "Epoch 18/45\n",
      "77/77 [==============================] - 0s 892us/step - loss: 0.6957 - accuracy: 0.6719\n",
      "Epoch 19/45\n",
      "77/77 [==============================] - 0s 813us/step - loss: 0.6788 - accuracy: 0.6771\n",
      "Epoch 20/45\n",
      "77/77 [==============================] - 0s 672us/step - loss: 0.6656 - accuracy: 0.6680\n",
      "Epoch 21/45\n",
      "77/77 [==============================] - 0s 633us/step - loss: 0.6440 - accuracy: 0.6992\n",
      "Epoch 22/45\n",
      "77/77 [==============================] - 0s 642us/step - loss: 0.7574 - accuracy: 0.6393\n",
      "Epoch 23/45\n",
      "77/77 [==============================] - 0s 616us/step - loss: 0.6919 - accuracy: 0.6810\n",
      "Epoch 24/45\n",
      "77/77 [==============================] - 0s 648us/step - loss: 0.6834 - accuracy: 0.6901\n",
      "Epoch 25/45\n",
      "77/77 [==============================] - 0s 690us/step - loss: 0.6653 - accuracy: 0.6901\n",
      "Epoch 26/45\n",
      "77/77 [==============================] - 0s 676us/step - loss: 0.6473 - accuracy: 0.6914\n",
      "Epoch 27/45\n",
      "77/77 [==============================] - 0s 773us/step - loss: 0.6139 - accuracy: 0.7044\n",
      "Epoch 28/45\n",
      "77/77 [==============================] - 0s 965us/step - loss: 0.6291 - accuracy: 0.7122\n",
      "Epoch 29/45\n",
      "77/77 [==============================] - 0s 643us/step - loss: 0.6376 - accuracy: 0.6797\n",
      "Epoch 30/45\n",
      "77/77 [==============================] - 0s 622us/step - loss: 0.6209 - accuracy: 0.6953\n",
      "Epoch 31/45\n",
      "77/77 [==============================] - 0s 642us/step - loss: 0.6042 - accuracy: 0.7096\n",
      "Epoch 32/45\n",
      "77/77 [==============================] - 0s 723us/step - loss: 0.6130 - accuracy: 0.6992\n",
      "Epoch 33/45\n",
      "77/77 [==============================] - 0s 633us/step - loss: 0.5941 - accuracy: 0.7096\n",
      "Epoch 34/45\n",
      "77/77 [==============================] - 0s 638us/step - loss: 0.6154 - accuracy: 0.6875\n",
      "Epoch 35/45\n",
      "77/77 [==============================] - 0s 1ms/step - loss: 0.6311 - accuracy: 0.6875\n",
      "Epoch 36/45\n",
      "77/77 [==============================] - 0s 631us/step - loss: 0.6037 - accuracy: 0.7096\n",
      "Epoch 37/45\n",
      "77/77 [==============================] - 0s 783us/step - loss: 0.5927 - accuracy: 0.7057\n",
      "Epoch 38/45\n",
      "77/77 [==============================] - 0s 807us/step - loss: 0.6086 - accuracy: 0.7083\n",
      "Epoch 39/45\n",
      "77/77 [==============================] - 0s 698us/step - loss: 0.5789 - accuracy: 0.7161\n",
      "Epoch 40/45\n",
      "77/77 [==============================] - 0s 625us/step - loss: 0.6064 - accuracy: 0.7005\n",
      "Epoch 41/45\n",
      "77/77 [==============================] - 0s 620us/step - loss: 0.6071 - accuracy: 0.6914\n",
      "Epoch 42/45\n",
      "77/77 [==============================] - 0s 617us/step - loss: 0.6291 - accuracy: 0.6914\n",
      "Epoch 43/45\n",
      "77/77 [==============================] - 0s 626us/step - loss: 0.5942 - accuracy: 0.7227\n",
      "Epoch 44/45\n",
      "77/77 [==============================] - 0s 622us/step - loss: 0.5837 - accuracy: 0.7109\n",
      "Epoch 45/45\n",
      "77/77 [==============================] - 0s 623us/step - loss: 0.5993 - accuracy: 0.7018\n",
      "elasped time 3.5687808990478516\n",
      "24/24 [==============================] - 0s 642us/step - loss: 0.5936 - accuracy: 0.6953\n",
      "\n",
      " Final Accuracy: 69.53\n"
     ]
    }
   ]
  },
  {
   "cell_type": "markdown",
   "metadata": {
    "id": "7CqaTcIo6ySL",
    "pycharm": {
     "name": "#%% md\n"
    }
   },
   "source": [
    "Visualize NN - text"
   ]
  },
  {
   "cell_type": "code",
   "metadata": {
    "id": "BM5BUqH06zdK",
    "colab": {
     "base_uri": "https://localhost:8080/"
    },
    "executionInfo": {
     "status": "ok",
     "timestamp": 1610753684799,
     "user_tz": 600,
     "elapsed": 8973,
     "user": {
      "displayName": "Torrey Wagner",
      "photoUrl": "",
      "userId": "18235062716651285949"
     }
    },
    "outputId": "6040b757-e483-453a-9478-73d296980e7e",
    "pycharm": {
     "name": "#%%\n"
    }
   },
   "source": [
    "model.summary()"
   ],
   "execution_count": 3,
   "outputs": [
    {
     "name": "stdout",
     "output_type": "stream",
     "text": [
      "Model: \"sequential\"\n",
      "_________________________________________________________________\n",
      " Layer (type)                Output Shape              Param #   \n",
      "=================================================================\n",
      " dense (Dense)               (None, 12)                96        \n",
      "                                                                 \n",
      " dense_1 (Dense)             (None, 8)                 104       \n",
      "                                                                 \n",
      " dense_2 (Dense)             (None, 1)                 9         \n",
      "                                                                 \n",
      "=================================================================\n",
      "Total params: 209\n",
      "Trainable params: 209\n",
      "Non-trainable params: 0\n",
      "_________________________________________________________________\n"
     ]
    }
   ]
  },
  {
   "cell_type": "markdown",
   "metadata": {
    "id": "v2gzNhXHAr6M",
    "pycharm": {
     "name": "#%% md\n"
    }
   },
   "source": [
    "Visualize NN - graphical"
   ]
  },
  {
   "cell_type": "code",
   "metadata": {
    "id": "VQniyQUkAyKj",
    "colab": {
     "base_uri": "https://localhost:8080/"
    },
    "executionInfo": {
     "status": "ok",
     "timestamp": 1610753690722,
     "user_tz": 600,
     "elapsed": 14894,
     "user": {
      "displayName": "Torrey Wagner",
      "photoUrl": "",
      "userId": "18235062716651285949"
     }
    },
    "outputId": "19ddd55b-e67f-4fd8-c353-30759421c253",
    "pycharm": {
     "name": "#%%\n"
    }
   },
   "source": [
    "# create visualization\n",
    "!pip3 install ann_visualizer\n",
    "\n",
    "from ann_visualizer.visualize import ann_viz;\n",
    "\n",
    "ann_viz(model, title=\"Pima Indian Diabetes Dataset NN\")"
   ],
   "execution_count": 4,
   "outputs": [
    {
     "name": "stdout",
     "output_type": "stream",
     "text": [
      "Collecting ann_visualizer\r\n",
      "  Downloading ann_visualizer-2.5.tar.gz (4.7 kB)\r\n",
      "  Preparing metadata (setup.py) ... \u001B[?25ldone\r\n",
      "\u001B[?25hBuilding wheels for collected packages: ann_visualizer\r\n",
      "  Building wheel for ann_visualizer (setup.py) ... \u001B[?25ldone\r\n",
      "\u001B[?25h  Created wheel for ann_visualizer: filename=ann_visualizer-2.5-py3-none-any.whl size=4181 sha256=7d7fffea9c70e15f5d5f7d5680d138913a8b28bb61650d85e9f28cd380b63e35\r\n",
      "  Stored in directory: /Users/trpubz/Library/Caches/pip/wheels/6e/0f/ae/f5dba91db71b1b32bf03d0ad18c32e86126093aba5ec6b6488\r\n",
      "Successfully built ann_visualizer\r\n",
      "Installing collected packages: ann_visualizer\r\n",
      "Successfully installed ann_visualizer-2.5\r\n",
      "\r\n",
      "\u001B[1m[\u001B[0m\u001B[34;49mnotice\u001B[0m\u001B[1;39;49m]\u001B[0m\u001B[39;49m A new release of pip available: \u001B[0m\u001B[31;49m22.2\u001B[0m\u001B[39;49m -> \u001B[0m\u001B[32;49m22.3\u001B[0m\r\n",
      "\u001B[1m[\u001B[0m\u001B[34;49mnotice\u001B[0m\u001B[1;39;49m]\u001B[0m\u001B[39;49m To update, run: \u001B[0m\u001B[32;49mpython3.10 -m pip install --upgrade pip\u001B[0m\r\n"
     ]
    },
    {
     "ename": "ModuleNotFoundError",
     "evalue": "No module named 'graphviz'",
     "output_type": "error",
     "traceback": [
      "\u001B[0;31m---------------------------------------------------------------------------\u001B[0m",
      "\u001B[0;31mModuleNotFoundError\u001B[0m                       Traceback (most recent call last)",
      "Input \u001B[0;32mIn [4]\u001B[0m, in \u001B[0;36m<cell line: 6>\u001B[0;34m()\u001B[0m\n\u001B[1;32m      2\u001B[0m get_ipython()\u001B[38;5;241m.\u001B[39msystem(\u001B[38;5;124m'\u001B[39m\u001B[38;5;124mpip3 install ann_visualizer\u001B[39m\u001B[38;5;124m'\u001B[39m)\n\u001B[1;32m      4\u001B[0m \u001B[38;5;28;01mfrom\u001B[39;00m \u001B[38;5;21;01mann_visualizer\u001B[39;00m\u001B[38;5;21;01m.\u001B[39;00m\u001B[38;5;21;01mvisualize\u001B[39;00m \u001B[38;5;28;01mimport\u001B[39;00m ann_viz;\n\u001B[0;32m----> 6\u001B[0m \u001B[43mann_viz\u001B[49m\u001B[43m(\u001B[49m\u001B[43mmodel\u001B[49m\u001B[43m,\u001B[49m\u001B[43m \u001B[49m\u001B[43mtitle\u001B[49m\u001B[38;5;241;43m=\u001B[39;49m\u001B[38;5;124;43m\"\u001B[39;49m\u001B[38;5;124;43mPima Indian Diabetes Dataset NN\u001B[39;49m\u001B[38;5;124;43m\"\u001B[39;49m\u001B[43m)\u001B[49m\n",
      "File \u001B[0;32m/usr/local/lib/python3.10/site-packages/ann_visualizer/visualize.py:30\u001B[0m, in \u001B[0;36mann_viz\u001B[0;34m(model, view, filename, title)\u001B[0m\n\u001B[1;32m     18\u001B[0m \u001B[38;5;28;01mdef\u001B[39;00m \u001B[38;5;21mann_viz\u001B[39m(model, view\u001B[38;5;241m=\u001B[39m\u001B[38;5;28;01mTrue\u001B[39;00m, filename\u001B[38;5;241m=\u001B[39m\u001B[38;5;124m\"\u001B[39m\u001B[38;5;124mnetwork.gv\u001B[39m\u001B[38;5;124m\"\u001B[39m, title\u001B[38;5;241m=\u001B[39m\u001B[38;5;124m\"\u001B[39m\u001B[38;5;124mMy Neural Network\u001B[39m\u001B[38;5;124m\"\u001B[39m):\n\u001B[1;32m     19\u001B[0m     \u001B[38;5;124;03m\"\"\"Vizualizez a Sequential model.\u001B[39;00m\n\u001B[1;32m     20\u001B[0m \n\u001B[1;32m     21\u001B[0m \u001B[38;5;124;03m    # Arguments\u001B[39;00m\n\u001B[0;32m   (...)\u001B[0m\n\u001B[1;32m     28\u001B[0m \u001B[38;5;124;03m        title: A title for the graph\u001B[39;00m\n\u001B[1;32m     29\u001B[0m \u001B[38;5;124;03m    \"\"\"\u001B[39;00m\n\u001B[0;32m---> 30\u001B[0m     \u001B[38;5;28;01mfrom\u001B[39;00m \u001B[38;5;21;01mgraphviz\u001B[39;00m \u001B[38;5;28;01mimport\u001B[39;00m Digraph;\n\u001B[1;32m     31\u001B[0m     \u001B[38;5;28;01mimport\u001B[39;00m \u001B[38;5;21;01mkeras\u001B[39;00m;\n\u001B[1;32m     32\u001B[0m     \u001B[38;5;28;01mfrom\u001B[39;00m \u001B[38;5;21;01mkeras\u001B[39;00m\u001B[38;5;21;01m.\u001B[39;00m\u001B[38;5;21;01mmodels\u001B[39;00m \u001B[38;5;28;01mimport\u001B[39;00m Sequential;\n",
      "\u001B[0;31mModuleNotFoundError\u001B[0m: No module named 'graphviz'"
     ]
    }
   ]
  },
  {
   "cell_type": "markdown",
   "metadata": {
    "id": "imr6l6nW_3IJ",
    "pycharm": {
     "name": "#%% md\n"
    }
   },
   "source": [
    "Overfit the data"
   ]
  },
  {
   "cell_type": "code",
   "metadata": {
    "id": "zQFnr525_4ZI",
    "colab": {
     "base_uri": "https://localhost:8080/"
    },
    "executionInfo": {
     "status": "ok",
     "timestamp": 1610753703807,
     "user_tz": 600,
     "elapsed": 27978,
     "user": {
      "displayName": "Torrey Wagner",
      "photoUrl": "",
      "userId": "18235062716651285949"
     }
    },
    "outputId": "4fdef8b6-fa49-48fe-c43c-2e66640c4a6d",
    "pycharm": {
     "name": "#%%\n"
    }
   },
   "source": [
    "# define the keras model\n",
    "model = Sequential()\n",
    "model.add(Dense(20, input_dim=7, activation='relu'))\n",
    "model.add(Dense(20, activation='relu'))\n",
    "model.add(Dense(20, activation='sigmoid'))\n",
    "model.add(Dense(20, activation='relu'))\n",
    "model.add(Dense(1, activation='sigmoid'))\n",
    "\n",
    "# compile the keras model\n",
    "model.compile(loss='binary_crossentropy', optimizer='adam', metrics=['accuracy'])\n",
    "\n",
    "# fit the keras model on the dataset\n",
    "startTime = time.time()\n",
    "\n",
    "model.fit(X, y, epochs=100, batch_size=10)\n",
    "\n",
    "endTime = time.time()-startTime\n",
    "print(\"elasped time \" + str(endTime))\n",
    "\n",
    "# evaluate the keras model\n",
    "_, accuracy = model.evaluate(X, y)\n",
    "\n",
    "print('\\n Final Accuracy: %.2f' % (accuracy*100))\n"
   ],
   "execution_count": null,
   "outputs": []
  },
  {
   "cell_type": "code",
   "metadata": {
    "id": "LDy08DLKna76",
    "colab": {
     "base_uri": "https://localhost:8080/"
    },
    "executionInfo": {
     "status": "ok",
     "timestamp": 1610753703808,
     "user_tz": 600,
     "elapsed": 27975,
     "user": {
      "displayName": "Torrey Wagner",
      "photoUrl": "",
      "userId": "18235062716651285949"
     }
    },
    "outputId": "4879c522-059f-4b75-c1c4-8b62f374fdd5",
    "pycharm": {
     "name": "#%%\n"
    }
   },
   "source": [
    "X.shape"
   ],
   "execution_count": null,
   "outputs": []
  }
 ]
}
